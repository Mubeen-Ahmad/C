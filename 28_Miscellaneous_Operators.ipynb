{
 "cells": [
  {
   "cell_type": "markdown",
   "id": "22f9dd8f-7f4a-4a9a-88a7-8fb2ac3db2c7",
   "metadata": {},
   "source": [
    "<h1 style=\"text-align:center; color:#005bbd; font-size:30px; font-family:Sans-serif; font-style: oblique; text-shadow: 0 0 3px white, 0 0 1px Black;\">\n",
    "  Increment and Decrement Operators\n",
    "</h1>"
   ]
  },
  {
   "cell_type": "markdown",
   "id": "5ce3f1df-f37f-4bd1-9b79-d396a6e55139",
   "metadata": {},
   "source": [
    "<body style=\"font-family: Sans-serif;\">\n",
    "    <div style=\"color: black; font-size: 18px; font-style: oblique; text-shadow: 0 0 3px white, 0 0 1px black; padding: 20px;\">\n",
    "        <ul>Increment Operators (++) :\n",
    "            <ul>\n",
    "                <li>Variable ki value ko 1 se barhata hai.</li>\n",
    "                <li>Types:\n",
    "                    <ul>Prefix Increment (++i): \n",
    "                        <ul><li>Pehle value increment hoti hai, phir use hoti hai.</li></ul><br>\n",
    "                    </ul>\n",
    "                    <ul>Postfix Increment (i++): \n",
    "                        <ul><li>Pehle value use hoti hai, phir increment hoti hai.</li></ul>\n",
    "                    </ul>\n",
    "                </li>\n",
    "            <ul>\n",
    "        </ul>\n",
    "</div>\n",
    "<body>"
   ]
  },
  {
   "cell_type": "markdown",
   "id": "0ebcf0c4-4745-4093-a30b-5c647a8ac4d8",
   "metadata": {},
   "source": [
    "<img style=\"display: block;margin-left: auto;margin-right: auto;width: 80%;\" src=\"./images/increment.jpg\">"
   ]
  },
  {
   "cell_type": "code",
   "execution_count": 8,
   "id": "a68457be-eccf-4158-a549-c5374a725a76",
   "metadata": {
    "tags": []
   },
   "outputs": [
    {
     "name": "stdout",
     "output_type": "stream",
     "text": [
      "3"
     ]
    }
   ],
   "source": [
    "#include <stdio.h>\n",
    "\n",
    "int main(){\n",
    "\n",
    "    int x = 2;\n",
    "\n",
    "        printf(\"%d\",++x);\n",
    "    \n",
    "    return 0;\n",
    "        \n",
    "}"
   ]
  },
  {
   "cell_type": "code",
   "execution_count": 13,
   "id": "d24da1cf-6574-4b77-9d80-546931a7fb94",
   "metadata": {
    "tags": []
   },
   "outputs": [
    {
     "name": "stdout",
     "output_type": "stream",
     "text": [
      "2\n",
      "Now Value of x is 3"
     ]
    }
   ],
   "source": [
    "#include <stdio.h>\n",
    "\n",
    "int main(){\n",
    "\n",
    "    int x = 2;\n",
    "\n",
    "        printf(\"%d\",x++);\n",
    "        printf(\"\\nNow Value of x is %d\",x);\n",
    "    \n",
    "    return 0;\n",
    "}"
   ]
  },
  {
   "cell_type": "markdown",
   "id": "17638bac-40a4-43cb-94ed-8c23a95b32c5",
   "metadata": {},
   "source": [
    "<body style=\"font-family: Sans-serif;\">\n",
    "    <div style=\"color: black; font-size: 18px; font-style: oblique; text-shadow: 0 0 3px white, 0 0 1px black; padding: 20px;\">\n",
    "        <ul>Decrement Operators (--) :\n",
    "            <ul>\n",
    "                <li>Variable ki value ko 1 se kam karta hai.</li>\n",
    "                <li>Types:\n",
    "                    <ul>Prefix Decrement (--i):  \n",
    "                        <ul><li>Pehle value decrement hoti hai, phir use hoti hai.</li></ul><br>\n",
    "                    </ul>\n",
    "                    <ul>Postfix Increment (i--): \n",
    "                        <ul><li>Pehle value use hoti hai, phir decrement hoti hai.</li></ul>\n",
    "                    </ul>\n",
    "                </li>\n",
    "            <ul>\n",
    "        </ul>\n",
    "</div>\n",
    "<body>"
   ]
  },
  {
   "cell_type": "markdown",
   "id": "fbd430ad-4cfb-40e4-801a-65e1a821ba2c",
   "metadata": {},
   "source": [
    "<img style=\"display: block;margin-left: auto;margin-right: auto;width: 80%;\" src=\"./images/decrement.jpg\">"
   ]
  },
  {
   "cell_type": "code",
   "execution_count": 11,
   "id": "49fb0315-c127-4f0c-ba65-9a79dabd7368",
   "metadata": {
    "tags": []
   },
   "outputs": [
    {
     "name": "stdout",
     "output_type": "stream",
     "text": [
      "1"
     ]
    }
   ],
   "source": [
    "#include <stdio.h>\n",
    "\n",
    "int main(){\n",
    "\n",
    "    int x = 2;\n",
    "\n",
    "        printf(\"%d\",--x);\n",
    "    \n",
    "    return 0;\n",
    "        \n",
    "}"
   ]
  },
  {
   "cell_type": "code",
   "execution_count": 12,
   "id": "c1e726c9-d5bc-4ce5-8b64-5516bca7c283",
   "metadata": {
    "tags": []
   },
   "outputs": [
    {
     "name": "stdout",
     "output_type": "stream",
     "text": [
      "2\n",
      "Now Value of x is 1"
     ]
    }
   ],
   "source": [
    "#include <stdio.h>\n",
    "\n",
    "int main(){\n",
    "\n",
    "    int x = 2;\n",
    "\n",
    "        printf(\"%d\",x--);\n",
    "        printf(\"\\nNow Value of x is %d\",x);\n",
    "    \n",
    "    return 0;\n",
    "}"
   ]
  },
  {
   "cell_type": "markdown",
   "id": "f8833c39-669a-4fec-868a-52829f823f48",
   "metadata": {},
   "source": [
    "<h1 style=\"text-align:center; color:#005bbd; font-size:30px; font-family:Sans-serif; font-style: oblique; text-shadow: 0 0 3px white, 0 0 1px Black;\">\n",
    "  Parentheses () Operator\n",
    "</h1>"
   ]
  },
  {
   "cell_type": "markdown",
   "id": "986ddbe7-e177-4ad6-adfa-8edd872d1d6f",
   "metadata": {},
   "source": [
    "<body style=\"font-family: Sans-serif;\">\n",
    "    <div style=\"color: black; font-size: 18px; font-style: oblique; text-shadow: 0 0 3px white, 0 0 1px black; padding: 20px;\">\n",
    "        C language mein parentheses () kaafi important role play karte hain.<br>Yeh different contexts mein alag-alag kaam karte hain\n",
    "</div>\n",
    "<body>"
   ]
  },
  {
   "cell_type": "markdown",
   "id": "4eaf17c8-18bf-4c72-a617-4f6f6de3f2e7",
   "metadata": {},
   "source": [
    "<body style=\"font-family: Sans-serif;\">\n",
    "    <div style=\"color: black; font-size: 18px; font-style: oblique; text-shadow: 0 0 3px white, 0 0 1px black; padding: 20px;\">\n",
    "        <ul><li>Function Calls</li>\n",
    "            <ul><li>Parentheses ka sabse common use functions ko call karne ke liye hota hai.</li></ul>\n",
    "        </ul>\n",
    "</div>\n",
    "<body>"
   ]
  },
  {
   "cell_type": "code",
   "execution_count": 48,
   "id": "921380fc-7f1e-409d-ac2e-84cbcd80c6ca",
   "metadata": {
    "tags": []
   },
   "outputs": [
    {
     "name": "stdout",
     "output_type": "stream",
     "text": [
      "Hello, World!\n"
     ]
    }
   ],
   "source": [
    "#include <stdio.h>\n",
    "\n",
    "int greet() {\n",
    "    printf(\"Hello, World!\\n\");\n",
    "    return 0;\n",
    "}\n",
    "\n",
    "int main() {\n",
    "    greet();  // Function call using ()\n",
    "    return 0;\n",
    "}"
   ]
  },
  {
   "cell_type": "markdown",
   "id": "f1224307-45ca-4c60-bd60-802b0b3b6af2",
   "metadata": {},
   "source": [
    "<body style=\"font-family: Sans-serif;\">\n",
    "    <div style=\"color: black; font-size: 18px; font-style: oblique; text-shadow: 0 0 3px white, 0 0 1px black; padding: 20px;\">\n",
    "        <ul><li>Function Definitions</li>\n",
    "            <ul><li>Parentheses functions ke arguments ko define karte hain.</li></ul>\n",
    "        </ul>\n",
    "</div>\n",
    "<body>"
   ]
  },
  {
   "cell_type": "code",
   "execution_count": 52,
   "id": "f441c9f8-8f91-49f1-bb3d-8a039659f8f5",
   "metadata": {
    "tags": []
   },
   "outputs": [
    {
     "name": "stdout",
     "output_type": "stream",
     "text": [
      "Sum: 5\n"
     ]
    }
   ],
   "source": [
    "#include <stdio.h>\n",
    "\n",
    "int add(int a, int b) {               // () mein arguments declare\n",
    "    printf(\"Sum: %d\\n\", a + b);\n",
    "    return 0;\n",
    "}\n",
    "\n",
    "int main(){\n",
    "\n",
    "    add(2,3);\n",
    "    return 0;\n",
    "}"
   ]
  },
  {
   "cell_type": "markdown",
   "id": "c66a10d4-1f90-4c03-8702-72fa9214a30e",
   "metadata": {},
   "source": [
    "<body style=\"font-family: Sans-serif;\">\n",
    "    <div style=\"color: black; font-size: 18px; font-style: oblique; text-shadow: 0 0 3px white, 0 0 1px black; padding: 20px;\">\n",
    "        <ul><li>Precedence Control (Group Operations)</li>\n",
    "            <ul><li>Parentheses ka use expressions mein precedence ko control karne ke liye hota hai.</li></ul>\n",
    "        </ul>\n",
    "</div>\n",
    "<body>"
   ]
  },
  {
   "cell_type": "code",
   "execution_count": 53,
   "id": "91e4bc38-6ca0-4a0d-b664-cd2de0f60da4",
   "metadata": {
    "tags": []
   },
   "outputs": [
    {
     "name": "stdout",
     "output_type": "stream",
     "text": [
      "20\n"
     ]
    }
   ],
   "source": [
    "#include <stdio.h>\n",
    "int main() {\n",
    "    \n",
    "    int result = (2 + 3) * 4;  // Parentheses force higher precedence for addition\n",
    "    \n",
    "    printf(\"%d\\n\", result);   // Output: 20\n",
    "    \n",
    "    return 0;\n",
    "}"
   ]
  },
  {
   "cell_type": "markdown",
   "id": "c86d32d3-666d-4ceb-926d-af2833089875",
   "metadata": {},
   "source": [
    "<body style=\"font-family: Sans-serif;\">\n",
    "    <div style=\"color: black; font-size: 18px; font-style: oblique; text-shadow: 0 0 3px white, 0 0 1px black; padding: 20px;\">\n",
    "        <ul><li>Function-Like Macros</li>\n",
    "            <ul><li>Macros mein bhi parentheses ka use hota hai, taake expressions sahi evaluate ho.</li></ul>\n",
    "        </ul>\n",
    "</div>\n",
    "<body>"
   ]
  },
  {
   "cell_type": "code",
   "execution_count": 55,
   "id": "90a70448-87a2-48ef-803e-b0ca086a1797",
   "metadata": {
    "tags": []
   },
   "outputs": [
    {
     "name": "stdout",
     "output_type": "stream",
     "text": [
      "Square: 36\n"
     ]
    }
   ],
   "source": [
    "#include <stdio.h>\n",
    "\n",
    "#define SQUARE(x) ((x) * (x))  // Parentheses ensure correct precedence\n",
    "\n",
    "int main() {\n",
    "    int a = 5;\n",
    "    printf(\"Square: %d\\n\", SQUARE(a + 1));  // ((a + 1) * (a + 1))\n",
    "    return 0;\n",
    "}"
   ]
  },
  {
   "cell_type": "markdown",
   "id": "6fd3a64d-3c9f-4b2c-8826-9f04ff5e3063",
   "metadata": {},
   "source": [
    "<body style=\"font-family: Sans-serif;\">\n",
    "    <div style=\"color: black; font-size: 18px; font-style: oblique; text-shadow: 0 0 3px white, 0 0 1px black; padding: 20px;\">\n",
    "        <ul><li>Type Casting</li>\n",
    "            <ul><li>Parentheses ka use type cast karne ke liye bhi hota hai.</li></ul>\n",
    "        </ul>\n",
    "</div>\n",
    "<body>"
   ]
  },
  {
   "cell_type": "code",
   "execution_count": 56,
   "id": "8f67701e-54b1-426c-b63b-9ff7af0a967c",
   "metadata": {
    "tags": []
   },
   "outputs": [
    {
     "name": "stdout",
     "output_type": "stream",
     "text": [
      "5\n"
     ]
    }
   ],
   "source": [
    "#include <stdio.h>\n",
    "int main() {\n",
    "    \n",
    "    float f = 5.7;\n",
    "    \n",
    "    int i = (int)f;  // Parentheses used for casting float to int\n",
    "    printf(\"%d\\n\", i);  // Output: 5\n",
    "    return 0;\n",
    "}"
   ]
  },
  {
   "cell_type": "markdown",
   "id": "683e508f-f225-448d-9d49-7915305fd754",
   "metadata": {},
   "source": [
    "<h1 style=\"text-align:center; color:#005bbd; font-size:30px; font-family:Sans-serif; font-style: oblique; text-shadow: 0 0 3px white, 0 0 1px Black;\">\n",
    "  Square brackets [] Operator\n",
    "</h1>"
   ]
  },
  {
   "cell_type": "markdown",
   "id": "b2ab2a8b-1bf6-46e8-a50b-e46df2abdad5",
   "metadata": {},
   "source": [
    "<body style=\"font-family: Sans-serif;\">\n",
    "    <div style=\"color: black; font-size: 18px; font-style: oblique; text-shadow: 0 0 3px white, 0 0 1px black; padding: 20px;\">\n",
    "    C language mein square brackets [] ka use arrays ke saath hota hai\n",
    "</div>\n",
    "<body>"
   ]
  },
  {
   "cell_type": "code",
   "execution_count": 58,
   "id": "44aab304-ed43-4510-925e-a128fb180c6c",
   "metadata": {
    "tags": []
   },
   "outputs": [
    {
     "name": "stdout",
     "output_type": "stream",
     "text": [
      "Element at index 2: 30\n"
     ]
    }
   ],
   "source": [
    "#include <stdio.h>\n",
    "int main() {\n",
    "    \n",
    "    int arr[5] = {10, 20, 30, 40, 50};\n",
    "    \n",
    "    printf(\"Element at index 2: %d\\n\", arr[2]);  // Output: 30\n",
    "    \n",
    "    return 0;\n",
    "}\n"
   ]
  },
  {
   "cell_type": "markdown",
   "id": "5cfd6876-568b-4d6b-9bca-2972a19c59f5",
   "metadata": {},
   "source": [
    "<h1 style=\"text-align:center; color:#005bbd; font-size:30px; font-family:Sans-serif; font-style: oblique; text-shadow: 0 0 3px white, 0 0 1px Black;\">\n",
    "  Arrow -> Operator\n",
    "</h1>"
   ]
  },
  {
   "cell_type": "markdown",
   "id": "1f78ae1a-47e3-47d5-be30-78354c430c46",
   "metadata": {},
   "source": [
    "<body style=\"font-family: Sans-serif;\">\n",
    "    <div style=\"color: black; font-size: 18px; font-style: oblique; text-shadow: 0 0 3px white, 0 0 1px black; padding: 20px;\">\n",
    "C language mein -> operator ko arrow operator kaha jata hai, aur iska use pointers ke saath hota hai, jab hum kisi structure ya union ke member ko access karte hain.</div>\n",
    "<body>"
   ]
  },
  {
   "cell_type": "code",
   "execution_count": 64,
   "id": "6c3dcd44-9ca0-464d-93bb-e505c55f286d",
   "metadata": {
    "tags": []
   },
   "outputs": [
    {
     "name": "stdout",
     "output_type": "stream",
     "text": [
      "ID: 101\n",
      "Marks: 85.50"
     ]
    }
   ],
   "source": [
    "#include <stdio.h>\n",
    "struct Student {\n",
    "    int id;\n",
    "    float marks;\n",
    "};\n",
    "\n",
    "int main() {\n",
    "    struct Student s = {101, 85.5};\n",
    "    struct Student *ptr = &s;\n",
    "\n",
    "    printf(\"ID: %d\\n\", ptr->id);        // Accessing id      using pointer\n",
    "    printf(\"Marks: %.2f\\n\", ptr->marks); // Accessing marks using pointer\n",
    "\n",
    "    return 0;\n",
    "}"
   ]
  },
  {
   "cell_type": "markdown",
   "id": "39386780-6977-4110-81b6-d998b2b42ff1",
   "metadata": {},
   "source": [
    "<h1 style=\"text-align:center; color:#005bbd; font-size:30px; font-family:Sans-serif; font-style: oblique; text-shadow: 0 0 3px white, 0 0 1px Black;\">\n",
    "  Dot . Operator\n",
    "</h1>"
   ]
  },
  {
   "cell_type": "markdown",
   "id": "8fae0578-13df-4bda-b2e2-99be037edaaa",
   "metadata": {},
   "source": [
    "<body style=\"font-family: Sans-serif;\">\n",
    "    <div style=\"color: black; font-size: 18px; font-style: oblique; text-shadow: 0 0 3px white, 0 0 1px black; padding: 20px;\">\n",
    "C language mein . operator ka use bhi pointers ke saath hota hai, jab hum kisi structure ya union ke member ko access karte hain.<br>Agar hum -> na use karen, to hum dereferencing aur dot operator (.) ka use karte hain.</div>\n",
    "<body>"
   ]
  },
  {
   "cell_type": "code",
   "execution_count": 65,
   "id": "7f5c7e3a-b461-4e2f-a9ff-e3b1ac69c249",
   "metadata": {
    "tags": []
   },
   "outputs": [
    {
     "name": "stdout",
     "output_type": "stream",
     "text": [
      "ID: 101\n",
      "Marks: 85.50"
     ]
    }
   ],
   "source": [
    "#include <stdio.h>\n",
    "\n",
    "struct Student {\n",
    "    int id;\n",
    "    float marks;\n",
    "};\n",
    "\n",
    "int main() {\n",
    "    \n",
    "    struct Student s = {101, 85.5};\n",
    "    struct Student *ptr = &s;\n",
    "\n",
    "    printf(\"ID: %d\\n\", (*ptr).id);       // Using dereferencing\n",
    "    printf(\"Marks: %.2f\\n\", (*ptr).marks);\n",
    "\n",
    "    return 0;\n",
    "}\n"
   ]
  },
  {
   "cell_type": "markdown",
   "id": "999a509f-8155-418c-ad01-12a8f4d7fe16",
   "metadata": {},
   "source": [
    "<h1 style=\"text-align:center; color:#005bbd; font-size:30px; font-family:Sans-serif; font-style: oblique; text-shadow: 0 0 3px white, 0 0 1px Black;\">\n",
    "  sizeof() Operator\n",
    "</h1>"
   ]
  },
  {
   "cell_type": "markdown",
   "id": "cdcc81dc-3298-4cac-a55e-4653f0e25df4",
   "metadata": {},
   "source": [
    "<body style=\"font-family: Sans-serif;\">\n",
    "    <div style=\"color: black; font-size: 18px; font-style: oblique; text-shadow: 0 0 3px white, 0 0 1px black; padding: 20px;\">\n",
    "sizeof() operator C language ka ek unary operator hai jo kisi variable, data type, ya expression ki memory size ko bytes mein return karta hai. <br>Ye compile-time pe evaluate hota hai.</div>\n",
    "<body>"
   ]
  },
  {
   "cell_type": "code",
   "execution_count": 67,
   "id": "76702158-061c-434c-8343-b17df45afded",
   "metadata": {
    "tags": []
   },
   "outputs": [
    {
     "name": "stdout",
     "output_type": "stream",
     "text": [
      "Size of int:    4 bytes\n",
      "Size of float:  4 bytes\n",
      "Size of char:   1 bytes\n",
      "Size of double: 8 bytes\n"
     ]
    }
   ],
   "source": [
    "#include <stdio.h>\n",
    "\n",
    "int main() {\n",
    "    \n",
    "    printf(\"Size of int:    %zu bytes\\n\", sizeof(int));\n",
    "    printf(\"Size of float:  %zu bytes\\n\", sizeof(float));\n",
    "    printf(\"Size of char:   %zu bytes\\n\", sizeof(char));\n",
    "    printf(\"Size of double: %zu bytes\\n\", sizeof(double));\n",
    "    \n",
    "    return 0;\n",
    "}"
   ]
  },
  {
   "cell_type": "markdown",
   "id": "853e0fb5-dabf-4885-ad1d-59520598b885",
   "metadata": {},
   "source": [
    "<h1 style=\"text-align:center; color:#005bbd; font-size:30px; font-family:Sans-serif; font-style: oblique; text-shadow: 0 0 3px white, 0 0 1px Black;\">\n",
    "  Align of Operator\n",
    "</h1>"
   ]
  },
  {
   "cell_type": "markdown",
   "id": "8b43fd30-898c-4b02-a6ba-b1a7f053f5c7",
   "metadata": {},
   "source": [
    "<body style=\"font-family: Sans-serif;\">\n",
    "    <div style=\"color: black; font-size: 18px; font-style: oblique; text-shadow: 0 0 3px white, 0 0 1px black; padding: 20px;\">\n",
    "_Alignof operator ka kaam hai data type ya object ka alignment requirement batana.<br><br>Ye batata hai ke kis boundary par data ko aligned karna zaroori hai taake CPU efficient access kar sake.</div>\n",
    "<body>"
   ]
  },
  {
   "cell_type": "code",
   "execution_count": 1,
   "id": "dd40160d-69d6-4b10-b29c-21aa4f0d2f84",
   "metadata": {
    "tags": []
   },
   "outputs": [
    {
     "name": "stdout",
     "output_type": "stream",
     "text": [
      "Alignment of char:    1 bytes\n",
      "Alignment of int:     4 bytes\n",
      "Alignment of float:   4 bytes\n",
      "Alignment of double:  8 bytes\n"
     ]
    }
   ],
   "source": [
    "#include <stdio.h>\n",
    "\n",
    "int main() {\n",
    "    printf(\"Alignment of char:    %zu bytes\\n\", _Alignof(char));\n",
    "    printf(\"Alignment of int:     %zu bytes\\n\", _Alignof(int));\n",
    "    printf(\"Alignment of float:   %zu bytes\\n\", _Alignof(float));\n",
    "    printf(\"Alignment of double:  %zu bytes\\n\", _Alignof(double));\n",
    "    return 0;\n",
    "}"
   ]
  },
  {
   "cell_type": "markdown",
   "id": "9e074004-44fa-4f75-8bec-ea119579d6b9",
   "metadata": {},
   "source": [
    "<h1 style=\"text-align:center; color:#005bbd; font-size:30px; font-family:Sans-serif; font-style: oblique; text-shadow: 0 0 3px white, 0 0 1px Black;\">\n",
    "  Address-of Operator (&)\n",
    "</h1>"
   ]
  },
  {
   "cell_type": "markdown",
   "id": "1b052d34-348f-4513-a850-a5e3375f6c55",
   "metadata": {},
   "source": [
    "<body style=\"font-family: Sans-serif;\">\n",
    "    <div style=\"color: black; font-size: 18px; font-style: oblique; text-shadow: 0 0 3px white, 0 0 1px black; padding: 20px;\">\n",
    "memory address (pointer) obtain karne ke liye use hota hai.</div>\n",
    "<body>"
   ]
  },
  {
   "cell_type": "code",
   "execution_count": 68,
   "id": "0935f5a2-b149-4984-9b79-fd0d31254606",
   "metadata": {
    "tags": []
   },
   "outputs": [
    {
     "name": "stdout",
     "output_type": "stream",
     "text": [
      "Value of x: 10\n",
      "Address of x: 0x7ffc5fdbf4e8\n"
     ]
    }
   ],
   "source": [
    "#include <stdio.h>\n",
    "\n",
    "int main() {\n",
    "    int x = 10;\n",
    "\n",
    "    printf(\"Value of x: %d\\n\", x);\n",
    "    printf(\"Address of x: %p\\n\", &x);\n",
    "\n",
    "    return 0;\n",
    "}"
   ]
  },
  {
   "cell_type": "markdown",
   "id": "25f2d81a-244f-48e1-aee8-5914432a89b3",
   "metadata": {},
   "source": [
    "<h1 style=\"text-align:center; color:#005bbd; font-size:30px; font-family:Sans-serif; font-style: oblique; text-shadow: 0 0 3px white, 0 0 1px Black;\">\n",
    "  Dereference * Operator \n",
    "</h1>"
   ]
  },
  {
   "cell_type": "markdown",
   "id": "2b244421-2ef0-482c-be79-9c02bb7bf22d",
   "metadata": {},
   "source": [
    "<body style=\"font-family: Sans-serif;\">\n",
    "    <div style=\"color: black; font-size: 18px; font-style: oblique; text-shadow: 0 0 3px white, 0 0 1px black; padding: 20px;\">\n",
    "* ko dereference operator kehte hain, jo ek pointer variable ke address par stored value ko access karne ke liye use hota hai.</div>\n",
    "<body>"
   ]
  },
  {
   "cell_type": "code",
   "execution_count": 69,
   "id": "03e999dd-295e-43be-9da7-5c9342936c5c",
   "metadata": {
    "tags": []
   },
   "outputs": [
    {
     "name": "stdout",
     "output_type": "stream",
     "text": [
      "Address of x: 0x7ffc5fdbf4e8\n",
      "Value of x using pointer: 10\n"
     ]
    }
   ],
   "source": [
    "#include <stdio.h>\n",
    "\n",
    "int main() {\n",
    "    int x = 10;\n",
    "    int *ptr = &x; // Pointer ptr stores the address of x\n",
    "\n",
    "    printf(\"Address of x: %p\\n\", ptr);\n",
    "    printf(\"Value of x using pointer: %d\\n\", *ptr);\n",
    "\n",
    "    return 0;\n",
    "}"
   ]
  },
  {
   "cell_type": "markdown",
   "id": "ebe84b0f-308a-4e10-820a-6a734633a2b5",
   "metadata": {},
   "source": [
    "<h1 style=\"text-align:center; color:#005bbd; font-size:30px; font-family:Sans-serif; font-style: oblique; text-shadow: 0 0 3px white, 0 0 1px Black;\">\n",
    "  Ternary operator\n",
    "</h1>"
   ]
  },
  {
   "cell_type": "markdown",
   "id": "d9cefdbf-44a6-48b8-afad-b83297e8a81e",
   "metadata": {},
   "source": [
    "<body style=\"font-family: Sans-serif;\">\n",
    "    <div style=\"color: black; font-size: 18px; font-style: oblique; text-shadow: 0 0 3px white, 0 0 1px black; padding: 20px;\">\n",
    "C language mein ?: operator ko ternary operator kaha jata hai, jo ek short-hand syntax provide karta hai conditional statements likhne ke liye. <br>Iska use if-else statement ki tarah hota hai, lekin yeh ek single line mein likha jata hai.</div>\n",
    "<body>"
   ]
  },
  {
   "cell_type": "code",
   "execution_count": 70,
   "id": "92931566-7339-4685-9cf6-dcb62512e14f",
   "metadata": {
    "tags": []
   },
   "outputs": [
    {
     "name": "stdout",
     "output_type": "stream",
     "text": [
      "The maximum value is: 20\n"
     ]
    }
   ],
   "source": [
    "#include <stdio.h>\n",
    "int main() {\n",
    "    \n",
    "    int a = 10, b = 20;\n",
    "    \n",
    "    int max = (a > b) ? a : b; // Ternary operator\n",
    "\n",
    "    printf(\"The maximum value is: %d\\n\", max);\n",
    "    return 0;\n",
    "}\n",
    "\n",
    "main();"
   ]
  },
  {
   "cell_type": "code",
   "execution_count": 71,
   "id": "89acf702-1cae-4daa-886f-75ba3744c380",
   "metadata": {
    "tags": []
   },
   "outputs": [
    {
     "name": "stdout",
     "output_type": "stream",
     "text": [
      "The maximum value is: 10\n"
     ]
    }
   ],
   "source": [
    "#include <stdio.h>\n",
    "int main() {\n",
    "    \n",
    "    int a = 5, b = 10, c = 7;\n",
    "    \n",
    "    int max = (a > b) ? (a > c ? a : c) : (b > c ? b : c); // Nested ternary operator\n",
    "\n",
    "    printf(\"The maximum value is: %d\\n\", max);\n",
    "    return 0;\n",
    "}"
   ]
  },
  {
   "cell_type": "markdown",
   "id": "5ac08dc9-6565-4f9a-83a9-edce8e8aa311",
   "metadata": {
    "tags": []
   },
   "source": [
    "<h1 style=\"text-align:center; color:#005bbd; font-size:30px; font-family:Sans-serif; font-style: oblique; text-shadow: 0 0 3px white, 0 0 1px Black;\">\n",
    "  Unary + Operator\n",
    "</h1>"
   ]
  },
  {
   "cell_type": "markdown",
   "id": "4348682d-32ea-4b77-b599-364beeb31c14",
   "metadata": {},
   "source": [
    "<body style=\"font-family: Sans-serif;\">\n",
    "    <div style=\"color: black; font-size: 18px; font-style: oblique; text-shadow: 0 0 3px white, 0 0 1px black; padding: 20px;\">\n",
    "Operand ko positive treat karta hai.<br>\n",
    "Default behavior ke liye use hota hai, lekin iska koi visible effect nahi hota agar operand already positive hai.</div>\n",
    "<body>"
   ]
  },
  {
   "cell_type": "code",
   "execution_count": 77,
   "id": "21d13243-90aa-48cb-8950-0c9b56c79218",
   "metadata": {
    "tags": []
   },
   "outputs": [
    {
     "name": "stdout",
     "output_type": "stream",
     "text": [
      "x: 5\n",
      "y: -3\n"
     ]
    }
   ],
   "source": [
    "#include <stdio.h>\n",
    "int main() {\n",
    "    int a = 5;\n",
    "    int b = -3;\n",
    "\n",
    "    int x = +a;  // Positive: x = 5\n",
    "    int y = +b;  // Keeps value as it is: y = -3\n",
    "\n",
    "    printf(\"x: %d\\n\", x);  // Output: x: 5\n",
    "    printf(\"y: %d\\n\", y);  // Output: y: -3\n",
    "\n",
    "    return 0;\n",
    "}\n"
   ]
  },
  {
   "cell_type": "markdown",
   "id": "0d6bc7fd-e410-4edc-b363-4a87be8bd2f9",
   "metadata": {},
   "source": [
    "<h1 style=\"text-align:center; color:#005bbd; font-size:30px; font-family:Sans-serif; font-style: oblique; text-shadow: 0 0 3px white, 0 0 1px Black;\">\n",
    "  Unary - Operator\n",
    "</h1>"
   ]
  },
  {
   "cell_type": "markdown",
   "id": "1767aee6-4662-4acc-91eb-3587a3ab4ea5",
   "metadata": {},
   "source": [
    "<body style=\"font-family: Sans-serif;\">\n",
    "    <div style=\"color: black; font-size: 18px; font-style: oblique; text-shadow: 0 0 3px white, 0 0 1px black; padding: 20px;\">\n",
    "Operand ki sign ko negate karta hai.<br>\n",
    "Agar operand positive hai, to negative kar deta hai.<br>\n",
    "Agar operand negative hai, to positive kar deta hai.\n",
    "</div>\n",
    "<body>"
   ]
  },
  {
   "cell_type": "code",
   "execution_count": 78,
   "id": "48eaa313-766e-4c81-bf7a-d34f7116be64",
   "metadata": {
    "tags": []
   },
   "outputs": [
    {
     "name": "stdout",
     "output_type": "stream",
     "text": [
      "x: -5\n",
      "y: 3\n"
     ]
    }
   ],
   "source": [
    "#include <stdio.h>\n",
    "int main() {\n",
    "    \n",
    "    int a = 5;\n",
    "    int b = -3;\n",
    "\n",
    "    int x = -a;  // Negates value: x = -5\n",
    "    int y = -b;  // Negates value: y = 3\n",
    "\n",
    "    printf(\"x: %d\\n\", x);  // Output: x: -5\n",
    "    printf(\"y: %d\\n\", y);  // Output: y: 3\n",
    "\n",
    "    return 0;\n",
    "}"
   ]
  },
  {
   "cell_type": "markdown",
   "id": "e2919d42-8297-4e4b-b4b5-8858799a1a17",
   "metadata": {},
   "source": [
    "<h1 style=\"text-align:center; color:#005bbd; font-size:30px; font-family:Sans-serif; font-style: oblique; text-shadow: 0 0 3px white, 0 0 1px Black;\">\n",
    "Precedence & Associativity Table\n",
    "</h1>"
   ]
  },
  {
   "cell_type": "markdown",
   "id": "c288ae86-d579-4da5-a86c-4c59a79394f5",
   "metadata": {},
   "source": [
    "<html lang=\"en\">\n",
    "<body>\n",
    "    <table>\n",
    "        <thead>\n",
    "            <tr>\n",
    "                <th>Precedence</th>\n",
    "                <th>Operator</th>\n",
    "                <th>Description</th>\n",
    "                <th>Associativity</th>\n",
    "            </tr>\n",
    "        </thead>\n",
    "        <tbody>\n",
    "            <tr>\n",
    "                <td>1</td>\n",
    "                <td>++, --</td>\n",
    "                <td>Suffix/postfix increment and decrement</td>\n",
    "                <td>Left-to-right</td>\n",
    "            </tr>\n",
    "            <tr>\n",
    "                <td>1</td>\n",
    "                <td>()</td>\n",
    "                <td>Function call</td>\n",
    "                <td>Left-to-right</td>\n",
    "            </tr>\n",
    "            <tr>\n",
    "                <td>1</td>\n",
    "                <td>[]</td>\n",
    "                <td>Array subscripting</td>\n",
    "                <td>Left-to-right</td>\n",
    "            </tr>\n",
    "            <tr>\n",
    "                <td>1</td>\n",
    "                <td>.</td>\n",
    "                <td>Structure and union member access</td>\n",
    "                <td>Left-to-right</td>\n",
    "            </tr>\n",
    "            <tr>\n",
    "                <td>1</td>\n",
    "                <td>-></td>\n",
    "                <td>Structure and union member access through pointer</td>\n",
    "                <td>Left-to-right</td>\n",
    "            </tr>\n",
    "            <tr>\n",
    "                <td>1</td>\n",
    "                <td>(type){list}</td>\n",
    "                <td>Compound literal (C99)</td>\n",
    "                <td>Left-to-right</td>\n",
    "            </tr>\n",
    "            <tr>\n",
    "                <td>2</td>\n",
    "                <td>++, --</td>\n",
    "                <td>Prefix increment and decrement</td>\n",
    "                <td>Right-to-left</td>\n",
    "            </tr>\n",
    "            <tr>\n",
    "                <td>2</td>\n",
    "                <td>+ -</td>\n",
    "                <td>Unary plus and minus</td>\n",
    "                <td>Right-to-left</td>\n",
    "            </tr>\n",
    "            <tr>\n",
    "                <td>2</td>\n",
    "                <td>! ~</td>\n",
    "                <td>Logical NOT and bitwise NOT</td>\n",
    "                <td>Right-to-left</td>\n",
    "            </tr>\n",
    "            <tr>\n",
    "                <td>2</td>\n",
    "                <td>(type)</td>\n",
    "                <td>Cast</td>\n",
    "                <td>Right-to-left</td>\n",
    "            </tr>\n",
    "            <tr>\n",
    "                <td>2</td>\n",
    "                <td>*</td>\n",
    "                <td>Indirection (dereference)</td>\n",
    "                <td>Right-to-left</td>\n",
    "            </tr>\n",
    "            <tr>\n",
    "                <td>2</td>\n",
    "                <td>&</td>\n",
    "                <td>Address-of</td>\n",
    "                <td>Right-to-left</td>\n",
    "            </tr>\n",
    "            <tr>\n",
    "                <td>2</td>\n",
    "                <td>sizeof</td>\n",
    "                <td>Size-of</td>\n",
    "                <td>Right-to-left</td>\n",
    "            </tr>\n",
    "            <tr>\n",
    "                <td>2</td>\n",
    "                <td>_Alignof</td>\n",
    "                <td>Alignment requirement (C11)</td>\n",
    "                <td>Right-to-left</td>\n",
    "            </tr>\n",
    "            <tr>\n",
    "                <td>3</td>\n",
    "                <td>* / %</td>\n",
    "                <td>Multiplication, division, and remainder</td>\n",
    "                <td>Left-to-right</td>\n",
    "            </tr>\n",
    "            <tr>\n",
    "                <td>4</td>\n",
    "                <td>+ -</td>\n",
    "                <td>Addition and subtraction</td>\n",
    "                <td>Left-to-right</td>\n",
    "            </tr>\n",
    "            <tr>\n",
    "                <td>5</td>\n",
    "                <td>&lt;&lt; &gt;&gt;</td>\n",
    "                <td>Bitwise left shift and right shift</td>\n",
    "                <td>Left-to-right</td>\n",
    "            </tr>\n",
    "            <tr>\n",
    "                <td>6</td>\n",
    "                <td>&lt; &lt;= &gt; &gt;=</td>\n",
    "                <td>Relational operators</td>\n",
    "                <td>Left-to-right</td>\n",
    "            </tr>\n",
    "            <tr>\n",
    "                <td>7</td>\n",
    "                <td>== !=</td>\n",
    "                <td>Equality and inequality</td>\n",
    "                <td>Left-to-right</td>\n",
    "            </tr>\n",
    "            <tr>\n",
    "                <td>8</td>\n",
    "                <td>&</td>\n",
    "                <td>Bitwise AND</td>\n",
    "                <td>Left-to-right</td>\n",
    "            </tr>\n",
    "            <tr>\n",
    "                <td>9</td>\n",
    "                <td>^</td>\n",
    "                <td>Bitwise XOR</td>\n",
    "                <td>Left-to-right</td>\n",
    "            </tr>\n",
    "            <tr>\n",
    "                <td>10</td>\n",
    "                <td>|</td>\n",
    "                <td>Bitwise OR</td>\n",
    "                <td>Left-to-right</td>\n",
    "            </tr>\n",
    "            <tr>\n",
    "                <td>11</td>\n",
    "                <td>&&</td>\n",
    "                <td>Logical AND</td>\n",
    "                <td>Left-to-right</td>\n",
    "            </tr>\n",
    "            <tr>\n",
    "                <td>12</td>\n",
    "                <td>||</td>\n",
    "                <td>Logical OR</td>\n",
    "                <td>Left-to-right</td>\n",
    "            </tr>\n",
    "            <tr>\n",
    "                <td>13</td>\n",
    "                <td>?:</td>\n",
    "                <td>Ternary conditional</td>\n",
    "                <td>Right-to-left</td>\n",
    "            </tr>\n",
    "            <tr>\n",
    "                <td>14</td>\n",
    "                <td>= += -= *= /= %= &lt;&lt;= &gt;&gt;= &= ^= |=</td>\n",
    "                <td>Assignment operators</td>\n",
    "                <td>Right-to-left</td>\n",
    "            </tr>\n",
    "            <tr>\n",
    "                <td>15</td>\n",
    "                <td>,</td>\n",
    "                <td>Comma</td>\n",
    "                <td>Left-to-right</td>\n",
    "            </tr>\n",
    "        </tbody>\n",
    "    </table>\n",
    "</body>\n",
    "</html>\n"
   ]
  }
 ],
 "metadata": {
  "kernelspec": {
   "display_name": "C++11",
   "language": "C++11",
   "name": "xcpp11"
  },
  "language_info": {
   "codemirror_mode": "text/x-c++src",
   "file_extension": ".cpp",
   "mimetype": "text/x-c++src",
   "name": "c++",
   "version": "11"
  }
 },
 "nbformat": 4,
 "nbformat_minor": 5
}
