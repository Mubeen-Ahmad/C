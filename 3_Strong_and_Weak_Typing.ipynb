{
 "cells": [
  {
   "cell_type": "markdown",
   "id": "dd323009-645c-4f8f-b709-3d2fcf41c07a",
   "metadata": {},
   "source": [
    "<h1 style=\"text-align:center; color:#005bbd; font-size:30px; font-family:Sans-serif; font-style: oblique; text-shadow: 0 0 3px white, 0 0 1px Black;\">\n",
    "   Strong Typing\n",
    "</h1>"
   ]
  },
  {
   "cell_type": "markdown",
   "id": "c1096089-8f81-4555-a840-869fe4c7bb4e",
   "metadata": {},
   "source": [
    "<body style=\"font-family: Sans-serif;\">\n",
    "    <div style=\"color: black; font-size: 18px; font-style: oblique; text-shadow: 0 0 3px white, 0 0 1px black; padding: 20px;\">\n",
    "        <ul><li><p>Strongly typed languages mein data types strict hotay hain. Variables ke types ka conversion automatically nahi hota unless explicitly specify kiya jaye. Type mismatch hone par aapko error milega, chahe wo compile-time par ho ya run-time par.\n",
    "</p>\n",
    "            <pre>\n",
    "               In Python, \"1\" + 2 ye error throw karega kyunki string aur integer ka addition valid nahi hai.\n",
    "</pre></li></ul>\n",
    "        </div>\n",
    "</body>"
   ]
  },
  {
   "cell_type": "markdown",
   "id": "a9028d2a-d578-4b14-9a6a-598739c20ebd",
   "metadata": {},
   "source": [
    "<h1 style=\"text-align:center; color:#005bbd; font-size:30px; font-family:Sans-serif; font-style: oblique; text-shadow: 0 0 3px white, 0 0 1px Black;\">\n",
    "   Weak Typing\n",
    "</h1>"
   ]
  },
  {
   "cell_type": "markdown",
   "id": "de4507c1-35fb-403b-8c97-d5c7761157a2",
   "metadata": {},
   "source": [
    "<body style=\"font-family: Sans-serif;\">\n",
    "    <div style=\"color: black; font-size: 18px; font-style: oblique; text-shadow: 0 0 3px white, 0 0 1px black; padding: 20px;\">\n",
    "        <ul><li><p>Weakly typed languages mein type coercion ya automatic conversion kaafi lenient hoti hai. Compiler ya interpreter types ko automatically convert karta hai agar possible ho, bina error throw kiye. Is se unexpected results aa sakte hain, jo bugs ko track karna mushkil bana dete hain.\n",
    "</p><pre>In JavaScript, \"1\" + 2 ka result 12 hoga kyunki JavaScript automatically integer ko string mein convert kar deta hai.\n",
    "</pre></li></ul>\n",
    "        </div>\n",
    "</body>"
   ]
  },
  {
   "cell_type": "markdown",
   "id": "4e7ab374-af7b-4c0a-a777-faaa60dad2c2",
   "metadata": {},
   "source": [
    "<h1 style=\"text-align:center; color:#005bbd; font-size:30px; font-family:Sans-serif; font-style: oblique; text-shadow: 0 0 3px white, 0 0 1px Black;\">\n",
    "Dynamic , Static Typing  <br><br>VS<br><br> Strong , Weak Typing \n",
    "</h1>"
   ]
  },
  {
   "cell_type": "markdown",
   "id": "2fff6125-4394-4fe7-9d9b-c63fa091192b",
   "metadata": {},
   "source": [
    "<!DOCTYPE html>\n",
    "<html lang=\"en\">\n",
    "<head>\n",
    "    <meta charset=\"UTF-8\">\n",
    "    <meta name=\"viewport\" content=\"width=device-width, initial-scale=1.0\">\n",
    "</head>\n",
    "<body>\n",
    "    <div style=\"color: black; font-size: 25px; font-style: oblique; text-shadow: 0 0 3px white, 0 0 1px black; padding: 2px;\">\n",
    "<table style=\"max-width:1000px; font-size: 19px; \">\n",
    "  <tr>\n",
    "    <th>Concept</th>\n",
    "    <th>Static vs. Dynamic Typing</th>\n",
    "    <th>Strong vs. Weak Typing</th>\n",
    "  </tr>\n",
    "  <tr>\n",
    "    <td>Focus</td>\n",
    "    <td>Type checking kab hoti hai (compile-time vs. run-time)</td>\n",
    "    <td>Type coercion kaise handle hoti hai (strict vs. loose)</td>\n",
    "  </tr>\n",
    "  <tr>\n",
    "    <td>Static Typing</td>\n",
    "    <td>Compile-time par types check ki jati hain</td>\n",
    "    <td>N/A</td>\n",
    "  </tr>\n",
    "  <tr>\n",
    "    <td>Dynamic Typing</td>\n",
    "    <td>Run-time par types check ki jati hain</td>\n",
    "    <td>N/A</td>\n",
    "  </tr>\n",
    "  <tr>\n",
    "    <td>Strong Typing</td>\n",
    "    <td>N/A</td>\n",
    "    <td>Strict type rules; automatic conversion allowed nahi</td>\n",
    "  </tr>\n",
    "  <tr>\n",
    "    <td>Weak Typing</td>\n",
    "    <td>N/A</td>\n",
    "    <td>Lenient with types; automatic conversion hoti hai</td>\n",
    "  </tr>\n",
    "</table>\n"
   ]
  },
  {
   "cell_type": "markdown",
   "id": "30f6e95b-0078-4dbd-b325-00b6dcb297b3",
   "metadata": {},
   "source": [
    "<body style=\"font-family: Sans-serif;\">\n",
    "    <div style=\"color: black; font-size: 18px; font-style: oblique; text-shadow: 0 0 3px white, 0 0 1px black; padding: 20px;\">\n",
    "        <h4>Static vs. Dynamic Typing</h4>\n",
    "        <ul><li><p>Static Typing ka focus is baat par hota hai ke kab type checking hoti hai. Static languages jaise ke C, C++, aur Java mein types ko compile-time par check kiya jata hai. Aapko pehle se maloom hona chahiye ke har variable ka type kya hoga.\n",
    "</p></li></ul>\n",
    "        <ul><li><p>Dynamic Typing mein types ko run-time par check kiya jata hai, jaise ke Python ya JavaScript mein. Is mein aapko pehle se types declare karne ki zaroorat nahi hoti.\n",
    "</p></li></ul><hr>\n",
    "    <h4>Strong vs. Weak Typing</h4>\n",
    "            <ul><li><p>Strong Typing strict hoti hai aur yeh enforce karti hai ke variables apne type ko follow karein. Is mein automatic type conversion allow nahi hoti. Jaise Python mein agar aap \"1\" + 2 karenge to error aayegi kyun ke yeh types ka mix nahi karne deta.\n",
    "</p></li></ul>\n",
    "<ul><li><p>Weak Typing mein types ka mix allowed hota hai, aur automatic conversion bhi ho sakta hai. Jaise ke JavaScript mein \"1\" + 2 karne se result \"12\" milega, kyun ke yeh numbers aur strings ko mix kar leta hai.\n",
    "</p></li></ul><hr>\n",
    "        </div>\n",
    "</body>"
   ]
  },
  {
   "cell_type": "markdown",
   "id": "7b8f7e0e-f19d-46b2-a41e-95d7169f7587",
   "metadata": {},
   "source": [
    "<h1 style=\"text-align:center; color:#005bbd; font-size:30px; font-family:Sans-serif; font-style: oblique; text-shadow: 0 0 3px white, 0 0 1px Black;\">\n",
    "Don't be Overlap Concepts on Strong,Weak and Static , Dynamic \n",
    "</h1>"
   ]
  },
  {
   "cell_type": "markdown",
   "id": "f6e4b6c9-5880-43ef-85c9-5048f658c036",
   "metadata": {},
   "source": [
    "<body style=\"font-family: Sans-serif;\">\n",
    "    <div style=\"color: black; font-size: 18px; font-style: oblique; text-shadow: 0 0 3px white, 0 0 1px black; padding: 20px;\">\n",
    "        <ul><p>Static aur dynamic typing ka relation hota hai types kab check hote hain, <br><br>jabke strong aur weak typing ka focus hota hai type conversion aur strictness par. <br><b>Dono concepts type checking aur coercion ko explain karte hain, lekin mukhtalif tareeqon se.\n",
    "        </p></ul>\n",
    "        </div>\n",
    "</body>"
   ]
  }
 ],
 "metadata": {
  "kernelspec": {
   "display_name": "C++17",
   "language": "C++17",
   "name": "xcpp17"
  },
  "language_info": {
   "codemirror_mode": "text/x-c++src",
   "file_extension": ".cpp",
   "mimetype": "text/x-c++src",
   "name": "c++",
   "version": "17"
  }
 },
 "nbformat": 4,
 "nbformat_minor": 5
}
