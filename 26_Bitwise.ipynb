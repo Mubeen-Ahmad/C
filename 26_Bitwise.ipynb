{
 "cells": [
  {
   "cell_type": "markdown",
   "id": "5b8ca8fa-b4d2-49c3-a002-acd28ea26733",
   "metadata": {
    "tags": []
   },
   "source": [
    "<h1 style=\"text-align:center; color:#005bbd; font-size:30px; font-family:Sans-serif; font-style: oblique; text-shadow: 0 0 3px white, 0 0 1px Black;\">\n",
    "  Bitwise Operators\n",
    "</h1>"
   ]
  },
  {
   "cell_type": "markdown",
   "id": "c8d60f2b-b652-499b-9980-a15f37e4ca10",
   "metadata": {},
   "source": [
    "<body style=\"font-family: Sans-serif;\">\n",
    "    <div style=\"color: black; font-size: 18px; font-style: oblique; text-shadow: 0 0 3px white, 0 0 1px black; padding: 20px;\">\n",
    "Bitwise operators C language mein numbers ke binary format par kaam karte hain. Yeh har bit par operations perform karte hain, aur zyadatar hardware programming ya low-level coding mein use hote hain.</div>\n",
    "<body>"
   ]
  },
  {
   "cell_type": "markdown",
   "id": "9e519de7-798e-44d8-a8c6-c3b8bbcdf476",
   "metadata": {},
   "source": [
    "<body style=\"font-family: Sans-serif;\">\n",
    "    <div style=\"color: black; font-size: 18px; font-style: oblique; text-shadow: 0 0 3px white, 0 0 1px black; padding: 20px;\">\n",
    "        <h3>Bitwise AND</h3>\n",
    "        <ul><li>a & b</li>\n",
    "            <li>Bit By Bit ko compare karta hai. Agar dono bits 1 hain, toh result 1 hoga, aur agar dono mein se koi bhi bit 0 ho, toh result 0 hoga.</li>\n",
    "        </ul>\n",
    "    </div>\n",
    "<body>"
   ]
  },
  {
   "cell_type": "markdown",
   "id": "f7e48f7f-ba0c-4bee-8ac6-6baf9cae4c34",
   "metadata": {},
   "source": [
    "<img style=\"display: block;margin-left: auto;margin-right: auto;width: 80%;\" src=\"./images/and_bitwise.jpg\">"
   ]
  },
  {
   "cell_type": "code",
   "execution_count": 8,
   "id": "913ce526-8f39-4dc0-a77d-c3b252adf7b1",
   "metadata": {
    "tags": []
   },
   "outputs": [
    {
     "name": "stdout",
     "output_type": "stream",
     "text": [
      "2"
     ]
    }
   ],
   "source": [
    "#include <stdio.h>\n",
    "int main(){\n",
    "\n",
    "    printf(\"%d\",10 & 6);\n",
    "    return 0;\n",
    "}"
   ]
  },
  {
   "cell_type": "markdown",
   "id": "34efd50e-7eb6-4aec-a3b6-2d2b3d65a828",
   "metadata": {
    "tags": []
   },
   "source": [
    "<body style=\"font-family: Sans-serif;\">\n",
    "    <div style=\"color: black; font-size: 18px; font-style: oblique; text-shadow: 0 0 3px white, 0 0 1px black; padding: 20px;\">\n",
    "        <h3>Bitwise OR</h3>\n",
    "        <ul><li>a | b</li>\n",
    "            <li>Bitwise OR operator kaam karta hai bit-by-bit comparison ke through. Jab do numbers ke bits ka | operation hota hai, toh agar kisi bit position mein dono bits me se koi bhi 1 ho, toh result 1 hota hai. Agar dono 0 hain, toh result 0 hota hai.</li>\n",
    "        </ul>\n",
    "    </div>\n",
    "<body>"
   ]
  },
  {
   "cell_type": "markdown",
   "id": "a35a63bf-f2ef-492f-85b6-ff9949a92c3f",
   "metadata": {},
   "source": [
    "<img style=\"display: block;margin-left: auto;margin-right: auto;width: 80%;\" src=\"./images/or_bitwise.jpg\">"
   ]
  },
  {
   "cell_type": "code",
   "execution_count": 10,
   "id": "72f50a96-5d51-43fe-955a-bf3e88f616fd",
   "metadata": {
    "tags": []
   },
   "outputs": [
    {
     "name": "stdout",
     "output_type": "stream",
     "text": [
      "14"
     ]
    }
   ],
   "source": [
    "#include <stdio.h>\n",
    "int main(){\n",
    "\n",
    "    printf(\"%d\",10 | 6);\n",
    "    return 0;\n",
    "}"
   ]
  },
  {
   "cell_type": "markdown",
   "id": "9d05d8e8-26b0-4339-a937-52729358e98c",
   "metadata": {
    "tags": []
   },
   "source": [
    "<body style=\"font-family: Sans-serif;\">\n",
    "    <div style=\"color: black; font-size: 18px; font-style: oblique; text-shadow: 0 0 3px white, 0 0 1px black; padding: 20px;\">\n",
    "        <h3>Bitwise XOR</h3>\n",
    "        <ul><li>a ^ b</li>\n",
    "            <li>Bitwise XOR (^) operator C language mein bit-by-bit comparison karta hai.</li>\n",
    "            <li>XOR ka exclusive rule hota hai</li>\n",
    "            <li>Agar exactly ek bit 1 hai aur doosri 0, toh result 1 hota hai.</li>\n",
    "            <li>Agar dono bits same hain (0-0 ya 1-1), toh result 0 hota hai</li>\n",
    "        </ul>\n",
    "    </div>\n",
    "<body>"
   ]
  },
  {
   "cell_type": "markdown",
   "id": "9118e35d-5d2b-4d01-87d9-0d65894bc515",
   "metadata": {},
   "source": [
    "<img style=\"display: block;margin-left: auto;margin-right: auto;width: 80%;\" src=\"./images/bitwise_xor.jpg\">"
   ]
  },
  {
   "cell_type": "code",
   "execution_count": 12,
   "id": "fcaad8e7-403f-4342-8073-7298c7b1248e",
   "metadata": {
    "tags": []
   },
   "outputs": [
    {
     "name": "stdout",
     "output_type": "stream",
     "text": [
      "12"
     ]
    }
   ],
   "source": [
    "#include <stdio.h>\n",
    "int main(){\n",
    "\n",
    "    printf(\"%d\",10 ^ 6);\n",
    "    return 0;\n",
    "}"
   ]
  },
  {
   "cell_type": "markdown",
   "id": "3a203e94-6bd9-4f2a-a628-c1c725e251bb",
   "metadata": {},
   "source": [
    "<html lang=\"en\">\n",
    "<head>\n",
    "    <meta charset=\"UTF-8\">\n",
    "    <meta name=\"viewport\" content=\"width=device-width, initial-scale=1.0\">\n",
    "</head>\n",
    "<body style=\"font-family: Arial, sans-serif; margin: 20px;\">\n",
    "    <h2 style=\"text-align: center; color: Black;\">Bitwise Operators Truth Table</h2>\n",
    "    <table border=\"1\" style=\"border-collapse: collapse; width: 60%; margin: auto; text-align: center;\">\n",
    "        <thead>\n",
    "            <tr style=\"background-color: #f2f2f2;\">\n",
    "                <th style=\"padding: 10px;\">A</th>\n",
    "                <th style=\"padding: 10px;\">B</th>\n",
    "                <th style=\"padding: 10px;\">A & B</th>\n",
    "                <th style=\"padding: 10px;\">A | B</th>\n",
    "                <th style=\"padding: 10px;\">A ^ B</th>\n",
    "            </tr>\n",
    "        </thead>\n",
    "        <tbody>\n",
    "            <tr>\n",
    "                <td style=\"padding: 10px;\">0</td>\n",
    "                <td style=\"padding: 10px;\">0</td>\n",
    "                <td style=\"padding: 10px;\">0</td>\n",
    "                <td style=\"padding: 10px;\">0</td>\n",
    "                <td style=\"padding: 10px;\">0</td>\n",
    "            </tr>\n",
    "            <tr style=\"background-color: #f9f9f9;\">\n",
    "                <td style=\"padding: 10px;\">0</td>\n",
    "                <td style=\"padding: 10px;\">1</td>\n",
    "                <td style=\"padding: 10px;\">0</td>\n",
    "                <td style=\"padding: 10px;\">1</td>\n",
    "                <td style=\"padding: 10px;\">1</td>\n",
    "            </tr>\n",
    "            <tr>\n",
    "                <td style=\"padding: 10px;\">1</td>\n",
    "                <td style=\"padding: 10px;\">0</td>\n",
    "                <td style=\"padding: 10px;\">0</td>\n",
    "                <td style=\"padding: 10px;\">1</td>\n",
    "                <td style=\"padding: 10px;\">1</td>\n",
    "            </tr>\n",
    "            <tr style=\"background-color: #f9f9f9;\">\n",
    "                <td style=\"padding: 10px;\">1</td>\n",
    "                <td style=\"padding: 10px;\">1</td>\n",
    "                <td style=\"padding: 10px;\">1</td>\n",
    "                <td style=\"padding: 10px;\">1</td>\n",
    "                <td style=\"padding: 10px;\">0</td>\n",
    "            </tr>\n",
    "        </tbody>\n",
    "    </table>\n",
    "\n",
    "</body>\n",
    "</html>\n"
   ]
  },
  {
   "cell_type": "markdown",
   "id": "a27686bc-85f7-41da-89ee-788910483c93",
   "metadata": {},
   "source": [
    "<body style=\"font-family: Sans-serif;\">\n",
    "    <div style=\"color: black; font-size: 18px; font-style: oblique; text-shadow: 0 0 3px white, 0 0 1px black; padding: 20px;\">\n",
    "        <h3>Bitwise Not (~)</h3>\n",
    "        <ul><li>~ a</li>\n",
    "           <li>~ Operator (Bitwise NOT) C language ka ek unary bitwise operator hai jo har bit ko invert (flip) karta hai.</li>\n",
    "            <li>Yeh 1s ko 0s mein aur 0s ko 1s mein badal deta hai.</li>\n",
    "        </ul>\n",
    "    </div>\n",
    "<body>"
   ]
  },
  {
   "cell_type": "code",
   "execution_count": 8,
   "id": "17dc95b5-3e71-491c-b59a-7ed136889090",
   "metadata": {
    "tags": []
   },
   "outputs": [
    {
     "name": "stdout",
     "output_type": "stream",
     "text": [
      "-6"
     ]
    }
   ],
   "source": [
    "#include <stdio.h>\n",
    "int main(){\n",
    "\n",
    "    printf(\"%d\",~5);\n",
    "    return 0;\n",
    "}"
   ]
  },
  {
   "cell_type": "markdown",
   "id": "4b8bea72-53c4-4429-b577-f7902cac375b",
   "metadata": {},
   "source": [
    "<img style=\"display: block;margin-left: auto;margin-right: auto;width: 80%;\" src=\"./images/bitwise_not.jpg\">"
   ]
  },
  {
   "cell_type": "markdown",
   "id": "81a8aa8c-94b4-4dbd-98b7-0a0fd968041b",
   "metadata": {},
   "source": [
    "<body style=\"font-family: Sans-serif;\">\n",
    "    <div style=\"color: black; font-size: 18px; font-style: oblique; text-shadow: 0 0 3px white, 0 0 1px black; padding: 20px;\">\n",
    "        <h3>Left Shift (<<)</h3>\n",
    "        <ul><li>a << n</li>\n",
    "           <li>Bitwise Left Shift operator (<<) ek number ke binary bits ko left side shift karta hai aur right-most bits ko zero (0) se fill karta hai.</li>\n",
    "        </ul>\n",
    "    </div>\n",
    "<body>"
   ]
  },
  {
   "cell_type": "code",
   "execution_count": 9,
   "id": "dc3f0be4-5bdf-42f8-856c-c3dd7584a413",
   "metadata": {
    "tags": []
   },
   "outputs": [
    {
     "name": "stdout",
     "output_type": "stream",
     "text": [
      "10"
     ]
    }
   ],
   "source": [
    "#include <stdio.h>\n",
    "int main(){\n",
    "\n",
    "    printf(\"%d\",5 << 1);\n",
    "    return 0;\n",
    "}"
   ]
  },
  {
   "cell_type": "code",
   "execution_count": 10,
   "id": "eec77278-598e-4258-8edd-a4748639c0e4",
   "metadata": {
    "tags": []
   },
   "outputs": [
    {
     "name": "stdout",
     "output_type": "stream",
     "text": [
      "20"
     ]
    }
   ],
   "source": [
    "#include <stdio.h>\n",
    "int main(){\n",
    "\n",
    "    printf(\"%d\",5 << 2);\n",
    "    return 0;\n",
    "}"
   ]
  },
  {
   "cell_type": "markdown",
   "id": "19fed4a3-c857-4fe7-b703-df038fad727a",
   "metadata": {},
   "source": [
    "<img style=\"display: block;margin-left: auto;margin-right: auto;width: 80%;\" src=\"./images/bitwise_leftS.jpg\">"
   ]
  },
  {
   "cell_type": "markdown",
   "id": "c639e7b5-3a9b-4434-a195-c6e8f4d1f37b",
   "metadata": {},
   "source": [
    "<body style=\"font-family: Sans-serif;\">\n",
    "    <div style=\"color: black; font-size: 18px; font-style: oblique; text-shadow: 0 0 3px white, 0 0 1px black; padding: 20px;\">\n",
    "        <h3>Right Shift (>>)</h3>\n",
    "        <ul><li>a >> n</li>\n",
    "           <li>Bitwise Right Shift operator (>>) ek number ke binary bits ko right side shift karta hai aur left-most bits ko zero (0) se fill karta hai.</li>\n",
    "        </ul>\n",
    "    </div>\n",
    "<body>"
   ]
  },
  {
   "cell_type": "code",
   "execution_count": 13,
   "id": "ded1fe23-4e85-43a0-a65b-9f946636a0d0",
   "metadata": {
    "tags": []
   },
   "outputs": [
    {
     "name": "stdout",
     "output_type": "stream",
     "text": [
      "2"
     ]
    }
   ],
   "source": [
    "#include <stdio.h>\n",
    "int main(){\n",
    "\n",
    "    printf(\"%d\",5 >> 1);\n",
    "    return 0;\n",
    "}"
   ]
  },
  {
   "cell_type": "code",
   "execution_count": 14,
   "id": "250a0af1-694e-4cc3-a6c7-1b13368e5e45",
   "metadata": {
    "tags": []
   },
   "outputs": [
    {
     "name": "stdout",
     "output_type": "stream",
     "text": [
      "1"
     ]
    }
   ],
   "source": [
    "#include <stdio.h>\n",
    "int main(){\n",
    "\n",
    "    printf(\"%d\",5 >> 2);\n",
    "    return 0;\n",
    "}"
   ]
  },
  {
   "cell_type": "markdown",
   "id": "c9221997-bbdb-4ff6-9ab8-772e272551d1",
   "metadata": {},
   "source": [
    "<img style=\"display: block;margin-left: auto;margin-right: auto;width: 80%;\" src=\"./images/bitwise_rightS.jpg\">"
   ]
  },
  {
   "cell_type": "markdown",
   "id": "2de57a5f-4022-45db-bc28-c0110dc1a16d",
   "metadata": {},
   "source": [
    "<h1 style=\"text-align:center; color:#005bbd; font-size:30px; font-family:Sans-serif; font-style: oblique; text-shadow: 0 0 3px white, 0 0 1px Black;\">\n",
    "  Precedence and Associativity\n",
    "</h1>"
   ]
  },
  {
   "cell_type": "markdown",
   "id": "40a40681-9298-4e15-9f25-15ca9212c01a",
   "metadata": {
    "jp-MarkdownHeadingCollapsed": true,
    "tags": []
   },
   "source": [
    "<body style=\"font-family: Sans-serif;\">\n",
    "    <div style=\"color: black; font-size: 18px; font-style: oblique; text-shadow: 0 0 3px white, 0 0 1px black; padding: 20px;\">\n",
    "        <ul>Precedence ka matlab hai kis operator ki calculation pehle hogi agar multiple operators ek expression mein ho.<br><br>\n",
    "            Jab 2 ya zyada same precedence wale operators ek saath ho, toh associativity decide karti hai ki expression left-to-right evaluate hoga ya right-to-left.\n",
    "        </ul>\n",
    "    </div>\n",
    "    \n",
    "<body>\n",
    "    \n",
    "<html lang=\"en\">\n",
    "<head>\n",
    "    <meta charset=\"UTF-8\">\n",
    "    <meta name=\"viewport\" content=\"width=device-width, initial-scale=1.0\">\n",
    "</head>\n",
    "<body>\n",
    "    <table style=\"border-collapse: collapse; width: 70%; margin: 0 auto; text-align: left;\">\n",
    "        <thead>\n",
    "            <tr>\n",
    "                <th style=\"border: 1px solid black; padding: 8px; background-color: #f2f2f2;\">Operator</th>\n",
    "                <th style=\"border: 1px solid black; padding: 8px; background-color: #f2f2f2;\">Description</th>\n",
    "                <th style=\"border: 1px solid black; padding: 8px; background-color: #f2f2f2;\">Precedence</th>\n",
    "                <th style=\"border: 1px solid black; padding: 8px; background-color: #f2f2f2;\">Associativity</th>\n",
    "            </tr>\n",
    "        </thead>\n",
    "        <tbody>\n",
    "            <tr>\n",
    "                <td style=\"border: 1px solid black; padding: 8px;\">~</td>\n",
    "                <td style=\"border: 1px solid black; padding: 8px;\">Bitwise NOT</td>\n",
    "                <td style=\"border: 1px solid black; padding: 8px;\">Highest</td>\n",
    "                <td style=\"border: 1px solid black; padding: 8px;\">Right-to-Left</td>\n",
    "            </tr>\n",
    "            <tr>\n",
    "                <td style=\"border: 1px solid black; padding: 8px;\"><<, >></td>\n",
    "                <td style=\"border: 1px solid black; padding: 8px;\">Bitwise Shift Left/Right</td>\n",
    "                <td style=\"border: 1px solid black; padding: 8px;\">High</td>\n",
    "                <td style=\"border: 1px solid black; padding: 8px;\">Left-to-Right</td>\n",
    "            </tr>\n",
    "            <tr>\n",
    "                <td style=\"border: 1px solid black; padding: 8px;\">&</td>\n",
    "                <td style=\"border: 1px solid black; padding: 8px;\">Bitwise AND</td>\n",
    "                <td style=\"border: 1px solid black; padding: 8px;\">Medium</td>\n",
    "                <td style=\"border: 1px solid black; padding: 8px;\">Left-to-Right</td>\n",
    "            </tr>\n",
    "            <tr>\n",
    "                <td style=\"border: 1px solid black; padding: 8px;\">^</td>\n",
    "                <td style=\"border: 1px solid black; padding: 8px;\">Bitwise XOR</td>\n",
    "                <td style=\"border: 1px solid black; padding: 8px;\">Low</td>\n",
    "                <td style=\"border: 1px solid black; padding: 8px;\">Left-to-Right</td>\n",
    "            </tr>\n",
    "            <tr>\n",
    "                <td style=\"border: 1px solid black; padding: 8px;\">|</td>\n",
    "                <td style=\"border: 1px solid black; padding: 8px;\">Bitwise OR</td>\n",
    "                <td style=\"border: 1px solid black; padding: 8px;\">Lowest</td>\n",
    "                <td style=\"border: 1px solid black; padding: 8px;\">Left-to-Right</td>\n",
    "            </tr>\n",
    "        </tbody>\n",
    "    </table>\n",
    "</body>\n",
    "</html>\n"
   ]
  },
  {
   "cell_type": "code",
   "execution_count": 24,
   "id": "88cfd16e-3b37-4159-a380-ae1d1c0e87ac",
   "metadata": {
    "tags": []
   },
   "outputs": [
    {
     "name": "stdout",
     "output_type": "stream",
     "text": [
      "1"
     ]
    }
   ],
   "source": [
    "#include <stdio.h>\n",
    "int main(){\n",
    "\n",
    "    printf(\"%d\", 1 | ~-1);\n",
    "    return 0;\n",
    "}"
   ]
  },
  {
   "cell_type": "code",
   "execution_count": 26,
   "id": "7480668e-0dde-49d6-8bd9-c0c2e210b20c",
   "metadata": {
    "tags": []
   },
   "outputs": [
    {
     "name": "stdout",
     "output_type": "stream",
     "text": [
      "0"
     ]
    }
   ],
   "source": [
    "#include <stdio.h>\n",
    "int main(){\n",
    "\n",
    "    printf(\"%d\", 1 & 3 << 2);\n",
    "    return 0;\n",
    "}"
   ]
  },
  {
   "cell_type": "code",
   "execution_count": 27,
   "id": "6e987311-9913-49cb-8d1e-4645a9cc176e",
   "metadata": {
    "tags": []
   },
   "outputs": [
    {
     "name": "stdout",
     "output_type": "stream",
     "text": [
      "0"
     ]
    }
   ],
   "source": [
    "#include <stdio.h>\n",
    "int main(){\n",
    "\n",
    "    printf(\"%d\", 2 >> 3 << 4);\n",
    "    return 0;\n",
    "}"
   ]
  },
  {
   "cell_type": "markdown",
   "id": "6e405bce-d797-4341-9d51-5154560fc59e",
   "metadata": {},
   "source": [
    "<img style=\"display: block;margin-left: auto;margin-right: auto;width: 80%;\" src=\"./images/bitwise_prec_asso.jpg\">"
   ]
  }
 ],
 "metadata": {
  "kernelspec": {
   "display_name": "C++17",
   "language": "C++17",
   "name": "xcpp17"
  },
  "language_info": {
   "codemirror_mode": "text/x-c++src",
   "file_extension": ".cpp",
   "mimetype": "text/x-c++src",
   "name": "c++",
   "version": "17"
  }
 },
 "nbformat": 4,
 "nbformat_minor": 5
}
