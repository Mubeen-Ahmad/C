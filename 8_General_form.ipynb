{
 "cells": [
  {
   "cell_type": "markdown",
   "id": "ea776f32-ba2b-453f-9779-4061f6f9e616",
   "metadata": {},
   "source": [
    "<h1 style=\"text-align:center; color:#005bbd; font-size:30px; font-family:Sans-serif; font-style: oblique; text-shadow: 0 0 3px white, 0 0 1px Black;\">\n",
    "   The General Form of a Simple Program\n",
    "</h1>"
   ]
  },
  {
   "cell_type": "markdown",
   "id": "32414e98-66d3-4d29-b25b-4650ea453eb5",
   "metadata": {},
   "source": [
    "<pre style=\"font-size:25px; font-weight:bold; text-align:left; padding-left:100px;\">\n",
    "directives\n",
    "\n",
    "int main(void){\n",
    "    statements\n",
    "}\n",
    "</pre>"
   ]
  },
  {
   "cell_type": "code",
   "execution_count": 7,
   "id": "0a4e9f02-43f6-4493-9730-2a1317a7a51c",
   "metadata": {},
   "outputs": [
    {
     "name": "stdout",
     "output_type": "stream",
     "text": [
      "Hello World"
     ]
    },
    {
     "data": {
      "text/plain": [
       "0"
      ]
     },
     "execution_count": 7,
     "metadata": {},
     "output_type": "execute_result"
    }
   ],
   "source": [
    "#include <stdio.h>\n",
    "\n",
    "int main(){\n",
    "    printf(\"Hello World\");\n",
    "    return 0;\n",
    "}\n",
    "main();"
   ]
  },
  {
   "cell_type": "markdown",
   "id": "ac817391-7f6d-4e9a-ac81-f1f9c8dfaeec",
   "metadata": {},
   "source": [
    "<body style=\"font-family: Sans-serif;\">\n",
    "    <div style=\"color: black; font-size: 18px; font-style: oblique; text-shadow: 0 0 3px white, 0 0 1px black; padding: 20px;\">\n",
    "         <h3> Directives:</h3>\n",
    "        <ul>\n",
    "        <li>Yeh editing commands hote hain jo program ko compilation se pehle modify ya Expand karte hain.</li><br>\n",
    "        <li>Common directives mein #include, #define, etc. aate hain. Misaal ke taur par, #include <stdio.h> ka istemal standard input/output functions ko include karne ke liye hota hai.</li><br>\n",
    "</ul>\n"
   ]
  },
  {
   "cell_type": "markdown",
   "id": "e46d12e5-7aaf-4a3d-b567-9983b58c56f6",
   "metadata": {},
   "source": [
    "<body style=\"font-family: Sans-serif;\">\n",
    "    <div style=\"color: black; font-size: 18px; font-style: oblique; text-shadow: 0 0 3px white, 0 0 1px black; padding: 20px;\">\n",
    "         <h3>Main Function:</h3>\n",
    "        <ul>\n",
    "        <li>Functions, dusri programming languages mein \"procedures\" ya \"subroutines\" kehlate hain. Yeh programs ke building blocks hote hain.</li><br>\n",
    "    <li>C program aksar functions ka collection hota hai.</li><br>\n",
    "        <li>int main(void) C programs ka entry point hai. Yeh function wahan se shuru hota hai jahan program execution start hota hai.</li><br>\n",
    "        <li>int se yeh pata chalta hai ke function integer type ka return karega (0 ya 1 etc), jo program ke successful ya unsuccessful termination ko indicate karta hai.</li><br>\n",
    "</ul>\n",
    " <h3>return statment in function:</h3>\n",
    " <ul>\n",
    "     <li>return statement ka istemal function se value wapas karne ke liye hota hai. Jab function ka kaam complete ho jata hai, toh return statement us value ko calling code ko bhejta hai.</li><br>\n",
    "     <li>Har function ka ek return type hota hai jo batata hai ki function kya type ki value return karega. Common return types hain int, float, char, etc.</li>\n",
    " </ul>"
   ]
  },
  {
   "cell_type": "markdown",
   "id": "8de3594f-6e17-48c4-a5f1-98edaa12774c",
   "metadata": {},
   "source": [
    "<body style=\"font-family: Sans-serif;\">\n",
    "    <div style=\"color: black; font-size: 18px; font-style: oblique; text-shadow: 0 0 3px white, 0 0 1px black; padding: 20px;\">\n",
    "         <h3>Braces { }</h3>\n",
    "        <ul>\n",
    "        <li>Yeh braces show karte hain ke main function kahan shuru aur kahan khatam hota hai. C language mein, braces { aur } ka istemal hota hai jaise kuch doosri languages mein begin aur end ka istemal hota hai.</li><br>\n",
    "        <li>Is se code structure clear hota hai, jahan aap dekh sakte hain ke kis block ke statements kis function ya structure ke andar hain.</li><br>\n",
    "</ul>\n"
   ]
  },
  {
   "cell_type": "markdown",
   "id": "4b8551c5-2abb-418a-8ad6-5fdcc788e47f",
   "metadata": {},
   "source": [
    "<body style=\"font-family: Sans-serif;\">\n",
    "    <div style=\"color: black; font-size: 18px; font-style: oblique; text-shadow: 0 0 3px white, 0 0 1px black; padding: 20px;\">\n",
    "         <h3>Statements:</h3>\n",
    "        <ul>\n",
    "        <li>Yeh woh commands hote hain jo program ko run hone par perform karne hain. Har statement ke baad semicolon (;) lagana zaroori hai taake compiler ko pata chale ke statement khatam ho gaya hai.</li><br>\n",
    "        <li>Statements mein variables declare karna, functions call karna, aur calculations karna shamil hota hai.</li><br>\n",
    "</ul>\n"
   ]
  }
 ],
 "metadata": {
  "kernelspec": {
   "display_name": "C++17",
   "language": "C++17",
   "name": "xcpp17"
  },
  "language_info": {
   "codemirror_mode": "text/x-c++src",
   "file_extension": ".cpp",
   "mimetype": "text/x-c++src",
   "name": "c++",
   "version": "17"
  }
 },
 "nbformat": 4,
 "nbformat_minor": 5
}
