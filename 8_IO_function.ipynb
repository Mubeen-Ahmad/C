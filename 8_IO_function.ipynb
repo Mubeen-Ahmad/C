{
 "cells": [
  {
   "cell_type": "markdown",
   "id": "f47c3b3f-36c5-46c0-99a7-d7902d49b7c4",
   "metadata": {},
   "source": [
    "<h1 style=\"text-align:center; color:#005bbd; font-size:30px; font-family:Sans-serif; font-style: oblique; text-shadow: 0 0 3px white, 0 0 1px Black;\">\n",
    "   printf Function \n",
    "</h1>"
   ]
  },
  {
   "cell_type": "markdown",
   "id": "9d91ec57-e46a-444e-ac12-daf37deaa7b1",
   "metadata": {},
   "source": [
    "<body style=\"font-family: Sans-serif;\">\n",
    "    <div style=\"color: black; font-size: 18px; font-style: oblique; text-shadow: 0 0 3px white, 0 0 1px black; padding: 20px;\">\n",
    "        <ul>\n",
    "            <li>printf ek built-in function hai jo C language mein use hota hai output display karne ke liye. Iska kaam yeh hota hai ke user ya system ko koi text ya values screen par dikhaye.</li><br>\n",
    "</ul>\n"
   ]
  },
  {
   "cell_type": "code",
   "execution_count": 10,
   "id": "e10ea028-1648-4378-9d29-0c73b30cd870",
   "metadata": {},
   "outputs": [
    {
     "name": "stdout",
     "output_type": "stream",
     "text": [
      "Hello World"
     ]
    },
    {
     "data": {
      "text/plain": [
       "0"
      ]
     },
     "execution_count": 10,
     "metadata": {},
     "output_type": "execute_result"
    }
   ],
   "source": [
    "#include <stdio.h>\n",
    "\n",
    "int main(){\n",
    "    printf(\"Hello World\");\n",
    "    return 0;\n",
    "}"
   ]
  },
  {
   "cell_type": "markdown",
   "id": "f98911de-143e-4664-bdc1-1edda6c49261",
   "metadata": {},
   "source": [
    "<body style=\"font-family: Sans-serif;\">\n",
    "    <div style=\"color: black; font-size: 18px; font-style: oblique; text-shadow: 0 0 3px white, 0 0 1px black; padding: 20px;\">\n",
    "        <ul>Note: <br>\n",
    "            Mein yaha Jupyter Notebook mein C language ka use kar raha hoon, is liye jo output aapko mil raha hai wo compile hone ke baad hi show ho raha hai.<br><br> Agar aap koi aur environment use kar rahe hain, toh aapko gcc program.c -o output ka use karna hoga taake aap apne C program ko compile karke run kar saken.<br>\n",
    "</ul>\n"
   ]
  },
  {
   "cell_type": "markdown",
   "id": "19958481-2fca-4dad-ac66-735f3443bd77",
   "metadata": {},
   "source": [
    "<body style=\"font-family: Sans-serif;\">\n",
    "    <div style=\"color: black; font-size: 18px; font-style: oblique; text-shadow: 0 0 3px white, 0 0 1px black; padding: 20px;\">\n",
    "        <ul>\n",
    "            <li>#include <stdio.h>: <br>Yeh line ek header file include karti hai jisme printf() function defined hota hai. Yeh standard input/output operations ke liye use hoti hai.\n",
    "</li><br>\n",
    "<li>int main():<br>Yeh function program ka entry point hota hai. Jab program run hota hai, sabse pehle main() function execute hota hai.\n",
    "</li>\n",
    "<br>\n",
    "<li>printf(\"Hello World\");<br>Yeh function \"Hello World\" ko screen par print karta hai.\n",
    "</li>\n",
    "<br>\n",
    "<li>return 0;<br> Yeh optional hai aur is ka matlab hota hai ke program successfully execute ho gaya.\n",
    "</li>\n",
    "</ul>\n",
    "Note ! statment ky last pr semi-colon ; lazmi hona chiye\n"
   ]
  },
  {
   "cell_type": "markdown",
   "id": "ef6dc326-b58e-4d32-a433-3502351fc375",
   "metadata": {},
   "source": [
    "<body style=\"font-family: Sans-serif;\">\n",
    "    <div style=\"color: black; font-size: 18px; font-style: oblique; text-shadow: 0 0 3px white, 0 0 1px black; padding: 20px;\">\n",
    "        <ul>\n",
    "            <p>printf() C language ka ek predefined (built-in) function hai jo standard input/output library se aata hai. <br>Yeh function stdio.h (Standard Input Output) header file mein defined hota hai.<br>Jab aap #include <stdio.h> likhte ho, to aap is header file ko apne program mein include karte ho, jisme printf() aur input/output se related aur bhi functions (jaise scanf(), getchar(), etc.) maujood hote hain.\n",
    "</ul>\n"
   ]
  },
  {
   "cell_type": "markdown",
   "id": "c006ba08-3aab-43b3-9e06-678584eacda1",
   "metadata": {},
   "source": [
    "<h1 style=\"text-align:center; color:#005bbd; font-size:30px; font-family:Sans-serif; font-style: oblique; text-shadow: 0 0 3px white, 0 0 1px Black;\">\n",
    "   Double Qoutes or Single Qoutes ?\n",
    "</h1>"
   ]
  },
  {
   "cell_type": "markdown",
   "id": "d5ac8eac-e1de-43e5-b35b-26f13a54a05c",
   "metadata": {},
   "source": [
    "<body style=\"font-family: Sans-serif;\">\n",
    "    <div style=\"color: black; font-size: 18px; font-style: oblique; text-shadow: 0 0 3px white, 0 0 1px black; padding: 20px;\">\n",
    "        <ul>\n",
    "            <li>function mein string ko double quotes mein likhte hain. Double quotes (\") use karna zaroori hai kyunki C mein strings ko define karne ka yahi tarika hai</li><br>\n",
    "            <li>Single quotes (') ka use sirf character literals ke liye hota hai, jaise char c = 'A';<br>Toh, agar aap printf('Hello World') likhenge, toh ye error dega kyunki ye character literal nahi hai, balki ek string hai.</li>\n",
    "</ul>\n"
   ]
  },
  {
   "cell_type": "code",
   "execution_count": 36,
   "id": "6fd56e88-c50f-4469-8e66-0fe88ca40fac",
   "metadata": {},
   "outputs": [
    {
     "name": "stderr",
     "output_type": "stream",
     "text": [
      "\u001b[1minput_line_80:2:12: \u001b[0m\u001b[0;1;35mwarning: \u001b[0m\u001b[1mmulti-character character constant [-Wmultichar]\u001b[0m\n",
      "    printf('Hello World');\n",
      "\u001b[0;1;32m           ^\n",
      "\u001b[0m\u001b[1minput_line_80:2:12: \u001b[0m\u001b[0;1;35mwarning: \u001b[0m\u001b[1mcharacter constant too long for its type\u001b[0m\n",
      "\u001b[1minput_line_80:2:5: \u001b[0m\u001b[0;1;31merror: \u001b[0m\u001b[1mno matching function for call to 'printf'\u001b[0m\n",
      "    printf('Hello World');\n",
      "\u001b[0;1;32m    ^~~~~~\n",
      "\u001b[0m\u001b[1m/media/mubeen/Programming Data { Disk 0 }/C/cenv/x86_64-conda-linux-gnu/sysroot/usr/include/stdio.h:362:12: \u001b[0m\u001b[0;1;30mnote: \u001b[0mcandidate function not viable: no known conversion from 'int' to 'const char *__restrict' for 1st argument\u001b[0m\n",
      "extern int printf (const char *__restrict __format, ...);\n",
      "\u001b[0;1;32m           ^\n",
      "\u001b[0m"
     ]
    },
    {
     "ename": "Interpreter Error",
     "evalue": "",
     "output_type": "error",
     "traceback": [
      "Interpreter Error: "
     ]
    }
   ],
   "source": [
    "#include <stdio.h>\n",
    "int main(){\n",
    "    printf('Hello World');\n",
    "    return 0;\n",
    "}"
   ]
  },
  {
   "cell_type": "markdown",
   "id": "02602d72-db23-4963-97a8-6593c0ef686e",
   "metadata": {},
   "source": [
    "<body style=\"font-family: Sans-serif;\">\n",
    "    <div style=\"color: black; font-size: 18px; font-style: oblique; text-shadow: 0 0 3px white, 0 0 1px black; padding: 20px;\">\n",
    "        <ul>\n",
    "            <li>So Don't be Use single Qoutes for String </li><br>\n",
    " </ul>\n"
   ]
  },
  {
   "cell_type": "markdown",
   "id": "e6f401c5-1d2d-4f77-8538-177b4a14e17c",
   "metadata": {},
   "source": [
    "<h1 style=\"text-align:center; color:#005bbd; font-size:30px; font-family:Sans-serif; font-style: oblique; text-shadow: 0 0 3px white, 0 0 1px Black;\">\n",
    "   scanf Function \n",
    "</h1>"
   ]
  },
  {
   "cell_type": "markdown",
   "id": "a3374c75-afdf-4dc2-921b-573967068fef",
   "metadata": {},
   "source": [
    "<body style=\"font-family: Sans-serif;\">\n",
    "    <div style=\"color: black; font-size: 18px; font-style: oblique; text-shadow: 0 0 3px white, 0 0 1px black; padding: 20px;\">\n",
    "        <ul>\n",
    "            <li>scanf function C language mein user se input lene ke liye istemal hota hai. </li><br>\n",
    "            <li>Ye standard input (usually keyboard) se data ko read karta hai aur variable mein store karta hai. \n",
    "            </li>\n",
    "</ul>\n"
   ]
  }
 ],
 "metadata": {
  "kernelspec": {
   "display_name": "C++17",
   "language": "C++17",
   "name": "xcpp17"
  },
  "language_info": {
   "codemirror_mode": "text/x-c++src",
   "file_extension": ".cpp",
   "mimetype": "text/x-c++src",
   "name": "c++",
   "version": "17"
  }
 },
 "nbformat": 4,
 "nbformat_minor": 5
}
