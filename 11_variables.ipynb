{
 "cells": [
  {
   "cell_type": "markdown",
   "id": "d48a5e1f-d683-44f3-bfa2-8db2139ae110",
   "metadata": {},
   "source": [
    "<h1 style=\"text-align:center; color:#005bbd; font-size:30px; font-family:Sans-serif; font-style: oblique; text-shadow: 0 0 3px white, 0 0 1px Black;\">\n",
    "   Identifers \n",
    "</h1>"
   ]
  },
  {
   "cell_type": "markdown",
   "id": "f3e6b817-b3b6-4d7a-81bf-5d33bc1ed2f4",
   "metadata": {},
   "source": [
    "<body style=\"font-family: Sans-serif;\">\n",
    "    <div style=\"color: black; font-size: 18px; font-style: oblique; text-shadow: 0 0 3px white, 0 0 1px black; padding: 20px;\">\n",
    "        <ul>\n",
    "            <li>Identifiers C language mein un names ko kehte hain jo variables, functions, arrays ya kisi bhi user-defined cheez ko pehchanane ke liye use hote hain. </li>\n",
    "            <br>\n",
    "            <li> Ye names aapko apne code ke mukhtalif elements ko refer karne mein madad dete hain.</li><br>\n",
    "</ul>\n"
   ]
  },
  {
   "cell_type": "code",
   "execution_count": 94,
   "id": "47f132c9-91ad-4326-8f12-5ae30d27b52c",
   "metadata": {},
   "outputs": [],
   "source": [
    "#include <stdio.h>\n",
    "int main(){\n",
    "    int x = 5;\n",
    "    return 0;\n",
    "}"
   ]
  },
  {
   "cell_type": "markdown",
   "id": "7cca08a7-758b-4ff9-9f4b-f15c5849c9ce",
   "metadata": {},
   "source": [
    "<body style=\"font-family: Sans-serif;\">\n",
    "    <div style=\"color: black; font-size: 18px; font-style: oblique; text-shadow: 0 0 3px white, 0 0 1px black; padding: 20px;\">\n",
    "    yahan 'x' ek variable identifier hai\n",
    "    </div></body>\n"
   ]
  },
  {
   "cell_type": "code",
   "execution_count": null,
   "id": "3847825d-8899-403b-aee4-1333842b8203",
   "metadata": {},
   "outputs": [],
   "source": [
    "void display() {\n",
    "    printf(\"Hello World!\");\n",
    "}"
   ]
  },
  {
   "cell_type": "markdown",
   "id": "70e4c501-7fbd-41dc-81d8-7ba354a510e8",
   "metadata": {},
   "source": [
    "<body style=\"font-family: Sans-serif;\">\n",
    "    <div style=\"color: black; font-size: 18px; font-style: oblique; text-shadow: 0 0 3px white, 0 0 1px black; padding: 20px;\">\n",
    "yahan 'display' function ka identifier hai    </div></body>\n"
   ]
  },
  {
   "cell_type": "code",
   "execution_count": 95,
   "id": "b67a7ed9-9fc8-41ed-98c1-61492165fdbf",
   "metadata": {},
   "outputs": [],
   "source": [
    "#include <stdio.h>\n",
    "int main(){\n",
    "    int arr[10]; \n",
    "    return 0;\n",
    "}"
   ]
  },
  {
   "cell_type": "markdown",
   "id": "656bc321-bf3d-4016-abc2-27190bbdc998",
   "metadata": {},
   "source": [
    "<body style=\"font-family: Sans-serif;\">\n",
    "    <div style=\"color: black; font-size: 18px; font-style: oblique; text-shadow: 0 0 3px white, 0 0 1px black; padding: 20px;\">\n",
    "yahan 'arr' array identifier hai    </div></body>\n"
   ]
  },
  {
   "cell_type": "markdown",
   "id": "fe65b7a9-a61f-4eeb-81e3-c9484304e7be",
   "metadata": {},
   "source": [
    "<body style=\"font-family: Sans-serif;\">\n",
    "    <div style=\"color: black; font-size: 18px; font-style: oblique; text-shadow: 0 0 3px white, 0 0 1px black; padding: 20px;\">\n",
    "        <ul>\n",
    "            <li>Jab aap kisi cheez ko, jaise variable, function, array, ya structure ko name dete hain, toh us name ko identifier kahte hain.</li>\n",
    "            <br>\n",
    "            <li> Identifiers un names ka collection hote hain jo aap apne code mein use karte hain taake aapko un entities ko pehchanane mein aasani ho.</li><br>\n",
    "</ul>\n"
   ]
  },
  {
   "cell_type": "markdown",
   "id": "512f234c-7829-437c-9948-0b0cb9747f76",
   "metadata": {},
   "source": [
    "<h1 style=\"text-align:center; color:#005bbd; font-size:30px; font-family:Sans-serif; font-style: oblique; text-shadow: 0 0 3px white, 0 0 1px Black;\">\n",
    "  Rules for Naming Identifiers\n",
    "</h1>"
   ]
  },
  {
   "cell_type": "markdown",
   "id": "dd2dfdbb-d70c-481b-8504-8230370fa64d",
   "metadata": {},
   "source": [
    "<body style=\"font-family: Sans-serif;\">\n",
    "    <div style=\"color: black; font-size: 18px; font-style: oblique; text-shadow: 0 0 3px white, 0 0 1px black; padding: 20px;\">\n",
    "        Allowed Characters:\n",
    "        <ul>Identifiers sirf alphabets (A-Z, a-z), digits (0-9), aur underscore (_) use kar sakte hain.</ul>\n",
    "    </div></body>\n"
   ]
  },
  {
   "cell_type": "code",
   "execution_count": 116,
   "id": "4b284a6d-6d82-485e-83f7-53d7fa3a9e4b",
   "metadata": {},
   "outputs": [],
   "source": [
    "int A = 2;\n",
    "int a = 3;\n",
    "int _myvar = 3;\n",
    "int _ = 3;\n",
    "int full_marks = 78;"
   ]
  },
  {
   "cell_type": "markdown",
   "id": "ac7edf2d-6d26-40f5-821f-4397d8bb76c9",
   "metadata": {},
   "source": [
    "<body style=\"font-family: Sans-serif;\">\n",
    "    <div style=\"color: black; font-size: 18px; font-style: oblique; text-shadow: 0 0 3px white, 0 0 1px black; padding: 20px;\">\n",
    "        Starting Character:\n",
    "        <ul>Identifier hamesha alphabet ya underscore (_) se start hona chahiye.</ul>\n",
    "        <ul>Identifiers digit se start nahi ho sakte.</ul>\n",
    "    </div></body>\n"
   ]
  },
  {
   "cell_type": "code",
   "execution_count": 120,
   "id": "dcfc7bd8-b890-4822-b732-9a225210cfa2",
   "metadata": {},
   "outputs": [],
   "source": [
    "int A1 = 2;\n",
    "int _A2 = 2;\n",
    "int _ = 4;\n",
    "int _1 = 29;"
   ]
  },
  {
   "cell_type": "code",
   "execution_count": 121,
   "id": "5a501781-1227-4b4c-b239-22706acf84ef",
   "metadata": {},
   "outputs": [
    {
     "name": "stderr",
     "output_type": "stream",
     "text": [
      "\u001b[1minput_line_231:2:6: \u001b[0m\u001b[0;1;31merror: \u001b[0m\u001b[1mexpected unqualified-id\u001b[0m\n",
      " int 1A = 23; // not allowed\n",
      "\u001b[0;1;32m     ^\n",
      "\u001b[0m"
     ]
    },
    {
     "ename": "Interpreter Error",
     "evalue": "",
     "output_type": "error",
     "traceback": [
      "Interpreter Error: "
     ]
    }
   ],
   "source": [
    "int 1A = 23; // not allowed"
   ]
  },
  {
   "cell_type": "markdown",
   "id": "a1bb3443-b510-41e6-ae40-7b8c2df53c07",
   "metadata": {},
   "source": [
    "<body style=\"font-family: Sans-serif;\">\n",
    "    <div style=\"color: black; font-size: 18px; font-style: oblique; text-shadow: 0 0 3px white, 0 0 1px black; padding: 20px;\">\n",
    "        No Spaces:\n",
    "        <ul>Identifiers mein spaces allowed nahi hote.</ul>\n",
    "    </div></body>\n"
   ]
  },
  {
   "cell_type": "code",
   "execution_count": 122,
   "id": "52f9e9d9-1452-46f4-8160-e2e28fb21b1d",
   "metadata": {},
   "outputs": [],
   "source": [
    "char fname_lname;"
   ]
  },
  {
   "cell_type": "code",
   "execution_count": 123,
   "id": "a79416f8-4200-43c4-bf1c-565be5e575f0",
   "metadata": {},
   "outputs": [
    {
     "name": "stderr",
     "output_type": "stream",
     "text": [
      "\u001b[1minput_line_233:2:12: \u001b[0m\u001b[0;1;31merror: \u001b[0m\u001b[1mexpected ';' at end of declaration\u001b[0m\n",
      " char fname lname; // not allowed\n",
      "\u001b[0;1;32m           ^\n",
      "\u001b[0m\u001b[0;32m           ;\n",
      "\u001b[0m"
     ]
    },
    {
     "ename": "Interpreter Error",
     "evalue": "",
     "output_type": "error",
     "traceback": [
      "Interpreter Error: "
     ]
    }
   ],
   "source": [
    "char fname lname; // not allowed"
   ]
  },
  {
   "cell_type": "markdown",
   "id": "2fc1404b-db44-4cee-9f52-c8c624b0f459",
   "metadata": {},
   "source": [
    "<body style=\"font-family: Sans-serif;\">\n",
    "    <div style=\"color: black; font-size: 18px; font-style: oblique; text-shadow: 0 0 3px white, 0 0 1px black; padding: 20px;\">\n",
    "        Case Sensitivity:\n",
    "        <ul>C language case-sensitive hai. Yani, myVar aur myvar do alag identifiers hain.</ul>\n",
    "    </div></body>\n"
   ]
  },
  {
   "cell_type": "code",
   "execution_count": 124,
   "id": "f6e40f1f-cdfd-444a-b1e5-6266e1127b67",
   "metadata": {},
   "outputs": [],
   "source": [
    "int myVar = 1;\n",
    "int myvar = 2;"
   ]
  },
  {
   "cell_type": "markdown",
   "id": "1e101e04-cabc-46f9-8011-8ee6284bbf31",
   "metadata": {},
   "source": [
    "<body style=\"font-family: Sans-serif;\">\n",
    "    <div style=\"color: black; font-size: 18px; font-style: oblique; text-shadow: 0 0 3px white, 0 0 1px black; padding: 20px;\">\n",
    "        Keywords Not Allowed:\n",
    "        <ul>Identifiers ke liye C language ke keywords (jaise int, float, if, else etc.) use nahi kiye ja sakte.</ul>\n",
    "    </div></body>\n"
   ]
  },
  {
   "cell_type": "code",
   "execution_count": 125,
   "id": "1ec49b3a-e98d-41b9-98be-764cb9a0c4fa",
   "metadata": {},
   "outputs": [
    {
     "name": "stderr",
     "output_type": "stream",
     "text": [
      "\u001b[1minput_line_235:2:6: \u001b[0m\u001b[0;1;31merror: \u001b[0m\u001b[1mexpected unqualified-id\u001b[0m\n",
      " int if = 2; //not allowed\n",
      "\u001b[0;1;32m     ^\n",
      "\u001b[0m"
     ]
    },
    {
     "ename": "Interpreter Error",
     "evalue": "",
     "output_type": "error",
     "traceback": [
      "Interpreter Error: "
     ]
    }
   ],
   "source": [
    "int if = 2; //not allowed"
   ]
  },
  {
   "cell_type": "markdown",
   "id": "849b9ff8-1851-4798-8a9a-cde918a59f2a",
   "metadata": {},
   "source": [
    "<h1 style=\"text-align:center; color:#005bbd; font-size:30px; font-family:Sans-serif; font-style: oblique; text-shadow: 0 0 3px white, 0 0 1px Black;\">\n",
    "   Variables\n",
    "</h1>"
   ]
  },
  {
   "cell_type": "markdown",
   "id": "08fbb04e-418e-4b7c-a0c9-5634ae220094",
   "metadata": {},
   "source": [
    "<body style=\"font-family: Sans-serif;\">\n",
    "    <div style=\"color: black; font-size: 18px; font-style: oblique; text-shadow: 0 0 3px white, 0 0 1px black; padding: 20px;\">\n",
    "        <ul>\n",
    "            <li>Variables C language me wo containers ya placeholders hote hain jisme data ko temporarily store kiya jata hai. </li>\n",
    "            <br>\n",
    "            <li>Variables computer memory ke specific locations pe data store karte hain, aur in memory locations ko hum program ke different parts me use kar sakte hain.</li><br>\n",
    "            <li> Har variable ka ek naam hota hai aur ek type, jo decide karta hai ke usme kaunsa data type store kiya jayega.</li><br>\n",
    "</ul>\n"
   ]
  },
  {
   "cell_type": "code",
   "execution_count": 2,
   "id": "dd8371f9-1a37-4731-a48e-1b67ac6b27e5",
   "metadata": {},
   "outputs": [],
   "source": [
    "#include <stdio.h>\n",
    "int main(){\n",
    "    int x = 2;\n",
    "}"
   ]
  },
  {
   "cell_type": "markdown",
   "id": "fd66bda2-370a-4e77-a6c1-aa0f30530d32",
   "metadata": {},
   "source": [
    "<body style=\"font-family: Sans-serif;\">\n",
    "    <div style=\"color: black; font-size: 18px; font-style: oblique; text-shadow: 0 0 3px white, 0 0 1px black; padding: 20px;\">\n",
    "        <ul>\n",
    "            <li>Jab aap int x = 2; likhte ho, to yeh hota hai:</li><br>\n",
    "            <ul><li>int x; —> is line se aap memory me ek integer type ka variable x ban rahe ho.</li><br>\n",
    "            <li>x = 2; —> is line se aap variable x me value 2 store kar rahy ho.</li><br>\n",
    "            <ul>\n",
    "                <li>Is point par:</li><br>\n",
    "                <ul><li>Variable x ka ek specific memory address hota hai.</li><br>\n",
    "                    <li>Us memory location par 2 store ho jata hai.</li><br>\n",
    "                    <li>Jab bhi aap x ko access karoge, wo wahi memory location se value 2 ko retrieve karega.</li><br>\n",
    "                </ul>\n",
    "            </ul>\n",
    "            </ul><li>Yani aap baad me x ko print kar sakty ho ya uske sath koi operation karoge, to memory se 2 value ko use kiya jayega.</li>\n",
    "\n",
    "</ul>\n"
   ]
  },
  {
   "cell_type": "code",
   "execution_count": 32,
   "id": "52fda1f6-90cb-4a8b-8336-e0bdc69b3e5a",
   "metadata": {},
   "outputs": [
    {
     "name": "stdout",
     "output_type": "stream",
     "text": [
      "0x7ffd178f9f4c"
     ]
    }
   ],
   "source": [
    "#include <stdio.h>\n",
    "int main(){\n",
    "    int x = 2;\n",
    "    printf(\"%p\",&x);// & sy address check kia jata hn\n",
    "}"
   ]
  },
  {
   "cell_type": "markdown",
   "id": "13362035-b15b-4ba8-bb20-050bd413a6c3",
   "metadata": {},
   "source": [
    "<img style=\"display: block;margin-left: auto;margin-right: auto; width:80%;\" src=\"./images/variable.jpg\">"
   ]
  },
  {
   "cell_type": "code",
   "execution_count": 41,
   "id": "b6a1eb01-e08c-4c7c-a37c-e543be47c590",
   "metadata": {},
   "outputs": [
    {
     "name": "stdout",
     "output_type": "stream",
     "text": [
      "Value of x is 2\n",
      "Address of x is 0x7ffd178f9f48\n",
      "Access value with the address 2"
     ]
    }
   ],
   "source": [
    "#include <stdio.h>\n",
    "int main(){\n",
    "    int x = 2;\n",
    "    printf(\"Value of x is %d\",x);\n",
    "    printf(\"\\nAddress of x is %p\",&x);\n",
    "    printf(\"\\nAccess value with the address %d\",*(&x));\n",
    "    return 0;\n",
    "}"
   ]
  },
  {
   "cell_type": "markdown",
   "id": "50a10d3a-ff00-47c5-b8e0-7709ff968919",
   "metadata": {},
   "source": [
    "<body style=\"font-family: Sans-serif;\">\n",
    "    <div style=\"color: black; font-size: 18px; font-style: oblique; text-shadow: 0 0 3px white, 0 0 1px black; padding: 20px;\">\n",
    "        <ul>\n",
    "            <li>printf(\"Value of x is %d\", x);</li>\n",
    "            <ul><li>Is line me x ki value print ki gayi hai, jo ke 2 hai.</li></ul><br>\n",
    "            <li>printf(\"\\nAddress of x is %p\", &x);</li>\n",
    "            <ul><li>%p se aap x ka memory address print kar rahe hain. Yahaan &x use kar rahe hain jo x ka address return karta hai.</li></ul><br>\n",
    "            <li>printf(\"\\nAccess value with the address %d\", *(&x));</li>\n",
    "            <ul><li>&x se aapko x ka address milta hai.</li>\n",
    "                <li>*(&x) se aap us address se wapis x ki value ko access kar rahe ho. Yeh pointer dereferencing kehlata hai.</li>\n",
    "                <li>Output me 2 print hoga kyunki *(&x) se x ki value ko access kar ke print kar rahe hain.</li>\n",
    "            </ul>  \n",
    "        </ul>\n",
    "    </div></body>"
   ]
  },
  {
   "cell_type": "markdown",
   "id": "c326209d-5b21-4f6f-9f87-87337294b76a",
   "metadata": {},
   "source": [
    "<h1 style=\"text-align:center; color:#005bbd; font-size:30px; font-family:Sans-serif; font-style: oblique; text-shadow: 0 0 3px white, 0 0 1px Black;\">\n",
    "   Declaration and Initialization \n",
    "</h1>"
   ]
  },
  {
   "cell_type": "markdown",
   "id": "3bd2be83-2ddb-48e3-a011-cb7cf5f691c7",
   "metadata": {},
   "source": [
    "<body style=\"font-family: Sans-serif;\">\n",
    "    <div style=\"color: black; font-size: 18px; font-style: oblique; text-shadow: 0 0 3px white, 0 0 1px black; padding: 20px;\">\n",
    "        <h3>Declaration</h3>\n",
    "        <ul>\n",
    "            <li>Declaration kia hn?</li>\n",
    "            <ul>\n",
    "                <li>Declaration ka matlab hota hai compiler ko batana ke ek variable ka naam kya hoga aur uski type kya hogi.</li>\n",
    "                <li>Iska kam compiler ko batana hota hai ke memory mein is variable ke liye kitni space reserve karni hai.</li>\n",
    "                <li>Jab aap variable declare karte hain, toh aap sirf uski data type aur naam batate hain, lekin usmein koi value store nahi hoti.</li>\n",
    "            <li>Jab aap int x; likhtay hain, toh isko variable declaration kehte hain.</li>\n",
    "            </ul>\n",
    "        </ul>\n",
    "        <ul>\n",
    "            <li>Declaration at the Top in C:</li>\n",
    "            <ul>\n",
    "                <li>C language mein declaration ko top par rakhna best practice hai, lekin modern C standards (C99 aur baad ke versions) mein aap variables ko jahan zarurat ho wahan bhi declare kar sakte hain.</li>\n",
    "                <li>Lekin C89 standard ke mutabiq, aapko function ke shuru mein (top par) hi sab variables declare karne hote hain.</li>\n",
    "            </ul>\n",
    "        </ul>\n",
    "    </div></body>"
   ]
  },
  {
   "cell_type": "code",
   "execution_count": 78,
   "id": "be94a9d2-508b-4249-803b-3eb786ab8a3d",
   "metadata": {},
   "outputs": [
    {
     "name": "stdout",
     "output_type": "stream",
     "text": [
      "1241456720"
     ]
    }
   ],
   "source": [
    "#include <stdio.h>\n",
    "int main(){\n",
    "    int x;\n",
    "    printf(\"%d\",x);\n",
    "    return 0;\n",
    "}"
   ]
  },
  {
   "cell_type": "markdown",
   "id": "aaf41a8e-b668-492b-8d1b-68dc8bb71905",
   "metadata": {},
   "source": [
    "<body style=\"font-family: Sans-serif;\">\n",
    "    <div style=\"color: black; font-size: 18px; font-style: oblique; text-shadow: 0 0 3px white, 0 0 1px black; padding: 20px;\">\n",
    "        <ul>\n",
    "            <li>humne to x mein kuch add nahi kiya, phir ye value kahan se aa gayi ? !</li><br>\n",
    "            <ul>\n",
    "                <li>Jab hum variable x declare karte hain bina koi value assign kiye, toh x memory mein kisi random (previously used) value ko hold karta hai.</li><br>\n",
    "                <li>Ye value garbage value hoti hai, kyunki humne khud se koi initial value assign nahi ki.</li><br>\n",
    "                <li>Garbage value wo random data hota hai jo memory mein pehle se store hota hai, aur jab aap x ko initialize nahi karte, to wohi random data (jo kisi purani process ka ho sakta hai) print hota hai.</li>\n",
    "            </ul>\n",
    "        </ul>\n",
    "    </div></body>"
   ]
  },
  {
   "cell_type": "markdown",
   "id": "04cc12f5-fe83-43e2-8977-7bf488230735",
   "metadata": {},
   "source": [
    "<body style=\"font-family: Sans-serif;\">\n",
    "    <div style=\"color: black; font-size: 18px; font-style: oblique; text-shadow: 0 0 3px white, 0 0 1px black; padding: 20px;\">\n",
    "        <h3>Initialization</h3>\n",
    "        <ul>\n",
    "            <li>Initialization kia hn?</li>\n",
    "            <ul>\n",
    "                <li>Initialization ka matlab hota hai variable ko pehli dafa koi value assign karna.</li>\n",
    "                <li>Iska matlab hota hai ke aap variable main koi specific value assign kar rahe hain.</li>\n",
    "            </ul>\n",
    "        </ul>\n",
    "        <ul>\n",
    "    </div></body>"
   ]
  },
  {
   "cell_type": "code",
   "execution_count": 82,
   "id": "668ff7ee-525f-401f-85ec-10f888281355",
   "metadata": {},
   "outputs": [
    {
     "name": "stdout",
     "output_type": "stream",
     "text": [
      "Value of x is 1241423984\n",
      "Value of x is 2"
     ]
    }
   ],
   "source": [
    "#include <stdio.h>\n",
    "int main(){\n",
    "    int x; // Declaration x\n",
    "    \n",
    "    printf(\"Value of x is %d\",x); // Garbage Value\n",
    "    \n",
    "    x = 2; // Initialization\n",
    "    printf(\"\\nValue of x is %d\",x);\n",
    "    return 0;\n",
    "}"
   ]
  },
  {
   "cell_type": "markdown",
   "id": "a85c6dff-c8a7-411c-96bb-ba6062fa6e5c",
   "metadata": {},
   "source": [
    "<body style=\"font-family: Sans-serif;\">\n",
    "    <div style=\"color: black; font-size: 18px; font-style: oblique; text-shadow: 0 0 3px white, 0 0 1px black; padding: 20px;\">        \n",
    "        <ul>\n",
    "            <li>int x; // Declaration x</li>\n",
    "            <ul>\n",
    "                <li>Yaha hum variable x ko declare kar rahe hain.</li>\n",
    "                <li>Declaration ka matlab hai ke hum compiler ko bata rahe hain ke x ek integer type ka variable hoga. </li>\n",
    "                <li>Is waqt x mein koi value assign nahi hui hoti, is liye ismein jo bhi value hogi wo random (garbage) value hogi jo memory ke kisi purane data se aayi hogi.</li><br>\n",
    "            </ul>\n",
    "        <li>printf(\"Value of x is %d\",x); // Garbage Value</li>\n",
    "                <ul>\n",
    "                    <li>Yaha directly x ki value print ho rahe hain bina usmein koi specific value assign kiye.</li>\n",
    "                    <li> Is liye, yahan garbage value print hogi </li><br>\n",
    "                </ul>\n",
    "                <li>x = 2; // Initialization</li>\n",
    "                <ul>\n",
    "                    <li>Yaha hum x ko initialize kar rahe hain, yani ab x mein hum apni marzi se value 2 store kar rahe hain.</li>\n",
    "                    <li> Is step ke baad x ki value garbage nahi rahegi, balki 2 ho jayegi.</li><br>\n",
    "                </ul>\n",
    "        </ul>\n",
    "    </div></body>"
   ]
  }
 ],
 "metadata": {
  "kernelspec": {
   "display_name": "C++17",
   "language": "C++17",
   "name": "xcpp17"
  },
  "language_info": {
   "codemirror_mode": "text/x-c++src",
   "file_extension": ".cpp",
   "mimetype": "text/x-c++src",
   "name": "c++",
   "version": "17"
  }
 },
 "nbformat": 4,
 "nbformat_minor": 5
}
