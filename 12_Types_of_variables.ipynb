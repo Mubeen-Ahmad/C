{
 "cells": [
  {
   "cell_type": "markdown",
   "id": "1a852c9e-0482-45de-8a22-b90ff000f87f",
   "metadata": {},
   "source": [
    "<h1 style=\"text-align:center; color:#005bbd; font-size:30px; font-family:Sans-serif; font-style: oblique; text-shadow: 0 0 3px white, 0 0 1px Black;\">\n",
    "   Linkage\n",
    "</h1>"
   ]
  },
  {
   "cell_type": "markdown",
   "id": "c8ecb60f-b288-46bb-b9b1-6f769d556afb",
   "metadata": {},
   "source": [
    "\n",
    "<body style=\"font-family: Sans-serif;\">\n",
    "    <div style=\"color: black; font-size: 18px; font-style: oblique; text-shadow: 0 0 3px white, 0 0 1px black; padding: 20px;\">\n",
    "        <ul>\n",
    "        <li>C programming mein linkage ka matlab hai yeh tay karna ke ek variable ya function ko kaise access kiya ja sakta hai, aur woh kis scope ya file ke andar valid hai. Yeh mukhtalif types mein hota hai:\n",
    "</li><br>\n",
    "        </ul>\n",
    "    </div></body>\n"
   ]
  },
  {
   "cell_type": "markdown",
   "id": "5dbad41c-d8d7-4c53-85a8-3443d2fed772",
   "metadata": {},
   "source": [
    "<body style=\"font-family: Sans-serif;\">\n",
    "    <div style=\"color: black; font-size: 18px; font-style: oblique; text-shadow: 0 0 3px white, 0 0 1px black; padding: 20px;\">\n",
    "        <h3>No Linkage</h3>\n",
    "        <ul>\n",
    "        <li>Jab variable ya function sirf ek block ke andar declare kiya gaya ho, toh use sirf usi block ke andar access kiya ja sakta hai.</li><br>\n",
    "            <pre>void func() {\n",
    "    int x;  // No linkage\n",
    "}\n",
    "</pre><br><li>Yahan x sirf func ke andar accessible hai. Agar aap x ko func ke bahar access karne ki koshish karenge, toh error aayega.</li>\n",
    "        </ul>\n",
    "    </div></body>\n"
   ]
  },
  {
   "cell_type": "markdown",
   "id": "a487e02d-fa09-4ab9-978e-51afa31afe23",
   "metadata": {},
   "source": [
    "<body style=\"font-family: Sans-serif;\">\n",
    "    <div style=\"color: black; font-size: 18px; font-style: oblique; text-shadow: 0 0 3px white, 0 0 1px black; padding: 20px;\">\n",
    "        <h3>External Linkage</h3>\n",
    "        <ul>\n",
    "        <li>jab variable ya function ko program ki dusri files se access kiya ja sakta hai. Yeh extern keyword ka istemal karte hain.</li><br>\n",
    "            <pre>int shared_variable;  // External linkage by default\n",
    "\n",
    "void func() {\n",
    "    extern int shared_variable;  // Yeh dusri file se bhi access kiya ja sakta hai\n",
    "}\n",
    "\n",
    "</pre><br><li>Agar shared_variable dusri file mein declare kiya gaya hai, toh yeh us file mein bhi access kiya ja sakta hai.</li>\n",
    "        </ul>\n",
    "    </div></body>\n"
   ]
  },
  {
   "cell_type": "markdown",
   "id": "a7213183-235b-46c2-853b-e175c98a95f4",
   "metadata": {},
   "source": [
    "<body style=\"font-family: Sans-serif;\">\n",
    "    <div style=\"color: black; font-size: 18px; font-style: oblique; text-shadow: 0 0 3px white, 0 0 1px black; padding: 20px;\">\n",
    "        <h3>Internal Linkage</h3>\n",
    "        <ul>\n",
    "        <li>Description: Jab variable ya function ko sirf usi file ke andar access kiya ja sakta hai, jahan yeh declare hua hai. Yeh static keyword ka istemal karte hain.</li><br>\n",
    "            <pre>static int local_variable;  // Internal linkage\n",
    "\n",
    "void func() {\n",
    "    // Yeh local_variable sirf is file mein accessible hai\n",
    "}\n",
    "</pre><br><li>Iska matlab yeh hai ke local_variable ko kisi bhi dusri file se access nahi kiya ja sakta.</li>\n",
    "        </ul>\n",
    "    </div></body>\n"
   ]
  },
  {
   "cell_type": "markdown",
   "id": "7057a5e8-49e3-4ed4-a94e-60c6a534dbef",
   "metadata": {},
   "source": [
    "<body style=\"font-family: Sans-serif;\">\n",
    "    <div style=\"color: black; font-size: 18px; font-style: oblique; text-shadow: 0 0 3px white, 0 0 1px black; padding: 20px;\">\n",
    "        <h4>No Linkage: Block ke andar hi accessible.</h4>\n",
    "        <h4>External Linkage: Dusri files se bhi accessible.</h4>\n",
    "        <h4>Internal Linkage: Sirf current file ke andar accessible.</h4>\n",
    "    </div></body>\n"
   ]
  },
  {
   "cell_type": "markdown",
   "id": "95c38283-2abf-4c25-9d4e-769a11197737",
   "metadata": {},
   "source": [
    "<h1 style=\"text-align:center; color:#005bbd; font-size:30px; font-family:Sans-serif; font-style: oblique; text-shadow: 0 0 3px white, 0 0 1px Black;\">\n",
    "   Types of Variables\n",
    "</h1>"
   ]
  },
  {
   "cell_type": "markdown",
   "id": "2e01cecd-6b63-4434-8f31-fe34d3b9c205",
   "metadata": {},
   "source": [
    "<body style=\"font-family: Sans-serif;\">\n",
    "    <div style=\"color: black; font-size: 18px; font-style: oblique; text-shadow: 0 0 3px white, 0 0 1px black; padding: 20px;\">\n",
    "        Local Variable\n",
    "        <ul>\n",
    "        <li>Local variables wo hote hain jo kisi function ya block ke andar declare kiye jaate hain.</li><br>\n",
    "        <li>Scope: Inki scope sirf us block ya function tak hoti hai jahan yeh declare hue hain.</li><br>\n",
    "        <li>Storage Duration: Inka data tab tak store hota hai jab tak wo block ya function chal raha hota hai. Jaise hi function ya block khatam hota hai, yeh variables bhi delete ho jaate hain.</li><br>\n",
    "            <li>Linkage: No Linkage (Block ke andar hi accessible.)</li>\n",
    "        </ul>\n",
    "        <hr>\n",
    "    </div></body>\n"
   ]
  },
  {
   "cell_type": "code",
   "execution_count": 6,
   "id": "73d691a8-7c36-42d4-b200-99fddc28ecc2",
   "metadata": {},
   "outputs": [
    {
     "name": "stdout",
     "output_type": "stream",
     "text": [
      "\n",
      "inside myfunc 3"
     ]
    },
    {
     "name": "stdout",
     "output_type": "stream",
     "text": [
      "\n",
      "inside main 2"
     ]
    }
   ],
   "source": [
    "#include <stdio.h>\n",
    "\n",
    "int myfunc(){\n",
    "    int x = 3;\n",
    "    printf(\"inside myfunc %d\",x);\n",
    "    return 0;\n",
    "}\n",
    "\n",
    "int main(){\n",
    "    myfunc(); // call myfunc function\n",
    "    int x = 2;\n",
    "    printf(\"\\ninside main %d\",x);\n",
    "    return 0;\n",
    "}"
   ]
  },
  {
   "cell_type": "markdown",
   "id": "de166f2c-f52c-4e26-8871-1235b10f0e79",
   "metadata": {},
   "source": [
    "<body style=\"font-family: Sans-serif;\">\n",
    "    <div style=\"color: black; font-size: 18px; font-style: oblique; text-shadow: 0 0 3px white, 0 0 1px black; padding: 20px;\">\n",
    "        <ul>\n",
    "        <li>Is code mein dono functions mein x naam ka variable hai, lekin dono ka scope alag alag hai.</li><br>\n",
    "        <li>Matlab, myfunc() function ka x variable main() function mein direct access nahi kiya ja sakta, aur isi tarah main() function ka x variable myfunc() mein direct access nahi hota.</li><br>\n",
    "        <li>Yeh is liye hota hai kyun ke local variables ka scope sirf us function tak hota hai jismein wo declare kiye gaye hote hain.</li><br>\n",
    "        <li>Har function ka apna block {} hota hai, aur uske andar jo variables declare kiye jaate hain, wo sirf usi block ke andar accessible hote hain. Uske bahar unka koi wujood nahi hota.</li>\n",
    "        </ul>\n",
    "    </div></body>\n"
   ]
  },
  {
   "cell_type": "markdown",
   "id": "c2b43291-d6a8-473b-a7fa-7e039fb74c27",
   "metadata": {},
   "source": [
    "<body style=\"font-family: Sans-serif;\">\n",
    "    <div style=\"color: black; font-size: 18px; font-style: oblique; text-shadow: 0 0 3px white, 0 0 1px black; padding: 20px;\">\n",
    "        Global Variable\n",
    "        <ul>\n",
    "        <li>Global variables wo hote hain jo function ke bahar, kisi bhi file ke top pe declare kiye jaate hain.</li><br>\n",
    "        <li>Scope: Inki scope puri file ya program mein hoti hai, aur yeh kisi bhi function se access kiye ja sakte hain.</li><br>\n",
    "        <li>Storage Duration: Yeh program ke start se le kar program ke end tak exist karte hain.</li><br>\n",
    "                    <li>External Linkage: Dusri files se bhi accessible</li>\n",
    "        </ul>\n",
    "            <hr>\n",
    "    </div></body>\n"
   ]
  },
  {
   "cell_type": "code",
   "execution_count": 8,
   "id": "62a2712a-70b0-4ab8-8c7a-d1145e0d06d1",
   "metadata": {},
   "outputs": [
    {
     "name": "stdout",
     "output_type": "stream",
     "text": [
      "inside myfunc 3\n",
      "inside main 3"
     ]
    }
   ],
   "source": [
    "#include <stdio.h>\n",
    "\n",
    "int x = 3;\n",
    "\n",
    "int myfunc(){\n",
    "    printf(\"inside myfunc %d\",x);\n",
    "    return 0;\n",
    "}\n",
    "\n",
    "int main(){\n",
    "    myfunc();\n",
    "    printf(\"\\ninside main %d\",x);\n",
    "    return 0;\n",
    "}\n"
   ]
  },
  {
   "cell_type": "markdown",
   "id": "5c82fcdb-5504-4ba3-97ed-9ffba0c22111",
   "metadata": {},
   "source": [
    "<body style=\"font-family: Sans-serif;\">\n",
    "    <div style=\"color: black; font-size: 18px; font-style: oblique; text-shadow: 0 0 3px white, 0 0 1px black; padding: 20px;\">\n",
    "        Static Variable\n",
    "        <ul>\n",
    "        <li>Static variables wo hote hain jo function ke andar ya bahar declare kiye ja sakte hain, lekin unka lifetime pura program chalne tak hota hai.</li><br>\n",
    "        <li>Scope: Agar static variable kisi function ke andar hai, to uski scope sirf us function tak hoti hai, lekin jab function dobara call hota hai to wo apni purani value ko yaad rakhta hai.</li><br>\n",
    "        <li>Storage Duration: Yeh program ke dauran persist karte hain.</li><br>\n",
    "            <li>Linkage : Internal Linkage</li>\n",
    "        </ul><hr>\n",
    "    </div></body>\n"
   ]
  },
  {
   "cell_type": "code",
   "execution_count": 12,
   "id": "dbc24d7e-3bc9-4ccb-982b-e0d947c68d99",
   "metadata": {},
   "outputs": [
    {
     "name": "stdout",
     "output_type": "stream",
     "text": [
      "Calling function 1 Time\n",
      "2\n",
      "Calling function 2nd Time\n",
      "2"
     ]
    }
   ],
   "source": [
    "#include <stdio.h>\n",
    "\n",
    "int myfunc(){\n",
    "    \n",
    "    int x = 1;\n",
    "    x++;\n",
    "    printf(\"%d\",x);\n",
    "}\n",
    "\n",
    "\n",
    "int main(){\n",
    "    \n",
    "    printf(\"Calling function 1 Time\\n\");\n",
    "    myfunc();\n",
    "    printf(\"\\nCalling function 2nd Time\\n\");\n",
    "    myfunc();\n",
    "    \n",
    "\n",
    "    return 0;\n",
    "}"
   ]
  },
  {
   "cell_type": "markdown",
   "id": "cafe8eb4-6ab9-4f7a-837c-e2ccd716e269",
   "metadata": {},
   "source": [
    "<body style=\"font-family: Sans-serif;\">\n",
    "    <div style=\"color: black; font-size: 18px; font-style: oblique; text-shadow: 0 0 3px white, 0 0 1px black; padding: 20px;\">\n",
    "        <ul>\n",
    "        <li>code mein x ko jab bhi myfunc() call hota hai, to har baar x ki value 1 se shuru hoti hai kyun ke x ek local variable hai. </li><br>\n",
    "        <li>Jab bhi function call hota hai, x wapas initialize ho kar 1 ban jata hai, phir x++ usko increment kar ke 2 bana deta hai.</li><br>\n",
    "        <li>Is liye dono dafa function call karne par output 2 hi aa raha hai.</li>\n",
    "        </ul><br>\n",
    "Agar Hum chahte ho ke x ki value retain rahe function ke baar-baar call hone par, to static keyword ka use karna padega.\n",
    "    </div></body>\n"
   ]
  },
  {
   "cell_type": "code",
   "execution_count": 15,
   "id": "24ddea02-80d1-4dae-a3cf-998a4b6b1ea1",
   "metadata": {},
   "outputs": [
    {
     "name": "stdout",
     "output_type": "stream",
     "text": [
      "Calling function 1 Time\n",
      "2\n",
      "Calling function 2nd Time\n",
      "3"
     ]
    }
   ],
   "source": [
    "#include <stdio.h>\n",
    "\n",
    "int myfunc(){\n",
    "    \n",
    "    static int x = 1; // static variable\n",
    "    x++;\n",
    "    printf(\"%d\",x);\n",
    "}\n",
    "\n",
    "int main(){\n",
    "    \n",
    "    printf(\"Calling function 1 Time\\n\");\n",
    "    myfunc();\n",
    "    printf(\"\\nCalling function 2nd Time\\n\");\n",
    "    myfunc();\n",
    "    \n",
    "\n",
    "    return 0;\n",
    "}"
   ]
  },
  {
   "cell_type": "markdown",
   "id": "cc856074-3205-44b1-9a8b-002e6568bc6f",
   "metadata": {},
   "source": [
    "<body style=\"font-family: Sans-serif;\">\n",
    "    <div style=\"color: black; font-size: 18px; font-style: oblique; text-shadow: 0 0 3px white, 0 0 1px black; padding: 20px;\">\n",
    "Is case mein pehla output 2 hoga, aur doosri dafa jab function call hoga to output 3 hoga, kyun ke static variable apni value ko retain karta hai even after the function ends. \n",
    "    </div></body>\n"
   ]
  },
  {
   "cell_type": "markdown",
   "id": "aa1f43e8-b2c6-4576-8c24-11101db0cca6",
   "metadata": {},
   "source": [
    "<body style=\"font-family: Sans-serif;\">\n",
    "    <div style=\"color: black; font-size: 18px; font-style: oblique; text-shadow: 0 0 3px white, 0 0 1px black; padding: 20px;\">\n",
    "Note: Agar static variable function ke andar hai to isko dusri files mein access nahi kar sakte, matlab yeh local static variable hai. Aur agar outside function variable hai to yeh global static variable hai, lekin isko bhi dusri files mein access nahi kar sakte.\n",
    "        <pre><br>\n",
    "void func() {\n",
    "    static int static_local_var = 0;  // Local static variable\n",
    "    static_local_var++;\n",
    "}\n",
    "\n",
    "static int static_global_var;  // Global static variable\n",
    "</pre><hr>\n",
    "</div></body>\n"
   ]
  },
  {
   "cell_type": "markdown",
   "id": "79d74c7d-3c26-43c5-8c5d-06a498a66135",
   "metadata": {},
   "source": [
    "<body style=\"font-family: Sans-serif;\">\n",
    "    <div style=\"color: black; font-size: 18px; font-style: oblique; text-shadow: 0 0 3px white, 0 0 1px black; padding: 20px;\">\n",
    "        auto Variable (obsolete now)\n",
    "        <ul>\n",
    "        <li>C ke purane versions mein (C89/C90), local variables ko explicitly auto keyword ke saath declare kar sakte the. auto ka matlab hai automatic storage duration, jo ke by default local variables ka hota hai.</li><br>\n",
    "        <li>C11 ya C99 ke baad se, auto keyword ka use local variables ke liye obsolete ho chuka hai, aur modern C mein iski zaroorat nahi hai.</li><br><li>Linkage: No Linkage</li>\n",
    "        </ul><hr>\n",
    "    </div></body>\n"
   ]
  },
  {
   "cell_type": "code",
   "execution_count": 4,
   "id": "06e656a7-a462-492f-b37e-6125500028db",
   "metadata": {},
   "outputs": [
    {
     "name": "stdout",
     "output_type": "stream",
     "text": [
      "auto x = 2 and y = 3 are Same"
     ]
    }
   ],
   "source": [
    "#include <stdio.h>\n",
    "int main(){\n",
    "    auto int x = 2;\n",
    "    int y = 3;\n",
    "    printf(\"auto x = %d and y = %d are Same\",x,y);\n",
    "    return 0;\n",
    "}"
   ]
  },
  {
   "cell_type": "markdown",
   "id": "ffd8b1c0-446a-4bc8-8713-d87ce546a924",
   "metadata": {},
   "source": [
    "<body style=\"font-family: Sans-serif;\">\n",
    "    <div style=\"color: black; font-size: 18px; font-style: oblique; text-shadow: 0 0 3px white, 0 0 1px black; padding: 20px;\">\n",
    "        Register Variable \n",
    "        <ul>\n",
    "        <li>Register storage class C mein aik aisa storage class hai jo compiler ko yeh batata hai ke variable ko main memory ki bajaye CPU ke register mein store karna chahiye. Yeh is liye hai ke register mein stored data ko access aur update karna ordinary memory ki bajaye zyada fast hota hai.</li><br>\n",
    "            <li>Scope : Block</li><br>\n",
    "        <li>Linkage: No Linkage</li><br>\n",
    "        </ul>\n",
    "Aaj kal register ka istemal kam hota ja raha hai. Zyada tar modern compilers itne advanced hain ke yeh khud decide kar sakte hain ke kaun se variables register mein store hone chahiye.<br><br>\n",
    "Lekin register ka istemal compiler ko optimization ke liye hints dene mein madadgar hota hai, jise yeh samajhta hai ke variable ka address nahi liya ja sakta.\n",
    "        <hr>\n",
    "    </div></body>\n"
   ]
  },
  {
   "cell_type": "code",
   "execution_count": 27,
   "id": "6c8c615b-b6bf-44cc-afc1-a6596f94144e",
   "metadata": {},
   "outputs": [
    {
     "name": "stdout",
     "output_type": "stream",
     "text": [
      "2"
     ]
    }
   ],
   "source": [
    "#include <stdio.h>\n",
    "int main(){\n",
    "    register int x = 2;\n",
    "    printf(\"%d\",x);\n",
    "    return 0;\n",
    "}"
   ]
  },
  {
   "cell_type": "markdown",
   "id": "ebbfa2c8-8570-480e-b1ff-6a9e07ec5a52",
   "metadata": {},
   "source": [
    "<hr>\n",
    "<body style=\"font-family: Sans-serif;\">\n",
    "    <div style=\"color: black; font-size: 18px; font-style: oblique; text-shadow: 0 0 3px white, 0 0 1px black; padding: 20px;\">\n",
    "        External Variable\n",
    "        <ul>\n",
    "        <li>Extern variables wo hote hain jo kisi file mein define kiye jaate hain lekin dusri file mein unko declare karke use kiya ja sakta hai. extern keyword use hota hai iska bata karne ke liye ke variable dusri file mein defined hai.</li><br>\n",
    "        <li>Scope: Puri program ya multiple files tak hoti hai.</li><br>\n",
    "        <li>Storage Duration: Program chalne tak persist karte hain.</li><br>\n",
    "            <li>Linkage: External Linkage</li>\n",
    "        </ul>\n",
    "     Supported Extensions:\n",
    "        <ul>\n",
    "        <li>.c (C Source Files): Yeh file extension use hota hai jab hum variable ko define karte hain (memory allocate karte hain) aur functions likhte hain.</li><br>\n",
    "            <li>.h (Header Files): Yeh file extension use hota hai jab hum variables aur functions ko declare karte hain (memory allocate nahi hoti). Header file mein extern keyword se declare karte hain aur source file (.c) mein variable ko define karte hain.</li>\n",
    "        </ul>\n",
    "    </div></body>\n"
   ]
  },
  {
   "cell_type": "code",
   "execution_count": 17,
   "id": "4a97a976-44ed-4daa-825c-f7e956b24bad",
   "metadata": {},
   "outputs": [],
   "source": [
    "int x=2;"
   ]
  },
  {
   "cell_type": "code",
   "execution_count": 20,
   "id": "a3421cfa-18b7-400a-ac26-431ee4c5a614",
   "metadata": {},
   "outputs": [],
   "source": [
    "!echo \"int x = 2;\" > mubeen.h"
   ]
  },
  {
   "cell_type": "code",
   "execution_count": 21,
   "id": "148745e5-be02-42e3-bf9c-00f0643e512e",
   "metadata": {},
   "outputs": [
    {
     "name": "stdout",
     "output_type": "stream",
     "text": [
      "int x = 2;\n"
     ]
    }
   ],
   "source": [
    "!cat mubeen.h"
   ]
  },
  {
   "cell_type": "code",
   "execution_count": 34,
   "id": "1e59b72a-fd1a-447e-8c1c-804a19857f82",
   "metadata": {},
   "outputs": [
    {
     "name": "stdout",
     "output_type": "stream",
     "text": [
      "2"
     ]
    }
   ],
   "source": [
    "#include <stdio.h>\n",
    "#include \"./mubeen.h\"\n",
    "\n",
    "int main(){\n",
    "    extern int x;\n",
    "    printf(\"%d\",x);\n",
    "    return 0;\n",
    "}"
   ]
  },
  {
   "cell_type": "markdown",
   "id": "1976427a-16a4-42d1-96c2-a3c26ddc5412",
   "metadata": {},
   "source": [
    "<body style=\"font-family: Sans-serif;\">\n",
    "    <div style=\"color: black; font-size: 18px; font-style: oblique; text-shadow: 0 0 3px white, 0 0 1px black; padding: 20px;\">\n",
    "        Example 2 (2nd Use Case)\n",
    "    </div></body>\n"
   ]
  },
  {
   "cell_type": "code",
   "execution_count": 146,
   "id": "bdf6345b-049a-4d36-bb31-628c0fa70b53",
   "metadata": {},
   "outputs": [],
   "source": [
    "extern int x; // myheader.h filename\n",
    "void printX();"
   ]
  },
  {
   "cell_type": "code",
   "execution_count": 147,
   "id": "c26dc3e9-dc9b-4115-a553-b2209d0bf376",
   "metadata": {},
   "outputs": [],
   "source": [
    "!echo \"extern int x;\\nvoid printX();\" > myheader.h"
   ]
  },
  {
   "cell_type": "code",
   "execution_count": 148,
   "id": "00f8193b-bec5-4ee8-a0c0-e31699824f36",
   "metadata": {},
   "outputs": [
    {
     "name": "stdout",
     "output_type": "stream",
     "text": [
      "extern int x;\n",
      "void printX();\n"
     ]
    }
   ],
   "source": [
    "!cat myheader.h"
   ]
  },
  {
   "cell_type": "code",
   "execution_count": 149,
   "id": "12dd97c9-2eb6-4e00-9292-5554e6235d6f",
   "metadata": {},
   "outputs": [],
   "source": [
    "!echo '#include \"myheader.h\"\\n#include <stdio.h>\\nint x = 10;\\nvoid printX() {\\n\\tprintf(\"Value of x is: %d\\\\n\", x);\\n}' > file1.c"
   ]
  },
  {
   "cell_type": "code",
   "execution_count": 150,
   "id": "d5533603-a07e-48e6-99d6-d79e6d0de4f7",
   "metadata": {},
   "outputs": [
    {
     "name": "stdout",
     "output_type": "stream",
     "text": [
      "#include \"myheader.h\"\n",
      "#include <stdio.h>\n",
      "int x = 10;\n",
      "void printX() {\n",
      "\tprintf(\"Value of x is: %d\\n\", x);\n",
      "}\n"
     ]
    }
   ],
   "source": [
    "!cat file1.c"
   ]
  },
  {
   "cell_type": "code",
   "execution_count": 151,
   "id": "baaf3445-d0b0-4a8e-8f09-189726a434de",
   "metadata": {},
   "outputs": [],
   "source": [
    "!echo '#include \"myheader.h\" \\nint main() {\\nprintX();\\nreturn 0;\\n}' > file2.c"
   ]
  },
  {
   "cell_type": "code",
   "execution_count": 152,
   "id": "50d33a96-1dec-4986-a111-0318bcb6fe03",
   "metadata": {},
   "outputs": [
    {
     "name": "stdout",
     "output_type": "stream",
     "text": [
      "#include \"myheader.h\" \n",
      "int main() {\n",
      "printX();\n",
      "return 0;\n",
      "}\n"
     ]
    }
   ],
   "source": [
    "!cat file2.c"
   ]
  },
  {
   "cell_type": "markdown",
   "id": "86411697-44a3-4669-9f40-195c605f0032",
   "metadata": {},
   "source": [
    "<body style=\"font-family: Sans-serif;\">\n",
    "    <div style=\"color: black; font-size: 18px; font-style: oblique; text-shadow: 0 0 3px white, 0 0 1px black; padding: 20px;\">\n",
    "    Compilation:<br>\n",
    "    In files ko compile karne ke liye, dono .c files ko saath mein compile karna zaroori ha\n",
    "</div></body>\n"
   ]
  },
  {
   "cell_type": "code",
   "execution_count": 81,
   "id": "d8981de4-3595-495c-b5f8-b3f383f06274",
   "metadata": {},
   "outputs": [],
   "source": [
    "!gcc file1.c file2.c -o code"
   ]
  },
  {
   "cell_type": "code",
   "execution_count": 82,
   "id": "4caa54f2-3a6d-4718-ae30-7d20ddab6c95",
   "metadata": {},
   "outputs": [
    {
     "name": "stdout",
     "output_type": "stream",
     "text": [
      "Value of x is: 10\n"
     ]
    }
   ],
   "source": [
    "!./code"
   ]
  },
  {
   "cell_type": "markdown",
   "id": "1698a2e1-be8f-4fb3-b9d2-189b2e2fe631",
   "metadata": {},
   "source": [
    "<body style=\"font-family: Sans-serif;\">\n",
    "    <div style=\"color: black; font-size: 18px; font-style: oblique; text-shadow: 0 0 3px white, 0 0 1px black; padding: 20px;\">\n",
    "        <ul>\n",
    "            <li>extern Declaration: x ko myheader.h file mein declare kiya gaya hai (yaani sirf bataya gaya ke yeh variable exist karta hai). Lekin actual mein x ko define file1.c mein kiya gaya hai jahan uska value 10 set kiya gaya hai.</li><br>\n",
    "            <li>Header File: Yeh file dono source files (file1.c aur file2.c) ko yeh batati hai ke variable aur function exist karte hain. Is tarah se hum variables aur functions ko alag alag files mein access kar sakte hain.</li><br>\n",
    "            <li>Function Call: file2.c mein hum function printX() ko call karte hain jo file1.c mein bana hai aur jo extern variable x ka value print karta hai.</li>\n",
    "        </ul>\n",
    "    </div></body>\n"
   ]
  },
  {
   "cell_type": "markdown",
   "id": "fdb489ae-fd5b-4ddb-b207-c1b2d868791d",
   "metadata": {},
   "source": [
    "<body style=\"font-family: Sans-serif;\">\n",
    "    <div style=\"color: black; font-size: 18px; font-style: oblique; text-shadow: 0 0 3px white, 0 0 1px black; padding: 20px;\">\n",
    "    <h2>Try to debug</h2>\n",
    "</div></body>\n"
   ]
  },
  {
   "cell_type": "code",
   "execution_count": 132,
   "id": "91147c30-f382-4304-a218-7fa5316982f6",
   "metadata": {},
   "outputs": [],
   "source": [
    "extern int x; // myheader.h filename\n",
    "void printX();"
   ]
  },
  {
   "cell_type": "markdown",
   "id": "461eda0f-7048-400a-8e93-354490d19737",
   "metadata": {},
   "source": [
    "<body style=\"font-family: Sans-serif;\">\n",
    "    <div style=\"color: black; font-size: 18px; font-style: oblique; text-shadow: 0 0 3px white, 0 0 1px black; padding: 20px;\">\n",
    "    extern Declaration: x ko myheader.h file mein declare kiya gaya hai (yaani sirf bataya gaya ke yeh variable exist karta hai). Lekin actual mein x ko define file1.c mein kiya gaya hai jahan uska value 10 set kiya gaya hai.\n",
    "</div></body>\n",
    "\n"
   ]
  },
  {
   "cell_type": "code",
   "execution_count": 134,
   "id": "fa91b821-d300-4db8-93bd-e3d84fb7e6d0",
   "metadata": {},
   "outputs": [],
   "source": [
    "// file1.c\n",
    "#include \"myheader.h\"\n",
    "#include <stdio.h>\n",
    "int x = 10;\n",
    "void printX() {\n",
    "\tprintf(\"Value of x is: %d\\n\", x);\n",
    "}"
   ]
  },
  {
   "cell_type": "markdown",
   "id": "b85de1e5-b67c-48a3-a1db-f2177631504e",
   "metadata": {},
   "source": [
    "<body style=\"font-family: Sans-serif;\">\n",
    "    <div style=\"color: black; font-size: 18px; font-style: oblique; text-shadow: 0 0 3px white, 0 0 1px black; padding: 20px;\">\n",
    "    actual mein x ko define file1.c mein kiya gaya hai jahan uska value 10 set kiya gaya hai.\n",
    "</div></body>\n",
    "\n"
   ]
  },
  {
   "cell_type": "code",
   "execution_count": 143,
   "id": "77c40990-a20f-4bc9-965b-42476e3ec30b",
   "metadata": {},
   "outputs": [],
   "source": [
    "// file2.c\n",
    "#include \"myheader.h\" \n",
    "int main() {\n",
    "    printX();\n",
    "    return 0;\n",
    "}"
   ]
  },
  {
   "cell_type": "markdown",
   "id": "07f344d5-cc04-4743-bc28-cd850d4eba80",
   "metadata": {},
   "source": [
    "<body style=\"font-family: Sans-serif;\">\n",
    "    <div style=\"color: black; font-size: 18px; font-style: oblique; text-shadow: 0 0 3px white, 0 0 1px black; padding: 20px;\">\n",
    "Header File: Yeh file dono source files (file1.c aur file2.c) ko yeh batati hai ke variable aur function exist karte hain. Is tarah se hum variables aur functions ko alag alag files mein access kar sakte hain.</div></body>\n",
    "\n",
    "\n"
   ]
  },
  {
   "cell_type": "markdown",
   "id": "d05ed2c5-3a35-405d-b6a6-9fd0a79a6269",
   "metadata": {},
   "source": [
    "<body style=\"font-family: Sans-serif;\">\n",
    "    <div style=\"color: black; font-size: 18px; font-style: oblique; text-shadow: 0 0 3px white, 0 0 1px black; padding: 20px;\">\n",
    "Function Call: file2.c mein hum function printX() ko call karte hain jo file1.c mein bana hai aur jo extern variable x ka value print karta hai.</div></body>\n",
    "\n",
    "\n"
   ]
  },
  {
   "cell_type": "code",
   "execution_count": 153,
   "id": "515f594b-08db-4809-b157-cc9bdf6116fd",
   "metadata": {},
   "outputs": [],
   "source": [
    "!gcc file1.c file2.c -o code"
   ]
  },
  {
   "cell_type": "code",
   "execution_count": 154,
   "id": "32bc3e54-f8da-461b-ab6a-f74d84f91ef2",
   "metadata": {},
   "outputs": [
    {
     "name": "stdout",
     "output_type": "stream",
     "text": [
      "Value of x is: 10\n"
     ]
    }
   ],
   "source": [
    "!./code"
   ]
  },
  {
   "cell_type": "markdown",
   "id": "3334e9d1-c352-4ec9-862e-e43856c8c86a",
   "metadata": {},
   "source": [
    "<body style=\"font-family: Sans-serif;\">\n",
    "    <div style=\"color: black; font-size: 18px; font-style: oblique; text-shadow: 0 0 3px white, 0 0 1px black; padding: 20px;\">\n",
    "    <h2>Example 3</h2>\n",
    "</div></body>\n"
   ]
  },
  {
   "cell_type": "code",
   "execution_count": 263,
   "id": "97a21813-a943-4237-a8cc-3b923d21d1aa",
   "metadata": {},
   "outputs": [],
   "source": [
    "extern float ip;\n",
    "void connect();"
   ]
  },
  {
   "cell_type": "code",
   "execution_count": 264,
   "id": "0fd75065-68e5-4398-afe6-8af942a42540",
   "metadata": {},
   "outputs": [],
   "source": [
    "!echo \"extern float ip;\\nvoid connect();\" > db.h"
   ]
  },
  {
   "cell_type": "code",
   "execution_count": 265,
   "id": "a8a4fcb5-5201-4871-beb6-b7ca5a75ba92",
   "metadata": {},
   "outputs": [
    {
     "name": "stdout",
     "output_type": "stream",
     "text": [
      "extern float ip;\n",
      "void connect();\n"
     ]
    }
   ],
   "source": [
    "!cat db.h"
   ]
  },
  {
   "cell_type": "code",
   "execution_count": 267,
   "id": "6c58d770-66ce-4875-847d-7700af23830e",
   "metadata": {},
   "outputs": [],
   "source": [
    "#include \"db.h\"\n",
    "#include <stdio.h>\n",
    "float ip = 192.1, port = 8.8;\n",
    "void connect(){\n",
    "    printf(\"connected %.1f:%.1f\",ip,port);\n",
    "}"
   ]
  },
  {
   "cell_type": "code",
   "execution_count": 277,
   "id": "b284b9d3-5e31-4c53-afaa-6b7e8710ffb7",
   "metadata": {},
   "outputs": [],
   "source": [
    "!echo \"#include \\\"db.h\\\"\\n#include <stdio.h>\\nfloat ip = 192.1,port = 8.8;\\nvoid connect(){\\n\\tprintf(\\\"connected %.1f %.1f\\\",ip,port);\\n}\" > config.c"
   ]
  },
  {
   "cell_type": "code",
   "execution_count": 278,
   "id": "32857cab-483c-492b-a325-efd27829b4eb",
   "metadata": {},
   "outputs": [
    {
     "name": "stdout",
     "output_type": "stream",
     "text": [
      "#include \"db.h\"\n",
      "#include <stdio.h>\n",
      "float ip = 192.1,port = 8.8;\n",
      "void connect(){\n",
      "\tprintf(\"connected %.1f %.1f\",ip,port);\n",
      "}\n"
     ]
    }
   ],
   "source": [
    "!cat config.c"
   ]
  },
  {
   "cell_type": "code",
   "execution_count": 281,
   "id": "8a6071ee-5ec3-4bcd-9db3-9ce5b485f34f",
   "metadata": {},
   "outputs": [],
   "source": [
    "!echo \"#include \\\"db.h\\\"\\nint main() {connect();return 0;}\" > code.c"
   ]
  },
  {
   "cell_type": "code",
   "execution_count": 282,
   "id": "25cddba7-8593-485a-806f-460d79ab0437",
   "metadata": {},
   "outputs": [
    {
     "name": "stdout",
     "output_type": "stream",
     "text": [
      "#include \"db.h\"\n",
      "int main() {connect();return 0;}\n"
     ]
    }
   ],
   "source": [
    "!cat code.c"
   ]
  },
  {
   "cell_type": "code",
   "execution_count": 283,
   "id": "b47dcbee-ae1e-44f8-8e4c-a54baf8d13f5",
   "metadata": {},
   "outputs": [],
   "source": [
    "!gcc config.c code.c -o code"
   ]
  },
  {
   "cell_type": "code",
   "execution_count": 284,
   "id": "5e6fabbf-55f9-41f8-86a3-dbdcbac5162b",
   "metadata": {},
   "outputs": [
    {
     "name": "stdout",
     "output_type": "stream",
     "text": [
      "connected 192.1 8.8"
     ]
    }
   ],
   "source": [
    "!./code"
   ]
  }
 ],
 "metadata": {
  "kernelspec": {
   "display_name": "C++17",
   "language": "C++17",
   "name": "xcpp17"
  },
  "language_info": {
   "codemirror_mode": "text/x-c++src",
   "file_extension": ".cpp",
   "mimetype": "text/x-c++src",
   "name": "c++",
   "version": "17"
  }
 },
 "nbformat": 4,
 "nbformat_minor": 5
}
