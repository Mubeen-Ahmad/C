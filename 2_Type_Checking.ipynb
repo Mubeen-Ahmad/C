{
 "cells": [
  {
   "cell_type": "markdown",
   "id": "8b1a5f12-0a43-4451-b82e-6eeeceb157e4",
   "metadata": {},
   "source": [
    "<h1 style=\"text-align:center; color:#005bbd; font-size:30px; font-family:Sans-serif; font-style: oblique; text-shadow: 0 0 3px white, 0 0 1px Black;\">\n",
    "   Type Checking\n",
    "</h1>"
   ]
  },
  {
   "cell_type": "markdown",
   "id": "fe5be869-ee1d-4cd8-8a76-883adc46248b",
   "metadata": {},
   "source": [
    "<body style=\"font-family: Sans-serif;\">\n",
    "    <div style=\"color: black; font-size: 18px; font-style: oblique; text-shadow: 0 0 3px white, 0 0 1px black; padding: 20px;\">\n",
    "        <ul><li><p>Type checking ka matlab hai kisi bhi program mein variables aur operations ke types ko verify karna aur ensure karna ke har operation ko sahi number of arguments aur sahi data type mil raha hai.<br><br>\n",
    "For example, agar aap ek operation mein integer aur string ko add karne ki koshish karte hain,<br>jaise:</p><pre>12 + '1'\n",
    "</pre></li></ul>\n",
    "<ul><p>Yahan 12 ek integer data type hai, aur '1' ek character data type. <br>In dono ko directly add karna logically incorrect hai, kyunki integer aur character ko add nahi kiya ja sakta bina type conversion ke. <br>Aksar compilers aisi situations mein type mismatch error generate karte hain.</p></ul>\n",
    "        </div>\n",
    "</body>"
   ]
  },
  {
   "cell_type": "markdown",
   "id": "d856d766-7945-4798-a43f-f18adf29a2e3",
   "metadata": {},
   "source": [
    "<h1 style=\"text-align:center; color:#005bbd; font-size:30px; font-family:Sans-serif; font-style: oblique; text-shadow: 0 0 3px white, 0 0 1px Black;\">\n",
    "   Types of Checking\n",
    "</h1>"
   ]
  },
  {
   "cell_type": "markdown",
   "id": "761beedc-9ce0-4005-8636-bbc5aaa30db2",
   "metadata": {},
   "source": [
    "<body style=\"font-family: Sans-serif;\">\n",
    "    <div style=\"color: black; font-size: 18px; font-style: oblique; text-shadow: 0 0 3px white, 0 0 1px black; padding: 20px;\">\n",
    "        <h3>Static Type Checking</h3>\n",
    "        <ul><li><p>Yeh compile-time pe hota hai. Jab aapka code compile hota hai, toh compiler types check karta hai. Agar koi type mismatch hota hai, toh compiler error generate karta hai. For example, C, C++, aur Java jaisi statically typed languages mein static type checking hoti hai.</p>\n",
    "            <pre>\n",
    "                int a = 12;\n",
    "                char b = '1';\n",
    "                printf(\"%d\", a + b);  \n",
    "                // Type mismatch: can't directly add int and char\n",
    "</pre></li></ul>\n",
    "        </div>\n",
    "</body>"
   ]
  },
  {
   "cell_type": "markdown",
   "id": "cb9e8b1e-3229-490d-93c8-c0d3061b75d8",
   "metadata": {},
   "source": [
    "<body style=\"font-family: Sans-serif;\">\n",
    "    <div style=\"color: black; font-size: 18px; font-style: oblique; text-shadow: 0 0 3px white, 0 0 1px black; padding: 20px;\">\n",
    "        <h3>Dynamic Type Checking</h3>\n",
    "        <ul><li><p>Yeh run-time pe hota hai. Jab program run hota hai tab types check kiye jate hain. Agar kisi point pe type mismatch hota hai, toh run-time error generate hota hai. Python aur JavaScript jaisi dynamically typed languages mein yeh hota hai.</p>\n",
    "            <pre>\n",
    "                a = 12\n",
    "                b = '1'\n",
    "                print(a + b)  # Error: can't add int and string\n",
    "</pre></li></ul>\n",
    "        </div>\n",
    "</body>"
   ]
  },
  {
   "cell_type": "markdown",
   "id": "ce416cb1-a0ca-4b3b-a06f-44be93cd2a85",
   "metadata": {},
   "source": [
    "<h1 style=\"text-align:center; color:#005bbd; font-size:30px; font-family:Sans-serif; font-style: oblique; text-shadow: 0 0 3px white, 0 0 1px Black;\">\n",
    "   Dynamic Type Checking <br><br>V/S <br><br>Static Type Checking\n",
    "</h1>"
   ]
  },
  {
   "cell_type": "markdown",
   "id": "21c38edb-a56b-4dbe-8fd7-8ea748d323fd",
   "metadata": {},
   "source": [
    "<!DOCTYPE html>\n",
    "<html lang=\"en\">\n",
    "<head>\n",
    "    <meta charset=\"UTF-8\">\n",
    "    <meta name=\"viewport\" content=\"width=device-width, initial-scale=1.0\">\n",
    "</head>\n",
    "<body>\n",
    "    <div style=\"color: black; font-size: 20px; font-style: oblique; text-shadow: 0 0 3px white, 0 0 1px black; padding: 20px;\">\n",
    "    <table style=\"height:500px; max-width:1000px;\">\n",
    "        <tr>\n",
    "            <th>Feature</th>\n",
    "            <th>Static Type Checking</th>\n",
    "            <th>Dynamic Type Checking</th>\n",
    "        </tr>\n",
    "        <tr>\n",
    "            <td>When does it happen?</td>\n",
    "            <td>Compile-time (jab code compile hota hai)</td>\n",
    "            <td>Run-time (jab code chal raha hota hai)</td>\n",
    "        </tr>\n",
    "        <tr>\n",
    "            <td>Error Detection</td>\n",
    "            <td>Errors compile-time par detect kiye jate hain</td>\n",
    "            <td>Errors run-time par detect kiye jate hain</td>\n",
    "        </tr>\n",
    "        <tr>\n",
    "            <td>Performance</td>\n",
    "            <td>Fast, kyunki compile-time pe types check ho jate hain</td>\n",
    "            <td>Relatively slow kyunki type check run-time pe hota hai</td>\n",
    "        </tr>\n",
    "        <tr>\n",
    "            <td>Safety</td>\n",
    "            <td>Zyada safe, kyunki compile hone se pehle errors fix karne ka waqt hota hai</td>\n",
    "            <td>Kam safe, kyunki errors sirf jab program run hota hai tab pata chalte hain</td>\n",
    "        </tr>\n",
    "        <tr>\n",
    "            <td>Languages</td>\n",
    "            <td>Statically typed languages jaise C, C++, Java</td>\n",
    "            <td>Dynamically typed languages jaise Python, JavaScript</td>\n",
    "        </tr>\n",
    "        <tr>\n",
    "            <td>Type Declaration</td>\n",
    "            <td>Types ko explicitly declare karna hota hai (e.g., int a = 5;)</td>\n",
    "            <td>Types ko declare nahi karna padta, interpreter khud detect karta hai</td>\n",
    "        </tr>\n",
    "        <tr>\n",
    "            <td>Flexibility</td>\n",
    "            <td>Kam flexible, kyunki strict type rules hote hain</td>\n",
    "            <td>Zyada flexible, kyunki types automatically adjust hote hain</td>\n",
    "        </tr>\n",
    "        <tr>\n",
    "            <td>Example</td>\n",
    "            <td>int a = 5; - Types ko pehle se declare karna zaroori hai</td>\n",
    "            <td>a = 5 - Types ko declare nahi karna padta</td>\n",
    "        </tr>\n",
    "    </table>\n",
    "    </div>\n",
    "</body>\n",
    "</html>\n"
   ]
  }
 ],
 "metadata": {
  "kernelspec": {
   "display_name": "C++17",
   "language": "C++17",
   "name": "xcpp17"
  },
  "language_info": {
   "codemirror_mode": "text/x-c++src",
   "file_extension": ".cpp",
   "mimetype": "text/x-c++src",
   "name": "c++",
   "version": "17"
  }
 },
 "nbformat": 4,
 "nbformat_minor": 5
}
