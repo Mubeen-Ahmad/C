{
 "cells": [
  {
   "cell_type": "markdown",
   "id": "4590c580-3b22-48e4-8fb4-64e1c636bc33",
   "metadata": {},
   "source": [
    "<h1 style=\"text-align:center; color:#005bbd; font-size:30px; font-family:Sans-serif; font-style: oblique; text-shadow: 0 0 3px white, 0 0 1px Black;\">\n",
    "   Float\n",
    "</h1>"
   ]
  },
  {
   "cell_type": "markdown",
   "id": "03d928fe-f9b9-4e63-a333-b1c40b13ea85",
   "metadata": {},
   "source": [
    "<body style=\"font-family: Sans-serif;\">\n",
    "    <div style=\"color: black; font-size: 18px; font-style: oblique; text-shadow: 0 0 3px white, 0 0 1px black; padding: 20px;\">\n",
    "        <ul>\n",
    "            <li>C language mein float numbers represent karne ke liye float, double, aur long double data types ka use hota hai.</li><br>\n",
    "            <li>Har ek data type ka size aur precision alag hota hai. Har ek data type ka size aur precision alag hota hai. Har ek data type ka size aur precision alag hota hai</li>\n",
    "</ul></div></body>\n",
    "\n"
   ]
  },
  {
   "cell_type": "markdown",
   "id": "d973b070-e357-4b98-995c-50f9a66a1b1e",
   "metadata": {},
   "source": [
    "<body style=\"font-family: Sans-serif;\">\n",
    "    <div style=\"color: black; font-size: 18px; font-style: oblique; text-shadow: 0 0 3px white, 0 0 1px black; padding: 20px;\">\n",
    "        <ul> <h3>float</h3>\n",
    "            <li>32-bit floating-point number. Basic level precision ke liye use hota hai.</li>\n",
    "            <li>Size: mostly 4 bytes but system ky depend size hota hn</li>\n",
    "            <li>Range Approximately -3.4E+38 to 3.4E+38</li>\n",
    "            <li>Precision: Up to 6 decimal places</li>\n",
    "            <li>Format Specifier: %f</li>\n",
    "            <li>Suffix: f/F</li>\n",
    "</ul></div></body>\n",
    "\n"
   ]
  },
  {
   "cell_type": "code",
   "execution_count": 4,
   "id": "e7fb7a0e-562b-477f-90bd-3a42b7f21508",
   "metadata": {
    "tags": []
   },
   "outputs": [],
   "source": [
    "#include <stdio.h>\n",
    "#include <float.h>\n",
    "\n",
    "int main() {\n",
    "    printf(\"Float:\\n\");\n",
    "    printf(\"Minimum value of float: %e\\n\", FLT_MIN);  // Minimum positive value\n",
    "    printf(\"Maximum value of float: %e\\n\", FLT_MAX);  // Maximum positive value\n",
    "    printf(\"Precision value of float: %d\\n\", FLT_DIG);  // Decimal precision\n",
    "\n",
    "    printf(\"\\nDouble:\\n\");\n",
    "    printf(\"Minimum value of double: %e\\n\", DBL_MIN);  // Minimum positive value\n",
    "    printf(\"Maximum value of double: %e\\n\", DBL_MAX);  // Maximum positive value\n",
    "    printf(\"Precision value of double: %d\\n\", DBL_DIG);  // Decimal precision\n",
    "\n",
    "    printf(\"\\nLong Double:\\n\");\n",
    "    printf(\"Minimum value of long double: %Le\\n\", LDBL_MIN);  // Minimum positive value\n",
    "    printf(\"Maximum value of long double: %Le\\n\", LDBL_MAX);  // Maximum positive value\n",
    "    printf(\"Precision value of long double: %d\\n\", LDBL_DIG);  // Decimal precision\n",
    "\n",
    "    return 0;\n",
    "}\n"
   ]
  },
  {
   "cell_type": "code",
   "execution_count": 20,
   "id": "8f469930-f8ef-4917-976a-0746481aebc9",
   "metadata": {
    "tags": []
   },
   "outputs": [
    {
     "name": "stdout",
     "output_type": "stream",
     "text": [
      "Minimum value of float: 1.175494e-38\n",
      "Maximum value of float: 3.402823e+38\n",
      "Precision value of float: 6\n",
      "Size of Double 4"
     ]
    }
   ],
   "source": [
    "#include <stdio.h>\n",
    "#include <float.h>\n",
    "\n",
    "int main() {\n",
    "    printf(\"Minimum value of float: %e\\n\", FLT_MIN);  // Minimum positive value\n",
    "    printf(\"Maximum value of float: %e\\n\", FLT_MAX);  // Maximum positive value\n",
    "    printf(\"Precision value of float: %d\\n\", FLT_DIG);  // Decimal precision\n",
    "    printf(\"Size of Double %zu\",sizeof(float));\n",
    "    return 0;\n",
    "}"
   ]
  },
  {
   "cell_type": "code",
   "execution_count": 15,
   "id": "6561dd44-226b-4ac1-8577-822190b86798",
   "metadata": {
    "tags": []
   },
   "outputs": [
    {
     "name": "stdout",
     "output_type": "stream",
     "text": [
      "3.140000"
     ]
    }
   ],
   "source": [
    "#include <stdio.h>\n",
    "int main(){\n",
    "    float num = 3.14F;\n",
    "    printf(\"%f\", num);\n",
    "\n",
    "}"
   ]
  },
  {
   "cell_type": "markdown",
   "id": "c7ea664d-360a-42cb-a444-0c4c22b7aa3a",
   "metadata": {},
   "source": [
    "<body style=\"font-family: Sans-serif;\">\n",
    "    <div style=\"color: black; font-size: 18px; font-style: oblique; text-shadow: 0 0 3px white, 0 0 1px black; padding: 20px;\">\n",
    "        <ul> <h3>double</h3>\n",
    "            <li>64-bit floating-point number. Float se zyada precision aur range provide karta hai.</li>\n",
    "            <li>Size: mostly 8 bytes but system ky depend size hota hn</li>\n",
    "            <li>Range Approximately -1.7E+308 to 1.7E+308</li>\n",
    "            <li>Precision: Up to 15 decimal places</li>\n",
    "            <li>Format Specifier: %lf</li>\n",
    "            <li>Suffix: f/F</li>\n",
    "</ul></div></body>\n",
    "\n"
   ]
  },
  {
   "cell_type": "code",
   "execution_count": 19,
   "id": "47b1ac8d-f69b-423a-bbac-93b5480b25c4",
   "metadata": {
    "tags": []
   },
   "outputs": [
    {
     "name": "stdout",
     "output_type": "stream",
     "text": [
      "Minimum value of double: 2.225074e-308\n",
      "Maximum value of double: 1.797693e+308\n",
      "Precision value of double: 15\n",
      "Size of Double 8"
     ]
    }
   ],
   "source": [
    "#include <stdio.h>\n",
    "#include <float.h>\n",
    "\n",
    "int main() {\n",
    "    printf(\"Minimum value of double: %e\\n\", DBL_MIN);\n",
    "    printf(\"Maximum value of double: %e\\n\", DBL_MAX);  \n",
    "    printf(\"Precision value of double: %d\\n\", DBL_DIG);\n",
    "    printf(\"Size of Double %zu\",sizeof(double));\n",
    "\n",
    "    return 0;\n",
    "}"
   ]
  },
  {
   "cell_type": "code",
   "execution_count": 28,
   "id": "f085e6da-86b8-4843-b419-54d5db76165d",
   "metadata": {
    "tags": []
   },
   "outputs": [
    {
     "name": "stdout",
     "output_type": "stream",
     "text": [
      "3.141593"
     ]
    }
   ],
   "source": [
    "#include <stdio.h>\n",
    "int main(){\n",
    "    \n",
    "    double num = 3.141592653589793F;\n",
    "    printf(\"%lf\", num); // Output: 3.141593\n",
    "\n",
    "}"
   ]
  },
  {
   "cell_type": "markdown",
   "id": "6b9b3df4-fcb1-45e9-9a94-d803c7acf842",
   "metadata": {
    "tags": []
   },
   "source": [
    "<body style=\"font-family: Sans-serif;\">\n",
    "    <div style=\"color: black; font-size: 18px; font-style: oblique; text-shadow: 0 0 3px white, 0 0 1px black; padding: 20px;\">\n",
    "        <ul> <h3>long double</h3>\n",
    "            <li>Extended precision floating-point number. Bohat high precision aur range provide karta hai.</li>\n",
    "            <li>Size: mostly 10, 12, ya 16 bytes but(compiler ke according vary kar sakta hai) </li>\n",
    "            <li>Range Approximately -1.1E+4932 to 1.1E+4932</li>\n",
    "            <li>Precision: Up to 19 decimal places (implementation dependent)</li>\n",
    "            <li>Format Specifier: %Lf</li>\n",
    "            <li>Suffix: L</li>\n",
    "</ul></div></body>\n",
    "\n"
   ]
  },
  {
   "cell_type": "code",
   "execution_count": 32,
   "id": "864ff527-51d2-4b51-8cfc-c7207e52c551",
   "metadata": {
    "tags": []
   },
   "outputs": [
    {
     "name": "stdout",
     "output_type": "stream",
     "text": [
      "Minimum value of long double: 3.362103e-4932\n",
      "Maximum value of long double: 1.189731e+4932\n",
      "Precision value of long double: 18\n",
      "Size of Double 16"
     ]
    }
   ],
   "source": [
    "#include <stdio.h>\n",
    "#include <float.h>\n",
    "\n",
    "int main() {\n",
    "    printf(\"Minimum value of long double: %Le\\n\", LDBL_MIN); \n",
    "    printf(\"Maximum value of long double: %Le\\n\", LDBL_MAX);  \n",
    "    printf(\"Precision value of long double: %d\\n\", LDBL_DIG); \n",
    "    printf(\"Size of Double %zu\",sizeof(long double));\n",
    "\n",
    "    return 0;\n",
    "}"
   ]
  },
  {
   "cell_type": "code",
   "execution_count": 35,
   "id": "865b580f-4bd4-49ae-a877-967884fb34a5",
   "metadata": {
    "tags": []
   },
   "outputs": [
    {
     "name": "stdout",
     "output_type": "stream",
     "text": [
      "3.141593"
     ]
    }
   ],
   "source": [
    "#include <stdio.h>\n",
    "\n",
    "int main() {\n",
    "    long double num = 3.141592653589793238462643383279L;\n",
    "    printf(\"%Lf\", num); // Output: 3.141593\n",
    "\n",
    "    return 0;\n",
    "}"
   ]
  },
  {
   "cell_type": "markdown",
   "id": "aab3437e-de36-410f-baee-b2b40162dd60",
   "metadata": {},
   "source": [
    "<body>\n",
    "    <div style=\"color: black; font-size: 18px; font-style: oblique; text-shadow: 0 0 3px white, 0 0 1px black; padding: 10px;\">\n",
    "        <h3 style=\"text-align: center;\">Floating Point Data Types in C</h3>\n",
    "    </div>\n",
    "    <table style=\"width: 100%; border-collapse: collapse; margin: 20px 0; color: black; font-size: 16px; text-shadow: 0 0 3px white, 0 0 1px black;\">\n",
    "        <thead>\n",
    "            <tr style=\"background-color: #f2f2f2;\">\n",
    "                <th style=\"border: 1px solid black; padding: 8px; text-align: center;\">Data Type</th>\n",
    "                <th style=\"border: 1px solid black; padding: 8px; text-align: center;\">Range</th>\n",
    "                <th style=\"border: 1px solid black; padding: 8px; text-align: center;\">Minimum Value</th>\n",
    "                <th style=\"border: 1px solid black; padding: 8px; text-align: center;\">Maximum Value</th>\n",
    "                <th style=\"border: 1px solid black; padding: 8px; text-align: center;\">Size (bytes)</th>\n",
    "                <th style=\"border: 1px solid black; padding: 8px; text-align: center;\">Format Specifier</th>\n",
    "                <th style=\"border: 1px solid black; padding: 8px; text-align: center;\">Suffix</th>\n",
    "                <th style=\"border: 1px solid black; padding: 8px; text-align: center;\">Precision (decimal digits)</th>\n",
    "            </tr>\n",
    "        </thead>\n",
    "        <tbody>\n",
    "            <tr>\n",
    "                <td style=\"border: 1px solid black; padding: 8px; text-align: center;\">float</td>\n",
    "                <td style=\"border: 1px solid black; padding: 8px; text-align: center;\">±1.2E-38 to ±3.4E+38</td>\n",
    "                <td style=\"border: 1px solid black; padding: 8px; text-align: center;\">1.2E-38</td>\n",
    "                <td style=\"border: 1px solid black; padding: 8px; text-align: center;\">3.4E+38</td>\n",
    "                <td style=\"border: 1px solid black; padding: 8px; text-align: center;\">4</td>\n",
    "                <td style=\"border: 1px solid black; padding: 8px; text-align: center;\">%f</td>\n",
    "                <td style=\"border: 1px solid black; padding: 8px; text-align: center;\">F or f</td>\n",
    "                <td style=\"border: 1px solid black; padding: 8px; text-align: center;\">6-7</td>\n",
    "            </tr>\n",
    "            <tr>\n",
    "                <td style=\"border: 1px solid black; padding: 8px; text-align: center;\">double</td>\n",
    "                <td style=\"border: 1px solid black; padding: 8px; text-align: center;\">±2.3E-308 to ±1.7E+308</td>\n",
    "                <td style=\"border: 1px solid black; padding: 8px; text-align: center;\">2.3E-308</td>\n",
    "                <td style=\"border: 1px solid black; padding: 8px; text-align: center;\">1.7E+308</td>\n",
    "                <td style=\"border: 1px solid black; padding: 8px; text-align: center;\">8</td>\n",
    "                <td style=\"border: 1px solid black; padding: 8px; text-align: center;\">%lf</td>\n",
    "                <td style=\"border: 1px solid black; padding: 8px; text-align: center;\">N/A</td>\n",
    "                <td style=\"border: 1px solid black; padding: 8px; text-align: center;\">15-16</td>\n",
    "            </tr>\n",
    "            <tr>\n",
    "                <td style=\"border: 1px solid black; padding: 8px; text-align: center;\">long double</td>\n",
    "                <td style=\"border: 1px solid black; padding: 8px; text-align: center;\">±3.4E-4932 to ±1.1E+4932</td>\n",
    "                <td style=\"border: 1px solid black; padding: 8px; text-align: center;\">3.4E-4932</td>\n",
    "                <td style=\"border: 1px solid black; padding: 8px; text-align: center;\">1.1E+4932</td>\n",
    "                <td style=\"border: 1px solid black; padding: 8px; text-align: center;\">8, 12, or 16</td>\n",
    "                <td style=\"border: 1px solid black; padding: 8px; text-align: center;\">%Lf</td>\n",
    "                <td style=\"border: 1px solid black; padding: 8px; text-align: center;\">L</td>\n",
    "                <td style=\"border: 1px solid black; padding: 8px; text-align: center;\">18-21</td>\n",
    "            </tr>\n",
    "        </tbody>\n",
    "    </table>\n",
    "</body>"
   ]
  },
  {
   "cell_type": "markdown",
   "id": "2b7cd78b-9b24-4588-a5cb-95580fa0bf51",
   "metadata": {},
   "source": [
    "<h1 style=\"text-align:center; color:#005bbd; font-size:30px; font-family:Sans-serif; font-style: oblique; text-shadow: 0 0 3px white, 0 0 1px Black;\">\n",
    "   Characters\n",
    "</h1>"
   ]
  },
  {
   "cell_type": "markdown",
   "id": "bc6bb7c1-22ca-4aab-9d47-7537b1294aee",
   "metadata": {},
   "source": [
    "<body style=\"font-family: Sans-serif;\">\n",
    "    <div style=\"color: black; font-size: 18px; font-style: oblique; text-shadow: 0 0 3px white, 0 0 1px black; padding: 20px;\">\n",
    "        <ul>\n",
    "            <li>Characters ke data types ke baare mein C language mein 2 main types hote hain: signed char aur unsigned char</li><br>\n",
    "            <li>Yeh types 1 byte (8 bits) memory mein store hote hain aur inki range aur properties alag hoti hain.</li>\n",
    "</ul></div></body>\n",
    "\n"
   ]
  },
  {
   "cell_type": "markdown",
   "id": "49d3710a-334b-4407-a838-7a3fd9e4b1ec",
   "metadata": {},
   "source": [
    "<body style=\"font-family: Sans-serif;\">\n",
    "    <div style=\"color: black; font-size: 18px; font-style: oblique; text-shadow: 0 0 3px white, 0 0 1px black; padding: 20px;\">\n",
    "        <ul> <h3>char (Compiler-dependent)</h3>\n",
    "            <li>Agar aap sirf char likhte hain bina signed ya unsigned ke, toh yeh depend karta hai ke compiler kaise interpret karega:</li><br>\n",
    "            <li>Kuch compilers mein yeh signed maana jata hai, aur kuch mein unsigned.</li><br>\n",
    "            <li>Default char ke saath confusion avoid karne ke liye, signed char ya unsigned char specify karna recommended hai.</li><br>\n",
    "            <li>Format Specifer : %c</li>\n",
    "</ul></div></body>\n",
    "\n"
   ]
  },
  {
   "cell_type": "code",
   "execution_count": 11,
   "id": "2d292b04-8380-4972-8fde-7bf15462281b",
   "metadata": {
    "tags": []
   },
   "outputs": [
    {
     "name": "stdout",
     "output_type": "stream",
     "text": [
      "C"
     ]
    }
   ],
   "source": [
    "#include <stdio.h>\n",
    "\n",
    "int main() {\n",
    "    char ch = 'C';\n",
    "    printf(\"%c\", ch);\n",
    "    return 0;\n",
    "}\n"
   ]
  },
  {
   "cell_type": "markdown",
   "id": "68d80daa-44a3-433e-8ec4-e8e1b9f40862",
   "metadata": {},
   "source": [
    "<body style=\"font-family: Sans-serif;\">\n",
    "    <div style=\"color: black; font-size: 18px; font-style: oblique; text-shadow: 0 0 3px white, 0 0 1px black; padding: 20px;\">\n",
    "        <ul> <h3>signed char (+/-)</h3><br>\n",
    "            <li>signed char ka range negative aur positive values dono ko cover karta hai, aur iska maximum aur minimum range 1 byte ke hisaab se set kiya gaya hai.</li><br>\n",
    "            <li>Range: -128 to 127</li><br>\n",
    "            <li>Size: 1 byte</li><br>\n",
    "            <li>Format Specifier: %c (character ke liye) ya %d (numeric value dikhane ke liye)</li><br>\n",
    "</ul></div></body>\n",
    "\n"
   ]
  },
  {
   "cell_type": "code",
   "execution_count": 15,
   "id": "b6cdf494-1982-43b4-a587-4b80a8c652e9",
   "metadata": {
    "tags": []
   },
   "outputs": [
    {
     "name": "stdout",
     "output_type": "stream",
     "text": [
      "Signed char minimum : -128\n",
      "Signed char maximum :  127\n",
      "Size of Signed      :  1\n"
     ]
    }
   ],
   "source": [
    "#include <stdio.h>\n",
    "#include <limits.h>\n",
    "\n",
    "int main() {\n",
    "    \n",
    "    printf(\"Signed char minimum : %d\\n\", SCHAR_MIN);\n",
    "    printf(\"Signed char maximum :  %d\\n\", SCHAR_MAX);\n",
    "    printf(\"Size of Signed      :  %zu\\n\", sizeof(signed char));\n",
    "    \n",
    "    return 0;\n",
    "}"
   ]
  },
  {
   "cell_type": "code",
   "execution_count": 18,
   "id": "30508246-2fdb-45e5-8fb1-64e9bb778efc",
   "metadata": {
    "tags": []
   },
   "outputs": [
    {
     "name": "stdout",
     "output_type": "stream",
     "text": [
      "character A in decimal value is 65"
     ]
    }
   ],
   "source": [
    "#include <stdio.h>\n",
    "\n",
    "int main() {\n",
    "    signed char x = 'A';\n",
    "    printf(\"character %c in decimal value is %d\", x,x);\n",
    "   \n",
    "    return 0;\n",
    "}"
   ]
  },
  {
   "cell_type": "markdown",
   "id": "d8cd2831-9c10-42a1-a2fe-47b85a5ab9b8",
   "metadata": {},
   "source": [
    "<body style=\"font-family: Sans-serif;\">\n",
    "    <div style=\"color: black; font-size: 18px; font-style: oblique; text-shadow: 0 0 3px white, 0 0 1px black; padding: 20px;\">\n",
    "        <ul> <h3>unsigned char (+ postive value only)</h3><br>\n",
    "            <li>signed char ka range negative aur positive values dono ko cover karta hai, aur iska maximum aur minimum range 1 byte ke hisaab se set kiya gaya hai.</li><br>\n",
    "            <li>Range: 0 to 255</li><br>\n",
    "            <li>Size: 1 byte</li><br>\n",
    "            <li>Format Specifier: %c (character ke liye) ya %d (numeric value dikhane ke liye)</li><br>\n",
    "</ul></div></body>\n",
    "\n"
   ]
  },
  {
   "cell_type": "code",
   "execution_count": 27,
   "id": "22f91e82-e669-4b96-be13-6aa0e27256b3",
   "metadata": {
    "tags": []
   },
   "outputs": [
    {
     "name": "stdout",
     "output_type": "stream",
     "text": [
      "Default char minimum : 0\n",
      "Default char maximum : 127\n",
      "Size of Signed      :  1\n"
     ]
    }
   ],
   "source": [
    "#include <stdio.h>\n",
    "#include <limits.h>\n",
    "\n",
    "int main() {\n",
    "    \n",
    "    printf(\"Default char minimum : %d\\n\", 0);\n",
    "    printf(\"Default char maximum : %d\\n\", CHAR_MAX);\n",
    "    printf(\"Size of Signed      :  %zu\\n\", sizeof(unsigned char));\n",
    "    \n",
    "    return 0;\n",
    "}"
   ]
  },
  {
   "cell_type": "code",
   "execution_count": 1,
   "id": "728d2e82-de54-4b31-9581-1f95e8c87b41",
   "metadata": {
    "tags": []
   },
   "outputs": [
    {
     "name": "stdout",
     "output_type": "stream",
     "text": [
      "character a in decimal value is 97"
     ]
    }
   ],
   "source": [
    "#include <stdio.h>\n",
    "\n",
    "int main() {\n",
    "    signed char x = 'a';\n",
    "    printf(\"character %c in decimal value is %d\", x,x);\n",
    "   \n",
    "    return 0;\n",
    "}"
   ]
  },
  {
   "cell_type": "markdown",
   "id": "84da6389-8971-48aa-b861-cf04804c1df1",
   "metadata": {},
   "source": [
    "<table style=\"width: 80%; border-collapse: collapse; margin: 20px auto; font-family: Arial, sans-serif; font-size: 16px;\">\n",
    "    <thead>\n",
    "        <tr>\n",
    "            <th style=\"border: 1px solid #333; padding: 10px; text-align: center;\">Data Type</th>\n",
    "            <th style=\"border: 1px solid #333; padding: 10px; text-align: center;\">Range</th>\n",
    "            <th style=\"border: 1px solid #333; padding: 10px; text-align: center;\">Size (bytes)</th>\n",
    "            <th style=\"border: 1px solid #333; padding: 10px; text-align: center;\">Format Specifier</th>\n",
    "            <th style=\"border: 1px solid #333; padding: 10px; text-align: center;\">Suffix</th>\n",
    "        </tr>\n",
    "    </thead>\n",
    "    <tbody>\n",
    "        <tr>\n",
    "            <td style=\"border: 1px solid #333; padding: 10px; text-align: center;\">char</td>\n",
    "            <td style=\"border: 1px solid #333; padding: 10px; text-align: center;\">-128 to 127</td>\n",
    "            <td style=\"border: 1px solid #333; padding: 10px; text-align: center;\">1</td>\n",
    "            <td style=\"border: 1px solid #333; padding: 10px; text-align: center;\">%c</td>\n",
    "            <td style=\"border: 1px solid #333; padding: 10px; text-align: center;\">None</td>\n",
    "        </tr>\n",
    "        <tr style=\"background-color: #f2f2f2;\">\n",
    "            <td style=\"border: 1px solid #333; padding: 10px; text-align: center;\">signed char</td>\n",
    "            <td style=\"border: 1px solid #333; padding: 10px; text-align: center;\">-128 to 127</td>\n",
    "            <td style=\"border: 1px solid #333; padding: 10px; text-align: center;\">1</td>\n",
    "            <td style=\"border: 1px solid #333; padding: 10px; text-align: center;\">%c</td>\n",
    "            <td style=\"border: 1px solid #333; padding: 10px; text-align: center;\">None</td>\n",
    "        </tr>\n",
    "        <tr>\n",
    "            <td style=\"border: 1px solid #333; padding: 10px; text-align: center;\">unsigned char</td>\n",
    "            <td style=\"border: 1px solid #333; padding: 10px; text-align: center;\">0 to 255</td>\n",
    "            <td style=\"border: 1px solid #333; padding: 10px; text-align: center;\">1</td>\n",
    "            <td style=\"border: 1px solid #333; padding: 10px; text-align: center;\">%c</td>\n",
    "            <td style=\"border: 1px solid #333; padding: 10px; text-align: center;\">None</td>\n",
    "        </tr>\n",
    "    </tbody>\n",
    "</table>"
   ]
  },
  {
   "cell_type": "markdown",
   "id": "4af3331c-8fc1-4eb7-8232-99f7c5e7ee30",
   "metadata": {
    "tags": []
   },
   "source": [
    "<h1 style=\"text-align:center; color:#005bbd; font-size:30px; font-family:Sans-serif; font-style: oblique; text-shadow: 0 0 3px white, 0 0 1px Black;\">\n",
    "   Bool\n",
    "</h1>"
   ]
  },
  {
   "cell_type": "markdown",
   "id": "1f6d0d8e-a5b7-44eb-ac68-cb319976ed6f",
   "metadata": {},
   "source": [
    "<body style=\"font-family: Sans-serif;\">\n",
    "    <div style=\"color: black; font-size: 18px; font-style: oblique; text-shadow: 0 0 3px white, 0 0 1px black; padding: 20px;\">\n",
    "        <ul> \n",
    "            <li>C language mein bool ka data type thoda alag tareeke se handle hota hai, kyunki C originally boolean data type natively support nahi karta tha.</li><br>\n",
    "            <li>Boolean values ko implement karne ke liye C99 standard mein <stdbool.h> header introduce kiya gaya, jismein bool ko define kiya gaya hai.</li><br>\n",
    "            <li>< stdbool.h > include karne par hum bool ka data type use kar sakte hain jo true aur false values ko handle karta hai. Under the hood, bool ko int ke equivalent maana jata hai, jismein true ki value 1 aur false ki value 0 hoti hai.</li><br>\n",
    "            <li>C mein bool ke liye specific format specifier nahi hota kyunki bool actually int ke tarah hi treat hota hai. Isliye, hum %d format specifier ka use karte hain boolean values ko print karne ke liye:\n",
    "                <ul><li>true ka output 1 hoga</li>\n",
    "                    <li>false ka output 0 hoga.</li>\n",
    "                </ul><br>\n",
    "            </li>\n",
    "            <li>C mein bool data type technically int hai, isliye uski size aur range bhi int jaisi hoti hai:\n",
    "                <ul>\n",
    "                    <li>Size: sizeof(bool) ke result mein typically 1 byte (8 bits) return hota hai.</li>\n",
    "                    <li>Range: 0 (false) aur 1 (true) ko represent karta hai.</li>\n",
    "                </ul>\n",
    "            </li>\n",
    "</ul></div></body>\n",
    "\n"
   ]
  },
  {
   "cell_type": "code",
   "execution_count": 6,
   "id": "fa34cc63-672d-450c-a006-6b2cd0aafb65",
   "metadata": {
    "tags": []
   },
   "outputs": [
    {
     "name": "stdout",
     "output_type": "stream",
     "text": [
      "x true  1\n",
      "y false 0\n",
      "Size of bool: 1 byte\n"
     ]
    }
   ],
   "source": [
    "#include <stdio.h>\n",
    "# include <stdbool.h>\n",
    "int main(){\n",
    "\n",
    "    bool x = true;\n",
    "    bool y = false;\n",
    "    \n",
    "    printf(\"x true  %d\\n\",x);\n",
    "    printf(\"y false %d\\n\",y);\n",
    "    \n",
    "    printf(\"Size of bool: %zu byte\\n\", sizeof(bool));\n",
    "    \n",
    "    return 0;\n",
    "\n",
    "}"
   ]
  },
  {
   "cell_type": "markdown",
   "id": "7a5a17d3-a25c-46a0-b710-c32b936063c2",
   "metadata": {},
   "source": [
    "<body style=\"font-family: Sans-serif;\">\n",
    "    <div style=\"color: black; font-size: 18px; font-style: oblique; text-shadow: 0 0 3px white, 0 0 1px black; padding: 20px;\">\n",
    "        <ul> bool ka common use conditional statements mein hota hai jahan hum true aur false ko conditions ko check karne ke liye use karte hain:\n",
    "</ul></div></body>\n",
    "\n"
   ]
  },
  {
   "cell_type": "code",
   "execution_count": 7,
   "id": "27847cfb-30f8-4b4f-8970-1642beabb6a6",
   "metadata": {
    "tags": []
   },
   "outputs": [
    {
     "name": "stdout",
     "output_type": "stream",
     "text": [
      "Take an umbrella!\n"
     ]
    }
   ],
   "source": [
    "#include <stdio.h>\n",
    "#include <stdbool.h>\n",
    "\n",
    "int main() {\n",
    "    bool isRaining = true;\n",
    "\n",
    "    if (isRaining) {\n",
    "        printf(\"Take an umbrella!\\n\");\n",
    "    } \n",
    "    \n",
    "    else {\n",
    "        printf(\"No need for an umbrella.\\n\");\n",
    "    }\n",
    "\n",
    "    return 0;\n",
    "}"
   ]
  },
  {
   "cell_type": "markdown",
   "id": "b8cef053-4ca8-49d4-b17a-c0e968606f73",
   "metadata": {},
   "source": [
    "<body style=\"font-family: Sans-serif;\">\n",
    "    <div style=\"color: black; font-size: 18px; font-style: oblique; text-shadow: 0 0 3px white, 0 0 1px black; padding: 20px;\">\n",
    "        <ul> Boolean functions mein bool ko use karke true/false return kar sakte hain:\n",
    "</ul></div></body>\n",
    "\n"
   ]
  },
  {
   "cell_type": "code",
   "execution_count": 10,
   "id": "6b5ca438-4c58-4fcf-8028-438ff15be2fc",
   "metadata": {
    "tags": []
   },
   "outputs": [
    {
     "name": "stdout",
     "output_type": "stream",
     "text": [
      "4 is even."
     ]
    }
   ],
   "source": [
    "#include <stdio.h>\n",
    "#include <stdbool.h>\n",
    "\n",
    "bool isEven(int num) {\n",
    "    return num % 2 == 0;\n",
    "}\n",
    "\n",
    "int main() {\n",
    "    int num = 4;\n",
    "\n",
    "    if (isEven(num)) {\n",
    "        printf(\"%d is even.\\n\", num);\n",
    "    } else {\n",
    "        printf(\"%d is odd.\\n\", num);\n",
    "    }\n",
    "\n",
    "    return 0;\n",
    "}"
   ]
  }
 ],
 "metadata": {
  "kernelspec": {
   "display_name": "C++17",
   "language": "C++17",
   "name": "xcpp17"
  },
  "language_info": {
   "codemirror_mode": "text/x-c++src",
   "file_extension": ".cpp",
   "mimetype": "text/x-c++src",
   "name": "c++",
   "version": "17"
  }
 },
 "nbformat": 4,
 "nbformat_minor": 5
}
