{
 "cells": [
  {
   "cell_type": "markdown",
   "id": "b7058612-9d82-42b9-9cea-b1d306dd807e",
   "metadata": {},
   "source": [
    "<h1 style=\"text-align:center; color:#005bbd; font-size:30px; font-family:Sans-serif; font-style: oblique; text-shadow: 0 0 3px white, 0 0 1px Black;\">\n",
    "Story of Compiler , Interpreter and Assembler</h1>"
   ]
  },
  {
   "cell_type": "markdown",
   "id": "61afbb47-0e9a-4a09-b8d0-808b7ee4126a",
   "metadata": {},
   "source": [
    "<body style=\"font-family: Sans-serif;\">\n",
    "    <div style=\"color: black; font-size: 18px; font-style: oblique; text-shadow: 0 0 3px white, 0 0 1px black; padding: 20px;\">\n",
    "        <h3>1940s: The Dawn of Computing</h3>\n",
    "        <ul>\n",
    "            <li>Jab computers ka agaz hua, to unka size bohat bara hota tha aur unhein operate karna mushkil tha. Yeh machines mostly vacuum tubes aur punch cards par chalti thi.</li><br>\n",
    "            <li>Us waqt koi high-level programming language ka concept nahi tha. Sab kuch directly machine code ya binary (0s aur 1s) mein likha jata tha.</li><br>\n",
    "            <li>Yeh kaafi tedious aur error-prone process tha, kyunki machine code samajhna aur likhna human ke liye mushkil hota hai.</li>\n",
    "        </ul>\n",
    "        <hr>"
   ]
  },
  {
   "cell_type": "markdown",
   "id": "f7a8d056-469c-4eb7-8735-96421122e5b3",
   "metadata": {},
   "source": [
    "<body style=\"font-family: Sans-serif;\">\n",
    "    <div style=\"color: black; font-size: 18px; font-style: oblique; text-shadow: 0 0 3px white, 0 0 1px black; padding: 20px;\">\n",
    "        <h3>1950s: Assembly Language</h3>\n",
    "        <ul>\n",
    "            <li>Assembly language ko introduce kiya gaya, jo machine language se thodi zyada human-friendly thi. Assembly mein mnemonics use hote thay (jaise ADD, MOV, etc.) jo binary operations ko represent karte thay.</li><br>\n",
    "            <li>Lekin phir bhi assembly language kaafi low-level ky close thi aur machine-specific thi. Har computer ki apni assembly language hoti thi.</li><br>\n",
    "        </ul>\n",
    "        <hr>"
   ]
  },
  {
   "cell_type": "markdown",
   "id": "7b003174-f313-475e-b8ef-efc80f9dcd89",
   "metadata": {},
   "source": [
    "<body style=\"font-family: Sans-serif;\">\n",
    "    <div style=\"color: black; font-size: 18px; font-style: oblique; text-shadow: 0 0 3px white, 0 0 1px black; padding: 20px;\">\n",
    "        <h3>What is Assembler</h3>\n",
    "        <ul>\n",
    "            <li>Assembly language ko machine code mein translate karne ke liye ek tool ki zarurat thi, jise hum assembler kehte hain.</li><br>\n",
    "            <li>Assembler ne assembly code ko 1s aur 0s mein convert karke directly machine par execute karwaya.</li><br>\n",
    "        </ul>\n",
    "        <hr>"
   ]
  },
  {
   "cell_type": "markdown",
   "id": "1660b896-5033-4d09-95f3-25a7cae05d08",
   "metadata": {},
   "source": [
    "<body style=\"font-family: Sans-serif;\">\n",
    "    <div style=\"color: black; font-size: 18px; font-style: oblique; text-shadow: 0 0 3px white, 0 0 1px black; padding: 20px;\">\n",
    "        <h3>1950s: The Birth of High-Level Languages</h3>\n",
    "        <ul>\n",
    "            <li>Scientists ne socha kyu na aisi programming languages banai jayein jo humans ke liye aur bhi zyada readable ho aur machine-specific na ho. Isi soch ne janam diya high-level programming languages ko.</li><br>\n",
    "            <li>1957 mein, FORTRAN (Formula Translation) duniya ki pehli high-level programming language ke tor par saamne aayi. Is language ne scientists aur engineers ke liye code likhna asaan bana diya.</li><br>\n",
    "            <li>COBOL (Common Business-Oriented Language) ko bhi 1959 mein develop kiya gaya business applications ke liye.</li><br>\n",
    "        </ul>\n",
    "        <hr>"
   ]
  },
  {
   "cell_type": "markdown",
   "id": "2fc07f7c-b6a0-4dba-9296-dcbf26ce9a02",
   "metadata": {},
   "source": [
    "<body style=\"font-family: Sans-serif;\">\n",
    "    <div style=\"color: black; font-size: 18px; font-style: oblique; text-shadow: 0 0 3px white, 0 0 1px black; padding: 20px;\">\n",
    "        <h3>The Need for a Compiler</h3>\n",
    "        <ul>\n",
    "            <li>Ab kyunki high-level languages aur machine language ke darmiyan ek bohat bara gap tha, toh scientists ko ek aise tool ki zarurat thi jo high-level instructions ko machine instructions mein convert kare.</li><br>\n",
    "            <li>Compiler ka concept yahin se aya. Compiler ek aisa program tha jo poore high-level code ko ek baar mein process karta aur usse machine code ya object code mein translate karta tha.</li><br>\n",
    "            <li>Compiler code ko pehle se check kar leta tha (compile-time par), aur errors ko detect karna asaan ho gaya.</li><br>\n",
    "        </ul>\n",
    "        <hr>"
   ]
  },
  {
   "cell_type": "markdown",
   "id": "071eebf3-be42-44e7-b4f3-ce8a4d60e87b",
   "metadata": {},
   "source": [
    "<body style=\"font-family: Sans-serif;\">\n",
    "    <div style=\"color: black; font-size: 18px; font-style: oblique; text-shadow: 0 0 3px white, 0 0 1px black; padding: 20px;\">\n",
    "        <h3>1960s: The Rise of Interpreters</h3>\n",
    "        <ul>\n",
    "            <li>Interpreter ka concept bhi isi dauran introduce hua, lekin iska kaam compiler se thoda different tha.</li><br>\n",
    "            <li>Interpreter line-by-line code execute karta hai, bina poora code ek hi baar mein machine code mein translate kiye. Iska matlab hai ke jaise-jaise aapka program chal raha hota hai, waise-waise interpreter har line ko padh kar execute karta hai.</li><br>\n",
    "            <li>LISP aur BASIC interpreter-based languages thi jo early 1960s mein introduce ki gayi.</li><br>\n",
    "        </ul>\n",
    "        <hr>"
   ]
  },
  {
   "cell_type": "markdown",
   "id": "cdf0735f-53d1-426e-acec-7f2c478681d3",
   "metadata": {},
   "source": [
    "<body style=\"font-family: Sans-serif;\">\n",
    "    <div style=\"color: black; font-size: 18px; font-style: oblique; text-shadow: 0 0 3px white, 0 0 1px black; padding: 20px;\">\n",
    "        <h3>Compiler vs Interpreter vs Assembler</h3>\n",
    "        <ul>\n",
    "            <li>Compiler: Poora code ek hi dafa mein machine code mein convert karta hai. Compile karne mein zyada waqt lagta hai lekin execution fast hoti hai.</li><br>\n",
    "            <li>Interpreter: Code ko line-by-line execute karta hai, isliye execution slow hoti hai lekin debugging asaan hoti hai, kyunki aap errors ko run-time par dekh sakte ho.</li><br>\n",
    "             <li>Assembler: Assembly language ko machine code mein convert karta hai. Assembly code jo human-readable aur machine-specific hota hai, assembler use karke directly binary (machine code) mein translate kiya jata hai.</li><br>\n",
    "        </ul>\n",
    "        <hr>"
   ]
  },
  {
   "cell_type": "markdown",
   "id": "4b420f3e-846e-4961-a02e-c91069f2b00e",
   "metadata": {},
   "source": [
    "<body style=\"font-family: Sans-serif;\">\n",
    "    <div style=\"color: black; font-size: 18px; font-style: oblique; text-shadow: 0 0 3px white, 0 0 1px black; padding: 20px;\">\n",
    "        <h3>1970s: The C Language Revolution</h3>\n",
    "        <ul>\n",
    "            <li>1970s mein, Dennis Ritchie ne C programming language develop ki. C ne ek behtareen balance diya low-level aur high-level language features ke darmiyan. Yeh bohat jaldi popular ho gayi kyunki yeh ek powerful language thi aur system-level programming ke liye kaafi useful thi.</li><br>\n",
    "            <li>C language ke liye bhi compiler ka zarurat thi, aur isi dauran GCC (GNU Compiler Collection) jaise compilers develop hue jo C aur baad mein dusri languages ko bhi support karte gaye.</li><br>\n",
    "        </ul>\n",
    "        <hr>"
   ]
  },
  {
   "cell_type": "markdown",
   "id": "71d55efe-c574-4a64-b32b-9d148c6ee654",
   "metadata": {},
   "source": [
    "<body style=\"font-family: Sans-serif;\">\n",
    "    <div style=\"color: black; font-size: 18px; font-style: oblique; text-shadow: 0 0 3px white, 0 0 1px black; padding: 20px;\">\n",
    "        <h3>1980s and 1990s: Object-Oriented Programming and Java</h3>\n",
    "        <ul>\n",
    "            <li>1980s mein object-oriented programming ka concept popular hone laga. Is waqt C++ jaise languages samne aayi jo object-oriented aur procedural programming ka combination thi.</li><br>\n",
    "            <li>1990s mein, Java ne scene ko change kar diya. Java ne “write once, run anywhere” ka concept introduce kiya. Java ka compiler code ko bytecode mein convert karta tha jo platform-independent hota tha, aur phir Java Virtual Machine (JVM) us bytecode ko interpret karta tha run-time par.</li><br>\n",
    "        </ul>\n",
    "        <hr>"
   ]
  },
  {
   "cell_type": "markdown",
   "id": "e2ad3e53-f67e-448f-8629-de3cc30d1f59",
   "metadata": {},
   "source": [
    "<body style=\"font-family: Sans-serif;\">\n",
    "    <div style=\"color: black; font-size: 18px; font-style: oblique; text-shadow: 0 0 3px white, 0 0 1px black; padding: 20px;\">\n",
    "        <h3>Modern Day: Just-in-Time Compilation (JIT)</h3>\n",
    "        <ul>\n",
    "            <li>Ab hum Just-in-Time (JIT) compilers ka zamana dekh rahe hain, jo compilation aur interpretation ka combination hota hai.</li><br>\n",
    "            <li>JIT compiler run-time par frequently used code ko compile karta hai taake execution fast ho jaye.</li><br>\n",
    "         <li>Languages like Java aur Python mein JIT compilers kaafi common ho gaye hain.</li><br>\n",
    "        </ul>\n",
    "        <hr>"
   ]
  },
  {
   "cell_type": "markdown",
   "id": "f570f6bf-e89d-402f-a3f5-27dae901eeed",
   "metadata": {},
   "source": [
    "<body style=\"font-family: Sans-serif;\">\n",
    "    <div style=\"color: black; font-size: 18px; font-style: oblique; text-shadow: 0 0 3px white, 0 0 1px black; padding: 20px;\">\n",
    "        <h3>Compilers Today: GCC and LLVM</h3>\n",
    "        <ul>\n",
    "            <li>GCC (GNU Compiler Collection) jo pehle sirf C language ke liye tha, ab multiple languages ko support karta hai jaise C++, Objective-C, Fortran, Ada, etc.</li><br>\n",
    "            <li>LLVM (Low-Level Virtual Machine) ek modern compiler infrastructure hai jo kaafi flexible aur extensible hai. Iska target hai multi-language support aur optimization across different platforms.</li><br>\n",
    "        </ul>\n",
    "        <hr>"
   ]
  },
  {
   "cell_type": "markdown",
   "id": "0d7d1170-df55-4110-be9c-c6195da87b1e",
   "metadata": {},
   "source": [
    "<h1 style=\"text-align:center; color:#005bbd; font-size:30px; font-family:Sans-serif; font-style: oblique; text-shadow: 0 0 3px white, 0 0 1px Black;\">\n",
    "Low Level Vs High Level Language</h1>"
   ]
  },
  {
   "cell_type": "markdown",
   "id": "b8fe1649-438a-40f4-8574-73646b709316",
   "metadata": {},
   "source": [
    "<body style=\"font-family: Sans-serif;\">\n",
    "    <div style=\"color: black; font-size: 18px; font-style: oblique; text-shadow: 0 0 3px white, 0 0 1px black; padding: 20px;\">\n",
    "        <h3>Low-Level Language</h3>\n",
    "        <ul>\n",
    "            <li>Ye languages machine ke qareebi hoti hain, matlab inka code directly hardware ke saath interact karta hai. Inhe samajhna aur likhna mushkil hota hai, lekin ye bahut efficient aur fast hoti hain.</li>\n",
    "        <ul><br><h3>:-</h3>\n",
    "            <li>Machine ke specific hoti hain (hardware dependent).</li>\n",
    "            <li>Directly memory aur processor ke saath kaam karti hain.</li>\n",
    "            <li>Fast execution kyunki yeh machine instructions ke qareeb hoti hain.</li>\n",
    "        </ul>\n",
    "        <ul><br><h3>Examples</h3>\n",
    "            <li>Machine Language (binary code: 0s and 1s).</li>\n",
    "            <li>Assembly Language (human-readable low-level instructions).</li>\n",
    "        </ul><br>\n",
    "        <li>Assembly Language low-level category mein aati hai. Ismein human-readable mnemonics hote hain jo machine code ke liye ek shorthand hota hai, jaise MOV, ADD, etc. Jaise MOV A, B ka matlab hai B ka data A mein move karo. Assembly language ko assembler ke through machine code mein convert kiya jata hai.</li>\n",
    "        </ul>\n",
    "        <hr>"
   ]
  },
  {
   "cell_type": "markdown",
   "id": "25ed93a2-2c85-4b88-96e8-7a27bfaa721f",
   "metadata": {},
   "source": [
    "<body style=\"font-family: Sans-serif;\">\n",
    "    <div style=\"color: black; font-size: 18px; font-style: oblique; text-shadow: 0 0 3px white, 0 0 1px black; padding: 20px;\">\n",
    "        <h3>High-Level Language</h3>\n",
    "        <ul>\n",
    "            <li>Ye languages insaan ke qareebi hoti hain, matlab inhe likhna aur samajhna aasaan hota hai. Yeh more abstract aur user-friendly hoti hain, lekin inhe machine understand karne ke liye compiler ya interpreter ka zarurat hoti hai.</li>\n",
    "        <ul><br><h3>:-</h3>\n",
    "            <li>Hardware se independent hoti hain (portable across different machines).</li>\n",
    "            <li>Easy to read, write, and understand.</li>\n",
    "            <li>Slower execution kyunki yeh high-level instructions ko machine code mein convert karna padta hai.</li>\n",
    "            <li>Syntax similar to human language hoti hai, jisme variables, loops, functions waghera use hoti hain.</li>\n",
    "        </ul>\n",
    "        <ul><br><h3>Examples</h3>\n",
    "            <li>Python</li>\n",
    "            <li>Java</li>\n",
    "            <li>C</li>\n",
    "            <li>JavaScript</li>\n",
    "        </ul>\n",
    "        <hr>"
   ]
  }
 ],
 "metadata": {
  "kernelspec": {
   "display_name": "C++17",
   "language": "C++17",
   "name": "xcpp17"
  },
  "language_info": {
   "codemirror_mode": "text/x-c++src",
   "file_extension": ".cpp",
   "mimetype": "text/x-c++src",
   "name": "c++",
   "version": "17"
  }
 },
 "nbformat": 4,
 "nbformat_minor": 5
}
