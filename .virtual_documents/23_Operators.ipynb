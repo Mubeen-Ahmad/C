// Addition (+)

#include <stdio.h>
int main(){
    
    int x = 10;
    int y = 20;
    
    printf("x + y = %d",x+y);
    return 0;
}


// Subtraction (-)

#include <stdio.h>
int main(){
    
    int x = 30;
    int y = 20;
    
    printf("x - y = %d",x-y);
    return 0;
}


// Multiplication (*)

#include <stdio.h>
int main(){
    
    int x = 2;
    int y = 3;
    
    printf("x * y = %d",x * y);
    return 0;
}


// Division (/)

#include <stdio.h>
int main(){
    
    int x = 6;
    int y = 3;
    
    printf("x / y = %d",x / y);
    return 0;
}


// Modulus (%)

#include <stdio.h>
int main(){
    
    int x = 5;
    int y = 2;
    
    printf("x %% y = %d",x % y); // note % is also a format specfier in used in double "" qoutes
    return 0;
}
// 2 * 2 = 4 remander is 1


#include <stdio.h>
int main(){
    
    int n = 10;
    int s = n * (n+1 ) / 2;
    
    printf("S = get_ipython().run_line_magic("d",s);", "")
    
    
}


#include <stdio.h>
int main(){

    printf("%d",2 + 3 * 4);
}


e.g +, -



