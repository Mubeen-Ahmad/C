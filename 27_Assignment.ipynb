{
 "cells": [
  {
   "cell_type": "markdown",
   "id": "0ccea945-1230-4276-a720-75379a4c2058",
   "metadata": {},
   "source": [
    "<h1 style=\"text-align:center; color:#005bbd; font-size:30px; font-family:Sans-serif; font-style: oblique; text-shadow: 0 0 3px white, 0 0 1px Black;\">\n",
    "  Assignment Operators\n",
    "</h1>"
   ]
  },
  {
   "cell_type": "markdown",
   "id": "6c4f29e6-1776-408e-8ea2-8d67791c7eda",
   "metadata": {},
   "source": [
    "<body style=\"font-family: Sans-serif;\">\n",
    "    <div style=\"color: black; font-size: 18px; font-style: oblique; text-shadow: 0 0 3px white, 0 0 1px black; padding: 20px;\">\n",
    "        <ul><li>= Assignment Operator</li>\n",
    "            <ul><li>= operator assignment ke liye use hota hai. Yeh ek operand ki value ko doosre operand (variable) mein assign karta hai.</li></ul>\n",
    "        </ul>\n",
    "</div>\n",
    "<body>"
   ]
  },
  {
   "cell_type": "code",
   "execution_count": 1,
   "id": "34443c74-b04b-4410-b0ea-06f78bd05fba",
   "metadata": {
    "tags": []
   },
   "outputs": [
    {
     "name": "stdout",
     "output_type": "stream",
     "text": [
      "x = 5\n"
     ]
    }
   ],
   "source": [
    "#include <stdio.h>\n",
    "int main() {\n",
    "    \n",
    "    int x;\n",
    "    x = 5;  // Assign 5 to x\n",
    "    \n",
    "    printf(\"x = %d\\n\", x);  // Output: x = 5\n",
    "    \n",
    "    return 0;\n",
    "}"
   ]
  },
  {
   "cell_type": "markdown",
   "id": "0970de74-83cd-4b62-93a4-cb640320aee2",
   "metadata": {},
   "source": [
    "<body style=\"font-family: Sans-serif;\">\n",
    "    <div style=\"color: black; font-size: 18px; font-style: oblique; text-shadow: 0 0 3px white, 0 0 1px black; padding: 20px;\">\n",
    "        Multiple Assignments\n",
    "</div>\n",
    "<body>"
   ]
  },
  {
   "cell_type": "code",
   "execution_count": 3,
   "id": "12d10134-ddbe-4a11-85e3-98b84cd33a97",
   "metadata": {
    "tags": []
   },
   "outputs": [
    {
     "name": "stdout",
     "output_type": "stream",
     "text": [
      "10 10 10"
     ]
    }
   ],
   "source": [
    "#include <stdio.h>\n",
    "int main() {\n",
    "    \n",
    "    int a, b, c;\n",
    "    a = b = c = 10;  \n",
    "    \n",
    "    printf(\"%d %d %d\", a,b,c);\n",
    "    \n",
    "    return 0;\n",
    "}"
   ]
  },
  {
   "cell_type": "markdown",
   "id": "9a4c78a1-3391-4179-a7c7-8de7b4b5cca9",
   "metadata": {},
   "source": [
    "<body style=\"font-family: Sans-serif;\">\n",
    "    <div style=\"color: black; font-size: 18px; font-style: oblique; text-shadow: 0 0 3px white, 0 0 1px black; padding: 20px;\">\n",
    "        Multiple Different Assignments\n",
    "</div>\n",
    "<body>"
   ]
  },
  {
   "cell_type": "code",
   "execution_count": 6,
   "id": "10542e40-a5b5-48e9-8d90-78430f52d2b1",
   "metadata": {
    "tags": []
   },
   "outputs": [
    {
     "name": "stdout",
     "output_type": "stream",
     "text": [
      "2 3 4"
     ]
    }
   ],
   "source": [
    "#include <stdio.h>\n",
    "int main() {\n",
    "    \n",
    "    int a, b, c;\n",
    "    a = 2, b = 3, c= 4;\n",
    "    \n",
    "    printf(\"%d %d %d\", a,b,c);\n",
    "    \n",
    "    return 0;\n",
    "}"
   ]
  },
  {
   "cell_type": "markdown",
   "id": "c22c029a-37a9-41b7-ab62-c919871e39e5",
   "metadata": {},
   "source": [
    "<body style=\"font-family: Sans-serif;\">\n",
    "    <div style=\"color: black; font-size: 18px; font-style: oblique; text-shadow: 0 0 3px white, 0 0 1px black; padding: 20px;\">\n",
    "        Expressions in Assignment<br>\n",
    "        Assignment operator ek expression ka result return karta hai, jo chaining ya complex expressions ke liye useful hota hai.\n",
    "</div>\n",
    "<body>"
   ]
  },
  {
   "cell_type": "code",
   "execution_count": 7,
   "id": "5f11edbd-5fff-48c1-8e81-9018ff32efd8",
   "metadata": {
    "tags": []
   },
   "outputs": [
    {
     "name": "stdout",
     "output_type": "stream",
     "text": [
      "a = 8, b = 5\n"
     ]
    }
   ],
   "source": [
    "#include <stdio.h>\n",
    "\n",
    "int main(){\n",
    "\n",
    "    int a, b;\n",
    "    a = (b = 5) + 3;  // Pehle b = 5 hota hai, phir a = 5 + 3\n",
    "\n",
    "    printf(\"a = %d, b = %d\\n\", a, b);  // Output: a = 8, b = 5\n",
    "    return 0;\n",
    "}"
   ]
  },
  {
   "cell_type": "markdown",
   "id": "90c11885-4a1f-4edd-ab24-343535f71c1a",
   "metadata": {},
   "source": [
    "<body style=\"font-family: Sans-serif;\">\n",
    "    <div style=\"color: black; font-size: 18px; font-style: oblique; text-shadow: 0 0 3px white, 0 0 1px black; padding: 20px;\">\n",
    "        <ul><li>/= Division Assignment Operator</li>\n",
    "            <ul><li>/= ek compound assignment operator hai jo division operation aur assignment ko ek sath perform karta hai.<br><br>Yeh left-hand operand ko right-hand operand se divide karta hai aur result ko left-hand operand me assign kar deta hai.</li></ul>\n",
    "        </ul>\n",
    "</div>\n",
    "<body>"
   ]
  },
  {
   "cell_type": "code",
   "execution_count": 11,
   "id": "28122e57-d3b1-494d-8fc8-718f02038d92",
   "metadata": {
    "tags": []
   },
   "outputs": [
    {
     "name": "stdout",
     "output_type": "stream",
     "text": [
      "x = 5\n",
      "y = 5\n"
     ]
    }
   ],
   "source": [
    "#include <stdio.h>\n",
    "\n",
    "int main() {\n",
    "    \n",
    "    int x = 20;\n",
    "    int y = 20;\n",
    "    \n",
    "    x /= 4;     // use Assignment and Divide Same time\n",
    "    y = y / 4;  // use First Divide  than Assignment\n",
    "    \n",
    "    printf(\"x = %d\\n\", x);  // Output: x = 5\n",
    "    printf(\"y = %d\\n\", y);  // Output: y = 5\n",
    "    \n",
    "    return 0;\n",
    "}"
   ]
  },
  {
   "cell_type": "markdown",
   "id": "fe3b9ba7-437c-45b1-86db-f2abc388589a",
   "metadata": {},
   "source": [
    "<body style=\"font-family: Sans-serif;\">\n",
    "    <div style=\"color: black; font-size: 18px; font-style: oblique; text-shadow: 0 0 3px white, 0 0 1px black; padding: 20px;\">\n",
    "        <ul><li> *=  Multiplication Assignment Operator</li>\n",
    "            <ul><li>*= ek compound assignment operator hai jo multiplication aur assignment ko ek sath perform karta hai.<br><br>Yeh left-hand operand ki value ko right-hand operand ki value se multiply karta hai aur result ko left-hand operand me assign kar deta hai.</li></ul>\n",
    "        </ul>\n",
    "</div>\n",
    "<body>"
   ]
  },
  {
   "cell_type": "code",
   "execution_count": 1,
   "id": "81cb5091-feec-4904-a2ff-c1f6c631e7b5",
   "metadata": {
    "tags": []
   },
   "outputs": [
    {
     "name": "stdout",
     "output_type": "stream",
     "text": [
      "x = 80\n",
      "y = 80\n"
     ]
    }
   ],
   "source": [
    "#include <stdio.h>\n",
    "\n",
    "int main() {\n",
    "    \n",
    "    int x = 20;\n",
    "    int y = 20;\n",
    "    \n",
    "    x *= 4;     // use Assignment and Multiply Same time\n",
    "    y = y * 4;  // use First Multiply than Assignment\n",
    "    \n",
    "    printf(\"x = %d\\n\", x);  // Output: x = 80\n",
    "    printf(\"y = %d\\n\", y);  // Output: y = 80\n",
    "    \n",
    "    return 0;\n",
    "}"
   ]
  },
  {
   "cell_type": "markdown",
   "id": "fcac6653-2a73-4767-9d99-8f438764cdae",
   "metadata": {},
   "source": [
    "<body style=\"font-family: Sans-serif;\">\n",
    "    <div style=\"color: black; font-size: 18px; font-style: oblique; text-shadow: 0 0 3px white, 0 0 1px black; padding: 20px;\">\n",
    "        <ul><li> %= Modulus Assignment Operator</li>\n",
    "            <ul><li>%= ek compound assignment operator hai jo modulus aur assignment operation ek sath perform karta hai.<br><br>Iska kaam left-hand operand ki value ko right-hand operand ke modulus (remainder) se update karna hai aur result ko left-hand operand me assign karna hai.</li><br><li>Note ! Modulus operation floating-point numbers ke liye supported nahi hai.</li></ul>\n",
    "        </ul>\n",
    "</div>\n",
    "<body>"
   ]
  },
  {
   "cell_type": "code",
   "execution_count": 3,
   "id": "4be6e08f-f4a4-4b5b-9d13-98269cbc476f",
   "metadata": {
    "tags": []
   },
   "outputs": [
    {
     "name": "stdout",
     "output_type": "stream",
     "text": [
      "x = 2\n",
      "y = 2\n"
     ]
    }
   ],
   "source": [
    "#include <stdio.h>\n",
    "\n",
    "int main() {\n",
    "    \n",
    "    int x = 2;\n",
    "    int y = 2;\n",
    "    \n",
    "    x %= 4;     // use Assignment and Modulus Same time\n",
    "    y = y % 4;  // use First Modulus than Assignment\n",
    "    \n",
    "    printf(\"x = %d\\n\", x);  // Output: x = 2\n",
    "    printf(\"y = %d\\n\", y);  // Output: y = 2\n",
    "    \n",
    "    return 0;\n",
    "}"
   ]
  },
  {
   "cell_type": "markdown",
   "id": "91971bb5-132e-4441-9c72-7f10615d1965",
   "metadata": {},
   "source": [
    "<body style=\"font-family: Sans-serif;\">\n",
    "    <div style=\"color: black; font-size: 18px; font-style: oblique; text-shadow: 0 0 3px white, 0 0 1px black; padding: 20px;\">\n",
    "        <ul><li> -= Subtraction Assignment Operator</li>\n",
    "            <ul><li>-= ek compound assignment operator hai jo subtraction aur assignment operation ko ek sath perform karta hai. <br><br>Iska kaam left-hand operand ki value me se right-hand operand ki value subtract karna aur result ko left-hand operand me assign karna hai.</li></ul>\n",
    "        </ul>\n",
    "</div>\n",
    "<body>"
   ]
  },
  {
   "cell_type": "code",
   "execution_count": 10,
   "id": "262e2a80-6007-4b1d-88f4-a3e1d6062a50",
   "metadata": {
    "tags": []
   },
   "outputs": [
    {
     "name": "stdout",
     "output_type": "stream",
     "text": [
      "x = 1\n",
      "y = 1\n"
     ]
    }
   ],
   "source": [
    "#include <stdio.h>\n",
    "\n",
    "int main() {\n",
    "    \n",
    "    int x = 2;\n",
    "    int y = 2;\n",
    "    \n",
    "    x -= 1;     // use Assignment and Subtract Same time\n",
    "    y = y - 1;  // use First Subtract than Assignment\n",
    "    \n",
    "    printf(\"x = %d\\n\", x);  // Output: x = 1\n",
    "    printf(\"y = %d\\n\", y);  // Output: y = 1\n",
    "    \n",
    "    return 0;\n",
    "}"
   ]
  },
  {
   "cell_type": "markdown",
   "id": "d25f25e7-2956-45d9-b86b-fd47c326fe48",
   "metadata": {},
   "source": [
    "<body style=\"font-family: Sans-serif;\">\n",
    "    <div style=\"color: black; font-size: 18px; font-style: oblique; text-shadow: 0 0 3px white, 0 0 1px black; padding: 20px;\">\n",
    "        <ul><li> += Addition Assignment Operator</li>\n",
    "            <ul><li>+= ek compound assignment operator hai jo addition aur assignment ko combine karta hai.<br><br>Yeh operator left-hand operand ki value me right-hand operand add karta hai aur result ko left-hand operand me store karta hai.</li></ul>\n",
    "        </ul>\n",
    "</div>\n",
    "<body>"
   ]
  },
  {
   "cell_type": "code",
   "execution_count": 11,
   "id": "5fa7b758-2879-443c-93f0-a3a40bafb68e",
   "metadata": {
    "tags": []
   },
   "outputs": [
    {
     "name": "stdout",
     "output_type": "stream",
     "text": [
      "x = 3\n",
      "y = 3\n"
     ]
    }
   ],
   "source": [
    "#include <stdio.h>\n",
    "\n",
    "int main() {\n",
    "    \n",
    "    int x = 2;\n",
    "    int y = 2;\n",
    "    \n",
    "    x += 1;     // use Assignment and Addition Same time\n",
    "    y = y + 1;  // use First Addition than Assignment\n",
    "    \n",
    "    printf(\"x = %d\\n\", x);  // Output: x = 3\n",
    "    printf(\"y = %d\\n\", y);  // Output: y = 3\n",
    "    \n",
    "    return 0;\n",
    "}"
   ]
  },
  {
   "cell_type": "markdown",
   "id": "0d43c0b5-7d0a-466f-b579-a5caf348b266",
   "metadata": {},
   "source": [
    "<body style=\"font-family: Sans-serif;\">\n",
    "    <div style=\"color: black; font-size: 18px; font-style: oblique; text-shadow: 0 0 3px white, 0 0 1px black; padding: 20px;\">\n",
    "        <ul><li> |= Bitwise Or Operator</li>\n",
    "            <ul><li>|= ek compound bitwise OR assignment operator hai jo bitwise OR operation aur assignment ko combine karta hai.<br><br>Yeh operator left-hand operand ki value aur right-hand operand ka bitwise OR karta hai, aur result ko left-hand operand me store karta hai.</li></ul>\n",
    "        </ul>\n",
    "</div>\n",
    "<body>"
   ]
  },
  {
   "cell_type": "code",
   "execution_count": 12,
   "id": "20b8bc92-a8d5-4e1d-8398-c345c78a3655",
   "metadata": {
    "tags": []
   },
   "outputs": [
    {
     "name": "stdout",
     "output_type": "stream",
     "text": [
      "x = 7\n",
      "y = 7"
     ]
    }
   ],
   "source": [
    "#include <stdio.h>\n",
    "int main() {\n",
    "    \n",
    "    int x = 5;  // Binary: 0101\n",
    "    int y = 5;  // Binary: 0101\n",
    "    \n",
    "    x |= 3;         // Binary: 0011\n",
    "    y = y |= 3;     // Binary: 0011\n",
    "    \n",
    "                // Result: 0111 (7 in decimal)\n",
    "    \n",
    "    printf(\"x = %d\\n\", x);  // Output: x = 7\n",
    "    printf(\"y = %d\", y);  // Output: y = 7\n",
    "    \n",
    "    return 0;\n",
    "}"
   ]
  },
  {
   "cell_type": "markdown",
   "id": "2bfaad28-9c64-474a-ac72-5289fcacf09a",
   "metadata": {},
   "source": [
    "<body style=\"font-family: Sans-serif;\">\n",
    "    <div style=\"color: black; font-size: 18px; font-style: oblique; text-shadow: 0 0 3px white, 0 0 1px black; padding: 20px;\">\n",
    "        <ul><li> ^= XOR Assignment Operator</li>\n",
    "            <ul><li>^= ek compound bitwise XOR (exclusive OR) assignment operator hai jo bitwise XOR operation aur assignment ko combine karta hai. <br><br>Yeh operator left-hand operand ki value aur right-hand operand ka bitwise XOR karta hai aur result ko left-hand operand me store karta hai.</li></ul>\n",
    "        </ul>\n",
    "</div>\n",
    "<body>"
   ]
  },
  {
   "cell_type": "code",
   "execution_count": 13,
   "id": "a52acd78-b128-4d10-8614-db64e4589599",
   "metadata": {
    "tags": []
   },
   "outputs": [
    {
     "name": "stdout",
     "output_type": "stream",
     "text": [
      "x = 6\n",
      "y = 6\n"
     ]
    }
   ],
   "source": [
    "#include <stdio.h>\n",
    "int main() {\n",
    "    \n",
    "    int x = 5;  // Binary: 0101\n",
    "    int y = 5;  // Binary: 0101\n",
    "    \n",
    "    x ^= 3;     // Binary: 0011\n",
    "    y = y ^ 3;     // Binary: 0011\n",
    "    \n",
    "    printf(\"x = %d\\n\", x);  // Output: x = 6\n",
    "    printf(\"y = %d\\n\", y);  // Output: y = 6\n",
    "    return 0;\n",
    "}"
   ]
  },
  {
   "cell_type": "markdown",
   "id": "bd806b42-c405-4b34-a032-07011b072878",
   "metadata": {},
   "source": [
    "<body style=\"font-family: Sans-serif;\">\n",
    "    <div style=\"color: black; font-size: 18px; font-style: oblique; text-shadow: 0 0 3px white, 0 0 1px black; padding: 20px;\">\n",
    "        <ul><li> &= Bitwise Assignment Operator</li>\n",
    "            <ul><li>&= ek compound bitwise AND assignment operator hai jo bitwise AND operation aur assignment ko combine karta hai.<br><br>Yeh operator left-hand operand ki value aur right-hand operand ka bitwise AND karta hai aur result ko left-hand operand me store karta hai.</li></ul>\n",
    "        </ul>\n",
    "</div>\n",
    "<body>"
   ]
  },
  {
   "cell_type": "code",
   "execution_count": 14,
   "id": "ce3f266a-a186-47dc-bf2b-a780662bb8fe",
   "metadata": {
    "tags": []
   },
   "outputs": [
    {
     "name": "stdout",
     "output_type": "stream",
     "text": [
      "x = 1\n",
      "y = 1\n"
     ]
    }
   ],
   "source": [
    "#include <stdio.h>\n",
    "int main() {\n",
    "    \n",
    "    int x = 5;  // Binary: 0101\n",
    "    int y = 5;  // Binary: 0101\n",
    "    \n",
    "    x &= 3;     // Binary: 0011\n",
    "    y = y & 3;     // Binary: 0011\n",
    "    \n",
    "    printf(\"x = %d\\n\", x);  // Output: x = 1\n",
    "    printf(\"y = %d\\n\", y);  // Output: y = 1\n",
    "    \n",
    "    return 0;\n",
    "}"
   ]
  },
  {
   "cell_type": "markdown",
   "id": "e3c607e2-1879-48b7-8f2d-293b08e379f2",
   "metadata": {},
   "source": [
    "<body style=\"font-family: Sans-serif;\">\n",
    "    <div style=\"color: black; font-size: 18px; font-style: oblique; text-shadow: 0 0 3px white, 0 0 1px black; padding: 20px;\">\n",
    "        <ul><li> >>=  Bitwise Right Shift Assignment Operator</li>\n",
    "            <ul><li> >>= ek compound right-shift assignment operator hai jo right-shift operation aur assignment ko combine karta hai. <br><br>Yeh operator left-hand operand ke bits ko specified number of positions ke liye right shift karta hai aur result ko left-hand operand me store karta hai.</li></ul>\n",
    "        </ul>\n",
    "</div>\n",
    "<body>"
   ]
  },
  {
   "cell_type": "code",
   "execution_count": 15,
   "id": "ca1dc878-c36a-46cc-88a2-d27058fc468e",
   "metadata": {
    "tags": []
   },
   "outputs": [
    {
     "name": "stdout",
     "output_type": "stream",
     "text": [
      "x = 4\n",
      "y = 4\n"
     ]
    }
   ],
   "source": [
    "#include <stdio.h>\n",
    "int main() {\n",
    "    \n",
    "    int x = 16;   // Binary: 10000\n",
    "    int y = 16;   // Binary: 10000\n",
    "    \n",
    "    x >>= 2;      // Shift 2 bits to the right\n",
    "    y = y >> 2;   // Shift 2 bits to the right\n",
    "    \n",
    "    printf(\"x = %d\\n\", x);  // Output: x = 4\n",
    "    printf(\"y = %d\\n\", y);  // Output: y = 4\n",
    "    \n",
    "    return 0;\n",
    "}"
   ]
  },
  {
   "cell_type": "markdown",
   "id": "824b593d-ed12-4894-899c-d6257ccf0c0d",
   "metadata": {},
   "source": [
    "<body style=\"font-family: Sans-serif;\">\n",
    "    <div style=\"color: black; font-size: 18px; font-style: oblique; text-shadow: 0 0 3px white, 0 0 1px black; padding: 20px;\">\n",
    "        <ul><li> <<=  Bitwise Left Shift Assignment Operator</li>\n",
    "            <ul><li> <<= ek compound left-shift assignment operator hai jo left-shift operation aur assignment ko combine karta hai. <br><br>Yeh operator left-hand operand ke bits ko specified number of positions ke liye left shift karta hai aur result ko left-hand operand me store karta hai.</li></ul>\n",
    "        </ul>\n",
    "</div>\n",
    "<body>"
   ]
  },
  {
   "cell_type": "code",
   "execution_count": 16,
   "id": "029205ad-3531-49d0-9f2f-b8ad2005480c",
   "metadata": {
    "tags": []
   },
   "outputs": [
    {
     "name": "stdout",
     "output_type": "stream",
     "text": [
      "x = 12\n",
      "y = 12\n"
     ]
    }
   ],
   "source": [
    "#include <stdio.h>\n",
    "int main() {\n",
    "    \n",
    "    int x = 3;   // Binary: 00000011\n",
    "    int y = 3;   // Binary: 00000011\n",
    "    \n",
    "    x <<= 2;     // Shift 2 bits to the left\n",
    "    y = y << 2;     // Shift 2 bits to the left\n",
    "              \n",
    "    printf(\"x = %d\\n\", x);  // Output: x = 12\n",
    "    printf(\"y = %d\\n\", y);  // Output: y = 12\n",
    "    \n",
    "    return 0;\n",
    "}"
   ]
  }
 ],
 "metadata": {
  "kernelspec": {
   "display_name": "C++17",
   "language": "C++17",
   "name": "xcpp17"
  },
  "language_info": {
   "codemirror_mode": "text/x-c++src",
   "file_extension": ".cpp",
   "mimetype": "text/x-c++src",
   "name": "c++",
   "version": "17"
  }
 },
 "nbformat": 4,
 "nbformat_minor": 5
}
