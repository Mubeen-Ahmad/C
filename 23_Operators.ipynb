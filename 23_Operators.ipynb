{
 "cells": [
  {
   "cell_type": "markdown",
   "id": "13360a6c-32c9-4b3a-a0cc-2963de8426fe",
   "metadata": {},
   "source": [
    "<h1 style=\"text-align:center; color:#005bbd; font-size:30px; font-family:Sans-serif; font-style: oblique; text-shadow: 0 0 3px white, 0 0 1px Black;\">\n",
    "   Operators\n",
    "</h1>"
   ]
  },
  {
   "cell_type": "markdown",
   "id": "b7064ed4-5db6-4410-90d5-c94077b4987a",
   "metadata": {},
   "source": [
    "<body style=\"font-family: Sans-serif;\">\n",
    "    <div style=\"color: black; font-size: 18px; font-style: oblique; text-shadow: 0 0 3px white, 0 0 1px black; padding: 20px;\">\n",
    "C programming mein operators woh symbols hain jo variables aur values par operations perform karte hain.<br><br>Yeh operators different categories mein divide kiye gaye hain, aur har category ke operators specific tarah ka operation perform karte hain.</div>\n",
    "<body>"
   ]
  },
  {
   "cell_type": "markdown",
   "id": "0e73f1fd-86f5-47a7-90a3-2f8726d4096f",
   "metadata": {},
   "source": [
    "<body style=\"font-family: Sans-serif;\">\n",
    "    <div style=\"color: black; font-size: 18px; font-style: oblique; text-shadow: 0 0 3px white, 0 0 1px black; padding: 20px;\">\n",
    "        <h3>Arithmetic operators</h3> wo operators hain jo basic mathematical operations perform karte hain,\n",
    "        <ul>\n",
    "            <li>+</li>\n",
    "            <li>-</li>\n",
    "            <li>*</li>\n",
    "            <li>/</li>\n",
    "            <li>%</li>\n",
    "        </ul>\n",
    "    </div>\n",
    "    \n",
    "<body>"
   ]
  },
  {
   "cell_type": "code",
   "execution_count": 2,
   "id": "de25bdca-cd8f-459c-b931-47434d137d05",
   "metadata": {
    "tags": []
   },
   "outputs": [
    {
     "name": "stdout",
     "output_type": "stream",
     "text": [
      "x + y = 30"
     ]
    }
   ],
   "source": [
    "// Addition (+)\n",
    "\n",
    "#include <stdio.h>\n",
    "int main(){\n",
    "    \n",
    "    int x = 10;\n",
    "    int y = 20;\n",
    "    \n",
    "    printf(\"x + y = %d\",x+y);\n",
    "    return 0;\n",
    "}"
   ]
  },
  {
   "cell_type": "code",
   "execution_count": 3,
   "id": "906343fa-e195-4885-a6b4-809814a9daf1",
   "metadata": {
    "tags": []
   },
   "outputs": [
    {
     "name": "stdout",
     "output_type": "stream",
     "text": [
      "x - y = 10"
     ]
    }
   ],
   "source": [
    "// Subtraction (-)\n",
    "\n",
    "#include <stdio.h>\n",
    "int main(){\n",
    "    \n",
    "    int x = 30;\n",
    "    int y = 20;\n",
    "    \n",
    "    printf(\"x - y = %d\",x-y);\n",
    "    return 0;\n",
    "}"
   ]
  },
  {
   "cell_type": "code",
   "execution_count": 4,
   "id": "23e81afc-2825-4314-81d7-8f54ef10531f",
   "metadata": {
    "tags": []
   },
   "outputs": [
    {
     "name": "stdout",
     "output_type": "stream",
     "text": [
      "x * y = 6"
     ]
    }
   ],
   "source": [
    "// Multiplication (*)\n",
    "\n",
    "#include <stdio.h>\n",
    "int main(){\n",
    "    \n",
    "    int x = 2;\n",
    "    int y = 3;\n",
    "    \n",
    "    printf(\"x * y = %d\",x * y);\n",
    "    return 0;\n",
    "}"
   ]
  },
  {
   "cell_type": "code",
   "execution_count": 6,
   "id": "034903cc-0804-4a20-aaee-6d49f7bf5f7f",
   "metadata": {
    "tags": []
   },
   "outputs": [
    {
     "name": "stdout",
     "output_type": "stream",
     "text": [
      "x / y = 2"
     ]
    }
   ],
   "source": [
    "// Division (/)\n",
    "\n",
    "#include <stdio.h>\n",
    "int main(){\n",
    "    \n",
    "    int x = 6;\n",
    "    int y = 3;\n",
    "    \n",
    "    printf(\"x / y = %d\",x / y);\n",
    "    return 0;\n",
    "}"
   ]
  },
  {
   "cell_type": "code",
   "execution_count": 14,
   "id": "6fbb2449-a282-4fb6-b4ea-fbab0c38849a",
   "metadata": {
    "tags": []
   },
   "outputs": [
    {
     "name": "stdout",
     "output_type": "stream",
     "text": [
      "x % y = 1"
     ]
    }
   ],
   "source": [
    "// Modulus (%)\n",
    "\n",
    "#include <stdio.h>\n",
    "int main(){\n",
    "    \n",
    "    int x = 5;\n",
    "    int y = 2;\n",
    "    \n",
    "    printf(\"x %% y = %d\",x % y); // note % is also a format specfier in used in double \"\" qoutes\n",
    "    return 0;\n",
    "}\n",
    "// 2 * 2 = 4 remander is 1"
   ]
  },
  {
   "cell_type": "markdown",
   "id": "f492df26-be1b-44b6-b8a6-d9de2d331826",
   "metadata": {},
   "source": [
    "<body style=\"font-family: Sans-serif;\">\n",
    "    <div style=\"color: black; font-size: 18px; font-style: oblique; text-shadow: 0 0 3px white, 0 0 1px black; padding: 20px;\">\n",
    "        Examples\n",
    "    </div>\n",
    "    \n",
    "<body>"
   ]
  },
  {
   "cell_type": "markdown",
   "id": "f6b579e9-423f-47d3-b1d5-88a0ece8f13d",
   "metadata": {},
   "source": [
    "<body style=\"font-family: Sans-serif;\">\n",
    "    <div style=\"color: black; font-size: 18px; font-style: oblique; text-shadow: 0 0 3px white, 0 0 1px black; padding: 20px;\">\n",
    "        <ul>Sum of first 10 natural numbers   </ul>\n",
    "    <p>\n",
    "        $$ S = \\frac{n \\times (n + 1)}{2} $$\n",
    "    </p></div>\n",
    "    \n",
    "<body>"
   ]
  },
  {
   "cell_type": "code",
   "execution_count": 12,
   "id": "c0a46385-d779-41c9-818a-9a9457ab8ae6",
   "metadata": {
    "tags": []
   },
   "outputs": [
    {
     "name": "stdout",
     "output_type": "stream",
     "text": [
      "S = 55"
     ]
    }
   ],
   "source": [
    "#include <stdio.h>\n",
    "int main(){\n",
    "    \n",
    "    int n = 10;\n",
    "    int s = n * (n+1 ) / 2;\n",
    "    \n",
    "    printf(\"S = %d\",s);\n",
    "    \n",
    "    \n",
    "}"
   ]
  },
  {
   "cell_type": "markdown",
   "id": "893ebfcd-cc6a-4aef-a6d8-0d0a28b91a28",
   "metadata": {},
   "source": [
    "<h1 style=\"text-align:center; color:#005bbd; font-size:30px; font-family:Sans-serif; font-style: oblique; text-shadow: 0 0 3px white, 0 0 1px Black;\">\n",
    "   Precedence\n",
    "</h1>"
   ]
  },
  {
   "cell_type": "markdown",
   "id": "05b20fa4-0f00-492a-9515-da23dc02fd49",
   "metadata": {},
   "source": [
    "<body style=\"font-family: Sans-serif;\">\n",
    "    <div style=\"color: black; font-size: 18px; font-style: oblique; text-shadow: 0 0 3px white, 0 0 1px black; padding: 20px;\">\n",
    "       Precedence ka matlab hai kis operator ko pehle solve kiya jayega. Jis operator ki precedence zyada hogi, usay pehle evaluate kiya jata hai.<br>\n",
    "        <ul>\n",
    "        <li>BODMAS rule (Bracket, Order, Division/Multiplication, Addition/Subtraction) ka kaam hi precedence follow karna hota hai.</li><br>\n",
    "        <li>Iska matlab yeh hai ke Multiplication ( * ) aur Division ( / ) ko Addition ( + ) aur Subtraction ( - ) se pehle solve kiya jata hai.</li>\n",
    "        </ul>\n",
    "    Example :\n",
    "        <ul> 2 + 3 * 4\n",
    "            <ul><br>\n",
    "                * ki precedence + se zyada hai.<br><br>\n",
    "                <pre>\n",
    "                3 * 4 = 12\n",
    "                2 + 12 = 14\n",
    "                </pre>\n",
    "            </ul>\n",
    "            Precedence ka kaam hi yeh ensure karna hota hai ke expressions ko BODMAS rule ke mutabiq solve kiya jaye, taake har calculation ka sahi result aaye.\n",
    "        </ul>\n",
    "    </div>\n",
    "<body>"
   ]
  },
  {
   "cell_type": "code",
   "execution_count": 14,
   "id": "f908bbf6-4071-47d1-b6de-716ef5ad4e62",
   "metadata": {
    "tags": []
   },
   "outputs": [
    {
     "name": "stdout",
     "output_type": "stream",
     "text": [
      "14"
     ]
    }
   ],
   "source": [
    "#include <stdio.h>\n",
    "int main(){\n",
    "\n",
    "    printf(\"%d\",2 + 3 * 4);\n",
    "}"
   ]
  },
  {
   "cell_type": "markdown",
   "id": "264404dc-734c-4ecb-8c3d-6f56ed4125bb",
   "metadata": {},
   "source": [
    "\n",
    "<head>\n",
    "    <meta charset=\"UTF-8\">\n",
    "    <meta name=\"viewport\" content=\"width=device-width, initial-scale=1.0\">\n",
    "\n",
    "</head>\n",
    "<body>\n",
    "<table>\n",
    "    <thead>\n",
    "        <tr>\n",
    "            <th>Precedence Level</th>\n",
    "            <th>Operators</th>\n",
    "            <th>Description</th>\n",
    "        </tr>\n",
    "    </thead>\n",
    "    <tbody>\n",
    "        <tr>\n",
    "            <td>1 (Highest)</td>\n",
    "            <td>* / %</td>\n",
    "            <td>Multiplication, Division, Modulus</td>\n",
    "        </tr>\n",
    "        <tr>\n",
    "            <td>2</td>\n",
    "            <td>+ -</td>\n",
    "            <td>Addition, Subtraction</td>\n",
    "        </tr>\n",
    "    </tbody>\n",
    "</table>\n",
    "\n",
    "</body>\n",
    "</html>\n"
   ]
  },
  {
   "cell_type": "markdown",
   "id": "963c7460-802c-43b5-b82a-fa897c8cba3e",
   "metadata": {},
   "source": [
    "<body style=\"font-family: Sans-serif;\">\n",
    "    <div style=\"color: black; font-size: 18px; font-style: oblique; text-shadow: 0 0 3px white, 0 0 1px black; padding: 20px;\">\n",
    "        <ul>\n",
    "        Example: 2 + 3 * 2\n",
    "            <ul>\n",
    "                <li>Precedence Table ke Mutabiq:  <li>* (Multiplication) ki precedence zyada hai.</li>\n",
    "                    <li>+ (Addition) ki precedence kam hai, is liye pehle * evaluate hoga.</li></li>\n",
    "        </ul>\n",
    "    </div>        \n",
    "<body>"
   ]
  },
  {
   "cell_type": "code",
   "execution_count": 7,
   "id": "3afbfebc-e2a9-4aa5-9943-e0ed84b41789",
   "metadata": {
    "tags": []
   },
   "outputs": [
    {
     "name": "stdout",
     "output_type": "stream",
     "text": [
      "8"
     ]
    }
   ],
   "source": [
    "#include <stdio.h>\n",
    "\n",
    "int main(){\n",
    "    printf(\"%d\",2+3*2);\n",
    "    return 0;\n",
    "}"
   ]
  },
  {
   "cell_type": "markdown",
   "id": "27257d52-fb44-4ec7-8cb9-1832a3d00b0c",
   "metadata": {},
   "source": [
    "<img style=\"display: block;margin-left: auto;margin-right: auto;width: 80%;\" src=\"./images/ar_precedence.jpg\">"
   ]
  },
  {
   "cell_type": "markdown",
   "id": "98f5701b-cd13-4a81-a511-f23011d58484",
   "metadata": {},
   "source": [
    "<h1 style=\"text-align:center; color:#005bbd; font-size:30px; font-family:Sans-serif; font-style: oblique; text-shadow: 0 0 3px white, 0 0 1px Black;\">\n",
    "   Parentheses ()\n",
    "</h1>"
   ]
  },
  {
   "cell_type": "markdown",
   "id": "3ad6d8a7-6588-4a71-bb28-1d49ef98653b",
   "metadata": {},
   "source": [
    "<body style=\"font-family: Sans-serif;\">\n",
    "    <div style=\"color: black; font-size: 18px; font-style: oblique; text-shadow: 0 0 3px white, 0 0 1px black; padding: 20px;\">\n",
    "        <ul>\n",
    "    Agar aap chahte hain ke 2 + 6 ki calculation pehle ho aur baad me division, to aapko parentheses () ka use karna hoga, kyunki parentheses ki precedence sabse zyada hoti hai.\n",
    "        </ul>\n",
    "    </div>\n",
    "<body>"
   ]
  },
  {
   "cell_type": "code",
   "execution_count": 12,
   "id": "ead826e9-c024-437e-bc92-9e65c5a24730",
   "metadata": {
    "tags": []
   },
   "outputs": [
    {
     "name": "stdout",
     "output_type": "stream",
     "text": [
      "Without Parentheses 5\n",
      "With    Parentheses 4\n"
     ]
    }
   ],
   "source": [
    "#include <stdio.h>\n",
    "\n",
    "int main(){\n",
    "    \n",
    "    int without_parentheses = 2 + 6 / 2;\n",
    "    int parentheses = (2 + 6) / 2;\n",
    "    \n",
    "    printf(\"Without Parentheses %d\\n\",without_parentheses);\n",
    "    printf(\"With    Parentheses %d\\n\",parentheses);\n",
    "    \n",
    "    return 0;\n",
    "}"
   ]
  },
  {
   "cell_type": "markdown",
   "id": "ae864d07-c8e2-40f2-8e04-d7d7edf75af7",
   "metadata": {},
   "source": [
    "<img style=\"display: block;margin-left: auto;margin-right: auto;width: 80%;\" src=\"./images/ar_precedence_p.jpg\">"
   ]
  },
  {
   "cell_type": "code",
   "execution_count": 18,
   "id": "20f616e4-0bed-42b7-a8bf-f8d7265dd307",
   "metadata": {
    "tags": []
   },
   "outputs": [
    {
     "name": "stdout",
     "output_type": "stream",
     "text": [
      "14"
     ]
    }
   ],
   "source": [
    "#include <stdio.h>\n",
    "\n",
    "int main(){\n",
    "    int x = (2 + 3 * (2 * 2) );\n",
    "    printf(\"%d\",x);\n",
    "    return 0;\n",
    "}"
   ]
  },
  {
   "cell_type": "markdown",
   "id": "5aec2e68-597c-4b8f-a596-7f0308c7d8fa",
   "metadata": {},
   "source": [
    "<h1 style=\"text-align:center; color:#005bbd; font-size:30px; font-family:Sans-serif; font-style: oblique; text-shadow: 0 0 3px white, 0 0 1px Black;\">\n",
    "   Associativity\n",
    "</h1>"
   ]
  },
  {
   "cell_type": "markdown",
   "id": "4cdabfc3-f5c8-47a3-a970-33019a83611f",
   "metadata": {},
   "source": [
    "<body style=\"font-family: Sans-serif;\">\n",
    "    <div style=\"color: black; font-size: 18px; font-style: oblique; text-shadow: 0 0 3px white, 0 0 1px black; padding: 20px;\">\n",
    "       Associativity batati hai ke jab same precedence ke multiple operators ek expression me hon, to wo kis order me evaluate honge. ?<br>\n",
    "        <ul>\n",
    "        <li>Jab * (Multiplication), / (Division) aur % (Modulus) ek hi expression me ho, tab precedence se koi farq nahi padta, kyunki in sabki precedence same hoti hai. Is wajah se yeh decide karne ke liye ke kaunsa operator pehle evaluate hoga, associativity ka concept use hota hai</li><br>\n",
    "        <ul>\n",
    "            <table>\n",
    "        <tr>\n",
    "            <th>Operator</th>\n",
    "            <th>Description</th>\n",
    "            <th>Precedence</th>\n",
    "            <th>Associativity</th>\n",
    "        </tr>\n",
    "        <tr>\n",
    "            <td>( )</td>\n",
    "            <td>Parentheses</td>\n",
    "            <td>Highest</td>\n",
    "            <td>None</td>\n",
    "        </tr>\n",
    "        <tr>\n",
    "            <td>*</td>\n",
    "            <td>Multiplication</td>\n",
    "            <td>2nd</td>\n",
    "            <td>Left to Right</td>\n",
    "        </tr>\n",
    "        <tr>\n",
    "            <td>/</td>\n",
    "            <td>Division</td>\n",
    "            <td>2nd</td>\n",
    "            <td>Left to Right</td>\n",
    "        </tr>\n",
    "        <tr>\n",
    "            <td>%</td>\n",
    "            <td>Modulus</td>\n",
    "            <td>2nd</td>\n",
    "            <td>Left to Right</td>\n",
    "        </tr>\n",
    "        <tr>\n",
    "            <td>+</td>\n",
    "            <td>Addition</td>\n",
    "            <td>3rd</td>\n",
    "            <td>Left to Right</td>\n",
    "        </tr>\n",
    "        <tr>\n",
    "            <td>-</td>\n",
    "            <td>Subtraction</td>\n",
    "            <td>3rd</td>\n",
    "            <td>Left to Right</td>\n",
    "        </tr>\n",
    "    </table>\n",
    "    </div>\n",
    "<body>"
   ]
  },
  {
   "cell_type": "code",
   "execution_count": 21,
   "id": "ee9cf266-caf3-407e-a9e1-bc4ad83c59b2",
   "metadata": {},
   "outputs": [
    {
     "name": "stdout",
     "output_type": "stream",
     "text": [
      "12\n",
      "0\n"
     ]
    }
   ],
   "source": [
    "#include <stdio.h>\n",
    "\n",
    "int main(){\n",
    "    int x = 6 / 2 * 4;\n",
    "    int y = 6 % 2 * 4;\n",
    "    \n",
    "    printf(\"%d\\n\",x);\n",
    "    printf(\"%d\\n\",y);\n",
    "    \n",
    "    return 0;\n",
    "}"
   ]
  },
  {
   "cell_type": "markdown",
   "id": "6b811325-8901-47b0-ba2a-54f819adc138",
   "metadata": {},
   "source": [
    "<img style=\"display: block;margin-left: auto;margin-right: auto;width: 80%;\" src=\"./images/ar_precedence_and_associ.jpg\">"
   ]
  },
  {
   "cell_type": "code",
   "execution_count": 27,
   "id": "cc118a42-a387-4d8f-a362-a7d81bc2b871",
   "metadata": {
    "tags": []
   },
   "outputs": [
    {
     "name": "stdout",
     "output_type": "stream",
     "text": [
      "2.000000"
     ]
    }
   ],
   "source": [
    "#include <stdio.h>\n",
    "\n",
    "int main(){\n",
    "    \n",
    "    float x = 2 * (3 + 1) / 3;\n",
    "    printf(\"%f\",x);\n",
    "    \n",
    "    return 0;\n",
    "}"
   ]
  },
  {
   "cell_type": "markdown",
   "id": "731e813e-db5b-4989-ab33-e536a316b6c9",
   "metadata": {},
   "source": [
    "<img style=\"display: block;margin-left: auto;margin-right: auto;width: 80%;\" src=\"./images/ar_precedence_and_associ_exp.jpg\">"
   ]
  }
 ],
 "metadata": {
  "kernelspec": {
   "display_name": "C++17",
   "language": "C++17",
   "name": "xcpp17"
  },
  "language_info": {
   "codemirror_mode": "text/x-c++src",
   "file_extension": ".cpp",
   "mimetype": "text/x-c++src",
   "name": "c++",
   "version": "17"
  }
 },
 "nbformat": 4,
 "nbformat_minor": 5
}
