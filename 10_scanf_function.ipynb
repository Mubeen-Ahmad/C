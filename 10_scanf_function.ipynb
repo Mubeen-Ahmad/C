{
 "cells": [
  {
   "cell_type": "markdown",
   "id": "0e8c22cf-81b8-458a-90aa-383fe796eb36",
   "metadata": {},
   "source": [
    "<h1 style=\"text-align:center; color:#005bbd; font-size:30px; font-family:Sans-serif; font-style: oblique; text-shadow: 0 0 3px white, 0 0 1px Black;\">\n",
    "   scanf Function \n",
    "</h1>"
   ]
  },
  {
   "cell_type": "markdown",
   "id": "bb9fe4e0-20fc-4d87-b7d8-bd2dd3ece203",
   "metadata": {},
   "source": [
    "<body style=\"font-family: Sans-serif;\">\n",
    "    <div style=\"color: black; font-size: 18px; font-style: oblique; text-shadow: 0 0 3px white, 0 0 1px black; padding: 20px;\">\n",
    "        <ul>\n",
    "            <li>scanf ek standard input function hai jo C language me input read karne ke liye use hota hai. Iska kaam yeh hota hai ke user se data le aur usay specified variables me store kare, jo program ke aage use ke liye available hota hai.</li><br>\n",
    "            <li> Syntax : int scanf(const char *format, ...);</li><br>\n",
    "            <li>const char *format: Format string hoti hai jo define karti hai ke input kis tarah ka hoga, jaise %d integer ke liye, %f float ke liye, %c character ke liye, etc.</li><br>\n",
    "            <li>... Yeh variable list hoti hai jisme tum un variables ke addresses pass karte ho jahan input store hoga. Aapko & ka use karna hoga  har variable ke sath taake memory address pass ho.</li>\n",
    "</ul>\n"
   ]
  },
  {
   "cell_type": "code",
   "execution_count": 31,
   "id": "2f714274-eeeb-4e6d-a602-b6abf254e27c",
   "metadata": {},
   "outputs": [
    {
     "name": "stdout",
     "output_type": "stream",
     "text": [
      "6"
     ]
    },
    {
     "data": {
      "text/plain": []
     },
     "execution_count": 31,
     "metadata": {},
     "output_type": "execute_result"
    }
   ],
   "source": [
    "#include <stdio.h>\n",
    "int main(){\n",
    "    int number;\n",
    "    scanf(\"%d\",&number);\n",
    "    return 0;\n",
    "}"
   ]
  },
  {
   "cell_type": "markdown",
   "id": "280884c4-567d-415c-b3de-7e6e28aaaf54",
   "metadata": {},
   "source": [
    "<body style=\"font-family: Sans-serif;\">\n",
    "    <div style=\"color: black; font-size: 18px; font-style: oblique; text-shadow: 0 0 3px white, 0 0 1px black; padding: 20px;\">\n",
    "        <ul>\n",
    "            <li>Yaha maine 6 enter kiya hai, jo number mein store ho gaya hai.</li>\n",
    "</ul>\n"
   ]
  },
  {
   "cell_type": "code",
   "execution_count": 34,
   "id": "0a0e82f2-738a-4d94-83d5-0181de8cac3d",
   "metadata": {},
   "outputs": [
    {
     "name": "stdout",
     "output_type": "stream",
     "text": [
      "Enter the Number :-  3\n",
      "You Entered 3"
     ]
    }
   ],
   "source": [
    "#include <stdio.h>\n",
    "int main(){\n",
    "    int number;\n",
    "    printf(\"Enter the Number :- \");\n",
    "    scanf(\"%d\",&number);\n",
    "    printf(\"\\nYou Entered %d\",number);\n",
    "    return 0;\n",
    "}"
   ]
  },
  {
   "cell_type": "markdown",
   "id": "bee87a79-056b-4d37-9fb7-fff481fa5274",
   "metadata": {},
   "source": [
    "<body style=\"font-family: Sans-serif;\">\n",
    "    <div style=\"color: black; font-size: 18px; font-style: oblique; text-shadow: 0 0 3px white, 0 0 1px black; padding: 20px;\">\n",
    "        <ul>\n",
    "            <li>& operator ka istemal isliye kiya jata hai ke hum variable ka address pass karein, taake scanf us address par value store kar sake</li><br>\n",
    "            <li>C language mein address kisi variable ki memory location ko represent karta hai. Har variable ko memory mein ek unique address diya jata hai, jahan uska data store hota hai.</li><br>\n",
    "            <li>For example, agar aap ek variable int num = 10; declare karte ho, to num ki value 10 hoti hai, lekin uska ek address bhi hota hai jahan yeh value store hoti hai.</li><br>\n",
    "            <li>Address ko pointer ke zariye access kiya ja sakta hai. Address ko nikalne ke liye ampersand (&) ka use hota hai</li>\n",
    "</ul>\n"
   ]
  },
  {
   "cell_type": "code",
   "execution_count": 1,
   "id": "65028478-d5a9-4886-b467-f22cd68a1d00",
   "metadata": {},
   "outputs": [
    {
     "name": "stdout",
     "output_type": "stream",
     "text": [
      "Address of num is 0x7fff08ff7428"
     ]
    }
   ],
   "source": [
    "#include <stdio.h>\n",
    "int main(){\n",
    "    int num = 10;\n",
    "    printf(\"Address of num is %p\",&num);\n",
    "    return 0;\n",
    "}\n",
    "main();"
   ]
  },
  {
   "cell_type": "markdown",
   "id": "e6770048-c349-42a7-9c71-5f3c97e258a7",
   "metadata": {},
   "source": [
    "<body style=\"font-family: Sans-serif;\">\n",
    "    <div style=\"color: black; font-size: 18px; font-style: oblique; text-shadow: 0 0 3px white, 0 0 1px black; padding: 20px;\">\n",
    "        <ul>\n",
    "            <li> %p format specifier C language mein pointer (address) ko print karne ke liye use hota hai.</li><br>\n",
    "            <li>Yeh hexadecimal format mein address ko output karta hai, jo memory location ko represent karta hai.</li><br>\n",
    "</ul>\n"
   ]
  },
  {
   "cell_type": "markdown",
   "id": "02535098-4db3-4d17-9ace-bb17cbf12824",
   "metadata": {},
   "source": [
    "<h1 style=\"text-align:center; color:#005bbd; font-size:30px; font-family:Sans-serif; font-style: oblique; text-shadow: 0 0 3px white, 0 0 1px Black;\">\n",
    "   Multilple parameters in scanf and printf\n",
    "</h1>"
   ]
  },
  {
   "cell_type": "markdown",
   "id": "531ab741-6cee-4681-9738-232187ee3da6",
   "metadata": {},
   "source": [
    "<body style=\"font-family: Sans-serif;\">\n",
    "    <div style=\"color: black; font-size: 18px; font-style: oblique; text-shadow: 0 0 3px white, 0 0 1px black; padding: 20px;\">\n",
    "            <li> scanf aur printf mein multiple parameters bhi de saktay hain</li>\n",
    "</ul>\n"
   ]
  },
  {
   "cell_type": "markdown",
   "id": "5f781d87-aa27-4270-bafc-fd52dbb1d83b",
   "metadata": {},
   "source": [
    "<body style=\"font-family: Sans-serif;\">\n",
    "    <div style=\"color: black; font-size: 18px; font-style: oblique; text-shadow: 0 0 3px white, 0 0 1px black; padding: 20px;\">\n",
    "        Calculate area of the triangle</div></body>"
   ]
  },
  {
   "cell_type": "code",
   "execution_count": 4,
   "id": "f6f4750f-ce14-4fd3-a3c3-7ee29ef11910",
   "metadata": {},
   "outputs": [
    {
     "name": "stdout",
     "output_type": "stream",
     "text": [
      "Enter the base and height : 2.34 4.345"
     ]
    },
    {
     "name": "stdout",
     "output_type": "stream",
     "text": [
      "\n",
      "Base is 2.34 Height is 4.345"
     ]
    },
    {
     "data": {
      "text/plain": [
       "Area of triangle is 5.0836"
      ]
     },
     "execution_count": 4,
     "metadata": {},
     "output_type": "execute_result"
    }
   ],
   "source": [
    "#include <stdio.h>\n",
    "int main(){\n",
    "    float base,height;\n",
    "    printf(\"Enter the base and height : \");\n",
    "    scanf(\"%f %f\",&base,&height);\n",
    "    printf(\"Base is %f Height is %f\",base,height);\n",
    "    printf(\"Area of triangle is %.4f\", 0.5 * base * height);\n",
    "    return 0;\n",
    "    \n",
    "}"
   ]
  },
  {
   "cell_type": "markdown",
   "id": "50ab8719-61db-49e0-8b54-4a89e3b5cd91",
   "metadata": {},
   "source": [
    "<body style=\"font-family: Sans-serif;\">\n",
    "    <div style=\"color: black; font-size: 18px; font-style: oblique; text-shadow: 0 0 3px white, 0 0 1px black; padding: 20px;\">\n",
    "            <li> Note jab aap arguments (variables) de rahy hn to apko sequence ka dehan rakhan ho ga means jis tarteeb sy aap ny format specfers diye hn us tarteeb sy apko unky &variables deny hn</li>\n",
    "</ul>\n"
   ]
  },
  {
   "cell_type": "markdown",
   "id": "a870b01b-5275-4e8d-ad76-8b5b17c4fb50",
   "metadata": {},
   "source": [
    "<img style=\"display: block;margin-left: auto;margin-right: auto;\" src=\"./images/multi_arg.jpg\">"
   ]
  }
 ],
 "metadata": {
  "kernelspec": {
   "display_name": "C++17",
   "language": "C++17",
   "name": "xcpp17"
  },
  "language_info": {
   "codemirror_mode": "text/x-c++src",
   "file_extension": ".cpp",
   "mimetype": "text/x-c++src",
   "name": "c++",
   "version": "17"
  }
 },
 "nbformat": 4,
 "nbformat_minor": 5
}
