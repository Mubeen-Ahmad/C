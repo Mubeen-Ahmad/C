{
 "cells": [
  {
   "cell_type": "markdown",
   "id": "6901c348-f240-4a9b-a166-ba591b015331",
   "metadata": {},
   "source": [
    "<h1 style=\"text-align:center; color:#005bbd; font-size:30px; font-family:Sans-serif; font-style: oblique; text-shadow: 0 0 3px white, 0 0 1px Black;\">\n",
    "   DataTypes\n",
    "</h1>"
   ]
  },
  {
   "cell_type": "markdown",
   "id": "6b8a2029-d53e-4ee0-a89f-10e3905d9f94",
   "metadata": {},
   "source": [
    "<body style=\"font-family: Sans-serif;\">\n",
    "    <div style=\"color: black; font-size: 18px; font-style: oblique; text-shadow: 0 0 3px white, 0 0 1px black; padding: 20px;\">\n",
    "        <ul>\n",
    "            <li>Datatype kisi bhi programming language mein ek classification hoti hai jo batati hai ke kis qisam ka data ek variable hold karega aur us data par kaise operations kiye ja sakte hain.</li><br>\n",
    "            <li>Datatype ye decide karta hai ke ek variable mein kis qisam ki value store ki jayegi, jaise integer, floating-point numbers, characters, ya phir complex data structures jese arrays ya structures. Yeh system ko batata hai ke memory mein kitni space assign karni hai aur data ko kaise interpret karna hai.</li>\n",
    "</ul></div></body>\n"
   ]
  },
  {
   "cell_type": "markdown",
   "id": "c28e47da-30b1-44f6-a963-66b0d3184476",
   "metadata": {},
   "source": [
    "<h1 style=\"text-align:center; color:#005bbd; font-size:30px; font-family:Sans-serif; font-style: oblique; text-shadow: 0 0 3px white, 0 0 1px Black;\">\n",
    "   Value and Types\n",
    "</h1>"
   ]
  },
  {
   "cell_type": "markdown",
   "id": "646650ec-5d89-4d63-96b9-5b90dd0ff0e9",
   "metadata": {},
   "source": [
    "<body style=\"font-family: Sans-serif;\">\n",
    "    <div style=\"color: black; font-size: 18px; font-style: oblique; text-shadow: 0 0 3px white, 0 0 1px black; padding: 20px;\">\n",
    "        <ul>\n",
    "            <li>Jab aap kisi variable ko declare karte hain, uska type batata hai ke is variable mein kis qisam ki value hogi aur kaise us value ko samjha jayega.</li><br>\n",
    "</ul></div></body>\n"
   ]
  },
  {
   "cell_type": "code",
   "execution_count": 2,
   "id": "bd6a70ec-1d95-47ae-88a3-e14b4648f8b3",
   "metadata": {},
   "outputs": [],
   "source": [
    "int x = 5;"
   ]
  },
  {
   "cell_type": "markdown",
   "id": "9720ebb4-3c80-4fb8-a25c-34077935b76c",
   "metadata": {},
   "source": [
    "<body style=\"font-family: Sans-serif;\">\n",
    "    <div style=\"color: black; font-size: 18px; font-style: oblique; text-shadow: 0 0 3px white, 0 0 1px black; padding: 20px;\">\n",
    "        <ul>\n",
    "            <li>Yahan x ek int type ka variable hai, to iska matlab hai ke is variable mein ek integer value store hogi, aur jab bhi aap x ko access karenge to wo integer ke tor pe samjha jayega.</li><br>\n",
    "</ul></div></body>\n",
    "\n"
   ]
  },
  {
   "cell_type": "markdown",
   "id": "533d1627-cafb-4712-99ae-0dcce10b5045",
   "metadata": {},
   "source": [
    "<h1 style=\"text-align:center; color:#005bbd; font-size:30px; font-family:Sans-serif; font-style: oblique; text-shadow: 0 0 3px white, 0 0 1px Black;\">\n",
    "   Object Types vs Function Types\n",
    "</h1>"
   ]
  },
  {
   "cell_type": "markdown",
   "id": "248661e3-304f-400e-b7d1-8cec900630b3",
   "metadata": {},
   "source": [
    "<body style=\"font-family: Sans-serif;\">\n",
    "    <div style=\"color: black; font-size: 18px; font-style: oblique; text-shadow: 0 0 3px white, 0 0 1px black; padding: 20px;\">\n",
    "        <h3>Object Types</h3>\n",
    "        <ul>\n",
    "            <li>Object types wo types hain jo objects ko define karte hain. Objects ka matlab yahan woh variables hain jo memory mein kisi value ko store karte hain, jaise int, char, float, arrays, structures, etc.</li><br>\n",
    "</ul></div></body>\n",
    "\n"
   ]
  },
  {
   "cell_type": "code",
   "execution_count": 4,
   "id": "d5834467-a2d9-4bd4-a6c2-27412ace73e6",
   "metadata": {},
   "outputs": [],
   "source": [
    "int x = 2;"
   ]
  },
  {
   "cell_type": "markdown",
   "id": "47eeddd6-be03-4703-bd19-503e5c735049",
   "metadata": {},
   "source": [
    "<body style=\"font-family: Sans-serif;\">\n",
    "    <div style=\"color: black; font-size: 18px; font-style: oblique; text-shadow: 0 0 3px white, 0 0 1px black; padding: 20px;\">\n",
    "        <h3>Function Types</h3>\n",
    "        <ul>\n",
    "            <li>Function types wo types hain jo functions ko define karte hain. Yeh batate hain ke function ka return type kya hoga aur woh kis qisam ke arguments accept karega.</li><br>\n",
    "</ul></div></body>\n",
    "\n"
   ]
  },
  {
   "cell_type": "code",
   "execution_count": 3,
   "id": "72c608f6-58d1-4fbd-ad00-dad0704bf309",
   "metadata": {},
   "outputs": [],
   "source": [
    "int myFunction(int a, float b);"
   ]
  },
  {
   "cell_type": "markdown",
   "id": "80501e60-d765-497c-a6fa-4b13e0b32980",
   "metadata": {},
   "source": [
    "<h1 style=\"text-align:center; color:#005bbd; font-size:30px; font-family:Sans-serif; font-style: oblique; text-shadow: 0 0 3px white, 0 0 1px Black;\">\n",
    "   Complete vs Incomplete Types\n",
    "</h1>"
   ]
  },
  {
   "cell_type": "markdown",
   "id": "7b9c4196-f0c7-4571-bc4e-c56e8b50f2d5",
   "metadata": {},
   "source": [
    "<body style=\"font-family: Sans-serif;\">\n",
    "    <div style=\"color: black; font-size: 18px; font-style: oblique; text-shadow: 0 0 3px white, 0 0 1px black; padding: 20px;\">\n",
    "        <ul>\n",
    "            <li>Yeh baat types ki completeness se related hai, jo batati hai ke type ke paas sufficient information hai ya nahi us object ka size determine karne ke liye:</li><br>\n",
    "</ul><h3>Complete Type</h3>\n",
    "    <ul><li>Agar ek type ke paas wo saari information hai jo us object ka size batane ke liye chahiye, to usay complete type kehte hain. Matlab, aapko pura pata hai ke yeh object memory mein kitni jagah lega.</li>\n",
    "    </ul>\n",
    "    </div></body>\n",
    "\n"
   ]
  },
  {
   "cell_type": "code",
   "execution_count": 6,
   "id": "acdf0de4-88d2-4e6c-9206-8a441b936f1e",
   "metadata": {},
   "outputs": [],
   "source": [
    "int arr[10];  // array ka size pata hai, 10 elements\n",
    "\n",
    "struct Person {\n",
    "\n",
    "    char name[50];\n",
    "    int age;\n",
    "\n",
    "};  // structure ka size pata hai kyunki members defined hain\n"
   ]
  },
  {
   "cell_type": "markdown",
   "id": "6537767e-4664-4b4a-a768-692ea790ad6b",
   "metadata": {},
   "source": [
    "<body style=\"font-family: Sans-serif;\">\n",
    "    <div style=\"color: black; font-size: 18px; font-style: oblique; text-shadow: 0 0 3px white, 0 0 1px black; padding: 20px;\">\n",
    "        <h3>Incomplete Type</h3>\n",
    "        <ul>\n",
    "            <li>Agar ek type ke paas sufficient information nahi hai ke woh bata sake ke us object ka size kya hoga, to usay incomplete type kehte hain. Matlab, abhi us object ke baare mein poori detail nahi di gayi.</li><br>\n",
    "</ul></div></body>\n",
    "\n"
   ]
  },
  {
   "cell_type": "code",
   "execution_count": 9,
   "id": "7517bcd3-6d15-44e0-8748-dec1019426aa",
   "metadata": {},
   "outputs": [],
   "source": [
    "int arr[];  // array ka size abhi specify nahi kiya\n",
    "struct Person;  // members specify nahi kiye"
   ]
  },
  {
   "cell_type": "markdown",
   "id": "47aaa6da-1cbc-4519-867d-80afb97c4261",
   "metadata": {},
   "source": [
    "<h1 style=\"text-align:center; color:#005bbd; font-size:30px; font-family:Sans-serif; font-style: oblique; text-shadow: 0 0 3px white, 0 0 1px Black;\">\n",
    "   Units of DataStorage\n",
    "</h1>"
   ]
  },
  {
   "cell_type": "markdown",
   "id": "e3952068-e894-4dfa-9387-7eb0de40166e",
   "metadata": {},
   "source": [
    "<body style=\"font-family: Sans-serif;\">\n",
    "    <div style=\"color: black; font-size: 18px; font-style: oblique; text-shadow: 0 0 3px white, 0 0 1px black; padding: 20px;\">\n",
    "        <ul>\n",
    "            <li>Data storage units wo quantities hain jo digital information ko measure karne ke liye use hoti hain. </li><br>\n",
    "            <li>Har unit data ki specific quantity ko represent karti hai, aur ye hierarchy ke tor pe bits se shuru hoke progressively bade sizes me organize hoti hai.</li>\n",
    "</ul></div></body>\n",
    "\n"
   ]
  },
  {
   "cell_type": "markdown",
   "id": "1088fe6d-7ccb-479f-aa01-80b926668068",
   "metadata": {},
   "source": [
    "<h1 style=\"text-align:center; color:#005bbd; font-size:30px; font-family:Sans-serif; font-style: oblique; text-shadow: 0 0 3px white, 0 0 1px Black;\">\n",
    "   Basic Types (Fundamental Building Blocks)\n",
    "</h1>"
   ]
  },
  {
   "cell_type": "raw",
   "id": "6c7d5387-b62e-41ed-b3c5-8ffd4503347e",
   "metadata": {},
   "source": [
    "C Programming Language Data Types\n",
    "\n",
    "1. Types Overview\n",
    "   ├── Object Types\n",
    "   │   ├── Basic Types (Fundamental Building Blocks)\n",
    "   │   │   ├── Character Types\n",
    "   │   │   │   ├── char\n",
    "   │   │   │   ├── signed char\n",
    "   │   │   │   └── unsigned char\n",
    "   │   │   ├── Signed Integer Types\n",
    "   │   │   │   ├── signed char\n",
    "   │   │   │   ├── short int (short)\n",
    "   │   │   │   ├── int\n",
    "   │   │   │   ├── long int (long)\n",
    "   │   │   │   └── long long int\n",
    "   │   │   ├── Unsigned Integer Types\n",
    "   │   │   │   ├── unsigned char\n",
    "   │   │   │   ├── unsigned short int (unsigned short)\n",
    "   │   │   │   ├── unsigned int\n",
    "   │   │   │   ├── unsigned long int (unsigned long)\n",
    "   │   │   │   └── unsigned long long int\n",
    "   │   │   ├── Floating Types\n",
    "   │   │   │   ├── float\n",
    "   │   │   │   ├── double\n",
    "   │   │   │   └── long double\n",
    "   │   │   └── Boolean Type (C99)\n",
    "   │   │       └── _Bool (from stdbool.h, expands to bool)\n",
    "   │   │           ├── true\n",
    "   │   │           └── false\n",
    "   │   └── Derived Types\n",
    "   │       ├── Enumerated Type\n",
    "   │       │   └── enum { constants }\n",
    "   │       ├── Array Type\n",
    "   │       │   └── array of element type (e.g., int arr[])\n",
    "   │       ├── Structure Type\n",
    "   │       │   └── struct { members }\n",
    "   │       ├── Union Type\n",
    "   │       │   └── union { overlapping members }\n",
    "   │       ├── Function Type\n",
    "   │       │   └── function signature and return type (e.g., int func(int))\n",
    "   │       └── Pointer Type\n",
    "   │           └── pointer to object type or function type (e.g., int *ptr)\n",
    "   \n",
    "2. Function Types\n",
    "   └── Function Signature and Parameters\n",
    "       ├── Function Name\n",
    "       ├── Return Type\n",
    "       ├── Parameter List\n",
    "       └── Function Body (Code Block)\n",
    "   \n",
    "3. Atomic Types (C11)\n",
    "   └── atomic types for lock-free thread-safe operations\n",
    "       └── atomic_int, atomic_bool, etc.\n",
    "   \n",
    "4. Incomplete Types\n",
    "   ├── Arrays of Unknown Size (e.g., int arr[] with unspecified size)\n",
    "   └── Incomplete Structs/Unions (forward declaration without members)\n",
    "   \n",
    "5. Qualifiers\n",
    "   ├── const (constant value, cannot be modified)\n",
    "   ├── volatile (value can be changed unexpectedly, e.g., hardware registers)\n",
    "   ├── restrict (C99, hints that the pointer is the only reference to the object)\n",
    "   └── atomic (C11, operations are atomic, for thread safety)\n"
   ]
  }
 ],
 "metadata": {
  "kernelspec": {
   "display_name": "C++17",
   "language": "C++17",
   "name": "xcpp17"
  },
  "language_info": {
   "codemirror_mode": "text/x-c++src",
   "file_extension": ".cpp",
   "mimetype": "text/x-c++src",
   "name": "c++",
   "version": "17"
  }
 },
 "nbformat": 4,
 "nbformat_minor": 5
}
