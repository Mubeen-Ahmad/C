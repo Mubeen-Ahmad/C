{
 "cells": [
  {
   "cell_type": "markdown",
   "id": "e00bd0f2-2f76-4082-ba49-ba570bace11b",
   "metadata": {},
   "source": [
    "<h1 style=\"text-align:center; color:#005bbd; font-size:30px; font-family:Sans-serif; font-style: oblique; text-shadow: 0 0 3px white, 0 0 1px Black;\">\n",
    "  Relational Operators\n",
    "</h1>"
   ]
  },
  {
   "cell_type": "markdown",
   "id": "50a1931f-4d7c-400c-877f-9d869052e8ed",
   "metadata": {},
   "source": [
    "<body style=\"font-family: Sans-serif;\">\n",
    "    <div style=\"color: black; font-size: 18px; font-style: oblique; text-shadow: 0 0 3px white, 0 0 1px black; padding: 20px;\">\n",
    "        Relational operators ka use two values ke beech comparison karne ke liye hota hai.<br>In operators ka result true (1) ya false (0) hota hai, jo Boolean logic ke according hota hai.\n",
    "</div>\n",
    "<body>"
   ]
  },
  {
   "cell_type": "markdown",
   "id": "ca372708-e344-4c02-8f9d-bfd2cc13b886",
   "metadata": {},
   "source": [
    "<body style=\"font-family: Sans-serif;\">\n",
    "    <div style=\"color: black; font-size: 18px; font-style: oblique; text-shadow: 0 0 3px white, 0 0 1px black; padding: 20px;\">\n",
    "        <h3>Equal to ==</h3>\n",
    "        <ul><li>a == b</li>\n",
    "            <li>== operator ko equal to operator kehte hain. Iska use two values ko compare karne ke liye hota hai.</li>\n",
    "            <li>Agar dono values barabar hain, toh result true (1) hota hai, aur agar dono values barabar nahi hoti, toh result false (0) hota hai.</li>\n",
    "        </ul>\n",
    "    </div>\n",
    "    \n",
    "<body>"
   ]
  },
  {
   "cell_type": "code",
   "execution_count": 2,
   "id": "154b07ed-929e-481f-8291-97e420db7890",
   "metadata": {
    "tags": []
   },
   "outputs": [
    {
     "name": "stdout",
     "output_type": "stream",
     "text": [
      "1"
     ]
    }
   ],
   "source": [
    "#include <stdio.h>\n",
    "int main(){\n",
    "    \n",
    "    int x = 2;\n",
    "    int y = 2;\n",
    "\n",
    "    printf(\"%d\",x == y);\n",
    "    \n",
    "    return 0;\n",
    "}"
   ]
  },
  {
   "cell_type": "code",
   "execution_count": 3,
   "id": "66ad9881-ec54-4f3c-bb8a-31137d324bc5",
   "metadata": {
    "tags": []
   },
   "outputs": [
    {
     "name": "stdout",
     "output_type": "stream",
     "text": [
      "x is Not Equal to y"
     ]
    }
   ],
   "source": [
    "#include <stdio.h>\n",
    "int main(){\n",
    "    \n",
    "    int x = 2;\n",
    "    int y = 3;\n",
    "    \n",
    "    if (x == y){\n",
    "        printf(\"x is Equal to y\");\n",
    "    }\n",
    "    else{\n",
    "        printf(\"x is Not Equal to y\");\n",
    "    }\n",
    "    \n",
    "    return 0;\n",
    "}"
   ]
  },
  {
   "cell_type": "markdown",
   "id": "f6cbf9c4-d106-4f94-b6de-0af1d9d49aeb",
   "metadata": {},
   "source": [
    "<body style=\"font-family: Sans-serif;\">\n",
    "    <div style=\"color: black; font-size: 18px; font-style: oblique; text-shadow: 0 0 3px white, 0 0 1px black; padding: 20px;\">\n",
    "        <h3>Not Equal !=</h3>\n",
    "        <ul><li>a != b</li>\n",
    "            <li>!= operator ko not equal to operator kehte hain. Iska use two values ko compare karne ke liye hota hai.</li>\n",
    "            <li> Agar dono values barabar nahi hoti, toh result true (1) hota hai, aur agar dono values barabar hoti hain, toh result false (0) hota hai.</li>\n",
    "        </ul>\n",
    "    </div>\n",
    "    \n",
    "<body>"
   ]
  },
  {
   "cell_type": "code",
   "execution_count": 4,
   "id": "897ccf1b-c6d4-4b10-835c-1e5f3de8591e",
   "metadata": {
    "tags": []
   },
   "outputs": [
    {
     "name": "stdout",
     "output_type": "stream",
     "text": [
      "0"
     ]
    }
   ],
   "source": [
    "#include <stdio.h>\n",
    "int main(){\n",
    "    \n",
    "    int x = 2;\n",
    "    int y = 2;\n",
    "\n",
    "    printf(\"%d\",x != y);\n",
    "    return 0;\n",
    "}"
   ]
  },
  {
   "cell_type": "code",
   "execution_count": 6,
   "id": "ecdb1c0d-3e09-41f1-8e7f-8f4fa4cfae99",
   "metadata": {
    "tags": []
   },
   "outputs": [
    {
     "name": "stdout",
     "output_type": "stream",
     "text": [
      "x is Not Equal to y"
     ]
    }
   ],
   "source": [
    "#include <stdio.h>\n",
    "int main(){\n",
    "    \n",
    "    int x = 2;\n",
    "    int y = 3;\n",
    "    \n",
    "    if (x != y){\n",
    "        printf(\"x is Not Equal to y\");\n",
    "    }\n",
    "    else{\n",
    "        printf(\"x is Equal to y\");\n",
    "    }\n",
    "    \n",
    "    return 0;\n",
    "}"
   ]
  },
  {
   "cell_type": "markdown",
   "id": "74e13e56-d05a-4693-a614-709c47e9d33d",
   "metadata": {},
   "source": [
    "<body style=\"font-family: Sans-serif;\">\n",
    "    <div style=\"color: black; font-size: 18px; font-style: oblique; text-shadow: 0 0 3px white, 0 0 1px black; padding: 20px;\">\n",
    "        <h3>Greater Than ></h3>\n",
    "        <ul><li>a > b</li>\n",
    "            <li> > operator ko greater than operator kehte hain. Iska use two values ko compare karne ke liye hota hai. </li>\n",
    "            <li>Agar pehli value dusri value se bari hoti hai, toh result true (1) hota hai, aur agar nahi hoti, toh result false (0) hota hai.</li>\n",
    "        </ul>\n",
    "    </div>\n",
    "    \n",
    "<body>"
   ]
  },
  {
   "cell_type": "code",
   "execution_count": 7,
   "id": "6458c08a-e62b-48e6-aa3a-9f3cd7faf368",
   "metadata": {
    "tags": []
   },
   "outputs": [
    {
     "name": "stdout",
     "output_type": "stream",
     "text": [
      "0"
     ]
    }
   ],
   "source": [
    "#include <stdio.h>\n",
    "int main(){\n",
    "    \n",
    "    int x = 2;\n",
    "    int y = 2;\n",
    "\n",
    "    printf(\"%d\",x > y);\n",
    "    return 0;\n",
    "}"
   ]
  },
  {
   "cell_type": "code",
   "execution_count": 8,
   "id": "465ca3d8-58b1-4e81-abff-c55ec14d6e35",
   "metadata": {
    "tags": []
   },
   "outputs": [
    {
     "name": "stdout",
     "output_type": "stream",
     "text": [
      "x is Not Greater Than y"
     ]
    }
   ],
   "source": [
    "#include <stdio.h>\n",
    "int main(){\n",
    "    \n",
    "    int x = 2;\n",
    "    int y = 3;\n",
    "    \n",
    "    if (x > y){\n",
    "        printf(\"x is Greater Than y\");\n",
    "    }\n",
    "    else{\n",
    "        printf(\"x is Not Greater Than y\");\n",
    "    }\n",
    "    \n",
    "    return 0;\n",
    "}"
   ]
  },
  {
   "cell_type": "markdown",
   "id": "c6985de8-e9db-4004-b283-3d32cae0e9d5",
   "metadata": {},
   "source": [
    "<body style=\"font-family: Sans-serif;\">\n",
    "    <div style=\"color: black; font-size: 18px; font-style: oblique; text-shadow: 0 0 3px white, 0 0 1px black; padding: 20px;\">\n",
    "        <h3>Greater Than Equal >=</h3>\n",
    "        <ul><li>a >= b</li>\n",
    "            <li> >= operator ko greater than or equal to operator kehte hain. Iska use two values ko compare karne ke liye hota hai.</li>\n",
    "            <li>Agar pehli value dusri value se bari ya barabar hoti hai, toh result true (1) hota hai, aur agar nahi hoti, toh result false (0) hota hai.</li>\n",
    "        </ul>\n",
    "    </div>\n",
    "    \n",
    "<body>"
   ]
  },
  {
   "cell_type": "code",
   "execution_count": 10,
   "id": "08c04de1-dbd5-4545-8940-c2a18ea6b941",
   "metadata": {
    "tags": []
   },
   "outputs": [
    {
     "name": "stdout",
     "output_type": "stream",
     "text": [
      "1"
     ]
    }
   ],
   "source": [
    "#include <stdio.h>\n",
    "int main(){\n",
    "    \n",
    "    int x = 2;\n",
    "    int y = 2;\n",
    "\n",
    "    printf(\"%d\",x >= y);\n",
    "    return 0;\n",
    "}"
   ]
  },
  {
   "cell_type": "code",
   "execution_count": 18,
   "id": "1f48d4bb-d4ba-4e50-a36f-38de83d9dc4e",
   "metadata": {
    "tags": []
   },
   "outputs": [
    {
     "name": "stdout",
     "output_type": "stream",
     "text": [
      "x is Greater Than or Equal to y"
     ]
    }
   ],
   "source": [
    "#include <stdio.h>\n",
    "int main(){\n",
    "    \n",
    "    int x = 2;\n",
    "    int y = 2;\n",
    "    \n",
    "    if (x >= y){\n",
    "        printf(\"x is Greater Than or Equal to y\");\n",
    "    }\n",
    "    else{\n",
    "        printf(\"x is Not Greater Than or Equal to y\");\n",
    "    }\n",
    "    \n",
    "    return 0;\n",
    "}"
   ]
  },
  {
   "cell_type": "markdown",
   "id": "cf5a49dc-ce91-43b4-a362-71e99e7d2b77",
   "metadata": {},
   "source": [
    "<body style=\"font-family: Sans-serif;\">\n",
    "    <div style=\"color: black; font-size: 18px; font-style: oblique; text-shadow: 0 0 3px white, 0 0 1px black; padding: 20px;\">\n",
    "        <h3>Less Than < </h3>\n",
    "        <ul><li>a < b</li>\n",
    "            <li> < operator ko less than operator kehte hain. Iska use two values ko compare karne ke liye hota hai.</li>\n",
    "            <li>Agar pehli value dusri value se chhoti hoti hai, toh result true (1) hota hai, aur agar nahi hoti, toh result false (0) hota hai.</li>\n",
    "        </ul>\n",
    "    </div>\n",
    "    \n",
    "<body>"
   ]
  },
  {
   "cell_type": "code",
   "execution_count": 13,
   "id": "565c8ce2-2039-4e46-a1c2-22fe08496377",
   "metadata": {
    "tags": []
   },
   "outputs": [
    {
     "name": "stdout",
     "output_type": "stream",
     "text": [
      "0"
     ]
    }
   ],
   "source": [
    "#include <stdio.h>\n",
    "int main(){\n",
    "    \n",
    "    int x = 2;\n",
    "    int y = 2;\n",
    "\n",
    "    printf(\"%d\",x < y);\n",
    "    return 0;\n",
    "}"
   ]
  },
  {
   "cell_type": "code",
   "execution_count": 14,
   "id": "bff99f4d-185c-4842-8ffb-2244d79a85d6",
   "metadata": {
    "tags": []
   },
   "outputs": [
    {
     "name": "stdout",
     "output_type": "stream",
     "text": [
      "x is Less Than y"
     ]
    }
   ],
   "source": [
    "#include <stdio.h>\n",
    "int main(){\n",
    "    \n",
    "    int x = 2;\n",
    "    int y = 2;\n",
    "    \n",
    "    if (x >= y){\n",
    "        printf(\"x is Less Than y\");\n",
    "    }\n",
    "    else{\n",
    "        printf(\"x is Not Less Than y\");\n",
    "    }\n",
    "    \n",
    "    return 0;\n",
    "}"
   ]
  },
  {
   "cell_type": "markdown",
   "id": "7e506c11-a027-437e-8110-f493ba050c27",
   "metadata": {},
   "source": [
    "<body style=\"font-family: Sans-serif;\">\n",
    "    <div style=\"color: black; font-size: 18px; font-style: oblique; text-shadow: 0 0 3px white, 0 0 1px black; padding: 20px;\">\n",
    "        <h3>Less Than Equal <= </h3>\n",
    "        <ul><li>a <= b</li>\n",
    "            <li> <= operator ko less than or equal to operator kehte hain. Iska use do values ko compare karne ke liye hota hai.</li>\n",
    "            <li>Agar pehli value dusri value se chhoti ya barabar hoti hai, toh result true (1) hota hai, aur agar nahi hoti, toh result false (0) hota hai.</li>\n",
    "        </ul>\n",
    "    </div>\n",
    "<body>"
   ]
  },
  {
   "cell_type": "code",
   "execution_count": 15,
   "id": "de8c7a47-a82a-4020-93d7-9a85bb25c0a7",
   "metadata": {
    "tags": []
   },
   "outputs": [
    {
     "name": "stdout",
     "output_type": "stream",
     "text": [
      "1"
     ]
    }
   ],
   "source": [
    "#include <stdio.h>\n",
    "int main(){\n",
    "    \n",
    "    int x = 2;\n",
    "    int y = 2;\n",
    "\n",
    "    printf(\"%d\",x <= y);\n",
    "    return 0;\n",
    "}"
   ]
  },
  {
   "cell_type": "code",
   "execution_count": 17,
   "id": "278afea3-f99c-4909-b84b-0dce41d58487",
   "metadata": {
    "tags": []
   },
   "outputs": [
    {
     "name": "stdout",
     "output_type": "stream",
     "text": [
      "x is Less Than or Equal to y"
     ]
    }
   ],
   "source": [
    "#include <stdio.h>\n",
    "int main(){\n",
    "    \n",
    "    int x = 2;\n",
    "    int y = 2;\n",
    "    \n",
    "    if (x <= y){\n",
    "        printf(\"x is Less Than or Equal to y\");\n",
    "    }\n",
    "    else{\n",
    "        printf(\"x is Not Less Than or Equal to y\");\n",
    "    }\n",
    "    \n",
    "    return 0;\n",
    "}"
   ]
  },
  {
   "cell_type": "markdown",
   "id": "e4d94596-ed47-447b-8f68-dd06b9fe3223",
   "metadata": {},
   "source": [
    "<h1 style=\"text-align:center; color:#005bbd; font-size:30px; font-family:Sans-serif; font-style: oblique; text-shadow: 0 0 3px white, 0 0 1px Black;\">\n",
    "  Precedence\n",
    "</h1>"
   ]
  },
  {
   "cell_type": "markdown",
   "id": "a55a2977-7ec2-4323-a3c4-2865f8d52d21",
   "metadata": {},
   "source": [
    "\n",
    "<head>\n",
    "    <meta charset=\"UTF-8\">\n",
    "    <meta name=\"viewport\" content=\"width=device-width, initial-scale=1.0\">\n",
    "\n",
    "</head>\n",
    "<body>\n",
    "<table>\n",
    "    <thead>\n",
    "        <tr>\n",
    "            <th>Precedence Level</th>\n",
    "            <th>Operators</th>\n",
    "            <th>Description</th>\n",
    "        </tr>\n",
    "    </thead>\n",
    "    <tbody>\n",
    "        <tr>\n",
    "            <td>1</td>\n",
    "            <td><, <=, >, >=</td>\n",
    "            <td>Less than, Less than or equal to, Greater than, Greater than or equal to</td>\n",
    "        </tr>\n",
    "        <tr>\n",
    "            <td>2</td>\n",
    "            <td>==, !=</td>\n",
    "            <td>Equal to, Not equal to</td>\n",
    "        </tr>\n",
    "    </tbody>\n",
    "    \n",
    "</table>\n",
    "\n",
    "</body>\n",
    "</html>\n"
   ]
  },
  {
   "cell_type": "markdown",
   "id": "8a3751cc-3196-4396-843b-f040eda859a6",
   "metadata": {},
   "source": [
    "<body style=\"font-family: Sans-serif;\">\n",
    "    <div style=\"color: black; font-size: 18px; font-style: oblique; text-shadow: 0 0 3px white, 0 0 1px black; padding: 20px;\">\n",
    "    Agar kisi expression mein <, <=, >, >= aur ==, != dono types ke operators hoon, toh <, <=, >, >= waale operators ki calculation pehle hogi.\n",
    "    </div>\n",
    "<body>"
   ]
  },
  {
   "cell_type": "code",
   "execution_count": 20,
   "id": "1402f702-edea-4916-9147-3ea044a8107f",
   "metadata": {
    "tags": []
   },
   "outputs": [
    {
     "name": "stdout",
     "output_type": "stream",
     "text": [
      "1"
     ]
    }
   ],
   "source": [
    "#include <stdio.h>\n",
    "int main(){\n",
    "    printf(\"%d\",2 > 5 == 0);\n",
    "    return 0;\n",
    "}"
   ]
  },
  {
   "cell_type": "code",
   "execution_count": 21,
   "id": "c87ed42a-e98a-4ddb-973a-754d61d5761a",
   "metadata": {
    "tags": []
   },
   "outputs": [
    {
     "name": "stdout",
     "output_type": "stream",
     "text": [
      "1"
     ]
    }
   ],
   "source": [
    "#include <stdio.h>\n",
    "int main(){\n",
    "    printf(\"%d\",10 >= 20 != 25);\n",
    "    return 0;\n",
    "}"
   ]
  },
  {
   "cell_type": "markdown",
   "id": "af25fd7d-a1a1-4761-8c1a-1d500f45065a",
   "metadata": {},
   "source": [
    "<img style=\"display: block;margin-left: auto;margin-right: auto;width: 80%;\" src=\"./images/ar_precedence.jpg\">"
   ]
  },
  {
   "cell_type": "markdown",
   "id": "f19f44e5-2057-4ae3-b40e-c1cd43a03924",
   "metadata": {},
   "source": [
    "<body style=\"font-family: Sans-serif;\">\n",
    "    <div style=\"color: black; font-size: 18px; font-style: oblique; text-shadow: 0 0 3px white, 0 0 1px black; padding: 20px;\">\n",
    "Parentheses () ka use karke aap low precedence operators ko high priority de sakte hain, jis se wo operators pehle evaluate honge, chahe unki precedence lower ho.    </div>\n",
    "<body>"
   ]
  },
  {
   "cell_type": "code",
   "execution_count": 22,
   "id": "f48827b3-e642-42f9-902a-2b1268691028",
   "metadata": {
    "tags": []
   },
   "outputs": [
    {
     "name": "stdout",
     "output_type": "stream",
     "text": [
      "0"
     ]
    }
   ],
   "source": [
    "#include <stdio.h>\n",
    "int main(){\n",
    "    printf(\"%d\",3 == 5 > 1);\n",
    "    return 0;\n",
    "}"
   ]
  },
  {
   "cell_type": "code",
   "execution_count": 24,
   "id": "f4bbfb51-01a0-4fb6-ac36-d9978e939322",
   "metadata": {
    "tags": []
   },
   "outputs": [
    {
     "name": "stdout",
     "output_type": "stream",
     "text": [
      "0"
     ]
    }
   ],
   "source": [
    "#include <stdio.h>\n",
    "int main(){\n",
    "    printf(\"%d\",(3 == 5) > 1);\n",
    "    return 0;\n",
    "}"
   ]
  },
  {
   "cell_type": "markdown",
   "id": "1706577d-6bed-4f2c-9f9c-98a8db1fdf79",
   "metadata": {},
   "source": [
    "<img style=\"display: block;margin-left: auto;margin-right: auto;width: 80%;\" src=\"./images/rel_par.jpg\">"
   ]
  },
  {
   "cell_type": "code",
   "execution_count": 25,
   "id": "966278cf-4ef4-4b04-b01a-ce8602d0fb85",
   "metadata": {
    "tags": []
   },
   "outputs": [
    {
     "name": "stdout",
     "output_type": "stream",
     "text": [
      "Condition Not Executed"
     ]
    }
   ],
   "source": [
    "#include <stdio.h>\n",
    "int main(){\n",
    "    \n",
    "    int x = 2;\n",
    "    int y = 4;\n",
    "    int z = 3;\n",
    "    \n",
    "    // x >= y = 0\n",
    "    // 0 == z 0 means False Condition Not Executed\n",
    "    if ( x >= y == z){\n",
    "        printf(\"Condiiton are Executed\");\n",
    "    }\n",
    "    else{\n",
    "        printf(\"Condition Not Executed\");\n",
    "    }\n",
    "    \n",
    "    \n",
    "    return 0;\n",
    "}\n",
    "main();"
   ]
  },
  {
   "cell_type": "code",
   "execution_count": 28,
   "id": "a60351ab-7aaf-4a60-9f08-dcbfdd337693",
   "metadata": {
    "tags": []
   },
   "outputs": [
    {
     "name": "stdout",
     "output_type": "stream",
     "text": [
      "Condiiton are Executed"
     ]
    }
   ],
   "source": [
    "#include <stdio.h>\n",
    "int main(){\n",
    "    \n",
    "    int x = 2;\n",
    "    int y = 4;\n",
    "    int z = 3;\n",
    "    \n",
    "    // 2 >= 0 \n",
    "    // x >= 0 ?\n",
    "    // 2 >= 0 -> 1\n",
    "    \n",
    "    if ( x >= (y == z) ){\n",
    "        printf(\"Condiiton are Executed\");\n",
    "    }\n",
    "    else{\n",
    "        printf(\"Condition Not Executed\");\n",
    "    }\n",
    "    \n",
    "    \n",
    "    return 0;\n",
    "}"
   ]
  },
  {
   "cell_type": "markdown",
   "id": "97b6ccac-b7df-476e-bbfc-9b327b18ba6b",
   "metadata": {},
   "source": [
    "<img style=\"display: block;margin-left: auto;margin-right: auto;width: 80%;\" src=\"./images/rel_par_exp.jpg\">"
   ]
  },
  {
   "cell_type": "markdown",
   "id": "80b90e9f-f110-428c-b1b7-4e1caef84af3",
   "metadata": {},
   "source": [
    "<h1 style=\"text-align:center; color:#005bbd; font-size:30px; font-family:Sans-serif; font-style: oblique; text-shadow: 0 0 3px white, 0 0 1px Black;\">\n",
    "   Associativity\n",
    "</h1>"
   ]
  },
  {
   "cell_type": "markdown",
   "id": "cd0e5380-c5f4-449e-8e7d-c79872e4aa85",
   "metadata": {},
   "source": [
    "<body style=\"font-family: Sans-serif;\">\n",
    "    <div style=\"color: black; font-size: 18px; font-style: oblique; text-shadow: 0 0 3px white, 0 0 1px black; padding: 20px;\">\n",
    "Relational operators (<, <=, >, >=, ==, !=) ki associativity left to right hoti hai.\n",
    "        <br>Iska matlab hai ke jab multiple relational operators ek hi expression mein hoon aur unki precedence same ho, toh unhe left se right order mein evaluate kiya jata hai.\n",
    "    </div>\n",
    "<body>"
   ]
  },
  {
   "cell_type": "markdown",
   "id": "1bec75c7-57c2-4f01-96db-fa0499ff2551",
   "metadata": {},
   "source": [
    "<!DOCTYPE html>\n",
    "<html lang=\"en\">\n",
    "<head>\n",
    "    <meta charset=\"UTF-8\">\n",
    "    <meta name=\"viewport\" content=\"width=device-width, initial-scale=1.0\">\n",
    "\n",
    "</head>\n",
    "<body>\n",
    "    <table>\n",
    "        <tr>\n",
    "            <th>Operator</th>\n",
    "            <th>Description</th>\n",
    "            <th>Precedence</th>\n",
    "            <th>Associativity</th>\n",
    "        </tr>\n",
    "        <tr>\n",
    "            <td>&lt;</td>\n",
    "            <td>Less than</td>\n",
    "            <td>Higher</td>\n",
    "            <td>Left to Right</td>\n",
    "        </tr>\n",
    "        <tr>\n",
    "            <td>&lt;=</td>\n",
    "            <td>Less than or equal to</td>\n",
    "            <td>Higher</td>\n",
    "            <td>Left to Right</td>\n",
    "        </tr>\n",
    "        <tr>\n",
    "            <td>&gt;</td>\n",
    "            <td>Greater than</td>\n",
    "            <td>Higher</td>\n",
    "            <td>Left to Right</td>\n",
    "        </tr>\n",
    "        <tr>\n",
    "            <td>&gt;=</td>\n",
    "            <td>Greater than or equal to</td>\n",
    "            <td>Higher</td>\n",
    "            <td>Left to Right</td>\n",
    "        </tr>\n",
    "        <tr>\n",
    "            <td>==</td>\n",
    "            <td>Equal to</td>\n",
    "            <td>Lower</td>\n",
    "            <td>Left to Right</td>\n",
    "        </tr>\n",
    "        <tr>\n",
    "            <td>!=</td>\n",
    "            <td>Not equal to</td>\n",
    "            <td>Lower</td>\n",
    "            <td>Left to Right</td>\n",
    "        </tr>\n",
    "    </table>\n",
    "</body>\n",
    "</html>\n"
   ]
  },
  {
   "cell_type": "markdown",
   "id": "2df93fa5-336e-4fec-801b-b2d821fb4019",
   "metadata": {},
   "source": [
    "<body style=\"font-family: Sans-serif;\">\n",
    "    <div style=\"color: black; font-size: 18px; font-style: oblique; text-shadow: 0 0 3px white, 0 0 1px black; padding: 20px;\">\n",
    "    E.g Agar < aur > jaise relational operators ek hi expression mein aajay, toh associativity ka rule kaam karega.\n",
    "    <br>Relational operators ki associativity left to right hoti hai, iska matlab hai ke jab multiple relational operators (e.g., <, >) ek hi expression mein hon, toh pehle left-most operator evaluate hoga.\n",
    "    </div>\n",
    "<body>"
   ]
  },
  {
   "cell_type": "markdown",
   "id": "d965e7c6-960a-4678-adaa-81358d6e5c6d",
   "metadata": {},
   "source": [
    "<img style=\"display: block;margin-left: auto;margin-right: auto;width: 80%;\" src=\"./images/rel_associvity.jpg\">"
   ]
  },
  {
   "cell_type": "code",
   "execution_count": 30,
   "id": "bc945edc-6666-4ff2-b081-e3e437010f79",
   "metadata": {
    "tags": []
   },
   "outputs": [
    {
     "name": "stdout",
     "output_type": "stream",
     "text": [
      "0"
     ]
    }
   ],
   "source": [
    "#include <stdio.h>\n",
    "\n",
    "int main(){\n",
    "    \n",
    "    printf(\"%d\", 5 < 10 > 15);\n",
    "}"
   ]
  },
  {
   "cell_type": "code",
   "execution_count": 29,
   "id": "477ba9ef-441d-4c53-9137-bf5965300ff2",
   "metadata": {
    "tags": []
   },
   "outputs": [
    {
     "name": "stdout",
     "output_type": "stream",
     "text": [
      "Condition is false\n"
     ]
    }
   ],
   "source": [
    "#include <stdio.h>\n",
    "\n",
    "int main() {\n",
    "\n",
    "    int a = 5, b = 10, c = 15;\n",
    "\n",
    "    if (a < b > c) {\n",
    "        printf(\"Condition is true\\n\");\n",
    "    } \n",
    "    \n",
    "    else {\n",
    "        printf(\"Condition is false\\n\");\n",
    "    }\n",
    "\n",
    "    return 0;\n",
    "}"
   ]
  }
 ],
 "metadata": {
  "kernelspec": {
   "display_name": "C++17",
   "language": "C++17",
   "name": "xcpp17"
  },
  "language_info": {
   "codemirror_mode": "text/x-c++src",
   "file_extension": ".cpp",
   "mimetype": "text/x-c++src",
   "name": "c++",
   "version": "17"
  }
 },
 "nbformat": 4,
 "nbformat_minor": 5
}
