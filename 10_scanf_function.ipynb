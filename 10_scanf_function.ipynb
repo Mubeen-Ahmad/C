{
 "cells": [
  {
   "cell_type": "markdown",
   "id": "0e8c22cf-81b8-458a-90aa-383fe796eb36",
   "metadata": {},
   "source": [
    "<h1 style=\"text-align:center; color:#005bbd; font-size:30px; font-family:Sans-serif; font-style: oblique; text-shadow: 0 0 3px white, 0 0 1px Black;\">\n",
    "   scanf Function \n",
    "</h1>"
   ]
  },
  {
   "cell_type": "markdown",
   "id": "bb9fe4e0-20fc-4d87-b7d8-bd2dd3ece203",
   "metadata": {},
   "source": [
    "<body style=\"font-family: Sans-serif;\">\n",
    "    <div style=\"color: black; font-size: 18px; font-style: oblique; text-shadow: 0 0 3px white, 0 0 1px black; padding: 20px;\">\n",
    "        <ul>\n",
    "            <li>scanf ek standard input function hai jo C language me input read karne ke liye use hota hai. Iska kaam yeh hota hai ke user se data le aur usay specified variables me store kare, jo program ke aage use ke liye available hota hai.</li><br>\n",
    "            <li> Syntax : int scanf(const char *format, ...);</li><br>\n",
    "            <li>const char *format: Format string hoti hai jo define karti hai ke input kis tarah ka hoga, jaise %d integer ke liye, %f float ke liye, %c character ke liye, etc.</li><br>\n",
    "            <li>... Yeh variable list hoti hai jisme tum un variables ke addresses pass karte ho jahan input store hoga. Aapko & ka use karna hoga  har variable ke sath taake memory address pass ho.</li>\n",
    "</ul>\n"
   ]
  },
  {
   "cell_type": "code",
   "execution_count": 31,
   "id": "2f714274-eeeb-4e6d-a602-b6abf254e27c",
   "metadata": {},
   "outputs": [
    {
     "name": "stdout",
     "output_type": "stream",
     "text": [
      "6"
     ]
    },
    {
     "data": {
      "text/plain": []
     },
     "execution_count": 31,
     "metadata": {},
     "output_type": "execute_result"
    }
   ],
   "source": [
    "#include <stdio.h>\n",
    "int main(){\n",
    "    int number;\n",
    "    scanf(\"%d\",&number);\n",
    "    return 0;\n",
    "}"
   ]
  },
  {
   "cell_type": "markdown",
   "id": "280884c4-567d-415c-b3de-7e6e28aaaf54",
   "metadata": {},
   "source": [
    "<body style=\"font-family: Sans-serif;\">\n",
    "    <div style=\"color: black; font-size: 18px; font-style: oblique; text-shadow: 0 0 3px white, 0 0 1px black; padding: 20px;\">\n",
    "        <ul>\n",
    "            <li>Yaha maine 6 enter kiya hai, jo number mein store ho gaya hai.</li>\n",
    "</ul>\n"
   ]
  },
  {
   "cell_type": "code",
   "execution_count": 34,
   "id": "0a0e82f2-738a-4d94-83d5-0181de8cac3d",
   "metadata": {},
   "outputs": [
    {
     "name": "stdout",
     "output_type": "stream",
     "text": [
      "Enter the Number :-  3\n",
      "You Entered 3"
     ]
    }
   ],
   "source": [
    "#include <stdio.h>\n",
    "int main(){\n",
    "    int number;\n",
    "    printf(\"Enter the Number :- \");\n",
    "    scanf(\"%d\",&number);\n",
    "    printf(\"\\nYou Entered %d\",number);\n",
    "    return 0;\n",
    "}"
   ]
  },
  {
   "cell_type": "markdown",
   "id": "bee87a79-056b-4d37-9fb7-fff481fa5274",
   "metadata": {},
   "source": [
    "<body style=\"font-family: Sans-serif;\">\n",
    "    <div style=\"color: black; font-size: 18px; font-style: oblique; text-shadow: 0 0 3px white, 0 0 1px black; padding: 20px;\">\n",
    "        <ul>\n",
    "            <li>& operator ka istemal isliye kiya jata hai ke hum variable ka address pass karein, taake scanf us address par value store kar sake</li>\n",
    "</ul>\n"
   ]
  }
 ],
 "metadata": {
  "kernelspec": {
   "display_name": "C++17",
   "language": "C++17",
   "name": "xcpp17"
  },
  "language_info": {
   "codemirror_mode": "text/x-c++src",
   "file_extension": ".cpp",
   "mimetype": "text/x-c++src",
   "name": "c++",
   "version": "17"
  }
 },
 "nbformat": 4,
 "nbformat_minor": 5
}
