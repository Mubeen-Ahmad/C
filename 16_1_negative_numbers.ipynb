{
 "cells": [
  {
   "cell_type": "markdown",
   "id": "f7b1d4ea-98cf-4be8-8911-7761820a655d",
   "metadata": {},
   "source": [
    "<h1 style=\"text-align:center; color:#005bbd; font-size:30px; font-family:Sans-serif; font-style: oblique; text-shadow: 0 0 3px white, 0 0 1px Black;\">\n",
    "   Negative Numbers\n",
    "</h1>"
   ]
  },
  {
   "cell_type": "markdown",
   "id": "ca2370fa-c967-48ae-8bd3-b3de7da7a38f",
   "metadata": {},
   "source": [
    "<body style=\"font-family: Sans-serif;\">\n",
    "    <div style=\"color: black; font-size: 18px; font-style: oblique; text-shadow: 0 0 3px white, 0 0 1px black; padding: 20px;\">\n",
    "        Computers mein negative numbers ko represent karne ka concept kaafi interesting hai, aur iska background binary system aur encoding techniques mein deeply rooted hai\n",
    "            </li>\n",
    "</ul></div></body>\n",
    "\n"
   ]
  },
  {
   "cell_type": "markdown",
   "id": "2c5de69a-2f95-4670-9269-5e041d32c39d",
   "metadata": {},
   "source": [
    "<body style=\"font-family: Sans-serif;\">\n",
    "    <div style=\"color: black; font-size: 18px; font-style: oblique; text-shadow: 0 0 3px white, 0 0 1px black; padding: 20px;\">\n",
    "        <ul> <h3>Binary System ka Concept</h3>\n",
    "            <li>Computers binary system ko use karte hain kyunki unke paas sirf do states hoti hain: 0 (off) aur 1 (on).</li><br>\n",
    "            <li>Positive numbers ko represent karne ke liye, hum simply unka binary representation likhte hain. Example ke liye, 5 ka binary representation 101 hota hai.</li>\n",
    "                <br>\n",
    "            <li>Lekin binary system mein negative numbers represent karna complex ho sakta hai, kyunki 0 aur 1 mein kaise decide kiya jaye ke number positive hai ya negative?</li><br>\n",
    "</ul></div></body>\n",
    "\n"
   ]
  },
  {
   "cell_type": "markdown",
   "id": "845d4b80-7f8b-4cbb-8cfb-4ee61f177a66",
   "metadata": {
    "tags": []
   },
   "source": [
    "<body style=\"font-family: Sans-serif;\">\n",
    "    <div style=\"color: black; font-size: 18px; font-style: oblique; text-shadow: 0 0 3px white, 0 0 1px black; padding: 20px;\">\n",
    "        <ul> <h3>Negative Numbers Represent Karne ke Techniques</h3>\n",
    "            <li>Negative numbers ko binary form mein represent karne ke kuch main techniques hain:\n",
    "                <ul>\n",
    "                    <li>Sign-Magnitude Representation</li>\n",
    "                    <li>One's Complement + Two's Complement</li>\n",
    "                </ul>\n",
    "            </li><br>\n",
    "</ul></div></body>\n",
    "\n"
   ]
  },
  {
   "cell_type": "markdown",
   "id": "971219d9-bfe9-45b1-92eb-d4fab4d24645",
   "metadata": {},
   "source": [
    "<body style=\"font-family: Sans-serif;\">\n",
    "    <div style=\"color: black; font-size: 18px; font-style: oblique; text-shadow: 0 0 3px white, 0 0 1px black; padding: 20px;\">\n",
    "        <ul> \n",
    "        <h3>Sign-Magnitude Representation</h3>\n",
    "            <li>Is representation mein binary number ka sabse pehla bit (leftmost bit) \"sign bit\" hota hai.</li>\n",
    "            <li>Agar ye sign bit 0 hai, toh number positive hai.</li>\n",
    "            <li>Agar ye sign bit 1 hai, toh number negative hai.</li><br><br>\n",
    "            Is technique ka problem ye hai ke zero ko +0 aur -0 dono tarah se represent kiya ja sakta hai (0000 0000 aur 1000 0000), jo ambiguity create karta hai.\n",
    "        \n",
    "</ul></div></body>\n",
    "\n"
   ]
  },
  {
   "cell_type": "markdown",
   "id": "3f01e471-6f74-48e7-bc59-0a12305a018b",
   "metadata": {},
   "source": [
    "<img style=\"display: block;margin-left: auto;margin-right: auto;width: 60%;\" src=\"./images/magnitutde.jpg\">"
   ]
  },
  {
   "cell_type": "markdown",
   "id": "8532a7f4-9311-4ebf-be8e-e0a48b4f6f20",
   "metadata": {},
   "source": [
    "<body style=\"font-family: Sans-serif;\">\n",
    "    <div style=\"color: black; font-size: 18px; font-style: oblique; text-shadow: 0 0 3px white, 0 0 1px black; padding: 20px;\">\n",
    "        <ul> <h3>One's ,Second's Complement</h3>\n",
    "            <li>Is method mein positive aur negative numbers dono ko represent karne ka unique tariqa hota hai, aur ye sign-magnitude aur one's complement ke problems ko solve karta hai.\n",
    "                <ul>\n",
    "                    <li>Is mein bhi sign bit leftmost position par hota hai:</li><br>\n",
    "                    <li>Agar sign bit 0 hai toh number positive hai.</li>\n",
    "                    <li>Agar sign bit 1 hai toh number negative hai.</li>\n",
    "                </ul>\n",
    "            </li><br>\n",
    "            <li>step 1 Positive number ka binary form likho.</li>\n",
    "            <li>step 2 Uska one's complement nikaalo (sab bits flip kar do).</li>\n",
    "            <li>step 3 One's complement mein 1 add kar do.</li>\n",
    "            \n",
    "</ul></div></body>\n",
    "\n"
   ]
  },
  {
   "cell_type": "markdown",
   "id": "1903f2fd-040b-42ac-b5a0-ee9341913e19",
   "metadata": {
    "tags": []
   },
   "source": [
    "<img style=\"display: block;margin-left: auto;margin-right: auto;width: 60%;\" src=\"./images/2ndcomp.jpg\">"
   ]
  },
  {
   "cell_type": "markdown",
   "id": "cd9053e7-013b-4e40-8aa6-d4571504194c",
   "metadata": {},
   "source": [
    "<body style=\"font-family: Sans-serif;\">\n",
    "    <div style=\"color: black; font-size: 18px; font-style: oblique; text-shadow: 0 0 3px white, 0 0 1px black; padding: 20px;\">\n",
    "        <ul> <h3>Range of Values in Two's Complement</h3>\n",
    "            <li>Two's complement mein range ko samajhne ke liye, hum yeh dekhenge ke fixed bit-size mein negative aur positive values ko represent karne ka kya tariqa hota hai.\n",
    "                <ul>\n",
    "                    <li>Bit Count Ka Role: Agar n bits hain, toh:</li><br>\n",
    "                    <li>Minimum range: - (2^(n-1))</li>\n",
    "                    <li>Maximum range: + (2^(n-1) - 1)</li>\n",
    "                </ul>\n",
    "            </li><br>\n",
    "            Two's complement mein decide karne ka tareeqa ye hai ke binary numbers ka pehla (most significant) bit sign bit ke liye use hota hai. Agar wo bit 1 hai, toh number negative hoga, aur agar wo 0 hai, toh number positive hoga. Is rule ke basis par, jab hum n bits ki range calculate karte hain, toh lower bound -(2^(n-1)) aur upper bound +(2^(n-1) - 1) hota hai.\n",
    "</ul></div></body>\n",
    "\n"
   ]
  },
  {
   "cell_type": "markdown",
   "id": "7c304eb7-a451-4bfd-b089-71e30df9e9e8",
   "metadata": {},
   "source": [
    "<body style=\"font-family: Sans-serif;\">\n",
    "    <div style=\"color: black; font-size: 18px; font-style: oblique; text-shadow: 0 0 3px white, 0 0 1px black; padding: 20px;\">\n",
    "        <ul> <h3>Example: 8 aur -8 Kaise Decide Karte Hain?</h3>\n",
    "            <li>Two's complement mein range ko samajhne ke liye, hum yeh dekhenge ke fixed bit-size mein negative aur positive values ko represent karne ka kya tariqa hota hai.<br><br>\n",
    "                <ul>\n",
    "                    <li>Agar hum 8 ko binary mein represent karenge 4 bits mein, toh wo 1000 hota hai, lekin two's complement ke rules ke mutabiq ye representation valid nahi hai kyunki</li><br>\n",
    "                    <li>Left-most bit 1 hai, aur two's complement mein jab left-most bit 1 hoti hai toh wo negative number ko represent karta hai.</li><br>\n",
    "                    <li>Isliye, agar hum 8 ko two's complement mein store karna chahte hain toh humein 5 ya us se zyada bits chahiye. For example, 5-bit mein 01000 se 8 ko represent karenge (yahan left-most bit 0 hai).</li><br>\n",
    "                </ul>\n",
    "            </li><br>\n",
    "            <li>Step 2 : Negative number (-8) ko two's complement mein represent karne ke liye, hum ye steps follow karte hain:\n",
    "                <ul>\n",
    "                    <li>+8 ka binary likho (5-bits mein): 01000.</li>\n",
    "                    <li>Ab iska one's complement lo, yani har 0 ko 1 aur har 1 ko 0 se replace kar do: 10111.</li>\n",
    "                    <li>Ab is result mein +1 add karo:</li>\n",
    "                    <li>Toh 11000 two's complement representation hai -8 ka.</li>\n",
    "                </ul>\n",
    "            </li><br>\n",
    "            <li>Yahan pe hum n = 5 bits use kar rahe hain, toh two's complement range hogi:\n",
    "                <ul>\n",
    "            <li>Minimum: -16 (-(2^(5-1)) = -16)</li>\n",
    "            <li>Maximum: +15 ((2^(5-1) - 1 = +15)</li>\n",
    "            <ul></li><br>\n",
    "            <li>Toh hum ye keh sakte hain ke 5-bit two's complement mein -8 aur +8 donon represent ho sakte hain:\n",
    "                <ul>\n",
    "                    <li>01000 => +8</li>\n",
    "                    <li>11000 => -8</li>\n",
    "                </ul>\n",
    "</ul></div></body>\n",
    "\n"
   ]
  },
  {
   "cell_type": "markdown",
   "id": "4341b448-1782-4c7f-a215-b5ad21ae6f65",
   "metadata": {},
   "source": [
    "<img style=\"display: block;margin-left: auto;margin-right: auto;width: 80%;\" src=\"./images/deciderange.jpg\">"
   ]
  },
  {
   "cell_type": "markdown",
   "id": "4dd1274b-e37b-44ae-b3be-10ce457d4abb",
   "metadata": {},
   "source": [
    "<body style=\"font-family: Sans-serif;\">\n",
    "    <div style=\"color: black; font-size: 18px; font-style: oblique; text-shadow: 0 0 3px white, 0 0 1px black; padding: 20px;\">\n",
    "        <ul> <h3>Agar range mein value fit na ho to phir kya kia jaye?</h3>\n",
    "            <li>e.g 4 bits ki maximum range 7 hai, aur aapko is se badi value (jaise ke 8) represent karni hai, toh aapko bit count ko 4 se badha kar 8 bits mein le jaana padega. 8 bits ka use karke, aap 0 se 255 tak values ko represent kar sakte hain (unsigned case mein) ya -128 se 127 tak (signed case mein).<br><br>\n",
    "                \n",
    "</ul></div></body>\n",
    "\n"
   ]
  },
  {
   "cell_type": "markdown",
   "id": "b59cf8db-610a-4824-8824-cd0a82212c77",
   "metadata": {},
   "source": [
    "<img style=\"display: block;margin-left: auto;margin-right: auto;width: 70%;\" src=\"./images/overrange.jpg\">"
   ]
  }
 ],
 "metadata": {
  "kernelspec": {
   "display_name": "C++17",
   "language": "C++17",
   "name": "xcpp17"
  },
  "language_info": {
   "codemirror_mode": "text/x-c++src",
   "file_extension": ".cpp",
   "mimetype": "text/x-c++src",
   "name": "c++",
   "version": "17"
  }
 },
 "nbformat": 4,
 "nbformat_minor": 5
}
