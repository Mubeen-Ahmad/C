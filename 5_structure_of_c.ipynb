{
 "cells": [
  {
   "cell_type": "markdown",
   "id": "32daf781-bad0-40b4-80c2-d49a684bfd0e",
   "metadata": {},
   "source": [
    "<h1 style=\"text-align:center; color:#005bbd; font-size:30px; font-family:Sans-serif; font-style: oblique; text-shadow: 0 0 3px white, 0 0 1px Black;\">\n",
    "Structure of C Program</h1>"
   ]
  },
  {
   "cell_type": "markdown",
   "id": "bcffd942-fa69-4020-b2a3-3d3b0361c767",
   "metadata": {},
   "source": [
    "<body style=\"font-family: Sans-serif;\">\n",
    "    <div style=\"color: black; font-size: 18px; font-style: oblique; text-shadow: 0 0 3px white, 0 0 1px black; padding: 20px;\">\n",
    "        <ul><li><p>C program ka structure kuch standard components par base hota hai. Har C program mein typically ye elements hote hain:\n",
    "</p></li></ul>\n",
    "</div>\n",
    "</body>"
   ]
  },
  {
   "cell_type": "markdown",
   "id": "23e661d8-cd18-4dad-804d-aff88ee93236",
   "metadata": {},
   "source": [
    "<body style=\"font-family: Sans-serif;\">\n",
    "    <div style=\"color: black; font-size: 18px; font-style: oblique; text-shadow: 0 0 3px white, 0 0 1px black; padding: 20px;\">\n",
    "        <h3>Preprocessor Directives</h3>\n",
    "        <ul><li><p>Yeh program ke shuru mein likhe jate hain aur # se start hote hain. Yeh compiler ko batate hain ke kaunse files ya libraries include karni hain.\n",
    "</p></li></ul>\n",
    "</div>\n",
    "</body>"
   ]
  },
  {
   "cell_type": "code",
   "execution_count": 6,
   "id": "3773fc08-dd78-4a61-9cd9-cf26f64d8169",
   "metadata": {},
   "outputs": [],
   "source": [
    "#include <stdio.h>"
   ]
  },
  {
   "cell_type": "markdown",
   "id": "5858b462-e0e2-42f0-bce2-93c5e6a5bd2c",
   "metadata": {},
   "source": [
    "<body style=\"font-family: Sans-serif;\">\n",
    "    <div style=\"color: black; font-size: 18px; font-style: oblique; text-shadow: 0 0 3px white, 0 0 1px black; padding: 20px;\">\n",
    "        <h3>Main Function</h3>\n",
    "        <ul><li><p>Har C program mein ek main() function hota hai jo execution ka starting point hota hai.\n",
    "</p></li></ul>\n",
    "</div>\n",
    "</body>"
   ]
  },
  {
   "cell_type": "code",
   "execution_count": 18,
   "id": "6d1a6329-779b-488b-b020-51c12d5c9b36",
   "metadata": {},
   "outputs": [],
   "source": [
    "int main(){\n",
    "    return 0;\n",
    "}"
   ]
  },
  {
   "cell_type": "markdown",
   "id": "b90d781e-7330-4703-b98a-21b177908318",
   "metadata": {},
   "source": [
    "<body style=\"font-family: Sans-serif;\">\n",
    "    <div style=\"color: black; font-size: 18px; font-style: oblique; text-shadow: 0 0 3px white, 0 0 1px black; padding: 20px;\">\n",
    "        <h3>Note: </h3>\n",
    "        <ul><li><p>Main Jupyter Notebook mein code likh raha hoon, toh asal mein main() function automatic call hota hai. Aapko gcc se code compile karna chahiye aur run karna chahiye.\"\n",
    "</p></li></ul>\n",
    "</div>\n",
    "</body>"
   ]
  },
  {
   "cell_type": "code",
   "execution_count": 19,
   "id": "cc7fe51b-1ea8-43d1-9438-02b11067326e",
   "metadata": {},
   "outputs": [
    {
     "name": "stdout",
     "output_type": "stream",
     "text": [
      "Hello World"
     ]
    }
   ],
   "source": [
    "#include <stdio.h>\n",
    "int main(){\n",
    "    printf(\"Hello World\");\n",
    "    return 0;\n",
    "}"
   ]
  },
  {
   "cell_type": "markdown",
   "id": "c3e9f85c-1eba-4a80-a1c7-bd7369c14969",
   "metadata": {},
   "source": [
    "<h1 style=\"text-align:center; color:#005bbd; font-size:30px; font-family:Sans-serif; font-style: oblique; text-shadow: 0 0 3px white, 0 0 1px Black;\">\n",
    "Compile C Code</h1>"
   ]
  },
  {
   "cell_type": "markdown",
   "id": "f1c9a779-5c30-487d-a754-72adad6b8d1f",
   "metadata": {},
   "source": [
    "<body style=\"font-family: Sans-serif;\">\n",
    "    <div style=\"color: black; font-size: 18px; font-style: oblique; text-shadow: 0 0 3px white, 0 0 1px black; padding: 20px;\">\n",
    "        <ul><li><p>C programming language ke files ki extension .c hoti hai. Jab aap C language mein code likhte hain, toh aap apne source code file ko .c extension ke saath save karte hain, jaise program.c.\n",
    "</p></li></ul>\n",
    "</div>\n",
    "</body>\n"
   ]
  },
  {
   "cell_type": "code",
   "execution_count": 32,
   "id": "d9a05b1c-62a0-40e7-9e0b-4ce8684b1853",
   "metadata": {},
   "outputs": [],
   "source": [
    "!echo '#include <stdio.h> \\nint main(){\\n\\tprintf(\"Hello World\");\\n\\treturn 0;\\n}' >  program.c"
   ]
  },
  {
   "cell_type": "markdown",
   "id": "1b3b291d-db6b-41c4-b089-037a726ae332",
   "metadata": {},
   "source": [
    "<body style=\"font-family: Sans-serif;\">\n",
    "    <div style=\"color: black; font-size: 18px; font-style: oblique; text-shadow: 0 0 3px white, 0 0 1px black; padding: 20px;\">\n",
    "        <ul><li><p>Yahaan aap confuse na ho jaana, yeh bas maine ek file create ki hai program.c naam se aur isme yeh code likh kar save kiya hai, \n",
    "            <pre>\n",
    "            #include <stdio.h>\n",
    "            int main(){\n",
    "                printf(\"Hello World\");\n",
    "                return 0;\n",
    "            }\n",
    "            </pre>kyun ke main Linux use kar raha hoon, to CLI (Command Line Interface) se maine yeh kaam kiya hai. <br>Aap Windows mein Notepad mein yehi upar wala code likh kar file ko program.c naam se save karein\n",
    "</p></li></ul>\n",
    "</div>\n",
    "</body>\n"
   ]
  },
  {
   "cell_type": "code",
   "execution_count": 33,
   "id": "f84cd007-950b-43ac-bce4-6e36dbd42ac8",
   "metadata": {},
   "outputs": [
    {
     "name": "stdout",
     "output_type": "stream",
     "text": [
      "#include <stdio.h> \n",
      "int main(){\n",
      "\tprintf(\"Hello World\");\n",
      "\treturn 0;\n",
      "}\n"
     ]
    }
   ],
   "source": [
    "!cat program.c "
   ]
  },
  {
   "cell_type": "markdown",
   "id": "2f7935e1-8a9e-4955-be6e-58dc7b150e8a",
   "metadata": {},
   "source": [
    "<body style=\"font-family: Sans-serif;\">\n",
    "    <div style=\"color: black; font-size: 18px; font-style: oblique; text-shadow: 0 0 3px white, 0 0 1px black; padding: 20px;\">\n",
    "        <ul><li><p>Linux me cat command ka use file ka content dekhne ke liye kiya jata hai</p></li></ul>\n",
    "</div>\n",
    "</body>\n"
   ]
  },
  {
   "cell_type": "markdown",
   "id": "edaaa92f-8c6a-48ab-8abb-c099f0398472",
   "metadata": {},
   "source": [
    "<body style=\"font-family: Sans-serif;\">\n",
    "    <div style=\"color: black; font-size: 18px; font-style: oblique; text-shadow: 0 0 3px white, 0 0 1px black; padding: 20px;\">\n",
    "        <h3>Compile with gcc</h3>\n",
    "        <ul><li><p>gcc codefile.c -o output_name \n",
    "</p></li></ul>\n",
    "</div>\n",
    "</body>\n"
   ]
  },
  {
   "cell_type": "code",
   "execution_count": 34,
   "id": "bd07daaf-1a92-4ecf-a407-497826cefdcb",
   "metadata": {},
   "outputs": [],
   "source": [
    "!gcc program.c -o output"
   ]
  },
  {
   "cell_type": "markdown",
   "id": "1a6731e7-9bfe-4838-adec-e87d0808e478",
   "metadata": {},
   "source": [
    "<h1 style=\"text-align:center; color:#005bbd; font-size:30px; font-family:Sans-serif; font-style: oblique; text-shadow: 0 0 3px white, 0 0 1px Black;\">\n",
    "GCC</h1>"
   ]
  },
  {
   "cell_type": "markdown",
   "id": "906ae867-9c08-42c0-b50b-2c300a06b50a",
   "metadata": {},
   "source": [
    "<body style=\"font-family: Sans-serif;\">\n",
    "    <div style=\"color: black; font-size: 18px; font-style: oblique; text-shadow: 0 0 3px white, 0 0 1px black; padding: 20px;\">\n",
    "        <ul><li><p>GCC ka full form hai GNU Compiler Collection. Ye ek compiler hai jo kai programming languages ko support karta hai, jismein C, C++, Objective-C, Fortran, Ada, aur Go shamil hain.\n",
    "</p></li></ul>\n",
    "        <ul><li><p>GCC ka sabse zyada use C aur C++ programs ko compile karne ke liye hota hai. Jab aap GCC ka use karte hain, toh ye aapke source code ko machine code mein convert karta hai taake aapka program run ho sake. Isko Linux, macOS, aur Windows jaise operating systems par use kiya ja sakta hai (Windows mein, aapko mingw-w64 ya Cygwin ka use karna padta hai).\n",
    "</p></li></ul>\n",
    "        \n",
    "</div>\n",
    "</body>\n"
   ]
  },
  {
   "cell_type": "markdown",
   "id": "7a4a875f-359f-4674-8ca6-9c586270c98b",
   "metadata": {},
   "source": [
    "<body style=\"font-family: Sans-serif;\">\n",
    "    <div style=\"color: black; font-size: 18px; font-style: oblique; text-shadow: 0 0 3px white, 0 0 1px black; padding: 20px;\">\n",
    "        <ul><li><p>Run a Program\n",
    "</p></li></ul>\n",
    "</div>\n",
    "</body>\n"
   ]
  },
  {
   "cell_type": "code",
   "execution_count": 35,
   "id": "e502fb95-6b98-4a43-b9e2-38ed5410ab57",
   "metadata": {},
   "outputs": [
    {
     "name": "stdout",
     "output_type": "stream",
     "text": [
      "Hello World"
     ]
    }
   ],
   "source": [
    "!./output"
   ]
  },
  {
   "cell_type": "markdown",
   "id": "05ba1ec6-f529-4457-96a3-c81fa4b9b3d2",
   "metadata": {},
   "source": [
    "<body style=\"font-family: Sans-serif;\">\n",
    "    <div style=\"color: black; font-size: 18px; font-style: oblique; text-shadow: 0 0 3px white, 0 0 1px black; padding: 20px;\">\n",
    "        <ul><li><p>Jab aap gcc program.c -o output command run karte hain, to GCC (GNU Compiler Collection) aapke C code ko compile karta hai. Ye process kuch steps me hota hai:</p></li>\n",
    "        <ul><li>Preprocessing: Pehle aapka C code preprocess hota hai jisme macros expand hote hain, aur comments remove kiye jate hain.\n",
    "</li><br>\n",
    "            <li>Compilation: Uske baad, C code ko assembly code me convert kiya jata hai. Assembly code ek low-level code ky close hota hai jo machine ke architecture ke zada kareeb hota hai.</li><br>\n",
    "            <li>Assembly: Phir assembly code ko machine code me translate kiya jata hai (machine code wo hota hai jo CPU directly samajhta hai).\n",
    "</li><br>\n",
    "            <li>    Linking: Last step linking ka hota hai, jisme aapke code ke external dependencies (jaise libraries) ko binary ke sath link kiya jata hai, takay executable file ban sake.\n",
    "\n",
    "</li>\n",
    "        </ul>\n",
    "        </ul>\n",
    "\n",
    "        \n",
    "</div>\n",
    "</body>\n"
   ]
  }
 ],
 "metadata": {
  "kernelspec": {
   "display_name": "C++17",
   "language": "C++17",
   "name": "xcpp17"
  },
  "language_info": {
   "codemirror_mode": "text/x-c++src",
   "file_extension": ".cpp",
   "mimetype": "text/x-c++src",
   "name": "c++",
   "version": "17"
  }
 },
 "nbformat": 4,
 "nbformat_minor": 5
}
