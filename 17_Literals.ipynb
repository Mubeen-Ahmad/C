{
 "cells": [
  {
   "cell_type": "markdown",
   "id": "59c80df5-c759-44ad-adc2-436316b2fdec",
   "metadata": {},
   "source": [
    "<h1 style=\"text-align:center; color:#005bbd; font-size:30px; font-family:Sans-serif; font-style: oblique; text-shadow: 0 0 3px white, 0 0 1px Black;\">\n",
    "   Literals\n",
    "</h1>"
   ]
  },
  {
   "cell_type": "markdown",
   "id": "b7564d2b-91d6-4743-acfd-1979643a71d8",
   "metadata": {},
   "source": [
    "<body style=\"font-family: Sans-serif;\">\n",
    "    <div style=\"color: black; font-size: 18px; font-style: oblique; text-shadow: 0 0 3px white, 0 0 1px black; padding: 20px;\">\n",
    "        <ul>C programming mein, literals woh values hain jo code mein directly likhi jaati hain aur unhe koi bhi variable ya constant define kiye bina use kiya ja sakta hai.<br>Yeh values compile hone ke waqt hi fixed hoti hain. C language mein alag-alag types ke literals hote hain jo alag data types ko represent karte hain.\n",
    "</ul></div></body>\n",
    "\n"
   ]
  },
  {
   "cell_type": "markdown",
   "id": "6cf5c88c-28c7-4911-ab14-d1a6848e73da",
   "metadata": {},
   "source": [
    "<body style=\"font-family: Sans-serif;\">\n",
    "    <div style=\"color: black; font-size: 18px; font-style: oblique; text-shadow: 0 0 3px white, 0 0 1px black; padding: 20px;\">\n",
    "        <h3>Integer Literals</h3>\n",
    "        <ul>\n",
    "            <li>Yeh woh literals hain jo numbers (integers) ko represent karte hain.</li><br>\n",
    "    <li>C mein integers ko represent karne ke liye aap decimal, octal, aur hexadecimal formats ka istemal kar sakte hain.</li>\n",
    "</ul></div></body>\n",
    "\n"
   ]
  },
  {
   "cell_type": "code",
   "execution_count": 7,
   "id": "f91764c8-16b5-4c37-940f-a10cd9cb7865",
   "metadata": {},
   "outputs": [
    {
     "name": "stdout",
     "output_type": "stream",
     "text": [
      "Decimal Integer 123 Not a literals\n",
      "Octal Integer 12 first 0 is a literal\n",
      "Hexadecimal Integer a first 0x is a literal"
     ]
    }
   ],
   "source": [
    "#include <stdio.h>\n",
    "int main(){\n",
    "    int decimal = 123;\n",
    "    int octal = 012;\n",
    "    int hexadecimal = 0xA;\n",
    "\n",
    "    printf(\"Decimal Integer %d Not a literals\\n\",decimal);\n",
    "    printf(\"Octal Integer %o first 0 is a literal\\n\",octal);\n",
    "    printf(\"Hexadecimal Integer %x first 0x is a literal\",hexadecimal);\n",
    "}"
   ]
  },
  {
   "cell_type": "markdown",
   "id": "0448dec6-5585-44ae-b867-bb3bea707062",
   "metadata": {},
   "source": [
    "<img style=\"display: block;margin-left: auto;margin-right: auto;width: 40%;\" src=\"./images/intliters.jpg\">"
   ]
  },
  {
   "cell_type": "markdown",
   "id": "93f4fac0-3e21-4f39-a8e8-287ab03e1416",
   "metadata": {},
   "source": [
    "<body style=\"font-family: Sans-serif;\">\n",
    "    <div style=\"color: black; font-size: 18px; font-style: oblique; text-shadow: 0 0 3px white, 0 0 1px black; padding: 20px;\">\n",
    "        <h3>Binary Representation</h3>\n",
    "        <ul>\n",
    "            <li>C mein binary format ke liye koi built-in format specifier nahi hai.</li><br>\n",
    "    <li>C mein integers ko represent karne ke liye aap decimal, octal, aur hexadecimal formats ka istemal kar sakte hain.</li>\n",
    "</ul></div></body>\n",
    "\n"
   ]
  },
  {
   "cell_type": "code",
   "execution_count": 19,
   "id": "f1063337-4064-4bdf-ba78-038c7bded0ac",
   "metadata": {},
   "outputs": [
    {
     "name": "stdout",
     "output_type": "stream",
     "text": [
      "00101010"
     ]
    }
   ],
   "source": [
    "#include <stdio.h>\n",
    "int main(){\n",
    "    \n",
    "    int num = 42;\n",
    "    int bit = 8;\n",
    "    \n",
    "     for (int i = bit-1; i >= 0; i--) {\n",
    "        printf(\"%d\", (num >> i) & 1);\n",
    "    }\n",
    "}"
   ]
  },
  {
   "cell_type": "markdown",
   "id": "ad774890-e24e-46ba-8cfb-c1ef4b279a02",
   "metadata": {},
   "source": [
    "<body style=\"font-family: Sans-serif;\">\n",
    "    <div style=\"color: black; font-size: 18px; font-style: oblique; text-shadow: 0 0 3px white, 0 0 1px black; padding: 20px;\">\n",
    "        <ul>\n",
    "            Yahan Loop num ko i positions right shift karta hai.<br>\n",
    "            Right-shifted result ka last bit (num >> i) & 1 ke saath AND karta hai aur 1 ya 0 print karta hai.\n",
    "</ul></div></body>\n",
    "\n"
   ]
  },
  {
   "cell_type": "markdown",
   "id": "5505a03c-400f-4963-92aa-643d98422e9b",
   "metadata": {},
   "source": [
    "<body style=\"font-family: Sans-serif;\">\n",
    "    <div style=\"color: black; font-size: 18px; font-style: oblique; text-shadow: 0 0 3px white, 0 0 1px black; padding: 20px;\">\n",
    "        <h3>Octal Representation</h3>\n",
    "        <ul>\n",
    "            <li>Octal numbers ko print karne ke liye %o format specifier ka use hota hai.</li><br>\n",
    "    <li>Format Specifer %o</li><br>\n",
    "    <li>add 0 at start </li><br>\n",
    "    <li>Range 0 to 7 </li><br>\n",
    "</ul></div></body>\n",
    "\n"
   ]
  },
  {
   "cell_type": "code",
   "execution_count": 33,
   "id": "bf9bd17a-8a73-4996-a3c1-c850ed067298",
   "metadata": {},
   "outputs": [
    {
     "name": "stdout",
     "output_type": "stream",
     "text": [
      "1 7"
     ]
    }
   ],
   "source": [
    "#include <stdio.h>\n",
    "int main(){\n",
    "    \n",
    "    int x = 01;\n",
    "    int y = 07;\n",
    "    printf(\"%o %o\",x,y);\n",
    "    return 0;\n",
    "}"
   ]
  },
  {
   "cell_type": "markdown",
   "id": "2b7d002f-bf3b-411e-b32e-b1ef0fbbdda4",
   "metadata": {},
   "source": [
    "<body style=\"font-family: Sans-serif;\">\n",
    "    <div style=\"color: black; font-size: 18px; font-style: oblique; text-shadow: 0 0 3px white, 0 0 1px black; padding: 20px;\">\n",
    "agar aapka number 7 se bara hai to 0 prefix nahi lagega.\n",
    "</div></body>\n",
    "\n"
   ]
  },
  {
   "cell_type": "code",
   "execution_count": 35,
   "id": "1d84648f-2041-403c-96f3-863b4bb271a6",
   "metadata": {},
   "outputs": [
    {
     "name": "stdout",
     "output_type": "stream",
     "text": [
      "decimal number 8 are octal in 10"
     ]
    }
   ],
   "source": [
    "#include <stdio.h>\n",
    "int main(){\n",
    "\n",
    "    int x = 8;\n",
    "    \n",
    "    printf(\"decimal number %d are octal in %o\",x,x);\n",
    "    return 0;\n",
    "}"
   ]
  },
  {
   "cell_type": "markdown",
   "id": "aaa2574b-cd43-4658-99f7-66c38f2f321a",
   "metadata": {},
   "source": [
    "<body style=\"font-family: Sans-serif;\">\n",
    "    <div style=\"color: black; font-size: 18px; font-style: oblique; text-shadow: 0 0 3px white, 0 0 1px black; padding: 20px;\">\n",
    "        <h3>Hexadecimal Representation</h3>\n",
    "        <ul>\n",
    "            <li>Hexadecimal numbers ko print karne ke liye %x (lowercase) aur %X (uppercase) format specifiers ka use hota hai.</li><br>\n",
    "    <li>Format Specifer %x , %X</li><br>\n",
    "    <li>add 0x at start </li><br>\n",
    "    <li>Range 0 to 9A to F </li><br>\n",
    "</ul></div></body>\n",
    "\n"
   ]
  },
  {
   "cell_type": "code",
   "execution_count": 43,
   "id": "4fc26887-4867-42eb-ac6f-d5da04407bc0",
   "metadata": {},
   "outputs": [
    {
     "name": "stdout",
     "output_type": "stream",
     "text": [
      "Hexadecimal number 2A are decimal in 42"
     ]
    }
   ],
   "source": [
    "#include <stdio.h>\n",
    "int main(){\n",
    "\n",
    "    int x = 0x2A;\n",
    "    printf(\"Hexadecimal number %X are decimal in %d\",x,x);\n",
    "    return 0;\n",
    "}"
   ]
  },
  {
   "cell_type": "code",
   "execution_count": 47,
   "id": "ae68065a-44a9-4a8c-aee9-bb66b82a40cd",
   "metadata": {},
   "outputs": [
    {
     "name": "stdout",
     "output_type": "stream",
     "text": [
      "Hexadecimal number 9 are decimal in 9"
     ]
    }
   ],
   "source": [
    "#include <stdio.h>\n",
    "int main(){\n",
    "\n",
    "    int x = 0x9;\n",
    "    printf(\"Hexadecimal number %X are decimal in %d\",x,x);\n",
    "    return 0;\n",
    "}\n",
    "main();"
   ]
  },
  {
   "cell_type": "code",
   "execution_count": 49,
   "id": "b68c176e-c597-43a7-b7a5-2c46ff7fc407",
   "metadata": {},
   "outputs": [
    {
     "name": "stdout",
     "output_type": "stream",
     "text": [
      "Uppercase F Lowercase f are decimal in 15"
     ]
    }
   ],
   "source": [
    "#include <stdio.h>\n",
    "int main(){\n",
    "\n",
    "    int x = 0xF;\n",
    "    printf(\"Uppercase %X Lowercase %x are decimal in %d\",x,x,x);\n",
    "    return 0;\n",
    "}"
   ]
  },
  {
   "cell_type": "markdown",
   "id": "7e8eca1c-2a0d-40da-a922-70d019708112",
   "metadata": {},
   "source": [
    "<body style=\"font-family: Sans-serif;\">\n",
    "    <div style=\"color: black; font-size: 18px; font-style: oblique; text-shadow: 0 0 3px white, 0 0 1px black; padding: 20px;\">\n",
    "        <h3>Float Literals</h3>\n",
    "        <ul>\n",
    "            <li>C language mein float literals un numbers ko refer karte hain jo decimal values ya fractional parts ko represent karte hain</li><br>\n",
    "    <li>Ye values directly likhi ja sakti hain, aur float literals ko specify karne ke liye decimal point ka use hota hai.</li>\n",
    "</ul></div></body>\n",
    "\n"
   ]
  },
  {
   "cell_type": "markdown",
   "id": "5e9958a2-1652-4389-9c84-9bfe22f67761",
   "metadata": {},
   "source": [
    "<body style=\"font-family: Sans-serif;\">\n",
    "    <div style=\"color: black; font-size: 18px; font-style: oblique; text-shadow: 0 0 3px white, 0 0 1px black; padding: 20px;\">\n",
    "        <h4>Decimal Notation</h4>\n",
    "        <ul>\n",
    "            <li>Isme aap number ko ek normal decimal number ke form mein likhte hain, jaise 10.5, 0.005, etc.</li><br>\n",
    "    <li>Float literal specify karne ke liye f ya F suffix ka use karte hain (ye optional hota hai, lekin recommended hai).</li><br>\n",
    "</ul></div></body>\n",
    "\n"
   ]
  },
  {
   "cell_type": "code",
   "execution_count": 53,
   "id": "49ccac7e-cc96-4975-8a17-625c927111ac",
   "metadata": {},
   "outputs": [
    {
     "name": "stdout",
     "output_type": "stream",
     "text": [
      "num1: 3.140000\n",
      "num2: 10.560000\n"
     ]
    }
   ],
   "source": [
    "#include <stdio.h>\n",
    "int main(){\n",
    "    float num1 = 3.14f;   // 'f' suffix indicates it's a float literal\n",
    "    double num2 = 10.56;  // No suffix, considered as double\n",
    "\n",
    "    printf(\"num1: %f\\n\", num1);\n",
    "    printf(\"num2: %lf\\n\", num2);\n",
    "    return 0;\n",
    "}"
   ]
  },
  {
   "cell_type": "markdown",
   "id": "be6b99a1-7f1c-4b87-bf2b-ebd875c8fe13",
   "metadata": {},
   "source": [
    "<body style=\"font-family: Sans-serif;\">\n",
    "    <div style=\"color: black; font-size: 18px; font-style: oblique; text-shadow: 0 0 3px white, 0 0 1px black; padding: 20px;\">\n",
    "        <h4>Exponential Notation (Scientific Notation)</h4>\n",
    "        <ul>\n",
    "            <li>Float literals ko exponential notation mein bhi likha ja sakta hai, jo large ya small values ko represent karne ke liye useful hota hai.</li><br>\n",
    "    <li>Exponential notation mein e ya E ka use kiya jata hai exponent specify karne ke liye.</li><br>\n",
    "</ul></div></body>\n",
    "\n"
   ]
  },
  {
   "cell_type": "code",
   "execution_count": 54,
   "id": "588aa4b0-132a-4a90-9f03-c33add4b7293",
   "metadata": {},
   "outputs": [
    {
     "name": "stdout",
     "output_type": "stream",
     "text": [
      "num3: 1200.000000\n",
      "num4: 0.056000\n"
     ]
    }
   ],
   "source": [
    "#include <stdio.h>\n",
    "int main(){\n",
    "    \n",
    "    float num3 = 1.2e3f;   // Equivalent to 1.2 * 10^3 (yaani 1200)\n",
    "    double num4 = 5.6E-2;  // Equivalent to 5.6 * 10^-2 (yaani 0.056)\n",
    "\n",
    "    printf(\"num3: %f\\n\", num3);\n",
    "    printf(\"num4: %lf\\n\", num4);\n",
    "\n",
    "    return 0;\n",
    "}"
   ]
  },
  {
   "cell_type": "markdown",
   "id": "07f8d4c9-2869-486d-8223-2880b6b18c02",
   "metadata": {},
   "source": [
    "<body style=\"font-family: Sans-serif;\">\n",
    "    <div style=\"color: black; font-size: 18px; font-style: oblique; text-shadow: 0 0 3px white, 0 0 1px black; padding: 20px;\">\n",
    "        <h4>Mantissa and Exponent</h4>\n",
    "        <ul>\n",
    "            <li>Mantissa: Wo number hai jo significant digits ko represent karta hai (ye decimal point ke sath bhi ho sakta hai).</li>\n",
    "            <li>e or E: Iska matlab hai \"times ten raised to the power\".</li>\n",
    "            <li>Exponent: Wo power jo 10 ke sath multiply hogi.</li>\n",
    "</ul></div></body>\n",
    "\n"
   ]
  },
  {
   "cell_type": "code",
   "execution_count": 10,
   "id": "f92e8b3d-0417-45de-89e7-24fc4d64dd81",
   "metadata": {
    "tags": []
   },
   "outputs": [
    {
     "name": "stdout",
     "output_type": "stream",
     "text": [
      "+1e23: 99999999999999991611392\n"
     ]
    }
   ],
   "source": [
    "#include <stdio.h>\n",
    "\n",
    "int main(){\n",
    "    \n",
    "    double num1 = 1e23;\n",
    "    printf(\"+1e23: %.0f\\n\", num1);\n",
    "    return 0;\n",
    "}"
   ]
  },
  {
   "cell_type": "markdown",
   "id": "542f62e5-4981-48f4-adcc-556f2f1c8156",
   "metadata": {},
   "source": [
    "<body style=\"font-family: Sans-serif;\">\n",
    "    <div style=\"color: black; font-size: 18px; font-style: oblique; text-shadow: 0 0 3px white, 0 0 1px black; padding: 20px;\">\n",
    "        <ul>\n",
    "            <li>Interpretation: +1 x 10^23</li>\n",
    "            <li>Yahaan mantissa +1 hai aur exponent 23 hai. Iska matlab hai ke 1 ko 10 ki power 23 se multiply karna.</li>\n",
    "</ul></div></body>\n",
    "\n"
   ]
  },
  {
   "cell_type": "code",
   "execution_count": 12,
   "id": "9c9f6e8e-7f30-4541-95d0-ec7d4f57fa75",
   "metadata": {
    "tags": []
   },
   "outputs": [
    {
     "name": "stdout",
     "output_type": "stream",
     "text": [
      "-9e3: -9000\n"
     ]
    }
   ],
   "source": [
    "#include <stdio.h>\n",
    "\n",
    "int main(){\n",
    "    \n",
    "    double num2 = -9e3;\n",
    "    printf(\"-9e3: %.0f\\n\", num2);\n",
    "\n",
    "    return 0;\n",
    "}"
   ]
  },
  {
   "cell_type": "markdown",
   "id": "2e8d7739-eaf7-4725-938a-8ccce8612fef",
   "metadata": {},
   "source": [
    "<body style=\"font-family: Sans-serif;\">\n",
    "    <div style=\"color: black; font-size: 18px; font-style: oblique; text-shadow: 0 0 3px white, 0 0 1px black; padding: 20px;\">\n",
    "        <ul>\n",
    "            <li>Interpretation: -9 x 10^3</li>\n",
    "            <li>Yahaan mantissa -9 hai aur exponent 3 hai. Iska matlab hai ke -9 ko 10 ki power 3 se multiply karna.</li>\n",
    "</ul></div></body>\n",
    "\n"
   ]
  },
  {
   "cell_type": "markdown",
   "id": "3fa5ac99-22e6-4618-a801-97cef264c9f4",
   "metadata": {},
   "source": [
    "<body style=\"font-family: Sans-serif;\">\n",
    "    <div style=\"color: black; font-size: 18px; font-style: oblique; text-shadow: 0 0 3px white, 0 0 1px black; padding: 20px;\">\n",
    "        <ul>\n",
    "           Convert Number into Scientific Notation\n",
    "</ul></div></body>\n",
    "\n"
   ]
  },
  {
   "cell_type": "code",
   "execution_count": 14,
   "id": "4ef10f88-032d-4a6b-959f-8c53e3bb936c",
   "metadata": {
    "tags": []
   },
   "outputs": [
    {
     "name": "stdout",
     "output_type": "stream",
     "text": [
      "Decimal form: 12345.678900\n",
      "Scientific notation: 1.234568e+04\n"
     ]
    }
   ],
   "source": [
    "#include <stdio.h>\n",
    "\n",
    "int main() {\n",
    "    \n",
    "    double num = 12345.6789;\n",
    "    printf(\"Decimal form: %f\\n\", num);\n",
    "    printf(\"Scientific notation: %e\\n\", num);\n",
    "    \n",
    "    return 0;\n",
    "}"
   ]
  },
  {
   "cell_type": "markdown",
   "id": "e4782fcb-278a-4a07-b164-2625f183ae3a",
   "metadata": {},
   "source": [
    "<body style=\"font-family: Sans-serif;\">\n",
    "    <div style=\"color: black; font-size: 18px; font-style: oblique; text-shadow: 0 0 3px white, 0 0 1px black; padding: 20px;\">\n",
    "        <ul>\n",
    "           Convert Scientific Notation into Decimal \n",
    "</ul></div></body>\n",
    "\n"
   ]
  },
  {
   "cell_type": "code",
   "execution_count": 15,
   "id": "6ab1b872-0012-4def-84ee-827e3c538bcf",
   "metadata": {
    "tags": []
   },
   "outputs": [
    {
     "name": "stdout",
     "output_type": "stream",
     "text": [
      "num1 in decimal: 12300.000000\n",
      "num2 in decimal: -0.009870\n",
      "num3 in decimal: 200000.000000\n"
     ]
    }
   ],
   "source": [
    "#include <stdio.h>\n",
    "\n",
    "int main() {\n",
    "    double num1 = 1.23e4;      // 1.23 * 10^4 (which is 12300)\n",
    "    double num2 = -9.87e-3;    // -9.87 * 10^-3 (which is -0.00987)\n",
    "    double num3 = 2e5;         // 2 * 10^5 (which is 200000)\n",
    "\n",
    "    printf(\"num1 in decimal: %f\\n\", num1);\n",
    "    printf(\"num2 in decimal: %f\\n\", num2);\n",
    "    printf(\"num3 in decimal: %f\\n\", num3);\n",
    "    \n",
    "    return 0;\n",
    "}\n"
   ]
  },
  {
   "cell_type": "markdown",
   "id": "441c9321-036a-49ea-b97e-4ce9baf8dddd",
   "metadata": {},
   "source": [
    "<html lang=\"en\">\n",
    "<head>\n",
    "    <meta charset=\"UTF-8\">\n",
    "    <meta name=\"viewport\" content=\"width=device-width, initial-scale=1.0\">\n",
    "</head>\n",
    "<body>\n",
    "    <h2 style=\"text-align:center;\">Scientific Notation in C (Mantissa and Exponent with e/E)</h2>\n",
    "    <table border=\"1\" cellpadding=\"8\">\n",
    "        <tr>\n",
    "            <th>Notation</th>\n",
    "            <th>Example</th>\n",
    "            <th>Mantissa</th>\n",
    "            <th>Exponent</th>\n",
    "            <th>Explanation</th>\n",
    "            <th>Result (in Decimal)</th>\n",
    "        </tr>\n",
    "        <tr>\n",
    "            <td>+/- Mantissa e/E +/- Exponent</td>\n",
    "            <td>1.5e3</td>\n",
    "            <td>1.5</td>\n",
    "            <td>3</td>\n",
    "            <td>1.5 multiplied by 10 raised to the power of 3</td>\n",
    "            <td>1500</td>\n",
    "        </tr>\n",
    "        <tr>\n",
    "            <td>+/- Mantissa e/E +/- Exponent</td>\n",
    "            <td>-2.3e2</td>\n",
    "            <td>-2.3</td>\n",
    "            <td>2</td>\n",
    "            <td>-2.3 multiplied by 10 raised to the power of 2</td>\n",
    "            <td>-230</td>\n",
    "        </tr>\n",
    "        <tr>\n",
    "            <td>+/- Mantissa e/E +/- Exponent</td>\n",
    "            <td>3.0e-4</td>\n",
    "            <td>3.0</td>\n",
    "            <td>-4</td>\n",
    "            <td>3.0 multiplied by 10 raised to the power of -4</td>\n",
    "            <td>0.0003</td>\n",
    "        </tr>\n",
    "        <tr>\n",
    "            <td>+/- Mantissa e/E +/- Exponent</td>\n",
    "            <td>-1.2E5</td>\n",
    "            <td>-1.2</td>\n",
    "            <td>5</td>\n",
    "            <td>-1.2 multiplied by 10 raised to the power of 5</td>\n",
    "            <td>-120000</td>\n",
    "        </tr>\n",
    "        <tr>\n",
    "            <td>+/- Mantissa e/E +/- Exponent</td>\n",
    "            <td>4.56E-3</td>\n",
    "            <td>4.56</td>\n",
    "            <td>-3</td>\n",
    "            <td>4.56 multiplied by 10 raised to the power of -3</td>\n",
    "            <td>0.00456</td>\n",
    "        </tr>\n",
    "    </table>\n",
    "</body>\n",
    "</html>\n"
   ]
  },
  {
   "cell_type": "markdown",
   "id": "77403ff5-43b0-497f-8140-7602f4ab8469",
   "metadata": {},
   "source": [
    "<h1 style=\"text-align:center; color:#005bbd; font-size:30px; font-family:Sans-serif; font-style: oblique; text-shadow: 0 0 3px white, 0 0 1px Black;\">\n",
    "   Prefix\n",
    "</h1>"
   ]
  },
  {
   "cell_type": "markdown",
   "id": "8a210cb3-6b35-45cd-b9aa-061160bd3e39",
   "metadata": {},
   "source": [
    "<body style=\"font-family: Sans-serif;\">\n",
    "    <div style=\"color: black; font-size: 18px; font-style: oblique; text-shadow: 0 0 3px white, 0 0 1px black; padding: 20px;\">\n",
    "        <ul>\n",
    "            <li>C language mein prefix ka matlab hota hai kuch special characters jo variable ya literal ke aage lagaye jaate hain taake unka type ya base specify kiya ja sake</li>\n",
    "            <li>Yeh prefix kis type ka data represent karna hai, is baat ko clear karta hai.</li>\n",
    "</ul></div></body>\n",
    "\n"
   ]
  },
  {
   "cell_type": "code",
   "execution_count": 34,
   "id": "259fe580-7a9a-4dc5-a59b-439d1d5cb4ef",
   "metadata": {
    "tags": []
   },
   "outputs": [
    {
     "name": "stdout",
     "output_type": "stream",
     "text": [
      "octal 7\n"
     ]
    }
   ],
   "source": [
    "#include <stdio.h>\n",
    "int main(){\n",
    "\n",
    "    int octal = 07;\n",
    "    \n",
    "    printf(\"octal %o\\n\",octal);\n",
    "}"
   ]
  },
  {
   "cell_type": "code",
   "execution_count": 31,
   "id": "a4ab1bbf-ccd2-4f29-a528-e99b60052214",
   "metadata": {
    "tags": []
   },
   "outputs": [
    {
     "name": "stdout",
     "output_type": "stream",
     "text": [
      "Not octal 7"
     ]
    }
   ],
   "source": [
    "#include <stdio.h>\n",
    "int main(){\n",
    "\n",
    "    int non_octal = 7;\n",
    "        printf(\"Not octal %o\",non_octal);\n",
    "}"
   ]
  },
  {
   "cell_type": "markdown",
   "id": "9e7c04f4-c371-4b35-a148-994a08e7da90",
   "metadata": {},
   "source": [
    "<body style=\"font-family: Sans-serif;\">\n",
    "    <div style=\"color: black; font-size: 18px; font-style: oblique; text-shadow: 0 0 3px white, 0 0 1px black; padding: 20px;\">\n",
    "        <ul>\n",
    "           Agar octal number ko represent karna hai toh 0 prefix lagana zaroori hai, kyunki bina 0 prefix ke compiler usay octal nahi, balke decimal integer samjhega.\n",
    "</ul></div></body>\n",
    "\n"
   ]
  },
  {
   "cell_type": "code",
   "execution_count": 27,
   "id": "f95d3c32-8f3a-4130-931f-e1dec95512d5",
   "metadata": {
    "tags": []
   },
   "outputs": [
    {
     "name": "stdout",
     "output_type": "stream",
     "text": [
      "12\n",
      "A\n",
      "12300.000000"
     ]
    }
   ],
   "source": [
    "#include <stdio.h>\n",
    "int main(){\n",
    "\n",
    "    int octal = 012;\n",
    "    int hex = 0xA;\n",
    "    float x = 1.23e4;\n",
    "    \n",
    "    printf(\"%o\\n\",octal);\n",
    "    printf(\"%X\\n\",hex);\n",
    "    printf(\"%f\",x);\n",
    "    \n",
    "}"
   ]
  },
  {
   "cell_type": "markdown",
   "id": "b96e575b-7059-42c9-8a62-bf6db2e78920",
   "metadata": {},
   "source": [
    "<img style=\"display: block;margin-left: auto;margin-right: auto;width: 50%;\" src=\"./images/prefix.jpg\">"
   ]
  },
  {
   "cell_type": "markdown",
   "id": "6893f7de-2ec5-4f6c-9e07-2e0b39403e9b",
   "metadata": {
    "tags": []
   },
   "source": [
    "<h1 style=\"text-align:center; color:#005bbd; font-size:30px; font-family:Sans-serif; font-style: oblique; text-shadow: 0 0 3px white, 0 0 1px Black;\">\n",
    "   Suffixes\n",
    "</h1>"
   ]
  },
  {
   "cell_type": "markdown",
   "id": "efaa49e6-2984-4db6-bd35-724666878c35",
   "metadata": {},
   "source": [
    "<body style=\"font-family: Sans-serif;\">\n",
    "    <div style=\"color: black; font-size: 18px; font-style: oblique; text-shadow: 0 0 3px white, 0 0 1px black; padding: 20px;\">\n",
    "        <ul>C language mein suffixes literals ka data type specify karne ke liye use hote hain, aur inka istemal integer aur floating-point literals ke sath hota hai\n",
    "</ul></div></body>\n",
    "\n"
   ]
  },
  {
   "cell_type": "markdown",
   "id": "35806995-e656-42aa-a8b5-d47730bbe96a",
   "metadata": {},
   "source": [
    "<body style=\"font-family: Sans-serif;\">\n",
    "    <div style=\"color: black; font-size: 18px; font-style: oblique; text-shadow: 0 0 3px white, 0 0 1px black; padding: 20px;\">\n",
    "        <h4>Integer Suffixes</h4>\n",
    "        <ul>Integer literals mein suffixes u/U aur l/L use hote hain:<br><br>\n",
    "            <li>u / U: Iska matlab unsigned integer hai.</li>\n",
    "            <li>l / L: Iska matlab long integer hai.</li>\n",
    "            <li>ul / UL: Yeh unsigned long integer ko specify karta hai.</li>\n",
    "</ul></div></body>\n",
    "\n"
   ]
  },
  {
   "cell_type": "code",
   "execution_count": 36,
   "id": "2791e69c-cdc0-4cc6-8231-fd9848df5901",
   "metadata": {
    "tags": []
   },
   "outputs": [
    {
     "name": "stdout",
     "output_type": "stream",
     "text": [
      "Unsigned int: 25\n",
      "Long int: 30\n",
      "Unsigned long int: 40\n"
     ]
    }
   ],
   "source": [
    "#include <stdio.h>\n",
    "\n",
    "int main() {\n",
    "    unsigned int num1 = 25u;   // Unsigned integer\n",
    "    long int num2 = 30L;       // Long integer\n",
    "    unsigned long int num3 = 40ul;  // Unsigned long integer\n",
    "\n",
    "    printf(\"Unsigned int: %u\\n\", num1);\n",
    "    printf(\"Long int: %ld\\n\", num2);\n",
    "    printf(\"Unsigned long int: %lu\\n\", num3);\n",
    "\n",
    "    return 0;\n",
    "}"
   ]
  },
  {
   "cell_type": "markdown",
   "id": "d1adec00-e5ba-4e50-b062-52a20c649023",
   "metadata": {},
   "source": [
    "<body style=\"font-family: Sans-serif;\">\n",
    "    <div style=\"color: black; font-size: 18px; font-style: oblique; text-shadow: 0 0 3px white, 0 0 1px black; padding: 20px;\">\n",
    "        <h4>Floating-Point Suffixes</h4>\n",
    "        <ul>Floating-point literals mein suffixes f/F aur l/L use hote hain:<br><br>\n",
    "            <li>f / F: Iska matlab float type hai.</li>\n",
    "            <li>l / L: Iska matlab long double hai.</li>\n",
    "</ul></div></body>\n",
    "\n"
   ]
  },
  {
   "cell_type": "code",
   "execution_count": 39,
   "id": "59db00c4-4d93-47bc-be6c-48ca62b038ec",
   "metadata": {
    "tags": []
   },
   "outputs": [
    {
     "name": "stdout",
     "output_type": "stream",
     "text": [
      "Float: 3.14\n",
      "Long double: 3.1415926535\n"
     ]
    }
   ],
   "source": [
    "#include <stdio.h>\n",
    "\n",
    "int main() {\n",
    "    float num1 = 3.14f;      // Float\n",
    "    long double num3 = 3.1415926535L;  // Long double\n",
    "\n",
    "    printf(\"Float: %.2f\\n\", num1);\n",
    "    printf(\"Long double: %.10Lf\\n\", num3);\n",
    "\n",
    "    return 0;\n",
    "}"
   ]
  },
  {
   "cell_type": "markdown",
   "id": "e464c008-31bd-4e09-9fd5-8f78f728b0c5",
   "metadata": {},
   "source": [
    "<img style=\"display: block;margin-left: auto;margin-right: auto;width: 60%;\" src=\"./images/suffixes.jpg\">"
   ]
  },
  {
   "cell_type": "markdown",
   "id": "d7a8f18e-e643-427c-8a1c-632fc2fc56cb",
   "metadata": {},
   "source": [
    "<body>\n",
    "    <!-- Integer Prefixes Table -->\n",
    "    <h3 style=\"text-align:center;\">Integer Prefixes</h3>\n",
    "    <table border=\"1\" cellpadding=\"8\">\n",
    "        <tr>\n",
    "            <th>Prefix</th>\n",
    "            <th>Number Base</th>\n",
    "            <th>Description</th>\n",
    "            <th>Example</th>\n",
    "        </tr>\n",
    "        <tr>\n",
    "            <td>0</td>\n",
    "            <td>Octal</td>\n",
    "            <td>Represents an octal (base-8) number.</td>\n",
    "            <td>012 (equivalent to decimal 10)</td>\n",
    "        </tr>\n",
    "        <tr>\n",
    "            <td>0x or 0X</td>\n",
    "            <td>Hexadecimal</td>\n",
    "            <td>Represents a hexadecimal (base-16) number.</td>\n",
    "            <td>0x1A (equivalent to decimal 26)</td>\n",
    "        </tr>\n",
    "        <tr>\n",
    "            <td>(none)</td>\n",
    "            <td>Decimal</td>\n",
    "            <td>Represents a decimal (base-10) number.</td>\n",
    "            <td>25</td>\n",
    "        </tr>\n",
    "    </table>\n",
    "    <!-- Integer Suffixes Table -->\n",
    "    <h3 style=\"text-align:center;\">Integer Suffixes</h3>\n",
    "    <table border=\"1\" cellpadding=\"8\">\n",
    "        <tr>\n",
    "            <th>Suffix</th>\n",
    "            <th>Type</th>\n",
    "            <th>Description</th>\n",
    "            <th>Example</th>\n",
    "        </tr>\n",
    "        <tr>\n",
    "            <td>u or U</td>\n",
    "            <td>unsigned int</td>\n",
    "            <td>Treats the literal as unsigned int.</td>\n",
    "            <td>123u</td>\n",
    "        </tr>\n",
    "        <tr>\n",
    "            <td>l or L</td>\n",
    "            <td>long int</td>\n",
    "            <td>Specifies the literal as a long int.</td>\n",
    "            <td>123L</td>\n",
    "        </tr>\n",
    "        <tr>\n",
    "            <td>ul, uL, Ul, or UL</td>\n",
    "            <td>unsigned long int</td>\n",
    "            <td>Specifies the literal as unsigned long int.</td>\n",
    "            <td>123UL</td>\n",
    "        </tr>\n",
    "        <tr>\n",
    "            <td>ll or LL</td>\n",
    "            <td>long long int</td>\n",
    "            <td>Treats the literal as long long int.</td>\n",
    "            <td>123LL</td>\n",
    "        </tr>\n",
    "        <tr>\n",
    "            <td>ull, uLL, Ull, or ULL</td>\n",
    "            <td>unsigned long long int</td>\n",
    "            <td>Specifies the literal as unsigned long long int.</td>\n",
    "            <td>123ULL</td>\n",
    "        </tr>\n",
    "    </table>\n",
    "    <!-- Floating-Point Suffixes Table -->\n",
    "    <h3 style=\"text-align:center;\">Floating-Point Suffixes</h3>\n",
    "    <table border=\"1\" cellpadding=\"8\">\n",
    "        <tr>\n",
    "            <th>Suffix</th>\n",
    "            <th>Type</th>\n",
    "            <th>Description</th>\n",
    "            <th>Example</th>\n",
    "        </tr>\n",
    "        <tr>\n",
    "            <td>f or F</td>\n",
    "            <td>float</td>\n",
    "            <td>Specifies the literal as float.</td>\n",
    "            <td>12.34f</td>\n",
    "        </tr>\n",
    "        <tr>\n",
    "            <td>(none)</td>\n",
    "            <td>double</td>\n",
    "            <td>Defaults to double if no suffix is used.</td>\n",
    "            <td>12.34</td>\n",
    "        </tr>\n",
    "        <tr>\n",
    "            <td>l or L</td>\n",
    "            <td>long double</td>\n",
    "            <td>Specifies the literal as long double.</td>\n",
    "            <td>12.34L</td>\n",
    "        </tr>\n",
    "    </table>\n",
    "</body>\n",
    "</html>"
   ]
  },
  {
   "cell_type": "markdown",
   "id": "eb7e9a8e-f779-4d9d-8842-ef899c9fa1e2",
   "metadata": {},
   "source": [
    "<h1 style=\"text-align:center; color:#005bbd; font-size:30px; font-family:Sans-serif; font-style: oblique; text-shadow: 0 0 3px white, 0 0 1px Black;\">\n",
    "   Character Literals\n",
    "</h1>"
   ]
  },
  {
   "cell_type": "markdown",
   "id": "dd70fdcb-50f8-4366-985f-36c620788983",
   "metadata": {},
   "source": [
    "<body style=\"font-family: Sans-serif;\">\n",
    "    <div style=\"color: black; font-size: 18px; font-style: oblique; text-shadow: 0 0 3px white, 0 0 1px black; padding: 20px;\">\n",
    "        <ul>C language mein character literals wo single characters hain jo single quotes (' ') mein likhe jate hain. Character literals ko C language mein char type variables mein store kiya jata hai aur ye ASCII encoding ka use karke values ko store karte hain.<br><br>\n",
    "</ul></div></body>\n",
    "\n"
   ]
  },
  {
   "cell_type": "markdown",
   "id": "1b9bf75f-012c-442f-83ea-6c0c199ba41b",
   "metadata": {},
   "source": [
    "<body style=\"font-family: Sans-serif;\">\n",
    "    <div style=\"color: black; font-size: 18px; font-style: oblique; text-shadow: 0 0 3px white, 0 0 1px black; padding: 20px;\">\n",
    "        <h4>Plain Character Literals</h4>\n",
    "        <ul>Ye wo single characters hain jo single quotes mein likhe jate hain, jaise 'A', 'b', '3', etc.<br><br>\n",
    "            <li>Ye literals integer value ke form mein store hote hain jo ASCII ya Unicode encoding ke according hoti hai.</li><br>\n",
    "                <li>Format Specifer %c</li><br>\n",
    "\n",
    "</ul></div></body>\n",
    "\n"
   ]
  },
  {
   "cell_type": "code",
   "execution_count": 40,
   "id": "d5fe5a96-930d-4674-91e6-a38e32e20532",
   "metadata": {
    "tags": []
   },
   "outputs": [
    {
     "name": "stdout",
     "output_type": "stream",
     "text": [
      "A b 3"
     ]
    }
   ],
   "source": [
    "#include <stdio.h>\n",
    "\n",
    "int main(){\n",
    "\n",
    "    char a = 'A';\n",
    "    char b = 'b';\n",
    "    char z = '3';\n",
    "    \n",
    "    printf(\"%c %c %c\",a,b,z);\n",
    "    return 0;\n",
    "    \n",
    "}"
   ]
  },
  {
   "cell_type": "markdown",
   "id": "345b5653-e212-4fe1-b390-7352914f4765",
   "metadata": {},
   "source": [
    "<body style=\"font-family: Sans-serif;\">\n",
    "    <div style=\"color: black; font-size: 18px; font-style: oblique; text-shadow: 0 0 3px white, 0 0 1px black; padding: 20px;\">\n",
    "        <ul>hum ASCII ya Unicode ki value bhi dekh sakte hain.\n",
    "</ul></div></body>\n",
    "\n"
   ]
  },
  {
   "cell_type": "code",
   "execution_count": 42,
   "id": "5caac307-1380-4897-8e23-bf364247b9f1",
   "metadata": {
    "tags": []
   },
   "outputs": [
    {
     "name": "stdout",
     "output_type": "stream",
     "text": [
      "character A in decimal 65 in octal 101 in Hex 41"
     ]
    }
   ],
   "source": [
    "#include <stdio.h>\n",
    "\n",
    "int main(){\n",
    "\n",
    "    char a = 'A';    \n",
    "    printf(\"character %c in decimal %d in octal %o in Hex %X\",a,a,a,a);\n",
    "    return 0;\n",
    "    \n",
    "}"
   ]
  },
  {
   "cell_type": "markdown",
   "id": "1073c38b-d940-4267-8980-1daf7385fd1f",
   "metadata": {},
   "source": [
    "<body style=\"font-family: Sans-serif;\">\n",
    "    <div style=\"color: black; font-size: 18px; font-style: oblique; text-shadow: 0 0 3px white, 0 0 1px black; padding: 20px;\">\n",
    "        <h4>Escape Sequences</h4>\n",
    "        <ul>Escape sequences wo special characters hain jo directly likhne par display ya perform nahi kiye ja sakte.<br><br>\n",
    "            <li>Inhe \\ ke sath specify kiya jata hai. C mein kuch common escape sequences ye hain:.</li><br>\n",
    "\n",
    "</ul></div></body>\n",
    "\n"
   ]
  },
  {
   "cell_type": "code",
   "execution_count": 2,
   "id": "11b6d41a-58bb-4bed-a957-a37ca6bc46be",
   "metadata": {
    "tags": []
   },
   "outputs": [
    {
     "name": "stdout",
     "output_type": "stream",
     "text": [
      "\n",
      " \t '"
     ]
    }
   ],
   "source": [
    "#include <stdio.h>\n",
    "int main(){\n",
    "\n",
    "    char newline = '\\n';   // Newline character\n",
    "    char tab = '\\t';       // Tab character\n",
    "    char singleQuote = '\\''; // Single quote character\n",
    "    \n",
    "    printf(\"%c %c %c\",newline,tab,singleQuote);\n",
    "    return 0;\n",
    "\n",
    "}"
   ]
  },
  {
   "cell_type": "code",
   "execution_count": 7,
   "id": "6a332377-6c6a-480c-a64f-03e8fa28f069",
   "metadata": {
    "tags": []
   },
   "outputs": [
    {
     "name": "stdout",
     "output_type": "stream",
     "text": [
      "Hy Mubeen\n",
      "\tI am Your's Computer 'Assistants'"
     ]
    }
   ],
   "source": [
    "#include <stdio.h>\n",
    "int main(){\n",
    "    \n",
    "    printf(\"Hy Mubeen\\n\\tI am Your's Computer \\'Assistants\\'\");\n",
    "    \n",
    "    return 0;\n",
    "\n",
    "}"
   ]
  },
  {
   "cell_type": "markdown",
   "id": "fa7ff8d9-9771-48c1-874b-97687b086de6",
   "metadata": {},
   "source": [
    "\n",
    "<body style=\"color: black; font-size: 18px; font-style: oblique; text-shadow: 0 0 3px white, 0 0 1px black; padding: 20px;\">\n",
    "    <h1 style=\"text-align: center; color: #333;\"> Escape Sequences Table</h1>\n",
    "    <table style=\"width: 100%; border-collapse: collapse; margin: 20px 0; box-shadow: 0 2px 10px rgba(0, 0, 0, 0.1); font-size: 18px;\"> <tr style=\"background-color: #4CAF50; color: white;\">\n",
    "            <th style=\"padding: 12px;\">Characters</th>\n",
    "            <th style=\"padding: 12px;\">Mean</th>\n",
    "        </tr>\n",
    "        <tr style=\"background-color: #ffffff;\">\n",
    "            <td style=\"padding: 10px; text-align: center;\">\\a</td>\n",
    "            <td style=\"padding: 10px; text-align: center;\">Beep</td>\n",
    "        </tr>\n",
    "        <tr style=\"background-color: #f9f9f9;\">\n",
    "            <td style=\"padding: 10px; text-align: center;\">\\b</td>\n",
    "            <td style=\"padding: 10px; text-align: center;\">Backspace</td>\n",
    "        </tr>\n",
    "        <tr style=\"background-color: #ffffff;\">\n",
    "            <td style=\"padding: 10px; text-align: center;\">\\n</td>\n",
    "            <td style=\"padding: 10px; text-align: center;\">New Line</td>\n",
    "        </tr>\n",
    "        <tr style=\"background-color: #f9f9f9;\">\n",
    "            <td style=\"padding: 10px; text-align: center;\">\\r</td>\n",
    "            <td style=\"padding: 10px; text-align: center;\">carriage return</td>\n",
    "        </tr>\n",
    "    <tr style=\"background-color: #ffffff;\">\n",
    "            <td style=\"padding: 10px; text-align: center;\">\\t</td>\n",
    "            <td style=\"padding: 10px; text-align: center;\">Tab</td>\n",
    "        </tr>\n",
    "        <tr style=\"background-color: #f9f9f9;\">\n",
    "            <td style=\"padding: 10px; text-align: center;\">\\\\</td>\n",
    "            <td style=\"padding: 10px; text-align: center;\">Backslash</td>\n",
    "        </tr>\n",
    "        <tr style=\"background-color: #ffffff;\">\n",
    "            <td style=\"padding: 10px; text-align: center;\">\\'</td>\n",
    "            <td style=\"padding: 10px; text-align: center;\">Single Qoutes</td>\n",
    "        </tr>\n",
    "     <tr style=\"background-color: #f9f9f9;\">\n",
    "            <td style=\"padding: 10px; text-align: center;\">\\\"</td>\n",
    "            <td style=\"padding: 10px; text-align: center;\">Double Qoutes</td>\n",
    "        </tr>\n",
    "     <tr style=\"background-color: #ffffff;\">\n",
    "            <td style=\"padding: 10px; text-align: center;\">\\'</td>\n",
    "            <td style=\"padding: 10px; text-align: center;\">Single Qoutes</td>\n",
    "        </tr>   \n",
    "        <tr style=\"background-color: #f9f9f9;\">\n",
    "            <td style=\"padding: 10px; text-align: center;\">\\nnn (nnn is octal Number)</td>\n",
    "            <td style=\"padding: 10px; text-align: center;\">Octal Number</td>\n",
    "        </tr>\n",
    "        <tr style=\"background-color: #ffffff;\">\n",
    "            <td style=\"padding: 10px; text-align: center;\">\\xhh (hh is Hex Number)</td>\n",
    "            <td style=\"padding: 10px; text-align: center;\">HexaDecimal Number</td>\n",
    "        </tr>\n",
    "        <tr style=\"background-color: #f9f9f9;\">\n",
    "            <td style=\"padding: 10px; text-align: center;\">\\0</td>\n",
    "            <td style=\"padding: 10px; text-align: center;\">Null</td>\n",
    "        </tr>\n",
    "    </table>\n",
    "</body>\n",
    "\n"
   ]
  },
  {
   "cell_type": "code",
   "execution_count": 25,
   "id": "e14381e1-7a31-472e-af6a-cbedaf761644",
   "metadata": {
    "tags": []
   },
   "outputs": [
    {
     "name": "stdout",
     "output_type": "stream",
     "text": [
      "->\u0000<-"
     ]
    }
   ],
   "source": [
    "#include <stdio.h>\n",
    "int main(){\n",
    "    \n",
    "    printf(\"->%c<-\",'\\0');\n",
    "    return 0;\n",
    "\n",
    "}"
   ]
  },
  {
   "cell_type": "code",
   "execution_count": 38,
   "id": "47875cb4-9320-4f70-9507-ddda0c5e7450",
   "metadata": {
    "tags": []
   },
   "outputs": [
    {
     "name": "stdout",
     "output_type": "stream",
     "text": [
      "Double Qouted \"\n",
      "Single Qoutes '\n",
      "Backslash \\"
     ]
    }
   ],
   "source": [
    "#include <stdio.h>\n",
    "int main(){\n",
    "    \n",
    "    printf(\"Double Qouted \\\"\\nSingle Qoutes \\'\\nBackslash \\\\\");\n",
    "    return 0;\n",
    "\n",
    "}\n",
    "main();"
   ]
  }
 ],
 "metadata": {
  "kernelspec": {
   "display_name": "C++17",
   "language": "C++17",
   "name": "xcpp17"
  },
  "language_info": {
   "codemirror_mode": "text/x-c++src",
   "file_extension": ".cpp",
   "mimetype": "text/x-c++src",
   "name": "c++",
   "version": "17"
  }
 },
 "nbformat": 4,
 "nbformat_minor": 5
}
