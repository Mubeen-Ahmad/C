{
 "cells": [
  {
   "cell_type": "markdown",
   "id": "8b1a5f12-0a43-4451-b82e-6eeeceb157e4",
   "metadata": {},
   "source": [
    "<h1 style=\"text-align:center; color:#005bbd; font-size:30px; font-family:Sans-serif; font-style: oblique; text-shadow: 0 0 3px white, 0 0 1px Black;\">\n",
    "   Story of C<br>Programming Language \n",
    "</h1>"
   ]
  },
  {
   "cell_type": "markdown",
   "id": "a470fefb-11c7-4c37-95ce-c0b5ec5934a8",
   "metadata": {},
   "source": [
    "<body style=\"font-family: Sans-serif;\">\n",
    "    <div style=\"color: black; font-size: 18px; font-style: oblique; text-shadow: 0 0 3px white, 0 0 1px black; padding: 20px;\">\n",
    "        <h2>1960s</h2>\n",
    "        <ul><li><p>1960s ke dauran, Bell Labs mein Dennis Ritchie ek aisi language par kaam kar rahe the jo system programming ke liye efficient aur portable ho.Us waqt unka target UNIX operating system ka development tha, aur is development ke liye unhone ek nayi language ka foundation rakha, jise hum aaj C language kehte hain.</p></li></ul><hr>\n",
    "        <h2>1972</h2>\n",
    "        <ul><li><p>1972 mein, C language officially Bell Labs mein develop ki gayi. Is waqt yeh language UNIX operating system ka essential part ban gayi thi, jo usko easy-to-maintain aur portable banata tha.</p></li></ul><hr>\n",
    "        <h2>1978</h2>\n",
    "        <ul><li><p>1978 mein, Dennis Ritchie aur unke colleague Brian Kernighan ne aik kitab publish ki jo \"The C Programming Language\" ke naam se mashhoor hui. Is kitab ne C language ka first formal version specify kiya, jise aaj hum K&R C ke naam se jaante hain.</p></li></ul><hr>\n",
    "         <h2>1989</h2>\n",
    "        <ul><li><p>Uske baad 1989 mein, ANSI (American National Standards Institute) ne C language ka ek standard banaya taake sab jagah ek uniform version ka use ho. Isay ANSI C kaha gaya. Yeh aik important milestone tha kyun ke ab developers aik standardized C version pe kaam kar sakte the.</p></li></ul><hr>\n",
    "        <h2>1990</h2>\n",
    "        <ul><li><p>1990 mein, ANSI C ko ISO (International Organization for Standardization) ne bhi adopt kar liya aur yeh ISO C ke naam se pehchani jane lagi.</p></li></ul><hr>\n",
    "        <h2>1999 C-99</h2>\n",
    "        <ul><li><p>Jaisay jaisay computing needs evolve hoti gayi, C language mein naye features add kiye gaye. 1999 mein, C99 standard introduce kiya gaya, jisme inline functions, variable-length arrays, aur one-line comments (//) jaise naye features aaye jo modern programming ke liye zaroori the.</p></li></ul><hr>\n",
    "        <h2>2007 C-1X</h2>\n",
    "        <ul><li><p>Iske baad 2007 mein C language ke next revision par kaam shuru hua jo initially \"C1X\" ke naam se jana gaya.</p></li></ul><hr>\n",
    "        <h2>2011 C-11</h2>\n",
    "        <ul><li><p>Kaafi research ke baad, December 8, 2011 ko is revision ko ISO/IEC 9899:2011 ke naam se publish kiya gaya, jo officially C11 kehlaya. C11 mein multi-threading, atomic operations, aur Unicode support jaise modern features introduce kiye gaye, jo C ko zyada powerful aur versatile banate hain.</p></li></ul><hr>\n",
    "        <h2>2018 C-17</h2>\n",
    "        <ul><li><p>Phir June 2018 mein C17 standard introduce kiya gaya, jisme koi naye language features nahi aaye, lekin C11 ke defects ko correct kiya gaya. C17 ne C language ko aur stabilize kiya.</p></li></ul><hr>\n",
    "        <h2>2024 C-23</h2>\n",
    "        <ul><li><p>C language ka agla major revision C23 ke naam se introduce kiya ja raha hai, jo 2024 mein expected hai. Is revision mein naye features aur improvements aane ki umeed hai, jo modern computing ke demands ko address karega.</p></li></ul><hr>\n",
    "    </div>\n",
    "</body>"
   ]
  },
  {
   "cell_type": "markdown",
   "id": "414cf6a2-32e1-4ea7-b8ed-bd65fb69338b",
   "metadata": {},
   "source": [
    "<h1 style=\"text-align:center; color:#005bbd; font-size:30px; font-family:Sans-serif; font-style: oblique; text-shadow: 0 0 3px white, 0 0 1px Black;\">\n",
    "   Embedded C\n",
    "</h1>"
   ]
  },
  {
   "cell_type": "markdown",
   "id": "0e16364a-24bf-4d99-bc19-da0b1c283bed",
   "metadata": {},
   "source": [
    "<body style=\"font-family: Sans-serif;\">\n",
    "    <div style=\"color: black; font-size: 20px; font-style: oblique; text-shadow: 0 0 3px white, 0 0 1px black; padding: 20px;\">\n",
    "        <ul><li><p>C language ka aik aur important aspect Embedded C hai, jo specifically embedded systems ke liye use hoti hai. Embedded programming mein kuch nonstandard extensions ki zarurat hoti hai, jaise fixed-point arithmetic, distinct memory banks, aur basic I/O operations.</p></li></ul>\n",
    "    <ul><li><p>2008 mein, C Standards Committee ne aik technical report publish ki, jisme Embedded C ke liye standard features define kiye gaye, taake yeh systems standardize ho sakein.</p></li></ul>\n",
    "        <hr>\n",
    "</div>\n",
    "</body>"
   ]
  },
  {
   "cell_type": "markdown",
   "id": "0ba2a7a4-b663-4d8a-874b-8c84b3c1275d",
   "metadata": {},
   "source": [
    "<h1 style=\"text-align:center; color:#005bbd; font-size:30px; font-family:Sans-serif; font-style: oblique; text-shadow: 0 0 3px white, 0 0 1px Black;\">\n",
    "   Importance of C\n",
    "</h1>"
   ]
  },
  {
   "cell_type": "markdown",
   "id": "81c43012-f3ee-4605-9b0c-1b40b79ee42d",
   "metadata": {},
   "source": [
    "<body style=\"font-family: Sans-serif;\">\n",
    "    <div style=\"color: black; font-size: 18px; font-style: oblique; text-shadow: 0 0 3px white, 0 0 1px black; padding: 20px;\">\n",
    "        <h2>System Programming</h2>\n",
    "        <ul><li><p>C language ko initially system-level programming ke liye develop kiya gaya tha, aur aaj bhi yeh operating systems, device drivers, aur embedded systems ke development mein use hoti hai.</p></li></ul>\n",
    "        <ul><li><p>Operating Systems jese UNIX aur Linux ka major portion C mein likha gaya hai. Yeh language hardware ke bohot close hai, jisse developers low-level operations ko directly control kar sakte hain, jese memory management, processor instructions, aur I/O operations.</p></li></ul>\n",
    "        <ul><li><p>C ka use kernel development, file systems, aur network programming mein bhi hota hai, jo system ko efficient aur reliable banata hai.</p></li></ul><hr>\n",
    "        <h2>Portability</h2>\n",
    "        <ul><li><p>C language ki portability iska aik key feature hai. Iska matlab yeh hai ke C mein likha gaya code easily ek system se doosre system par transfer kiya ja sakta hai with little to no modification.</p></li></ul>\n",
    "        <ul><li><p>Yeh language ek standardized form mein available hai, jisse cross-platform development easy hota hai. Is wajah se C ko embedded systems, desktop applications, aur real-time systems mein extensively use kiya jata hai.</p></li></ul>\n",
    "        <ul><li><p>UNIX jese operating systems ko bhi easily different hardware architectures par port kiya gaya tha, kyunki C language hardware ke upar aik abstraction provide karti hai.</p></li></ul><hr>\n",
    "        <h2>Speed</h2>\n",
    "        <ul><li><p>C language ka execution bohot fast hota hai kyunki yeh language compiled hai aur direct machine-level code generate karti hai. Compiler C code ko machine instructions mein translate karta hai, jisse performance optimization bohot zyada hoti hai.</p></li></ul>\n",
    "        <ul><li><p>Low-level memory access aur manual memory management ki wajah se developers efficiently memory aur resources ko utilize kar sakte hain, jisse high-performance applications, jese gaming engines, compilers, aur real-time systems develop kiye ja sakte hain.</p></li></ul>\n",
    "        <ul><li><p>C ka minimalism aur direct hardware access usay speed ke maamle mein dusri high-level languages se bohot aage rakhta hai. Yeh time-critical applications ke liye ideal choice hai.</p></li></ul><hr>\n",
    "       </div>\n",
    "</body>"
   ]
  }
 ],
 "metadata": {
  "kernelspec": {
   "display_name": "C++17",
   "language": "C++17",
   "name": "xcpp17"
  },
  "language_info": {
   "codemirror_mode": "text/x-c++src",
   "file_extension": ".cpp",
   "mimetype": "text/x-c++src",
   "name": "c++",
   "version": "17"
  }
 },
 "nbformat": 4,
 "nbformat_minor": 5
}
