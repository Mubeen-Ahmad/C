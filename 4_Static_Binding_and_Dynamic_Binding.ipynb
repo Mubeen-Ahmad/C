{
 "cells": [
  {
   "cell_type": "markdown",
   "id": "d4f455fd-7895-489a-957f-a2e71e4ac3b6",
   "metadata": {},
   "source": [
    "<h1 style=\"text-align:center; color:#005bbd; font-size:30px; font-family:Sans-serif; font-style: oblique; text-shadow: 0 0 3px white, 0 0 1px Black;\">\n",
    "Static Binding vs Dynamic Binding Concept</h1>"
   ]
  },
  {
   "cell_type": "markdown",
   "id": "65b8bd3f-088d-406c-96da-e42052936dff",
   "metadata": {},
   "source": [
    "<body style=\"font-family: Sans-serif;\">\n",
    "    <div style=\"color: black; font-size: 18px; font-style: oblique; text-shadow: 0 0 3px white, 0 0 1px black; padding: 20px;\">\n",
    "        <ul><p>Static Binding vs Dynamic Binding aik third concept hai jo function calls ya method dispatch se related hota hai, aur yeh pehle se seekhe hue concepts se alag hai. Yeh static aur dynamic typing ke concepts se directly related nahi hota, balkay is ka taluq is baat se hai ke aik function ya method call ko kis waqt resolve kiya jata hai: compile-time ya run-time.</p></ul>\n",
    "        </div>\n",
    "</body>"
   ]
  },
  {
   "cell_type": "markdown",
   "id": "62579ca7-afa5-460d-8445-902dc7e3f208",
   "metadata": {},
   "source": [
    "<h1 style=\"text-align:center; color:#005bbd; font-size:30px; font-family:Sans-serif; font-style: oblique; text-shadow: 0 0 3px white, 0 0 1px Black;\">\n",
    "Static Binding (Early Binding)</h1>"
   ]
  },
  {
   "cell_type": "markdown",
   "id": "475733ac-a04b-4b3f-aec9-0b60c45b325c",
   "metadata": {},
   "source": [
    "<body style=\"font-family: Sans-serif;\">\n",
    "    <div style=\"color: black; font-size: 18px; font-style: oblique; text-shadow: 0 0 3px white, 0 0 1px black; padding: 20px;\">\n",
    "        <ul><li><p>Static Binding mein function call ya method ko compile-time par resolve kar diya jata hai.</p></li></ul>\n",
    "        <ul><li><p>Iska matlab hai ke jab code compile ho raha hota hai, compiler pehle se decide kar leta hai ke kaunsa function ya method call hoga.</p></li></ul>\n",
    "        <ul><li><p>Faster hota hai, kyun ke run-time pe kuch decide nahi karna padta.</p></li></ul>\n",
    "        <ul><li><p>Example: C++, Java mein agar methods ko final ya private declare kiya jaye, to unki binding static hoti hai.<br>In cases mein compiler pehle se maloom kar leta hai ke kaunsa method call karna hai.</p></li></ul>\n",
    "        </div>\n",
    "</body>"
   ]
  },
  {
   "cell_type": "code",
   "execution_count": 4,
   "id": "d95cc705-910c-4b03-a858-5b45cff5cee9",
   "metadata": {},
   "outputs": [],
   "source": [
    "#include <stdio.h>\n",
    "\n",
    "void printMessage() {\n",
    "    printf(\"This is static binding.\");\n",
    "}"
   ]
  },
  {
   "cell_type": "code",
   "execution_count": 7,
   "id": "af455b3c-5d0d-4b75-bc15-0a68a79b2f0e",
   "metadata": {},
   "outputs": [
    {
     "name": "stdout",
     "output_type": "stream",
     "text": [
      "This is static binding."
     ]
    },
    {
     "data": {
      "text/plain": [
       "0"
      ]
     },
     "execution_count": 7,
     "metadata": {},
     "output_type": "execute_result"
    }
   ],
   "source": [
    "int main(){\n",
    "    printMessage(); // Compile-time par resolve ho jata hai\n",
    "    return 0;\n",
    "};\n",
    "\n",
    "main() // ignore this line"
   ]
  },
  {
   "cell_type": "markdown",
   "id": "5475b9dd-49cd-49c4-8f44-1144d84004f4",
   "metadata": {},
   "source": [
    "<h1 style=\"text-align:center; color:#005bbd; font-size:30px; font-family:Sans-serif; font-style: oblique; text-shadow: 0 0 3px white, 0 0 1px Black;\">\n",
    "Dynamic Binding (Late Binding)</h1>"
   ]
  },
  {
   "cell_type": "markdown",
   "id": "af294fac-b882-45d7-a2eb-82a9e3a40b19",
   "metadata": {},
   "source": [
    "<body style=\"font-family: Sans-serif;\">\n",
    "    <div style=\"color: black; font-size: 18px; font-style: oblique; text-shadow: 0 0 3px white, 0 0 1px black; padding: 20px;\">\n",
    "        <ul><li><p>Dynamic Binding mein function ya method call ko run-time pe decide kiya jata hai.</p></li></ul>\n",
    "        <ul><li><p>Iska matlab hai ke program ke chalne ke waqt decide hota hai ke kaunsa function ya method execute hoga, usually inheritance ya polymorphism ke case mein.</p></li></ul>\n",
    "        <ul><li><p>Slower hota hai, kyunki yeh run-time pe decide hota hai.\n",
    "</p></li></ul>\n",
    "        <ul><li><p>Example: C++ ya Java mein agar aap virtual ya overridden methods use karte hain, to dynamic binding hoti hai. Is case mein program jab run ho raha hota hai tab decide hota hai ke actual object ka kaunsa method call hoga.</p></li></ul>\n",
    "        </div>\n",
    "</body>"
   ]
  },
  {
   "cell_type": "code",
   "execution_count": 18,
   "id": "61ee8c0c-3e74-408a-8540-4dd86183d41d",
   "metadata": {},
   "outputs": [],
   "source": [
    "#include <stdio.h>\n",
    "\n",
    "void printMessageA();\n",
    "void printMessageB();\n",
    "\n",
    "typedef void (*PrintMessageFunc)();"
   ]
  },
  {
   "cell_type": "code",
   "execution_count": 19,
   "id": "f74a4ee5-1386-45a9-8456-34ff72d37cb4",
   "metadata": {},
   "outputs": [],
   "source": [
    "void printMessageA() {\n",
    "    printf(\"This is Message A.\\n\");\n",
    "}"
   ]
  },
  {
   "cell_type": "code",
   "execution_count": 20,
   "id": "d2ebfde7-d6df-4ec2-8c49-08805d0c52cd",
   "metadata": {},
   "outputs": [],
   "source": [
    "void printMessageB() {\n",
    "    printf(\"This is Message B.\\n\");\n",
    "}"
   ]
  },
  {
   "cell_type": "code",
   "execution_count": 24,
   "id": "5265b0cf-8a34-43eb-8a15-537237c651c1",
   "metadata": {},
   "outputs": [
    {
     "name": "stdout",
     "output_type": "stream",
     "text": [
      "This is Message B.\n",
      "This is Message A.\n"
     ]
    }
   ],
   "source": [
    "int main() {\n",
    "    PrintMessageFunc printMessage;\n",
    "    // Assign the second function to the pointer\n",
    "    printMessage = printMessageB;\n",
    "    printMessage(); // Calls printMessageA\n",
    "\n",
    "    // Assign the first function to the pointer\n",
    "    printMessage = printMessageA;\n",
    "    printMessage(); // Calls printMessageA\n",
    "    return 0;\n",
    "}\n",
    "\n",
    "main();"
   ]
  },
  {
   "cell_type": "markdown",
   "id": "0915e011-b9fc-4553-bae9-e092c343d46b",
   "metadata": {},
   "source": [
    "<h1 style=\"text-align:left; color:#005bbd; font-size:30px; font-family:Sans-serif; font-style: oblique; text-shadow: 0 0 3px white, 0 0 1px Black; line-height:50px;\">\n",
    "    <ol>\n",
    "        <li>Static,Dynamic Type </li>\n",
    "    <li>Static,Dynamic Binding </li>\n",
    "        <li>Strong, Weak Type</li>\n",
    "    </ol>\n",
    "Concept</h1>"
   ]
  },
  {
   "cell_type": "markdown",
   "id": "24dcef98-0168-4008-b700-49cb55d7aea4",
   "metadata": {},
   "source": [
    "<body style=\"font-family: Sans-serif;\">\n",
    "    <div style=\"color: black; font-size: 18px; font-style: oblique; text-shadow: 0 0 3px white, 0 0 1px black; padding: 20px;\">\n",
    "        <ul><li><p>Static vs. Dynamic Typing ye batata hai ke types kab check kiye jate hain (compile-time ya run-time).\n",
    "</p></li></ul>\n",
    "        <ul><li><p>Strong vs. Weak Typing ye batata hai ke type rules kitne strict hain aur kya automatic type conversion ki ijazat hai ya nahi.</p></li></ul>\n",
    "        <ul><li><p>Static vs. Dynamic Binding ye batata hai ke method ya function call kab resolve hota hai (compile-time ya run-time).\n",
    "</p></li></ul>\n",
    "</div>\n",
    "</body>"
   ]
  }
 ],
 "metadata": {
  "kernelspec": {
   "display_name": "C++17",
   "language": "C++17",
   "name": "xcpp17"
  },
  "language_info": {
   "codemirror_mode": "text/x-c++src",
   "file_extension": ".cpp",
   "mimetype": "text/x-c++src",
   "name": "c++",
   "version": "17"
  }
 },
 "nbformat": 4,
 "nbformat_minor": 5
}
