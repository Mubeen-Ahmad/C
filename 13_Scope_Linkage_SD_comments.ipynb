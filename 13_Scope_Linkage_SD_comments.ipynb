{
 "cells": [
  {
   "cell_type": "markdown",
   "id": "482ca882-3169-4e4f-8913-32756bb8e6de",
   "metadata": {},
   "source": [
    "<h1 style=\"text-align:center; color:#005bbd; font-size:30px; font-family:Sans-serif; font-style: oblique; text-shadow: 0 0 3px white, 0 0 1px Black;\">\n",
    "   Scope\n",
    "</h1>"
   ]
  },
  {
   "cell_type": "markdown",
   "id": "7711448b-e6ba-455a-a957-3b1064acaa10",
   "metadata": {},
   "source": [
    "<body style=\"font-family: Sans-serif;\">\n",
    "    <div style=\"color: black; font-size: 18px; font-style: oblique; text-shadow: 0 0 3px white, 0 0 1px black; padding: 20px;\">\n",
    "        <ul>Scope Yeh batata hai ke variable ya function kis jagah par accessible hai\n",
    "</ul></div></body>\n"
   ]
  },
  {
   "cell_type": "markdown",
   "id": "ca914a47-f76e-498b-bb51-dc195c42cfd6",
   "metadata": {},
   "source": [
    "<body style=\"font-family: Sans-serif;\">\n",
    "    <div style=\"color: black; font-size: 18px; font-style: oblique; text-shadow: 0 0 3px white, 0 0 1px black; padding: 20px;\">\n",
    "        <h4>File Scope</h4>\n",
    "        <ul>\n",
    "            <li>File scope C language mein un variables aur functions ke liye hoti hai jo file ke bahar, kisi bhi function ke andar nahi, declare kiye gaye hote hain.</li><br>\n",
    "            <li>Inka scope poori file mein hota hai, aur yeh puri file ke andar accessible hote hain, lekin doosri files mein tab tak accessible nahi hote jab tak inhe extern keyword ya external linkage ke through explicitly share na kiya jaye.</li>\n",
    "</ul></div></body>\n"
   ]
  },
  {
   "cell_type": "code",
   "execution_count": 44,
   "id": "ba82b589-a95f-4136-b765-9b18a6f5ea1d",
   "metadata": {},
   "outputs": [
    {
     "name": "stdout",
     "output_type": "stream",
     "text": [
      "Access globalVar in myFunction = 100\n",
      "Access globalVar in main = 100"
     ]
    }
   ],
   "source": [
    "#include <stdio.h>\n",
    "\n",
    "int globalVar = 100;  // Yeh variable file scope mein hai\n",
    "\n",
    "void myFunction() {\n",
    "    printf(\"Access globalVar in myFunction = %d\\n\", globalVar); // globalVar ko kisi bhi function se access kiya ja sakta hai\n",
    "}\n",
    "\n",
    "int main() {\n",
    "    myFunction();\n",
    "    printf(\"Access globalVar in main = %d\\n\", globalVar);\n",
    "    return 0;\n",
    "}\n"
   ]
  },
  {
   "cell_type": "markdown",
   "id": "b83ac160-c69a-40f9-ac71-86e96d5986d3",
   "metadata": {},
   "source": [
    "<img style=\"display: block;margin-left: auto;margin-right: auto;width: 80%;\" src=\"./images/files1.jpg\">"
   ]
  },
  {
   "cell_type": "code",
   "execution_count": 54,
   "id": "f077439d-15a5-4f23-8b04-4881ff1e2714",
   "metadata": {},
   "outputs": [],
   "source": [
    "    // file1.c\n",
    "    #include <stdio.h>\n",
    "    \n",
    "    // File scope variable\n",
    "    int globalVar = 100;\n",
    "    void myFunction() {\n",
    "        printf(\"globalVar = %d\\n\", globalVar);\n",
    "    }\n",
    "    \n",
    "    // Declare the prototype of anotherFunction() so file1.c knows about it\n",
    "    int anotherFunction();\n",
    "    int main() {\n",
    "        myFunction();        // Call function from file1.c\n",
    "        anotherFunction();   // Call function from file2.c\n",
    "        return 0;\n",
    "    }\n"
   ]
  },
  {
   "cell_type": "code",
   "execution_count": 55,
   "id": "e0a21aa3-9690-40fa-8b1e-eea184a9dd70",
   "metadata": {},
   "outputs": [],
   "source": [
    "// file2.c\n",
    "#include <stdio.h>\n",
    "\n",
    "// Reference to the globalVar defined in file1.c\n",
    "extern int globalVar;\n",
    "\n",
    "int anotherFunction() {\n",
    "    printf(\"globalVar from file2 = %d\\n\", globalVar);\n",
    "    return 0;\n",
    "}"
   ]
  },
  {
   "cell_type": "code",
   "execution_count": 56,
   "id": "0e9e9500-a5b6-4d04-9f81-992357469a0c",
   "metadata": {},
   "outputs": [
    {
     "name": "stdout",
     "output_type": "stream",
     "text": [
      "globalVar = 100\n",
      "globalVar from file2 = 100\n"
     ]
    }
   ],
   "source": [
    "!gcc file1.c file2.c -o code && ./code"
   ]
  },
  {
   "cell_type": "markdown",
   "id": "f13d533d-6992-49d5-9226-37739887f44a",
   "metadata": {},
   "source": [
    "<img style=\"display: block;margin-left: auto;margin-right: auto;width: 80%;\" src=\"./images/files2.jpg\">"
   ]
  },
  {
   "cell_type": "markdown",
   "id": "2540e2ff-9cca-4646-afa2-ad9d52fe3c75",
   "metadata": {},
   "source": [
    "<body style=\"font-family: Sans-serif;\">\n",
    "    <div style=\"color: black; font-size: 18px; font-style: oblique; text-shadow: 0 0 3px white, 0 0 1px black; padding: 20px;\">\n",
    "        <h4>Block Scope</h4>\n",
    "        <ul>\n",
    "            <li>Block scope C language mein un variables ke liye hoti hai jo ek specific block ke andar declare kiye gaye hote hain.</li><br>\n",
    "            <li> Yeh block {} curly braces ke darmiyan hota hai, aur variables ka scope sirf usi block tak limited hota hai. Jab block khatam hota hai, to un variables ka lifecycle bhi khatam ho jata hai.</li>\n",
    "</ul></div></body>\n"
   ]
  },
  {
   "cell_type": "code",
   "execution_count": 2,
   "id": "4e392c2a-81ce-4500-88c4-a7dfeaa6a8c2",
   "metadata": {},
   "outputs": [
    {
     "name": "stdout",
     "output_type": "stream",
     "text": [
      " -: x Accessible Here :-\n",
      " -: x and y Accessible Here :-\n",
      "x = 10, y = 20\n",
      " -: x only Accessible Here :-\n",
      "x = 10\n"
     ]
    }
   ],
   "source": [
    "# include <stdio.h>\n",
    "\n",
    "int main() {\n",
    "    int x = 10;  // Yeh variable 'x' main function mein accessible hai.\n",
    "    printf(\" -: x Accessible Here :-\\n\");\n",
    "    \n",
    "    if (x > 5) {\n",
    "        int y = 20;  // 'y' ka scope sirf is if block tak limited hai.\n",
    "        printf(\" -: x and y Accessible Here :-\\n\");    \n",
    "        printf(\"x = %d, y = %d\\n\", x, y);\n",
    "    }\n",
    "\n",
    "    // yahan par 'y' ko access karna mumkin nahi, kyun ke y ka scope if block tak hai.\n",
    "    printf(\" -: x only Accessible Here :-\\n\"); \n",
    "    printf(\"x = %d\\n\", x);\n",
    "    \n",
    "    return 0;\n",
    "}"
   ]
  },
  {
   "cell_type": "markdown",
   "id": "51826dd5-3306-41e6-8749-6331fe3be3e8",
   "metadata": {},
   "source": [
    "<img style=\"display: block;margin-left: auto;margin-right: auto;width: 80%;\" src=\"./images/fileb1.jpg\">"
   ]
  },
  {
   "cell_type": "markdown",
   "id": "114ba3ef-d358-45f2-a477-1d0fed0bd78e",
   "metadata": {},
   "source": [
    "<body style=\"font-family: Sans-serif;\">\n",
    "    <div style=\"color: black; font-size: 18px; font-style: oblique; text-shadow: 0 0 3px white, 0 0 1px black; padding: 20px;\">\n",
    "        <h4>Function Prototype Scope</h4>\n",
    "        <ul>\n",
    "            <li>jab hum ek function ko declare karte hain (specifically uske parameters ko), to jo variables hum us function prototype mein specify karte hain, unka scope sirf us prototype tak hi limited hota hai. </li><br>\n",
    "            <li> Iska matlab yeh hota hai ke function prototype ke andar define kiye gaye parameters sirf declaration ya definition ke dauran hi use ho sakte hain.</li><br>\n",
    "            <li>Function prototype scope ka asal matlab sirf un parameters ke liye hota hai jo aap function ke signature mein define karte hain. Yeh parameters sirf usi declaration ke liye relevant hote hain, unko prototype ke bahar nahi use kiya ja sakta.</li>\n",
    "</ul></div></body>\n"
   ]
  },
  {
   "cell_type": "code",
   "execution_count": 4,
   "id": "00d5700d-2804-4ea8-a7e0-a40f2ab5f700",
   "metadata": {},
   "outputs": [
    {
     "name": "stdout",
     "output_type": "stream",
     "text": [
      "Result: 15"
     ]
    }
   ],
   "source": [
    "#include <stdio.h>\n",
    "\n",
    "// Function Prototype with parameters (Function Prototype Scope)\n",
    "int add(int x, int y);\n",
    "\n",
    "int main() {\n",
    "    int result = add(10, 5);\n",
    "    printf(\"Result: %d\\n\", result);\n",
    "    return 0;\n",
    "}\n",
    "\n",
    "// Function Definition\n",
    "int add(int x, int y) {\n",
    "    return x + y;\n",
    "}\n"
   ]
  },
  {
   "cell_type": "markdown",
   "id": "71f0fc70-b752-4ddd-b697-78da7a648c3a",
   "metadata": {},
   "source": [
    "<img style=\"display: block;margin-left: auto;margin-right: auto;width: 80%;\" src=\"./images/filefp1.jpg\">"
   ]
  },
  {
   "cell_type": "markdown",
   "id": "722530aa-0609-4008-8b8e-4e0730e77f04",
   "metadata": {},
   "source": [
    "<body style=\"font-family: Sans-serif;\">\n",
    "    <div style=\"color: black; font-size: 18px; font-style: oblique; text-shadow: 0 0 3px white, 0 0 1px black; padding: 20px;\">\n",
    "        <h4>Function Scope</h4>\n",
    "        <ul>\n",
    "            <li>Function Scope ka matlab hota hai ke koi cheez (jaise label ya variable) sirf ek function ke andar accessible hoti hai, aur function ke bahar uska koi access nahi hota. </li><br>\n",
    "</ul></div></body>\n"
   ]
  },
  {
   "cell_type": "code",
   "execution_count": 10,
   "id": "802275fd-b5f5-4f19-82f7-9138d26ef692",
   "metadata": {},
   "outputs": [
    {
     "name": "stdout",
     "output_type": "stream",
     "text": [
      "2"
     ]
    }
   ],
   "source": [
    "#include <stdio.h>\n",
    "\n",
    "int func(){\n",
    "    int x = 2;\n",
    "    printf(\"%d\",x);\n",
    "}\n",
    "\n",
    "\n",
    "int main(){\n",
    "    func();\n",
    "}"
   ]
  },
  {
   "cell_type": "markdown",
   "id": "ae785d1a-e8bf-443f-bdce-b57a015bfe02",
   "metadata": {},
   "source": [
    "<img style=\"display: block;margin-left: auto;margin-right: auto;width: 60%;\" src=\"./images/filefp2.jpg\">"
   ]
  },
  {
   "cell_type": "markdown",
   "id": "55dc22a3-04fc-46b9-853b-b091a39d0ae1",
   "metadata": {},
   "source": [
    "<h1 style=\"text-align:center; color:#005bbd; font-size:30px; font-family:Sans-serif; font-style: oblique; text-shadow: 0 0 3px white, 0 0 1px Black;\">\n",
    "   Linkages\n",
    "</h1>"
   ]
  },
  {
   "cell_type": "markdown",
   "id": "d0b3fd28-ddb7-4ff6-ae32-f75bf6877ae6",
   "metadata": {},
   "source": [
    "<body style=\"font-family: Sans-serif;\">\n",
    "    <div style=\"color: black; font-size: 18px; font-style: oblique; text-shadow: 0 0 3px white, 0 0 1px black; padding: 20px;\">\n",
    "        <ul>Linkage yeh decide karta hain ke variables aur functions dusre files mein kis tarah se accessible hain. \n",
    "</ul></div></body>\n"
   ]
  },
  {
   "cell_type": "markdown",
   "id": "d3f980db-65c4-426b-ae34-192efb147644",
   "metadata": {},
   "source": [
    "<body style=\"font-family: Sans-serif;\">\n",
    "    <div style=\"color: black; font-size: 18px; font-style: oblique; text-shadow: 0 0 3px white, 0 0 1px black; padding: 20px;\">\n",
    "        <h4>No Linkage</h4>\n",
    "        <ul>\n",
    "            <li>Yeh variables/functions sirf unke block ya function mein accessible hote hain.</li><br>\n",
    "</ul></div></body>\n"
   ]
  },
  {
   "cell_type": "code",
   "execution_count": 13,
   "id": "4f02bd94-c1e7-4d5c-9970-04d443acdd72",
   "metadata": {},
   "outputs": [],
   "source": [
    "#include <stdio.h>\n",
    "int main(){\n",
    "    int x = 2; \n",
    "    /* \n",
    "    x variable ko dusri files me access nahi kar sakhty\n",
    "    aur x ko sirf isi block{} me access kar sakhty hn\n",
    "    */\n",
    "    \n",
    "    printf(\"%x\",x);\n",
    "}"
   ]
  },
  {
   "cell_type": "markdown",
   "id": "bfd885ca-5145-4b7c-8e39-69dc2dcef56f",
   "metadata": {},
   "source": [
    "<body style=\"font-family: Sans-serif;\">\n",
    "    <div style=\"color: black; font-size: 18px; font-style: oblique; text-shadow: 0 0 3px white, 0 0 1px black; padding: 20px;\">\n",
    "        <h4>Internal Linkage</h4>\n",
    "        <ul>\n",
    "            <li>Yeh variables/functions sirf usi translation unit (file) mein accessible hote hain.</li><br>\n",
    "</ul></div></body>\n"
   ]
  },
  {
   "cell_type": "code",
   "execution_count": 15,
   "id": "9866f977-39dc-4a36-9337-cfc2dde002fa",
   "metadata": {},
   "outputs": [
    {
     "name": "stdout",
     "output_type": "stream",
     "text": [
      "10\n"
     ]
    }
   ],
   "source": [
    "#include <stdio.h>\n",
    "static int x = 10;  \n",
    "/*\n",
    "    Yeh variable sirf is file mein accessible hai\n",
    "    dusri file me access nahi kar sakkty\n",
    "    but x variable ko isi file me kahi par bhi access kia ja sakhta hn\n",
    "*/\n",
    "\n",
    "int main() {\n",
    "    printf(\"%d\\n\", x);  // Accessible hai\n",
    "}"
   ]
  },
  {
   "cell_type": "markdown",
   "id": "1f4c716c-91ac-4150-842a-6908c27ebf17",
   "metadata": {},
   "source": [
    "<body style=\"font-family: Sans-serif;\">\n",
    "    <div style=\"color: black; font-size: 18px; font-style: oblique; text-shadow: 0 0 3px white, 0 0 1px black; padding: 20px;\">\n",
    "        <h4>External Linkage </h4>\n",
    "        <ul>\n",
    "            <li>Yeh variables/functions dusre translation units (files) se bhi access kiye ja sakte hain.</li><br>\n",
    "</ul></div></body>\n"
   ]
  },
  {
   "cell_type": "code",
   "execution_count": 18,
   "id": "4a0417ec-66fc-47a3-bfe2-091aa40ec36b",
   "metadata": {},
   "outputs": [],
   "source": [
    "// file1.c\n",
    "\n",
    "#include <stdio.h>\n",
    "\n",
    "int x = 2;\n",
    "\n",
    "void outside_func();\n",
    "\n",
    "void func1(){\n",
    "    printf(\"x access in func1 function on file1.c %x\\n\",x);\n",
    "}\n",
    "\n",
    "int main(){\n",
    "    func1();\n",
    "    printf(\"x access in main function on file1.c %x\\n\",x);\n",
    "    outside_func();\n",
    "}"
   ]
  },
  {
   "cell_type": "code",
   "execution_count": null,
   "id": "808000d1-341d-400d-aee5-6050a5f53dbc",
   "metadata": {},
   "outputs": [],
   "source": [
    "// file2.c\n",
    "\n",
    "#include <stdio.h>\n",
    "extern int x;\n",
    "void outside_func(){\n",
    "    printf(\"x access in outside_func on file2.c %x\",x);\n",
    "}\n"
   ]
  },
  {
   "cell_type": "code",
   "execution_count": 19,
   "id": "210d6f39-e573-4a74-9f4d-58d4d9d86588",
   "metadata": {},
   "outputs": [],
   "source": [
    "!gcc file1.c file2.c -o code"
   ]
  },
  {
   "cell_type": "code",
   "execution_count": 21,
   "id": "2a96c941-a797-4e71-aac0-cce39ab07b51",
   "metadata": {},
   "outputs": [
    {
     "name": "stdout",
     "output_type": "stream",
     "text": [
      "x access in func1 function on file1.c 2\n",
      "x access in main function on file1.c 2\n",
      "x access in outside_func on file2.c 2"
     ]
    }
   ],
   "source": [
    "!./code"
   ]
  },
  {
   "cell_type": "markdown",
   "id": "594fb960-dd76-482f-8421-9b1cb7b83271",
   "metadata": {},
   "source": [
    "<img style=\"display: block;margin-left: auto;margin-right: auto;width: 100%;\" src=\"./images/ext_lk.jpg\">"
   ]
  },
  {
   "cell_type": "markdown",
   "id": "9277de7d-5047-46f9-8109-a01edd326486",
   "metadata": {},
   "source": [
    "<h1 style=\"text-align:center; color:#005bbd; font-size:30px; font-family:Sans-serif; font-style: oblique; text-shadow: 0 0 3px white, 0 0 1px Black;\">\n",
    "   Storage Durations\n",
    "</h1>"
   ]
  },
  {
   "cell_type": "markdown",
   "id": "1308df2b-e258-42b7-adc1-c8d58739f9e3",
   "metadata": {},
   "source": [
    "\n",
    "<body style=\"font-family: Sans-serif;\">\n",
    "    <div style=\"color: black; font-size: 18px; font-style: oblique; text-shadow: 0 0 3px white, 0 0 1px black; padding: 20px;\">\n",
    "        <ul>\n",
    "        <li>Storage durations ka matlab hai ke C programming mein variables ke memory mein store hone ka period ya duration kya hoga. Yeh determine karta hai ke variable kab tak memory mein rahega aur kab uski memory free hogi.\n",
    "</li><br>\n",
    "    <ul>\n",
    "        <li> C mein 4 main types hain:</li>\n",
    "        </ul>\n",
    "    </div></body>\n"
   ]
  },
  {
   "cell_type": "markdown",
   "id": "4c3b5d7a-0af1-41a3-bdaf-120a603e803d",
   "metadata": {},
   "source": [
    "<body style=\"font-family: Sans-serif;\">\n",
    "    <div style=\"color: black; font-size: 18px; font-style: oblique; text-shadow: 0 0 3px white, 0 0 1px black; padding: 20px;\">\n",
    "        <h3>Automatic Storage Duration</h3>\n",
    "        <ul>\n",
    "        <li>Yeh default storage duration hai jab aap function ke andar variables declare karte hain.</li>\n",
    "         <li>Automatic variables function call hone par create hote hain aur function return hone par destroy ho jaate hain.</li>\n",
    "    </ul>\n",
    "    </div></body>\n"
   ]
  },
  {
   "cell_type": "code",
   "execution_count": 4,
   "id": "4734f212-722d-45b6-a3b0-25d1c133ca5a",
   "metadata": {},
   "outputs": [
    {
     "name": "stdout",
     "output_type": "stream",
     "text": [
      "Value of x: 10\n"
     ]
    }
   ],
   "source": [
    "#include <stdio.h>\n",
    "\n",
    "void function() {\n",
    "    int x = 10; // Automatic variable\n",
    "    printf(\"Value of x: %d\\n\", x);\n",
    "}\n",
    "\n",
    "int main() {\n",
    "    function(); // Output: Value of x: 10\n",
    "\n",
    "    // x yahan accessible nahi hai\n",
    "    \n",
    "    return 0;\n",
    "}"
   ]
  },
  {
   "cell_type": "markdown",
   "id": "c8b978e9-6ff7-4f5c-826f-152bf899c0bf",
   "metadata": {},
   "source": [
    "<body style=\"font-family: Sans-serif;\">\n",
    "    <div style=\"color: black; font-size: 18px; font-style: oblique; text-shadow: 0 0 3px white, 0 0 1px black; padding: 20px;\">\n",
    "        <h3>Static Storage Duration</h3>\n",
    "        <ul>\n",
    "        <li>Yeh variables program ke poore duration ke liye memory mein rehte hain.</li>\n",
    "         <li>Yeh global variables ya static local variables ke liye use hota hai.</li>\n",
    "         <li>Inki memory program ke start hone par allocate hoti hai aur program ke end tak rehti hai.</li>\n",
    "    </ul>\n",
    "    </div></body>\n"
   ]
  },
  {
   "cell_type": "code",
   "execution_count": 10,
   "id": "f1f1668d-a7f5-4732-8057-ec52038dfd98",
   "metadata": {},
   "outputs": [
    {
     "name": "stdout",
     "output_type": "stream",
     "text": [
      "Count: 1\n",
      "Count: 2"
     ]
    }
   ],
   "source": [
    "#include <stdio.h>\n",
    "\n",
    "void function() {\n",
    "    static int count = 0; // Static variable\n",
    "    count++;\n",
    "    printf(\"Count: %d\\n\", count);\n",
    "}\n",
    "\n",
    "int main() {\n",
    "    function(); // Output: Count: 1\n",
    "    function(); // Output: Count: 2\n",
    "    return 0;\n",
    "}\n"
   ]
  },
  {
   "cell_type": "markdown",
   "id": "22c00f3a-0942-4d4f-b56d-1d17fe1998bb",
   "metadata": {},
   "source": [
    "<body style=\"font-family: Sans-serif;\">\n",
    "    <div style=\"color: black; font-size: 18px; font-style: oblique; text-shadow: 0 0 3px white, 0 0 1px black; padding: 20px;\">\n",
    "        <h3>Dynamic Allocated Storage Duration</h3>\n",
    "        <ul>\n",
    "        <li>Yeh variables dynamic memory allocation ke through create hote hain (e.g., malloc() function se).</li>\n",
    "         <li>Inki memory heap par allocate hoti hai aur aapko manually free karni padti hai (e.g., free() function se).</li>\n",
    "            <li>ye memory free hone tak rehte hain.</li>\n",
    "    </ul>\n",
    "<br>\n",
    "<b>Note: Yahan ye target kiya gaya hai ke sirf concepts samjhe jayein. Code ki samajh agar nahi aa rahi to iski tension nahi leni, kyunki ye topics baad mein cover kiye jayenge. Abhi sirf ye samjhein ke Allocated Storage Duration ka concept kya hai.</b></div>\n",
    "    </div></body>\n"
   ]
  },
  {
   "cell_type": "code",
   "execution_count": 12,
   "id": "790046cb-9403-4863-8a78-84685efb5b11",
   "metadata": {},
   "outputs": [
    {
     "name": "stdout",
     "output_type": "stream",
     "text": [
      "1 2 3 4 5 "
     ]
    }
   ],
   "source": [
    "#include <stdio.h>\n",
    "#include <stdlib.h>\n",
    "\n",
    "int main() {\n",
    "    int *arr = (int *)malloc(5 * sizeof(int)); // Dynamic allocation\n",
    "    for (int i = 0; i < 5; i++) {\n",
    "        arr[i] = i + 1;\n",
    "        printf(\"%d \", arr[i]);\n",
    "    }\n",
    "    free(arr); // Memory free\n",
    "    return 0;\n",
    "}\n"
   ]
  },
  {
   "cell_type": "markdown",
   "id": "77a4a5d1-7df0-49e0-9a9b-8fe65756ac9b",
   "metadata": {},
   "source": [
    "<body style=\"font-family: Sans-serif;\">\n",
    "    <div style=\"color: black; font-size: 18px; font-style: oblique; text-shadow: 0 0 3px white, 0 0 1px black; padding: 20px;\">\n",
    "        <h3>Thread Storage Duration</h3>\n",
    "        <ul>\n",
    "        <li>Yeh variables multi-threaded programming mein use hote hain.</li>\n",
    "         <li>Har thread apni version ko maintain karta hai. Iska matlab hai ke jab ek thread variable ko change karta hai, to doosra thread usko nahi dekh sakta.</li>\n",
    "            <li>Jab tak wo thread chal raha hota hai, tab tak wo variables available hote hain, aur jaise hi thread khatam hota hai, wo variables bhi destroy ho jate hain.</li>\n",
    "    </ul>\n",
    "<br>\n",
    "<b>Note: Yahan ye target kiya gaya hai ke sirf concepts samjhe jayein. Code ki samajh agar nahi aa rahi to iski tension nahi leni, kyunki ye topics baad mein cover kiye jayenge. Abhi sirf ye samjhein ke Thread Storage Duration ka concept kya hai.</b></div>\n",
    "    </div></body>\n"
   ]
  },
  {
   "cell_type": "code",
   "execution_count": 15,
   "id": "4b5998c7-ce62-46de-9c17-d2f5f2faeb0b",
   "metadata": {},
   "outputs": [
    {
     "name": "stdout",
     "output_type": "stream",
     "text": [
      "Thread-local variable: 1\n",
      "Thread-local variable: 1"
     ]
    }
   ],
   "source": [
    "#include <stdio.h>\n",
    "#include <pthread.h>\n",
    "\n",
    "__thread int thread_var = 0; // Thread-local storage\n",
    "\n",
    "void* thread_function(void* arg) {\n",
    "    thread_var += 1; // Each thread has its own copy\n",
    "    printf(\"Thread-local variable: %d\\n\", thread_var);\n",
    "    return NULL;\n",
    "}\n",
    "\n",
    "int main() {\n",
    "    pthread_t t1, t2;\n",
    "    pthread_create(&t1, NULL, thread_function, NULL);\n",
    "    pthread_create(&t2, NULL, thread_function, NULL);\n",
    "    pthread_join(t1, NULL);\n",
    "    pthread_join(t2, NULL);\n",
    "    return 0;\n",
    "}\n"
   ]
  },
  {
   "cell_type": "markdown",
   "id": "a9caafc4-aea0-4fa6-bca1-06fec2bf2633",
   "metadata": {},
   "source": [
    "<h1 style=\"text-align:center; color:#005bbd; font-size:30px; font-family:Sans-serif; font-style: oblique; text-shadow: 0 0 3px white, 0 0 1px Black;\">\n",
    "   Comments\n",
    "</h1>"
   ]
  },
  {
   "cell_type": "markdown",
   "id": "62bad2bf-98b7-42b2-83e9-677ba5b0b586",
   "metadata": {},
   "source": [
    "\n",
    "<body style=\"font-family: Sans-serif;\">\n",
    "    <div style=\"color: black; font-size: 18px; font-style: oblique; text-shadow: 0 0 3px white, 0 0 1px black; padding: 20px;\">\n",
    "        <ul>\n",
    "        <li>Comments C language mein program ke code ko explain karne ke liye use hote hain. Ye sirf programmer ke liye hotay hain aur compiler inhe ignore karta hai, yani execution ke dauran inka koi role nahi hota.\n",
    "</li><br>\n",
    "    <ul>\n",
    "        <li>Comments 2 types ke hotay hain:</li><br><br>\n",
    "        <ul><li>Single-line comments</li><br>\n",
    "            <ul>\n",
    "                <li>Yeh comments sirf ek line par likhe jaate hain.</li><br>\n",
    "                <li>C99 se pehle sirf multi-line comments allowed the, lekin C99 se single-line comments bhi shamil ki gayi hain.</li><br>\n",
    "                <li>Syntax: // ke baad likha jata hai.</li>\n",
    "            </ul>\n",
    "        </ul>\n",
    "    </ul>\n",
    "        </ul>\n",
    "    </div></body>\n"
   ]
  },
  {
   "cell_type": "code",
   "execution_count": 23,
   "id": "dd107b59-3d9e-4a4e-b6a0-10831808d330",
   "metadata": {},
   "outputs": [
    {
     "name": "stdout",
     "output_type": "stream",
     "text": [
      "2 3"
     ]
    }
   ],
   "source": [
    "#include <stdio.h>\n",
    "int main(){\n",
    "    int x; // Variable Declaration\n",
    "    x = 2; // Variable Initialization\n",
    "\n",
    "    int y = 3; // Variable Declaration and Initialization\n",
    "\n",
    "    printf(\"%d %d\",x,y); // Print x and y\n",
    "    return 0;  // main function return 0\n",
    "}"
   ]
  },
  {
   "cell_type": "markdown",
   "id": "c7670692-2ae1-4af2-81ee-268225b3494d",
   "metadata": {},
   "source": [
    "\n",
    "<body style=\"font-family: Sans-serif;\">\n",
    "    <div style=\"color: black; font-size: 18px; font-style: oblique; text-shadow: 0 0 3px white, 0 0 1px black; padding: 20px;\">\n",
    "        <ul>\n",
    "    <ul>\n",
    "        <ul><li>Multi-line comments</li><br>\n",
    "            <ul>\n",
    "                <li>Yeh comments multiple lines cover kar sakte hain</li><br>\n",
    "                <li>Syntax: /* comments yaha likha jata hai */.</li>\n",
    "            </ul>\n",
    "        </ul>\n",
    "    </ul>\n",
    "        </ul>\n",
    "    </div></body>\n"
   ]
  },
  {
   "cell_type": "code",
   "execution_count": 24,
   "id": "90ff4853-6bf8-4a18-8900-9382b322d347",
   "metadata": {},
   "outputs": [
    {
     "name": "stdout",
     "output_type": "stream",
     "text": [
      "Multi-Line Comments"
     ]
    }
   ],
   "source": [
    "#include <stdio.h>\n",
    "int main(){\n",
    "    /*    \n",
    "        This is the\n",
    "        Example of\n",
    "        Multi-Line Comments\n",
    "    */\n",
    "    printf(\"Multi-Line Comments\");\n",
    "}"
   ]
  }
 ],
 "metadata": {
  "kernelspec": {
   "display_name": "C++17",
   "language": "C++17",
   "name": "xcpp17"
  },
  "language_info": {
   "codemirror_mode": "text/x-c++src",
   "file_extension": ".cpp",
   "mimetype": "text/x-c++src",
   "name": "c++",
   "version": "17"
  }
 },
 "nbformat": 4,
 "nbformat_minor": 5
}
