{
 "cells": [
  {
   "cell_type": "markdown",
   "id": "b4c426fe-444e-4ee6-9276-9f3d1ed9bbab",
   "metadata": {},
   "source": [
    "<h1 style=\"text-align:center; color:#005bbd; font-size:30px; font-family:Sans-serif; font-style: oblique; text-shadow: 0 0 3px white, 0 0 1px Black;\">\n",
    "  Logical Operators\n",
    "</h1>"
   ]
  },
  {
   "cell_type": "markdown",
   "id": "859ea967-e8b9-4ea2-8344-a5a1031dc5dc",
   "metadata": {},
   "source": [
    "<body style=\"font-family: Sans-serif;\">\n",
    "    <div style=\"color: black; font-size: 18px; font-style: oblique; text-shadow: 0 0 3px white, 0 0 1px black; padding: 20px;\">\n",
    "C language mein logical operators ko conditions combine karne ke liye use kiya jata hai. Yeh operators mostly decision-making aur conditional statements mein use hote hain.</div>\n",
    "<body>"
   ]
  },
  {
   "cell_type": "markdown",
   "id": "01155fd5-0669-4205-88a5-6128fba499ae",
   "metadata": {},
   "source": [
    "<body style=\"font-family: Sans-serif;\">\n",
    "    <div style=\"color: black; font-size: 18px; font-style: oblique; text-shadow: 0 0 3px white, 0 0 1px black; padding: 20px;\">\n",
    "        <h3>Logical OR</h3>\n",
    "        <ul><li>a || b</li>\n",
    "            <li> Logical OR operator (||) ko tab use kiya jata hai jab aapko kam az kam ek condition true hone par expression ko true karna ho. </li>\n",
    "            <li>Sirf dono conditions ke false hone par result false hota hai.</li>\n",
    "        </ul>\n",
    "    </div>\n",
    "    \n",
    "<body>"
   ]
  },
  {
   "cell_type": "markdown",
   "id": "866f5053-ee72-446f-841e-43a19ed924f7",
   "metadata": {},
   "source": [
    "<img style=\"display: block;margin-left: auto;margin-right: auto;width: 60%;\" src=\"./images/or_op.jpg\">"
   ]
  },
  {
   "cell_type": "code",
   "execution_count": 7,
   "id": "fd21eb8f-37a1-40c8-bb71-f2bff0ebfa4e",
   "metadata": {
    "tags": []
   },
   "outputs": [
    {
     "name": "stdout",
     "output_type": "stream",
     "text": [
      "1"
     ]
    }
   ],
   "source": [
    "#include <stdio.h>\n",
    "int main(){\n",
    "\n",
    "    printf(\"%d\",5 < 10 || 10 < 9);\n",
    "    return 0;\n",
    "}"
   ]
  },
  {
   "cell_type": "code",
   "execution_count": 9,
   "id": "17634fa9-4990-4170-abed-a6dc3c9210cb",
   "metadata": {
    "tags": []
   },
   "outputs": [
    {
     "name": "stdout",
     "output_type": "stream",
     "text": [
      "Condition are Satisfied"
     ]
    }
   ],
   "source": [
    "#include <stdio.h>\n",
    "int main(){\n",
    "    \n",
    "    int a = 5, b = 10, c = 9;\n",
    "    \n",
    "    if (a < b || b < c){\n",
    "    \n",
    "        printf(\"Condition are Satisfied\");\n",
    "    }\n",
    "    \n",
    "    return 0;\n",
    "}"
   ]
  },
  {
   "cell_type": "markdown",
   "id": "695fb0ed-b2c5-4e55-a353-0ab78731ef61",
   "metadata": {},
   "source": [
    "<img style=\"display: block;margin-left: auto;margin-right: auto;width: 60%;\" src=\"./images/or_op_2.jpg\">"
   ]
  },
  {
   "cell_type": "code",
   "execution_count": 11,
   "id": "c752894c-cd37-4df0-a4cc-f926ebeb2872",
   "metadata": {
    "tags": []
   },
   "outputs": [
    {
     "name": "stdout",
     "output_type": "stream",
     "text": [
      "1"
     ]
    }
   ],
   "source": [
    "#include <stdio.h>\n",
    "int main(){\n",
    "\n",
    "    printf(\"%d\",5 < 10 || 10 < 15);\n",
    "    return 0;\n",
    "}"
   ]
  },
  {
   "cell_type": "code",
   "execution_count": 12,
   "id": "475f525c-dd39-4eb3-8f5b-f04ad2b3d775",
   "metadata": {
    "tags": []
   },
   "outputs": [
    {
     "name": "stdout",
     "output_type": "stream",
     "text": [
      "Condition are Satisfied"
     ]
    }
   ],
   "source": [
    "#include <stdio.h>\n",
    "int main(){\n",
    "    \n",
    "    int a = 5, b = 10, c = 15;\n",
    "    \n",
    "    if (a < b || b < c){\n",
    "    \n",
    "        printf(\"Condition are Satisfied\");\n",
    "    }\n",
    "    \n",
    "    return 0;\n",
    "}"
   ]
  },
  {
   "cell_type": "markdown",
   "id": "94811967-87f9-4520-b624-5fa8aa862528",
   "metadata": {},
   "source": [
    "<body style=\"font-family: Sans-serif;\">\n",
    "    <div style=\"color: black; font-size: 18px; font-style: oblique; text-shadow: 0 0 3px white, 0 0 1px black; padding: 20px;\">\n",
    "        <h3>Logical And &&</h3>\n",
    "        <ul><li>a & b</li>\n",
    "            <li> && operator ko Logical AND kaha jata hai. </li>\n",
    "            <li>Yeh operator true tabhi hota hai jab dono conditions true hon. Agar ek bhi condition false ho, toh poora expression false ho jata hai.</li>\n",
    "        </ul>\n",
    "    </div>\n",
    "    \n",
    "<body>"
   ]
  },
  {
   "cell_type": "markdown",
   "id": "928f9348-a14e-439a-9bd2-443dcd2da6b7",
   "metadata": {},
   "source": [
    "<img style=\"display: block;margin-left: auto;margin-right: auto;width: 60%;\" src=\"./images/and_op.jpg\">"
   ]
  },
  {
   "cell_type": "code",
   "execution_count": 1,
   "id": "05ce28e9-11cd-4a72-999a-bb85fcf4c665",
   "metadata": {
    "tags": []
   },
   "outputs": [
    {
     "name": "stdout",
     "output_type": "stream",
     "text": [
      "1"
     ]
    }
   ],
   "source": [
    "#include <stdio.h>\n",
    "int main(){\n",
    "\n",
    "    printf(\"%d\",5 < 10 && 10 < 15);\n",
    "    return 0;\n",
    "}"
   ]
  },
  {
   "cell_type": "code",
   "execution_count": 3,
   "id": "495632eb-9b16-44d8-9ebd-7e447081a8bc",
   "metadata": {
    "tags": []
   },
   "outputs": [
    {
     "name": "stdout",
     "output_type": "stream",
     "text": [
      "Condition are Satisfied"
     ]
    }
   ],
   "source": [
    "#include <stdio.h>\n",
    "int main(){\n",
    "    \n",
    "    int a = 5, b = 10, c = 15;\n",
    "    \n",
    "    if (a < b && b < c){\n",
    "    \n",
    "        printf(\"Condition are Satisfied\");\n",
    "    }\n",
    "    \n",
    "    return 0;\n",
    "}"
   ]
  },
  {
   "cell_type": "markdown",
   "id": "557c7ad7-d748-4f23-8b3f-007d6373d285",
   "metadata": {},
   "source": [
    "<img style=\"display: block;margin-left: auto;margin-right: auto;width: 60%;\" src=\"./images/and_op_2.jpg\">"
   ]
  },
  {
   "cell_type": "code",
   "execution_count": 4,
   "id": "8e00f581-ec36-42c0-9b36-d1518ab5b0c8",
   "metadata": {
    "tags": []
   },
   "outputs": [
    {
     "name": "stdout",
     "output_type": "stream",
     "text": [
      "0"
     ]
    }
   ],
   "source": [
    "#include <stdio.h>\n",
    "int main(){\n",
    "\n",
    "    printf(\"%d\",5 < 10 && 10 < 9);\n",
    "    return 0;\n",
    "}"
   ]
  },
  {
   "cell_type": "code",
   "execution_count": 5,
   "id": "9f0525c6-2b36-4ed8-8d9a-2efcf4b829a9",
   "metadata": {
    "tags": []
   },
   "outputs": [
    {
     "name": "stdout",
     "output_type": "stream",
     "text": [
      "Condition are Not Satisfied"
     ]
    }
   ],
   "source": [
    "#include <stdio.h>\n",
    "int main(){\n",
    "    \n",
    "    int a = 5, b = 10, c = 9;\n",
    "    \n",
    "    if (a < b && b < c){\n",
    "    \n",
    "        printf(\"Condition are Satisfied\");\n",
    "    }\n",
    "    else{\n",
    "        printf(\"Condition are Not Satisfied\");\n",
    "    }\n",
    "    \n",
    "    return 0;\n",
    "}"
   ]
  },
  {
   "cell_type": "markdown",
   "id": "95d1ba79-a31c-44e8-9b4c-9be671e5240b",
   "metadata": {},
   "source": [
    "<body style=\"font-family: Sans-serif;\">\n",
    "    <div style=\"color: black; font-size: 18px; font-style: oblique; text-shadow: 0 0 3px white, 0 0 1px black; padding: 20px;\">\n",
    "        <h3>Not !</h3>\n",
    "        <ul><li>a | b</li>\n",
    "            <li>Logical NOT (!) ek unary operator hai jo kisi boolean condition ko reverse karta hai: \n",
    "                <ul>Agar condition true ho, to ! usay false kar deta hai.<br>\n",
    "                    Agar condition false ho, to ! usay true kar deta hai.\n",
    "                </ul>\n",
    "            </li>\n",
    "        </ul>\n",
    "    </div>\n",
    "    \n",
    "<body>"
   ]
  },
  {
   "cell_type": "markdown",
   "id": "6d8cdfcb-3ff8-4871-b485-d73defc8734a",
   "metadata": {},
   "source": [
    "<img style=\"display: block;margin-left: auto;margin-right: auto;width: 60%;\" src=\"./images/not_op.jpg\">"
   ]
  },
  {
   "cell_type": "code",
   "execution_count": 17,
   "id": "d7e8bd31-08d1-4327-8247-2c952ab9b0dc",
   "metadata": {
    "tags": []
   },
   "outputs": [
    {
     "name": "stdout",
     "output_type": "stream",
     "text": [
      "Normal       1\n",
      "Not Operator 0"
     ]
    }
   ],
   "source": [
    "#include <stdio.h>\n",
    "int main(){\n",
    "\n",
    "    printf(\"Normal       %d\\n\",2 < 5);\n",
    "    printf(\"Not Operator %d\",!(2 < 5));\n",
    "    \n",
    "    return 0;\n",
    "}"
   ]
  },
  {
   "cell_type": "markdown",
   "id": "a05b6c81-94df-47be-9c4f-e32a5e90753b",
   "metadata": {},
   "source": [
    "<img style=\"display: block;margin-left: auto;margin-right: auto;width: 60%;\" src=\"./images/not_op_2.jpg\">"
   ]
  },
  {
   "cell_type": "code",
   "execution_count": 18,
   "id": "85d8ce14-4121-4c73-8b72-3cfc2c4ec2c2",
   "metadata": {
    "tags": []
   },
   "outputs": [
    {
     "name": "stdout",
     "output_type": "stream",
     "text": [
      "Normal       0\n",
      "Not Operator 1"
     ]
    }
   ],
   "source": [
    "#include <stdio.h>\n",
    "int main(){\n",
    "\n",
    "    printf(\"Normal       %d\\n\",3 < 2);\n",
    "    printf(\"Not Operator %d\",!(3 < 2));\n",
    "    \n",
    "    return 0;\n",
    "}"
   ]
  },
  {
   "cell_type": "markdown",
   "id": "f5bb358b-a3d7-409a-be70-ea250ed04a68",
   "metadata": {},
   "source": [
    "<h1 style=\"text-align:center; color:#005bbd; font-size:30px; font-family:Sans-serif; font-style: oblique; text-shadow: 0 0 3px white, 0 0 1px Black;\">\n",
    "  Precedence and Associativity\n",
    "</h1>"
   ]
  },
  {
   "cell_type": "markdown",
   "id": "d726eaa3-98b8-4a59-8b81-7d8f681c6483",
   "metadata": {},
   "source": [
    "<body style=\"font-family: Sans-serif;\">\n",
    "    <div style=\"color: black; font-size: 18px; font-style: oblique; text-shadow: 0 0 3px white, 0 0 1px black; padding: 20px;\">\n",
    "        <ul>Precedence ka matlab hai kis operator ki calculation pehle hogi agar multiple operators ek expression mein ho.<br><br>\n",
    "            Jab 2 ya zyada same precedence wale operators ek saath ho, toh associativity decide karti hai ki expression left-to-right evaluate hoga ya right-to-left.\n",
    "        </ul>\n",
    "    </div>\n",
    "    \n",
    "<body>"
   ]
  },
  {
   "cell_type": "markdown",
   "id": "c10d323b-4610-44c6-b560-fb306105d6c2",
   "metadata": {},
   "source": [
    "<html lang=\"en\">\n",
    "<head>\n",
    "    <meta charset=\"UTF-8\">\n",
    "    <meta name=\"viewport\" content=\"width=device-width, initial-scale=1.0\">\n",
    "</head>\n",
    "<body>\n",
    "    <table>\n",
    "        <thead>\n",
    "            <tr>\n",
    "                <th>Operator</th>\n",
    "                <th>Description</th>\n",
    "                <th>Precedence</th>\n",
    "                <th>Associativity</th>\n",
    "            </tr>\n",
    "        </thead>\n",
    "        <tbody>\n",
    "            <tr>\n",
    "                <td>!</td>\n",
    "                <td>Logical NOT</td>\n",
    "                <td>Highest</td>\n",
    "                <td>Right-to-left</td>\n",
    "            </tr>\n",
    "            <tr>\n",
    "                <td>&&</td>\n",
    "                <td>Logical AND</td>\n",
    "                <td>Medium</td>\n",
    "                <td>Left-to-right</td>\n",
    "            </tr>\n",
    "            <tr>\n",
    "                <td>||</td>\n",
    "                <td>Logical OR</td>\n",
    "                <td>Lowest</td>\n",
    "                <td>Left-to-right</td>\n",
    "            </tr>\n",
    "        </tbody>\n",
    "    </table>\n",
    "</body>\n",
    "</html>\n"
   ]
  },
  {
   "cell_type": "markdown",
   "id": "51dc9979-b9d5-42a3-80dd-d70572547026",
   "metadata": {},
   "source": [
    "<img style=\"display: block;margin-left: auto;margin-right: auto;width: 60%;\" src=\"./images/log_pre.jpg\">"
   ]
  },
  {
   "cell_type": "code",
   "execution_count": 41,
   "id": "c42472d5-1658-435e-91b8-3ec14ded3b26",
   "metadata": {
    "tags": []
   },
   "outputs": [
    {
     "name": "stdout",
     "output_type": "stream",
     "text": [
      "1"
     ]
    }
   ],
   "source": [
    "#include <stdio.h>\n",
    "int main() {\n",
    "    printf(\"%d\",1 || 0 && 1);\n",
    "    return 0;\n",
    "}"
   ]
  },
  {
   "cell_type": "code",
   "execution_count": 42,
   "id": "c0b8c3c9-d848-4e01-aba4-2230ec1fcc0f",
   "metadata": {
    "tags": []
   },
   "outputs": [
    {
     "name": "stdout",
     "output_type": "stream",
     "text": [
      "1"
     ]
    }
   ],
   "source": [
    "#include <stdio.h>\n",
    "int main() {\n",
    "    printf(\"%d\",0 && 0 || 1);\n",
    "    return 0;\n",
    "}"
   ]
  },
  {
   "cell_type": "code",
   "execution_count": 43,
   "id": "6f1e75f0-60ef-4c7c-82c0-46d72811ccfb",
   "metadata": {
    "tags": []
   },
   "outputs": [
    {
     "name": "stdout",
     "output_type": "stream",
     "text": [
      "0"
     ]
    }
   ],
   "source": [
    "#include <stdio.h>\n",
    "int main() {\n",
    "    printf(\"%d\",1 && !1);\n",
    "    return 0;\n",
    "}"
   ]
  },
  {
   "cell_type": "markdown",
   "id": "2d106d24-1dc8-45c6-a12e-0929e1bfd928",
   "metadata": {},
   "source": [
    "<img style=\"display: block;margin-left: auto;margin-right: auto;width: 80%;\" src=\"./images/log_pre_asso.jpg\">"
   ]
  },
  {
   "cell_type": "code",
   "execution_count": 5,
   "id": "1e34da32-b835-4833-9912-104f5132dde6",
   "metadata": {},
   "outputs": [
    {
     "name": "stdout",
     "output_type": "stream",
     "text": [
      "0"
     ]
    }
   ],
   "source": [
    "#include <stdio.h>\n",
    "int main() {\n",
    "    printf(\"%d\",!1 && !0);\n",
    "    return 0;\n",
    "}"
   ]
  },
  {
   "cell_type": "code",
   "execution_count": 7,
   "id": "43787aba-2635-4e61-8e43-10acff0bd6c4",
   "metadata": {
    "tags": []
   },
   "outputs": [
    {
     "name": "stdout",
     "output_type": "stream",
     "text": [
      "0"
     ]
    }
   ],
   "source": [
    "#include <stdio.h>\n",
    "int main() {\n",
    "    printf(\"%d\",0 && 10 && 0);\n",
    "    return 0;\n",
    "}"
   ]
  },
  {
   "cell_type": "code",
   "execution_count": 18,
   "id": "8d6dc26e-38e4-4d4c-b1c3-9608cd1d9b0a",
   "metadata": {
    "tags": []
   },
   "outputs": [
    {
     "name": "stdout",
     "output_type": "stream",
     "text": [
      "0"
     ]
    }
   ],
   "source": [
    "#include <stdio.h>\n",
    "int main() {\n",
    "    printf(\"%d\",1 && 10 && 0);\n",
    "    return 0;\n",
    "}"
   ]
  },
  {
   "cell_type": "code",
   "execution_count": 20,
   "id": "ff7536e4-5f01-4342-8d4c-ad550528625e",
   "metadata": {
    "tags": []
   },
   "outputs": [
    {
     "name": "stdout",
     "output_type": "stream",
     "text": [
      "0"
     ]
    }
   ],
   "source": [
    "#include <stdio.h>\n",
    "int main() {\n",
    "    printf(\"%d\",1 && 0 && 1);\n",
    "    return 0;\n",
    "}"
   ]
  },
  {
   "cell_type": "markdown",
   "id": "ba8ba216-eaa8-4699-b267-914130d86ea6",
   "metadata": {},
   "source": [
    "<!DOCTYPE html>\n",
    "<html lang=\"en\">\n",
    "<head>\n",
    "    <meta charset=\"UTF-8\">\n",
    "    <meta name=\"viewport\" content=\"width=device-width, initial-scale=1.0\">\n",
    "</head>\n",
    "<body>\n",
    "    <table style=\"border-collapse: collapse; width: 50%; margin: 20px auto; text-align: center;\">\n",
    "        <caption style=\"font-weight: bold; margin-bottom: 10px;\">Logical Operators Truth Table</caption>\n",
    "        <thead>\n",
    "            <tr>\n",
    "                <th style=\"border: 1px solid #000; padding: 8px; background-color: #f2f2f2;\">A</th>\n",
    "                <th style=\"border: 1px solid #000; padding: 8px; background-color: #f2f2f2;\">B</th>\n",
    "                <th style=\"border: 1px solid #000; padding: 8px; background-color: #f2f2f2;\">A && B</th>\n",
    "                <th style=\"border: 1px solid #000; padding: 8px; background-color: #f2f2f2;\">A || B</th>\n",
    "                <th style=\"border: 1px solid #000; padding: 8px; background-color: #f2f2f2;\">!A</th>\n",
    "            </tr>\n",
    "        </thead>\n",
    "        <tbody>\n",
    "            <tr>\n",
    "                <td style=\"border: 1px solid #000; padding: 8px;\">0</td>\n",
    "                <td style=\"border: 1px solid #000; padding: 8px;\">0</td>\n",
    "                <td style=\"border: 1px solid #000; padding: 8px;\">0</td>\n",
    "                <td style=\"border: 1px solid #000; padding: 8px;\">0</td>\n",
    "                <td style=\"border: 1px solid #000; padding: 8px;\">1</td>\n",
    "            </tr>\n",
    "            <tr>\n",
    "                <td style=\"border: 1px solid #000; padding: 8px;\">0</td>\n",
    "                <td style=\"border: 1px solid #000; padding: 8px;\">1</td>\n",
    "                <td style=\"border: 1px solid #000; padding: 8px;\">0</td>\n",
    "                <td style=\"border: 1px solid #000; padding: 8px;\">1</td>\n",
    "                <td style=\"border: 1px solid #000; padding: 8px;\">1</td>\n",
    "            </tr>\n",
    "            <tr>\n",
    "                <td style=\"border: 1px solid #000; padding: 8px;\">1</td>\n",
    "                <td style=\"border: 1px solid #000; padding: 8px;\">0</td>\n",
    "                <td style=\"border: 1px solid #000; padding: 8px;\">0</td>\n",
    "                <td style=\"border: 1px solid #000; padding: 8px;\">1</td>\n",
    "                <td style=\"border: 1px solid #000; padding: 8px;\">0</td>\n",
    "            </tr>\n",
    "            <tr>\n",
    "                <td style=\"border: 1px solid #000; padding: 8px;\">1</td>\n",
    "                <td style=\"border: 1px solid #000; padding: 8px;\">1</td>\n",
    "                <td style=\"border: 1px solid #000; padding: 8px;\">1</td>\n",
    "                <td style=\"border: 1px solid #000; padding: 8px;\">1</td>\n",
    "                <td style=\"border: 1px solid #000; padding: 8px;\">0</td>\n",
    "            </tr>\n",
    "        </tbody>\n",
    "    </table>\n",
    "</body>\n",
    "</html>\n"
   ]
  }
 ],
 "metadata": {
  "kernelspec": {
   "display_name": "C++17",
   "language": "C++17",
   "name": "xcpp17"
  },
  "language_info": {
   "codemirror_mode": "text/x-c++src",
   "file_extension": ".cpp",
   "mimetype": "text/x-c++src",
   "name": "c++",
   "version": "17"
  }
 },
 "nbformat": 4,
 "nbformat_minor": 5
}
