{
 "cells": [
  {
   "cell_type": "markdown",
   "id": "95c38283-2abf-4c25-9d4e-769a11197737",
   "metadata": {},
   "source": [
    "<h1 style=\"text-align:center; color:#005bbd; font-size:30px; font-family:Sans-serif; font-style: oblique; text-shadow: 0 0 3px white, 0 0 1px Black;\">\n",
    "   Types of Variables\n",
    "</h1>"
   ]
  },
  {
   "cell_type": "markdown",
   "id": "2e01cecd-6b63-4434-8f31-fe34d3b9c205",
   "metadata": {},
   "source": [
    "<body style=\"font-family: Sans-serif;\">\n",
    "    <div style=\"color: black; font-size: 18px; font-style: oblique; text-shadow: 0 0 3px white, 0 0 1px black; padding: 20px;\">\n",
    "        <h3>Local Variable</h3>\n",
    "        <ul>\n",
    "        <li>Local variables wo hote hain jo kisi function ya block ke andar declare kiye jaate hain.</li><br>\n",
    "        <li>Scope: Inki scope sirf us block ya function tak hoti hai jahan yeh declare hue hain.</li><br>\n",
    "        <li>Storage Duration: Inka data tab tak store hota hai jab tak wo block ya function chal raha hota hai. Jaise hi function ya block khatam hota hai, yeh variables bhi delete ho jaate hain.</li><br>\n",
    "        </ul>\n",
    "        <hr>\n",
    "    </div></body>\n"
   ]
  },
  {
   "cell_type": "code",
   "execution_count": 6,
   "id": "73d691a8-7c36-42d4-b200-99fddc28ecc2",
   "metadata": {},
   "outputs": [
    {
     "name": "stdout",
     "output_type": "stream",
     "text": [
      "\n",
      "inside myfunc 3"
     ]
    },
    {
     "name": "stdout",
     "output_type": "stream",
     "text": [
      "\n",
      "inside main 2"
     ]
    }
   ],
   "source": [
    "#include <stdio.h>\n",
    "\n",
    "int myfunc(){\n",
    "    int x = 3;\n",
    "    printf(\"inside myfunc %d\",x);\n",
    "    return 0;\n",
    "}\n",
    "\n",
    "int main(){\n",
    "    myfunc(); // call myfunc function\n",
    "    int x = 2;\n",
    "    printf(\"\\ninside main %d\",x);\n",
    "    return 0;\n",
    "}"
   ]
  },
  {
   "cell_type": "markdown",
   "id": "de166f2c-f52c-4e26-8871-1235b10f0e79",
   "metadata": {},
   "source": [
    "<body style=\"font-family: Sans-serif;\">\n",
    "    <div style=\"color: black; font-size: 18px; font-style: oblique; text-shadow: 0 0 3px white, 0 0 1px black; padding: 20px;\">\n",
    "        <ul>\n",
    "        <li>Is code mein dono functions mein x naam ka variable hai, lekin dono ka scope alag alag hai.</li><br>\n",
    "        <li>Matlab, myfunc() function ka x variable main() function mein direct access nahi kiya ja sakta, aur isi tarah main() function ka x variable myfunc() mein direct access nahi hota.</li><br>\n",
    "        <li>Yeh is liye hota hai kyun ke local variables ka scope sirf us function tak hota hai jismein wo declare kiye gaye hote hain.</li><br>\n",
    "        <li>Har function ka apna block {} hota hai, aur uske andar jo variables declare kiye jaate hain, wo sirf usi block ke andar accessible hote hain. Uske bahar unka koi wujood nahi hota.</li>\n",
    "        </ul>\n",
    "    </div></body>\n"
   ]
  },
  {
   "cell_type": "markdown",
   "id": "c2b43291-d6a8-473b-a7fa-7e039fb74c27",
   "metadata": {},
   "source": [
    "<body style=\"font-family: Sans-serif;\">\n",
    "    <div style=\"color: black; font-size: 18px; font-style: oblique; text-shadow: 0 0 3px white, 0 0 1px black; padding: 20px;\">\n",
    "        <h3>Global Variable</h3>\n",
    "        <ul>\n",
    "        <li>Global variables wo hote hain jo function ke bahar, kisi bhi file ke top pe declare kiye jaate hain.</li><br>\n",
    "        <li>Scope: Inki scope puri file ya program mein hoti hai, aur yeh kisi bhi function se access kiye ja sakte hain.</li><br>\n",
    "        <li>Storage Duration: Yeh program ke start se le kar program ke end tak exist karte hain.</li><br>\n",
    "        </ul>\n",
    "            <hr>\n",
    "    </div></body>\n"
   ]
  },
  {
   "cell_type": "code",
   "execution_count": 8,
   "id": "62a2712a-70b0-4ab8-8c7a-d1145e0d06d1",
   "metadata": {},
   "outputs": [
    {
     "name": "stdout",
     "output_type": "stream",
     "text": [
      "inside myfunc 3\n",
      "inside main 3"
     ]
    }
   ],
   "source": [
    "#include <stdio.h>\n",
    "\n",
    "int x = 3;\n",
    "\n",
    "int myfunc(){\n",
    "    printf(\"inside myfunc %d\",x);\n",
    "    return 0;\n",
    "}\n",
    "\n",
    "int main(){\n",
    "    myfunc();\n",
    "    printf(\"\\ninside main %d\",x);\n",
    "    return 0;\n",
    "}\n"
   ]
  },
  {
   "cell_type": "markdown",
   "id": "5c82fcdb-5504-4ba3-97ed-9ffba0c22111",
   "metadata": {},
   "source": [
    "<body style=\"font-family: Sans-serif;\">\n",
    "    <div style=\"color: black; font-size: 18px; font-style: oblique; text-shadow: 0 0 3px white, 0 0 1px black; padding: 20px;\">\n",
    "        <h3>Static Variable</h3>\n",
    "        <ul>\n",
    "        <li>Static variables wo hote hain jo function ke andar ya bahar declare kiye ja sakte hain, lekin unka lifetime pura program chalne tak hota hai.</li><br>\n",
    "        <li>Scope: Agar static variable kisi function ke andar hai, to uski scope sirf us function tak hoti hai, lekin jab function dobara call hota hai to wo apni purani value ko yaad rakhta hai.</li><br>\n",
    "        <li>Storage Duration: Yeh program ke dauran persist karte hain.</li><br>\n",
    "        </ul><hr>\n",
    "    </div></body>\n"
   ]
  },
  {
   "cell_type": "code",
   "execution_count": 12,
   "id": "dbc24d7e-3bc9-4ccb-982b-e0d947c68d99",
   "metadata": {},
   "outputs": [
    {
     "name": "stdout",
     "output_type": "stream",
     "text": [
      "Calling function 1 Time\n",
      "2\n",
      "Calling function 2nd Time\n",
      "2"
     ]
    }
   ],
   "source": [
    "#include <stdio.h>\n",
    "\n",
    "int myfunc(){\n",
    "    \n",
    "    int x = 1;\n",
    "    x++;\n",
    "    printf(\"%d\",x);\n",
    "}\n",
    "\n",
    "\n",
    "int main(){\n",
    "    \n",
    "    printf(\"Calling function 1 Time\\n\");\n",
    "    myfunc();\n",
    "    printf(\"\\nCalling function 2nd Time\\n\");\n",
    "    myfunc();\n",
    "    \n",
    "\n",
    "    return 0;\n",
    "}"
   ]
  },
  {
   "cell_type": "markdown",
   "id": "cafe8eb4-6ab9-4f7a-837c-e2ccd716e269",
   "metadata": {},
   "source": [
    "<body style=\"font-family: Sans-serif;\">\n",
    "    <div style=\"color: black; font-size: 18px; font-style: oblique; text-shadow: 0 0 3px white, 0 0 1px black; padding: 20px;\">\n",
    "        <ul>\n",
    "        <li>code mein x ko jab bhi myfunc() call hota hai, to har baar x ki value 1 se shuru hoti hai kyun ke x ek local variable hai. </li><br>\n",
    "        <li>Jab bhi function call hota hai, x wapas initialize ho kar 1 ban jata hai, phir x++ usko increment kar ke 2 bana deta hai.</li><br>\n",
    "        <li>Is liye dono dafa function call karne par output 2 hi aa raha hai.</li>\n",
    "        </ul><br>\n",
    "Agar Hum chahte ho ke x ki value retain rahe function ke baar-baar call hone par, to static keyword ka use karna padega.\n",
    "    </div></body>\n"
   ]
  },
  {
   "cell_type": "code",
   "execution_count": 15,
   "id": "24ddea02-80d1-4dae-a3cf-998a4b6b1ea1",
   "metadata": {},
   "outputs": [
    {
     "name": "stdout",
     "output_type": "stream",
     "text": [
      "Calling function 1 Time\n",
      "2\n",
      "Calling function 2nd Time\n",
      "3"
     ]
    }
   ],
   "source": [
    "#include <stdio.h>\n",
    "\n",
    "int myfunc(){\n",
    "    \n",
    "    static int x = 1; // static variable\n",
    "    x++;\n",
    "    printf(\"%d\",x);\n",
    "}\n",
    "\n",
    "int main(){\n",
    "    \n",
    "    printf(\"Calling function 1 Time\\n\");\n",
    "    myfunc();\n",
    "    printf(\"\\nCalling function 2nd Time\\n\");\n",
    "    myfunc();\n",
    "    \n",
    "\n",
    "    return 0;\n",
    "}"
   ]
  },
  {
   "cell_type": "markdown",
   "id": "cc856074-3205-44b1-9a8b-002e6568bc6f",
   "metadata": {},
   "source": [
    "<body style=\"font-family: Sans-serif;\">\n",
    "    <div style=\"color: black; font-size: 18px; font-style: oblique; text-shadow: 0 0 3px white, 0 0 1px black; padding: 20px;\">\n",
    "Is case mein pehla output 2 hoga, aur doosri dafa jab function call hoga to output 3 hoga, kyun ke static variable apni value ko retain karta hai even after the function ends. \n",
    "    </div></body>\n"
   ]
  },
  {
   "cell_type": "markdown",
   "id": "aa1f43e8-b2c6-4576-8c24-11101db0cca6",
   "metadata": {},
   "source": [
    "<body style=\"font-family: Sans-serif;\">\n",
    "    <div style=\"color: black; font-size: 18px; font-style: oblique; text-shadow: 0 0 3px white, 0 0 1px black; padding: 20px;\">\n",
    "Note: Agar static variable function ke andar hai to isko dusri files mein access nahi kar sakte, matlab yeh local static variable hai. Aur agar outside function variable hai to yeh global static variable hai, lekin isko bhi dusri files mein access nahi kar sakte.\n",
    "        <pre><br>\n",
    "void func() {\n",
    "    static int static_local_var = 0;  // Local static variable\n",
    "    static_local_var++;\n",
    "}\n",
    "\n",
    "static int static_global_var;  // Global static variable\n",
    "</pre><hr>\n",
    "</div></body>\n"
   ]
  },
  {
   "cell_type": "markdown",
   "id": "79d74c7d-3c26-43c5-8c5d-06a498a66135",
   "metadata": {},
   "source": [
    "<body style=\"font-family: Sans-serif;\">\n",
    "    <div style=\"color: black; font-size: 18px; font-style: oblique; text-shadow: 0 0 3px white, 0 0 1px black; padding: 20px;\">\n",
    "        <h3>auto Variable (obsolete now)</h3>\n",
    "        <ul>\n",
    "        <li>C ke purane versions mein (C89/C90), local variables ko explicitly auto keyword ke saath declare kar sakte the. auto ka matlab hai automatic storage duration, jo ke by default local variables ka hota hai.</li><br>\n",
    "        <li>C11 ya C99 ke baad se, auto keyword ka use local variables ke liye obsolete ho chuka hai, aur modern C mein iski zaroorat nahi hai.</li>\n",
    "        </ul><hr>\n",
    "    </div></body>\n"
   ]
  },
  {
   "cell_type": "code",
   "execution_count": 4,
   "id": "06e656a7-a462-492f-b37e-6125500028db",
   "metadata": {},
   "outputs": [
    {
     "name": "stdout",
     "output_type": "stream",
     "text": [
      "auto x = 2 and y = 3 are Same"
     ]
    }
   ],
   "source": [
    "#include <stdio.h>\n",
    "int main(){\n",
    "    auto int x = 2;\n",
    "    int y = 3;\n",
    "    printf(\"auto x = %d and y = %d are Same\",x,y);\n",
    "    return 0;\n",
    "}"
   ]
  },
  {
   "cell_type": "markdown",
   "id": "ffd8b1c0-446a-4bc8-8713-d87ce546a924",
   "metadata": {},
   "source": [
    "<body style=\"font-family: Sans-serif;\">\n",
    "    <div style=\"color: black; font-size: 18px; font-style: oblique; text-shadow: 0 0 3px white, 0 0 1px black; padding: 20px;\">\n",
    "        <h3>Register Variable </h3>\n",
    "        <ul>\n",
    "            <li>Jab Aap kisi variable ko register keyword ke sath declare karte ho, to tum compiler ko yeh suggestion dete ho ke wo variable ko memory mein store karne ki bajaye processor ke register mein store kare. Register access memory ke comparison mein bohot fast hota hai, isliye agar app koi variable repeatedly use karna ho, to usko register mein store karne se performance better ho sakti hai.</li><br>\n",
    "        <li>Processor ke registers fast hoti hain, lekin unki size limited hoti hai. register keyword compiler ko batata hai ke is variable ko memory ke bajaye CPU register mein store karna better hoga.</li><br>\n",
    "            <li><b>No Addressing:</b> Aap register variables ka address nahi le sakte. Yeh isliye kyunke registers ka koi memory address nahi hota. Agar aapko kisi variable ka address lena zaroori ho, to usko normal variable declare karo, register nahi.</li><br>\n",
    "            <li><b>Compiler's Discretion</b> : Compiler's Discretion ka matlab yeh hai ke jab tum register keyword use karte ho, to tum compiler ko suggestion dete ho ke wo variable ko CPU ke fast registers mein store kare. Lekin, yeh sirf ek request hoti hai, guarantee nahi ke compiler har baar tumhari baat maanega.<br><br>\n",
    "            <ul><li>Har processor ke paas bohot limited registers hote hain. Agar App ne register keyword 10 variables ke liye use kar diya, lekin processor ke paas sirf 4 ya 5 registers available hain, to compiler kya karega ?</li><br>\n",
    "            <li>Compiler apni discretion (apna decision) se kaam karega aur kuch variables ko registers mein daalega aur baqi ko normal memory mein.</li><br>\n",
    "            <li>Matlab, App register keyword likho ya na likho, compiler khud decide karega ke kaunsa variable register mein store karna sahi hoga aur kaunsa nahi.</li><br>\n",
    "            </ul>\n",
    "            </li>\n",
    "        </ul>\n",
    "Aaj kal register ka istemal kam hota ja raha hai. Zyada tar modern compilers itne advanced hain ke yeh khud decide kar sakte hain ke kaun se variables register mein store hone chahiye.<br><br>\n",
    "Lekin register ka istemal compiler ko optimization ke liye hints dene mein madadgar hota hai, jise yeh samajhta hai ke variable ka address nahi liya ja sakta.\n",
    "        <hr>\n",
    "    </div></body>\n"
   ]
  },
  {
   "cell_type": "code",
   "execution_count": 27,
   "id": "6c8c615b-b6bf-44cc-afc1-a6596f94144e",
   "metadata": {},
   "outputs": [
    {
     "name": "stdout",
     "output_type": "stream",
     "text": [
      "2"
     ]
    }
   ],
   "source": [
    "#include <stdio.h>\n",
    "int main(){\n",
    "    register int x = 2;\n",
    "    printf(\"%d\",x);\n",
    "    return 0;\n",
    "}"
   ]
  },
  {
   "cell_type": "markdown",
   "id": "72a81088-adab-4e7f-8e6a-28d225d4bfed",
   "metadata": {},
   "source": [
    "<body style=\"font-family: Sans-serif;\">\n",
    "    <div style=\"color: black; font-size: 18px; font-style: oblique; text-shadow: 0 0 3px white, 0 0 1px black; padding: 20px;\">\n",
    "        <h3>Volatile Variable </h3>\n",
    "        <ul>\n",
    "            <li>Volatile keyword compiler ko yeh batata hai ke is variable ka value kabhi bhi change ho sakta hai, aur compiler ko is variable ko optimize nahi karna chahiye. Yeh un cases mein zaroori hota hai jahan variable ka value outside factors ki wajah se change ho raha ho, jaise hardware interrupts, memory-mapped IO, ya threads ke through parallel modification.</li><br>\n",
    "            <li><b>Hardware Registers:</b>Agar aap kisi specific hardware register ko access kar rahe ho, jiska value dynamically change hoti hai, to usko volatile declare karna zaroori hota hai, taki compiler uski optimization ko avoid kare.</li><br>\n",
    "            <li><b>Multithreading</b> Agar ek variable ko ek thread update kar raha ho aur dusra thread usko read kar raha ho, to volatile keyword ensure karta hai ke threads ko latest value hi mile.<br><br>\n",
    "            <ul><li><b>Optimization Avoidance</b>: Normal cases mein, compiler variables ko optimize karta hai aur unhe register mein load karke rakhta hai. volatile batata hai ke variable ka value unexpected tareeqe se change ho sakta hai, to compiler har baar memory se latest value ko check karega.</li><br>\n",
    "            <li><b>Memory-Mapped IO:</b> Embedded systems mein, volatile bohot zaroori hota hai jab tum memory-mapped input/output registers ke sath kaam karte ho, kyunke inka value kabhi bhi hardware ke through change ho sakta hai.</li><br>\n",
    "            </ul>\n",
    "            </li>\n",
    "        </ul>\n",
    "</ul>\n",
    "        <hr>\n",
    "    </div></body>\n"
   ]
  },
  {
   "cell_type": "code",
   "execution_count": 5,
   "id": "b33ddc02-0b5e-46bb-8942-a4e1cbbf2659",
   "metadata": {},
   "outputs": [
    {
     "name": "stdout",
     "output_type": "stream",
     "text": [
      "0"
     ]
    }
   ],
   "source": [
    "#include <stdio.h>\n",
    "int main(){\n",
    "    volatile int flag = 0;\n",
    "    \n",
    "    while (flag == 0) {\n",
    "        printf(\"%d\",flag);\n",
    "        // Wait for flag to change\n",
    "        flag++; // change flag for break loop\n",
    "    }\n",
    "    return 0;\n",
    "}"
   ]
  },
  {
   "cell_type": "markdown",
   "id": "3764deba-b929-426e-9b37-5bcbbe6a8d3e",
   "metadata": {},
   "source": [
    "<body style=\"font-family: Sans-serif;\">\n",
    "    <div style=\"color: black; font-size: 18px; font-style: oblique; text-shadow: 0 0 3px white, 0 0 1px black; padding: 20px;\">\n",
    "\n",
    "<b>Instructions and Warnings:</b>\n",
    "<ul>\n",
    "    <li><b>Compiler Optimization:</b> volatile keyword lagane se compiler ko force kiya jata hai ke wo variable ka value har baar memory se load kare. Iska matlab hai ke agar Aap volatile variable use kar rahe ho to performance thoda impact ho sakta hai, lekin accuracy zaroori hoti hai is case mein.\n",
    "    </li><br>\n",
    "<li><b>Multithreading Limitations:</b> Sirf volatile use karna multithreading ke liye enough nahi hota. Agar app race conditions ko avoid karna chahte ho to volatile ke sath atomic operations aur mutexes/locks bhi zaroori hote hain.\n",
    "</li><br>\n",
    "<li><b>volatile + const:</b> App volatile aur const ko sath mein use kar sakte ho, jaise:<pre>volatile const int* ptr;\n",
    "</pre></li><br>\n",
    "<li><b>Use in Interrupt Handlers:</b> jab Aap external interrupts ko handle kar rahe ho, volatile variables ka use karo jo interrupt ke through set hote hain.</li><br>\n",
    "<li><b>Use with Hardware Peripherals:</b> Agar Aap hardware peripherals ko control kar rahe ho, to un registers ko volatile declare karo.</li><br>\n",
    "    <li><b>Multithreading (with Caution): </b>Multithreading mein volatile ko sirf uss case mein use karo jab aapko sure ho ke atomicity ka khayal nahi rakhna. Complex scenarios ke liye mutexes ya atomic functions ka use karo.</li>\n",
    "</ul>\n",
    "    </div></body>\n"
   ]
  },
  {
   "cell_type": "markdown",
   "id": "643efd1e-b699-48e0-ae13-e5b96652257a",
   "metadata": {},
   "source": [
    "<body style=\"font-family: Sans-serif;\">\n",
    "    <div style=\"color: black; font-size: 18px; font-style: oblique; text-shadow: 0 0 3px white, 0 0 1px black; padding: 20px;\">\n",
    "<ul>\n",
    "<b>Understand Race Condition and atomicity</b><br><br>\n",
    "    <li>Multithreading mein volatile keyword sirf is baat ko ensure karta hai ke koi variable directly main memory se read ya write hoga, cache ya register mein nahi. Lekin sirf volatile use karna race conditions ko solve nahi karta.\n",
    "    </li><br>\n",
    "    <li>Race condition ek situation hoti hai jab do ya zyada threads ek hi variable ko simultaneously access karte hain aur unexpected behavior hota hai.</li>\n",
    "</ul>\n",
    "</div>\n",
    "</body>"
   ]
  },
  {
   "cell_type": "markdown",
   "id": "28941835-ba7b-4054-bbce-6c17144c5197",
   "metadata": {},
   "source": [
    "<body style=\"font-family: Sans-serif;\">\n",
    "    <div style=\"color: black; font-size: 18px; font-style: oblique; text-shadow: 0 0 3px white, 0 0 1px black; padding: 20px;\">\n",
    "<h3>Without Proper Synchronization (Only volatile) Example</h3>\n",
    "</div>\n",
    "</body>"
   ]
  },
  {
   "cell_type": "code",
   "execution_count": 7,
   "id": "58c199f1-3ef1-47ca-ab23-2a85952eea44",
   "metadata": {},
   "outputs": [
    {
     "name": "stdout",
     "output_type": "stream",
     "text": [
      "Final counter value: 1074874"
     ]
    }
   ],
   "source": [
    "#include <stdio.h>\n",
    "#include <pthread.h>\n",
    "\n",
    "volatile int counter = 0;\n",
    "\n",
    "void* incrementCounter(void* arg) {\n",
    "    for (int i = 0; i < 1000000; i++) {\n",
    "        counter++;  // Yeh operation atomic nahi hai\n",
    "    }\n",
    "    return NULL;\n",
    "}\n",
    "\n",
    "int main() {\n",
    "    pthread_t t1, t2;\n",
    "\n",
    "    // Do threads create kar rahe hain\n",
    "    pthread_create(&t1, NULL, incrementCounter, NULL);\n",
    "    pthread_create(&t2, NULL, incrementCounter, NULL);\n",
    "\n",
    "    // Wait for threads to finish\n",
    "    pthread_join(t1, NULL);\n",
    "    pthread_join(t2, NULL);\n",
    "\n",
    "    printf(\"Final counter value: %d\\n\", counter);  // Expected: 2000000\n",
    "    return 0;\n",
    "}\n"
   ]
  },
  {
   "cell_type": "markdown",
   "id": "52f830bf-08ea-4e6f-a78b-fba4c2c7b727",
   "metadata": {},
   "source": [
    "<body style=\"font-family: Sans-serif;\">\n",
    "    <div style=\"color: black; font-size: 18px; font-style: oblique; text-shadow: 0 0 3px white, 0 0 1px black; padding: 20px;\">\n",
    "<ul>\n",
    "    <li>Humne counter ko volatile declare kiya hai, jo ensure karta hai ke threads har baar latest value read karein.</li><br>\n",
    "    <li>2 threads (t1 aur t2) ek hi variable counter ko 1 million times increment karte hain.</li><br>\n",
    "    <li>Expected value: 2000000 honi chahiye, kyunki har thread 1 million increments karega.</li><br>\n",
    "    <li>Lekin jab App yeh program run karoge, to actual result unpredictable hoga (kabhi 2000000 se kam aayega). Yeh race condition ki wajah se hota hai, kyunki:</li><br>\n",
    "<ul>\n",
    "    <li>1 thread counter ki value read karta hai.</li><br>\n",
    "    <li>Usi same time, doosra thread bhi counter ki value read kar leta hai.</li><br>\n",
    "    <li>Dono threads apni apni increments karte hain aur result overwrite hota hai.</li><br>\n",
    "</ul>\n",
    "    Yeh isliye hota hai kyunki counter++ ek <b>atomic operation</b> nahi hai. Usme multiple steps hain (read, increment, write), aur in steps ke beech koi aur thread beech mein aa sakta hai.\n",
    "</ul>\n",
    "    </div></body>\n"
   ]
  },
  {
   "cell_type": "markdown",
   "id": "1e7d98d9-9e84-4a40-9419-d089c133596e",
   "metadata": {},
   "source": [
    "\n",
    "<body style=\"font-family: Sans-serif;\">\n",
    "    <div style=\"color: black; font-size: 18px; font-style: oblique; text-shadow: 0 0 3px white, 0 0 1px black; padding: 20px;\">\n",
    "<h3>With Proper Synchronization (Using Mutex) Example</h3>\n",
    "        <li>Ab race condition ko avoid karne ke liye hume mutex ya lock ka istemal karna padega. Mutex ensure karega ke ek waqt mein sirf ek thread variable ko modify kare.</li>\n",
    "</div>\n",
    "</body>"
   ]
  },
  {
   "cell_type": "code",
   "execution_count": 11,
   "id": "f8de7f43-8351-49be-8bb3-4ddb7745b490",
   "metadata": {},
   "outputs": [
    {
     "name": "stdout",
     "output_type": "stream",
     "text": [
      "Final counter value: 2000000"
     ]
    }
   ],
   "source": [
    "#include <stdio.h>\n",
    "#include <pthread.h>\n",
    "\n",
    "volatile int counter = 0;\n",
    "pthread_mutex_t lock;\n",
    "\n",
    "void* incrementCounter(void* arg) {\n",
    "    for (int i = 0; i < 1000000; i++) {\n",
    "        pthread_mutex_lock(&lock);  // Lock\n",
    "        counter++;\n",
    "        pthread_mutex_unlock(&lock);  // UnLock \n",
    "    }\n",
    "    return NULL;\n",
    "}\n",
    "\n",
    "int main() {\n",
    "    pthread_t t1, t2;\n",
    "\n",
    "    // Mutex initialize \n",
    "    pthread_mutex_init(&lock, NULL);\n",
    "\n",
    "    // Do threads create ho rahe hain\n",
    "    pthread_create(&t1, NULL, incrementCounter, NULL);\n",
    "    pthread_create(&t2, NULL, incrementCounter, NULL);\n",
    "\n",
    "    // Wait for threads to finish\n",
    "    pthread_join(t1, NULL);\n",
    "    pthread_join(t2, NULL);\n",
    "\n",
    "    printf(\"Final counter value: %d\\n\", counter);  // Ab 2000000 hoga\n",
    "    pthread_mutex_destroy(&lock);  // Mutex destroy\n",
    "    return 0;\n",
    "}"
   ]
  },
  {
   "cell_type": "markdown",
   "id": "2fe227ea-562e-4ddd-85ea-069c0967b7ea",
   "metadata": {},
   "source": [
    "\n",
    "<body style=\"font-family: Sans-serif;\">\n",
    "    <div style=\"color: black; font-size: 18px; font-style: oblique; text-shadow: 0 0 3px white, 0 0 1px black; padding: 20px;\">\n",
    "<ul>\n",
    "    <li>pthread_mutex_lock(&lock) ensure karta hai ke ek waqt mein sirf ek thread counter++ operation perform kare.</li><br>\n",
    "    <li>Jab ek thread increment kar raha hoga, doosra thread wait karega jab tak lock release na ho jaye (pthread_mutex_unlock(&lock)).</li><br>\n",
    "    <li>Is tarah race condition avoid hoti hai, aur result hamesha correct aata hai (2000000).</li>\n",
    "</ul><br>\n",
    "<b>Note: Yahan ye target kiya gaya hai ke sirf concepts samjhe jayein. Code ki samajh agar nahi aa rahi to iski tension nahi leni, kyunki ye topics baad mein cover kiye jayenge. Abhi sirf ye samjhein ke volatile ka use case kya hai.</b></div>\n",
    "</body>"
   ]
  },
  {
   "cell_type": "markdown",
   "id": "ebbfa2c8-8570-480e-b1ff-6a9e07ec5a52",
   "metadata": {},
   "source": [
    "<hr>\n",
    "<body style=\"font-family: Sans-serif;\">\n",
    "    <div style=\"color: black; font-size: 18px; font-style: oblique; text-shadow: 0 0 3px white, 0 0 1px black; padding: 20px;\">\n",
    "        <h3>External Variable</h3>\n",
    "        <ul>\n",
    "        <li>Extern variables wo hote hain jo kisi file mein define kiye jaate hain lekin dusri file mein unko declare karke use kiya ja sakta hai. extern keyword use hota hai iska bata karne ke liye ke variable dusri file mein defined hai.</li><br>\n",
    "        <li>Scope: Puri program ya multiple files tak hoti hai.</li><br>\n",
    "        <li>Storage Duration: Program chalne tak persist karte hain.</li><br>\n",
    "            <li>Linkage: External Linkage</li>\n",
    "        </ul>\n",
    "     Supported Extensions:\n",
    "        <ul>\n",
    "        <li>.c (C Source Files): Yeh file extension use hota hai jab hum variable ko define karte hain (memory allocate karte hain) aur functions likhte hain.</li><br>\n",
    "            <li>.h (Header Files): Yeh file extension use hota hai jab hum variables aur functions ko declare karte hain (memory allocate nahi hoti). Header file mein extern keyword se declare karte hain aur source file (.c) mein variable ko define karte hain.</li>\n",
    "        </ul>\n",
    "    </div></body>\n"
   ]
  },
  {
   "cell_type": "code",
   "execution_count": 17,
   "id": "4a97a976-44ed-4daa-825c-f7e956b24bad",
   "metadata": {},
   "outputs": [],
   "source": [
    "int x=2;"
   ]
  },
  {
   "cell_type": "code",
   "execution_count": 20,
   "id": "a3421cfa-18b7-400a-ac26-431ee4c5a614",
   "metadata": {},
   "outputs": [],
   "source": [
    "!echo \"int x = 2;\" > mubeen.h"
   ]
  },
  {
   "cell_type": "code",
   "execution_count": 21,
   "id": "148745e5-be02-42e3-bf9c-00f0643e512e",
   "metadata": {},
   "outputs": [
    {
     "name": "stdout",
     "output_type": "stream",
     "text": [
      "int x = 2;\n"
     ]
    }
   ],
   "source": [
    "!cat mubeen.h"
   ]
  },
  {
   "cell_type": "code",
   "execution_count": 34,
   "id": "1e59b72a-fd1a-447e-8c1c-804a19857f82",
   "metadata": {},
   "outputs": [
    {
     "name": "stdout",
     "output_type": "stream",
     "text": [
      "2"
     ]
    }
   ],
   "source": [
    "#include <stdio.h>\n",
    "#include \"./mubeen.h\"\n",
    "\n",
    "int main(){\n",
    "    extern int x;\n",
    "    printf(\"%d\",x);\n",
    "    return 0;\n",
    "}"
   ]
  },
  {
   "cell_type": "markdown",
   "id": "1976427a-16a4-42d1-96c2-a3c26ddc5412",
   "metadata": {},
   "source": [
    "<body style=\"font-family: Sans-serif;\">\n",
    "    <div style=\"color: black; font-size: 18px; font-style: oblique; text-shadow: 0 0 3px white, 0 0 1px black; padding: 20px;\">\n",
    "        Example 2 (2nd Use Case)\n",
    "    </div></body>\n"
   ]
  },
  {
   "cell_type": "code",
   "execution_count": 146,
   "id": "bdf6345b-049a-4d36-bb31-628c0fa70b53",
   "metadata": {},
   "outputs": [],
   "source": [
    "extern int x; // myheader.h filename\n",
    "void printX();"
   ]
  },
  {
   "cell_type": "code",
   "execution_count": 147,
   "id": "c26dc3e9-dc9b-4115-a553-b2209d0bf376",
   "metadata": {},
   "outputs": [],
   "source": [
    "!echo \"extern int x;\\nvoid printX();\" > myheader.h"
   ]
  },
  {
   "cell_type": "code",
   "execution_count": 148,
   "id": "00f8193b-bec5-4ee8-a0c0-e31699824f36",
   "metadata": {},
   "outputs": [
    {
     "name": "stdout",
     "output_type": "stream",
     "text": [
      "extern int x;\n",
      "void printX();\n"
     ]
    }
   ],
   "source": [
    "!cat myheader.h"
   ]
  },
  {
   "cell_type": "code",
   "execution_count": 149,
   "id": "12dd97c9-2eb6-4e00-9292-5554e6235d6f",
   "metadata": {},
   "outputs": [],
   "source": [
    "!echo '#include \"myheader.h\"\\n#include <stdio.h>\\nint x = 10;\\nvoid printX() {\\n\\tprintf(\"Value of x is: %d\\\\n\", x);\\n}' > file1.c"
   ]
  },
  {
   "cell_type": "code",
   "execution_count": 150,
   "id": "d5533603-a07e-48e6-99d6-d79e6d0de4f7",
   "metadata": {},
   "outputs": [
    {
     "name": "stdout",
     "output_type": "stream",
     "text": [
      "#include \"myheader.h\"\n",
      "#include <stdio.h>\n",
      "int x = 10;\n",
      "void printX() {\n",
      "\tprintf(\"Value of x is: %d\\n\", x);\n",
      "}\n"
     ]
    }
   ],
   "source": [
    "!cat file1.c"
   ]
  },
  {
   "cell_type": "code",
   "execution_count": 151,
   "id": "baaf3445-d0b0-4a8e-8f09-189726a434de",
   "metadata": {},
   "outputs": [],
   "source": [
    "!echo '#include \"myheader.h\" \\nint main() {\\nprintX();\\nreturn 0;\\n}' > file2.c"
   ]
  },
  {
   "cell_type": "code",
   "execution_count": 152,
   "id": "50d33a96-1dec-4986-a111-0318bcb6fe03",
   "metadata": {},
   "outputs": [
    {
     "name": "stdout",
     "output_type": "stream",
     "text": [
      "#include \"myheader.h\" \n",
      "int main() {\n",
      "printX();\n",
      "return 0;\n",
      "}\n"
     ]
    }
   ],
   "source": [
    "!cat file2.c"
   ]
  },
  {
   "cell_type": "markdown",
   "id": "86411697-44a3-4669-9f40-195c605f0032",
   "metadata": {},
   "source": [
    "<body style=\"font-family: Sans-serif;\">\n",
    "    <div style=\"color: black; font-size: 18px; font-style: oblique; text-shadow: 0 0 3px white, 0 0 1px black; padding: 20px;\">\n",
    "    Compilation:<br>\n",
    "    In files ko compile karne ke liye, dono .c files ko saath mein compile karna zaroori ha\n",
    "</div></body>\n"
   ]
  },
  {
   "cell_type": "code",
   "execution_count": 81,
   "id": "d8981de4-3595-495c-b5f8-b3f383f06274",
   "metadata": {},
   "outputs": [],
   "source": [
    "!gcc file1.c file2.c -o code"
   ]
  },
  {
   "cell_type": "code",
   "execution_count": 82,
   "id": "4caa54f2-3a6d-4718-ae30-7d20ddab6c95",
   "metadata": {},
   "outputs": [
    {
     "name": "stdout",
     "output_type": "stream",
     "text": [
      "Value of x is: 10\n"
     ]
    }
   ],
   "source": [
    "!./code"
   ]
  },
  {
   "cell_type": "markdown",
   "id": "1698a2e1-be8f-4fb3-b9d2-189b2e2fe631",
   "metadata": {},
   "source": [
    "<body style=\"font-family: Sans-serif;\">\n",
    "    <div style=\"color: black; font-size: 18px; font-style: oblique; text-shadow: 0 0 3px white, 0 0 1px black; padding: 20px;\">\n",
    "        <ul>\n",
    "            <li>extern Declaration: x ko myheader.h file mein declare kiya gaya hai (yaani sirf bataya gaya ke yeh variable exist karta hai). Lekin actual mein x ko define file1.c mein kiya gaya hai jahan uska value 10 set kiya gaya hai.</li><br>\n",
    "            <li>Header File: Yeh file dono source files (file1.c aur file2.c) ko yeh batati hai ke variable aur function exist karte hain. Is tarah se hum variables aur functions ko alag alag files mein access kar sakte hain.</li><br>\n",
    "            <li>Function Call: file2.c mein hum function printX() ko call karte hain jo file1.c mein bana hai aur jo extern variable x ka value print karta hai.</li>\n",
    "        </ul>\n",
    "    </div></body>\n"
   ]
  },
  {
   "cell_type": "markdown",
   "id": "fdb489ae-fd5b-4ddb-b207-c1b2d868791d",
   "metadata": {},
   "source": [
    "<body style=\"font-family: Sans-serif;\">\n",
    "    <div style=\"color: black; font-size: 18px; font-style: oblique; text-shadow: 0 0 3px white, 0 0 1px black; padding: 20px;\">\n",
    "    <h2>Try to debug</h2>\n",
    "</div></body>\n"
   ]
  },
  {
   "cell_type": "code",
   "execution_count": 132,
   "id": "91147c30-f382-4304-a218-7fa5316982f6",
   "metadata": {},
   "outputs": [],
   "source": [
    "extern int x; // myheader.h filename\n",
    "void printX();"
   ]
  },
  {
   "cell_type": "markdown",
   "id": "461eda0f-7048-400a-8e93-354490d19737",
   "metadata": {},
   "source": [
    "<body style=\"font-family: Sans-serif;\">\n",
    "    <div style=\"color: black; font-size: 18px; font-style: oblique; text-shadow: 0 0 3px white, 0 0 1px black; padding: 20px;\">\n",
    "    extern Declaration: x ko myheader.h file mein declare kiya gaya hai (yaani sirf bataya gaya ke yeh variable exist karta hai). Lekin actual mein x ko define file1.c mein kiya gaya hai jahan uska value 10 set kiya gaya hai.\n",
    "</div></body>\n",
    "\n"
   ]
  },
  {
   "cell_type": "code",
   "execution_count": 134,
   "id": "fa91b821-d300-4db8-93bd-e3d84fb7e6d0",
   "metadata": {},
   "outputs": [],
   "source": [
    "// file1.c\n",
    "#include \"myheader.h\"\n",
    "#include <stdio.h>\n",
    "int x = 10;\n",
    "void printX() {\n",
    "\tprintf(\"Value of x is: %d\\n\", x);\n",
    "}"
   ]
  },
  {
   "cell_type": "markdown",
   "id": "b85de1e5-b67c-48a3-a1db-f2177631504e",
   "metadata": {},
   "source": [
    "<body style=\"font-family: Sans-serif;\">\n",
    "    <div style=\"color: black; font-size: 18px; font-style: oblique; text-shadow: 0 0 3px white, 0 0 1px black; padding: 20px;\">\n",
    "    actual mein x ko define file1.c mein kiya gaya hai jahan uska value 10 set kiya gaya hai.\n",
    "</div></body>\n",
    "\n"
   ]
  },
  {
   "cell_type": "code",
   "execution_count": 143,
   "id": "77c40990-a20f-4bc9-965b-42476e3ec30b",
   "metadata": {},
   "outputs": [],
   "source": [
    "// file2.c\n",
    "#include \"myheader.h\" \n",
    "int main() {\n",
    "    printX();\n",
    "    return 0;\n",
    "}"
   ]
  },
  {
   "cell_type": "markdown",
   "id": "07f344d5-cc04-4743-bc28-cd850d4eba80",
   "metadata": {},
   "source": [
    "<body style=\"font-family: Sans-serif;\">\n",
    "    <div style=\"color: black; font-size: 18px; font-style: oblique; text-shadow: 0 0 3px white, 0 0 1px black; padding: 20px;\">\n",
    "Header File: Yeh file dono source files (file1.c aur file2.c) ko yeh batati hai ke variable aur function exist karte hain. Is tarah se hum variables aur functions ko alag alag files mein access kar sakte hain.</div></body>\n",
    "\n",
    "\n"
   ]
  },
  {
   "cell_type": "markdown",
   "id": "d05ed2c5-3a35-405d-b6a6-9fd0a79a6269",
   "metadata": {},
   "source": [
    "<body style=\"font-family: Sans-serif;\">\n",
    "    <div style=\"color: black; font-size: 18px; font-style: oblique; text-shadow: 0 0 3px white, 0 0 1px black; padding: 20px;\">\n",
    "Function Call: file2.c mein hum function printX() ko call karte hain jo file1.c mein bana hai aur jo extern variable x ka value print karta hai.</div></body>\n",
    "\n",
    "\n"
   ]
  },
  {
   "cell_type": "code",
   "execution_count": 153,
   "id": "515f594b-08db-4809-b157-cc9bdf6116fd",
   "metadata": {},
   "outputs": [],
   "source": [
    "!gcc file1.c file2.c -o code"
   ]
  },
  {
   "cell_type": "code",
   "execution_count": 154,
   "id": "32bc3e54-f8da-461b-ab6a-f74d84f91ef2",
   "metadata": {},
   "outputs": [
    {
     "name": "stdout",
     "output_type": "stream",
     "text": [
      "Value of x is: 10\n"
     ]
    }
   ],
   "source": [
    "!./code"
   ]
  },
  {
   "cell_type": "markdown",
   "id": "3334e9d1-c352-4ec9-862e-e43856c8c86a",
   "metadata": {},
   "source": [
    "<body style=\"font-family: Sans-serif;\">\n",
    "    <div style=\"color: black; font-size: 18px; font-style: oblique; text-shadow: 0 0 3px white, 0 0 1px black; padding: 20px;\">\n",
    "    <h2>Example 3</h2>\n",
    "</div></body>\n"
   ]
  },
  {
   "cell_type": "code",
   "execution_count": 263,
   "id": "97a21813-a943-4237-a8cc-3b923d21d1aa",
   "metadata": {},
   "outputs": [],
   "source": [
    "extern float ip;\n",
    "void connect();"
   ]
  },
  {
   "cell_type": "code",
   "execution_count": 264,
   "id": "0fd75065-68e5-4398-afe6-8af942a42540",
   "metadata": {},
   "outputs": [],
   "source": [
    "!echo \"extern float ip;\\nvoid connect();\" > db.h"
   ]
  },
  {
   "cell_type": "code",
   "execution_count": 265,
   "id": "a8a4fcb5-5201-4871-beb6-b7ca5a75ba92",
   "metadata": {},
   "outputs": [
    {
     "name": "stdout",
     "output_type": "stream",
     "text": [
      "extern float ip;\n",
      "void connect();\n"
     ]
    }
   ],
   "source": [
    "!cat db.h"
   ]
  },
  {
   "cell_type": "code",
   "execution_count": 267,
   "id": "6c58d770-66ce-4875-847d-7700af23830e",
   "metadata": {},
   "outputs": [],
   "source": [
    "#include \"db.h\"\n",
    "#include <stdio.h>\n",
    "float ip = 192.1, port = 8.8;\n",
    "void connect(){\n",
    "    printf(\"connected %.1f:%.1f\",ip,port);\n",
    "}"
   ]
  },
  {
   "cell_type": "code",
   "execution_count": 277,
   "id": "b284b9d3-5e31-4c53-afaa-6b7e8710ffb7",
   "metadata": {},
   "outputs": [],
   "source": [
    "!echo \"#include \\\"db.h\\\"\\n#include <stdio.h>\\nfloat ip = 192.1,port = 8.8;\\nvoid connect(){\\n\\tprintf(\\\"connected %.1f %.1f\\\",ip,port);\\n}\" > config.c"
   ]
  },
  {
   "cell_type": "code",
   "execution_count": 278,
   "id": "32857cab-483c-492b-a325-efd27829b4eb",
   "metadata": {},
   "outputs": [
    {
     "name": "stdout",
     "output_type": "stream",
     "text": [
      "#include \"db.h\"\n",
      "#include <stdio.h>\n",
      "float ip = 192.1,port = 8.8;\n",
      "void connect(){\n",
      "\tprintf(\"connected %.1f %.1f\",ip,port);\n",
      "}\n"
     ]
    }
   ],
   "source": [
    "!cat config.c"
   ]
  },
  {
   "cell_type": "code",
   "execution_count": 281,
   "id": "8a6071ee-5ec3-4bcd-9db3-9ce5b485f34f",
   "metadata": {},
   "outputs": [],
   "source": [
    "!echo \"#include \\\"db.h\\\"\\nint main() {connect();return 0;}\" > code.c"
   ]
  },
  {
   "cell_type": "code",
   "execution_count": 282,
   "id": "25cddba7-8593-485a-806f-460d79ab0437",
   "metadata": {},
   "outputs": [
    {
     "name": "stdout",
     "output_type": "stream",
     "text": [
      "#include \"db.h\"\n",
      "int main() {connect();return 0;}\n"
     ]
    }
   ],
   "source": [
    "!cat code.c"
   ]
  },
  {
   "cell_type": "code",
   "execution_count": 283,
   "id": "b47dcbee-ae1e-44f8-8e4c-a54baf8d13f5",
   "metadata": {},
   "outputs": [],
   "source": [
    "!gcc config.c code.c -o code"
   ]
  },
  {
   "cell_type": "code",
   "execution_count": 284,
   "id": "5e6fabbf-55f9-41f8-86a3-dbdcbac5162b",
   "metadata": {},
   "outputs": [
    {
     "name": "stdout",
     "output_type": "stream",
     "text": [
      "connected 192.1 8.8"
     ]
    }
   ],
   "source": [
    "!./code"
   ]
  }
 ],
 "metadata": {
  "kernelspec": {
   "display_name": "C++17",
   "language": "C++17",
   "name": "xcpp17"
  },
  "language_info": {
   "codemirror_mode": "text/x-c++src",
   "file_extension": ".cpp",
   "mimetype": "text/x-c++src",
   "name": "c++",
   "version": "17"
  }
 },
 "nbformat": 4,
 "nbformat_minor": 5
}
