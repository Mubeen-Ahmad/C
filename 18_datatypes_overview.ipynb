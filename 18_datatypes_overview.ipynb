{
 "cells": [
  {
   "cell_type": "markdown",
   "id": "6901c348-f240-4a9b-a166-ba591b015331",
   "metadata": {},
   "source": [
    "<h1 style=\"text-align:center; color:#005bbd; font-size:30px; font-family:Sans-serif; font-style: oblique; text-shadow: 0 0 3px white, 0 0 1px Black;\">\n",
    "   DataTypes\n",
    "</h1>"
   ]
  },
  {
   "cell_type": "markdown",
   "id": "6b8a2029-d53e-4ee0-a89f-10e3905d9f94",
   "metadata": {},
   "source": [
    "<body style=\"font-family: Sans-serif;\">\n",
    "    <div style=\"color: black; font-size: 18px; font-style: oblique; text-shadow: 0 0 3px white, 0 0 1px black; padding: 20px;\">\n",
    "        <ul>\n",
    "            <li>Datatype kisi bhi programming language mein ek classification hoti hai jo batati hai ke kis qisam ka data ek variable hold karega aur us data par kaise operations kiye ja sakte hain.</li><br>\n",
    "            <li>Datatype ye decide karta hai ke ek variable mein kis qisam ki value store ki jayegi, jaise integer, floating-point numbers, characters, ya phir complex data structures jese arrays ya structures. Yeh system ko batata hai ke memory mein kitni space assign karni hai aur data ko kaise interpret karna hai.</li>\n",
    "</ul></div></body>\n"
   ]
  },
  {
   "cell_type": "markdown",
   "id": "c28e47da-30b1-44f6-a963-66b0d3184476",
   "metadata": {},
   "source": [
    "<h1 style=\"text-align:center; color:#005bbd; font-size:30px; font-family:Sans-serif; font-style: oblique; text-shadow: 0 0 3px white, 0 0 1px Black;\">\n",
    "   Value and Types\n",
    "</h1>"
   ]
  },
  {
   "cell_type": "markdown",
   "id": "646650ec-5d89-4d63-96b9-5b90dd0ff0e9",
   "metadata": {},
   "source": [
    "<body style=\"font-family: Sans-serif;\">\n",
    "    <div style=\"color: black; font-size: 18px; font-style: oblique; text-shadow: 0 0 3px white, 0 0 1px black; padding: 20px;\">\n",
    "        <ul>\n",
    "            <li>Jab aap kisi variable ko declare karte hain, uska type batata hai ke is variable mein kis qisam ki value hogi aur kaise us value ko samjha jayega.</li><br>\n",
    "</ul></div></body>\n"
   ]
  },
  {
   "cell_type": "code",
   "execution_count": 2,
   "id": "bd6a70ec-1d95-47ae-88a3-e14b4648f8b3",
   "metadata": {},
   "outputs": [],
   "source": [
    "int x = 5;"
   ]
  },
  {
   "cell_type": "markdown",
   "id": "9720ebb4-3c80-4fb8-a25c-34077935b76c",
   "metadata": {},
   "source": [
    "<body style=\"font-family: Sans-serif;\">\n",
    "    <div style=\"color: black; font-size: 18px; font-style: oblique; text-shadow: 0 0 3px white, 0 0 1px black; padding: 20px;\">\n",
    "        <ul>\n",
    "            <li>Yahan x ek int type ka variable hai, to iska matlab hai ke is variable mein ek integer value store hogi, aur jab bhi aap x ko access karenge to wo integer ke tor pe samjha jayega.</li><br>\n",
    "</ul></div></body>\n",
    "\n"
   ]
  },
  {
   "cell_type": "markdown",
   "id": "533d1627-cafb-4712-99ae-0dcce10b5045",
   "metadata": {},
   "source": [
    "<h1 style=\"text-align:center; color:#005bbd; font-size:30px; font-family:Sans-serif; font-style: oblique; text-shadow: 0 0 3px white, 0 0 1px Black;\">\n",
    "   Object Types vs Function Types\n",
    "</h1>"
   ]
  },
  {
   "cell_type": "markdown",
   "id": "248661e3-304f-400e-b7d1-8cec900630b3",
   "metadata": {},
   "source": [
    "<body style=\"font-family: Sans-serif;\">\n",
    "    <div style=\"color: black; font-size: 18px; font-style: oblique; text-shadow: 0 0 3px white, 0 0 1px black; padding: 20px;\">\n",
    "        <h3>Object Types</h3>\n",
    "        <ul>\n",
    "            <li>Object types wo types hain jo objects ko define karte hain. Objects ka matlab yahan woh variables hain jo memory mein kisi value ko store karte hain, jaise int, char, float, arrays, structures, etc.</li><br>\n",
    "</ul></div></body>\n",
    "\n"
   ]
  },
  {
   "cell_type": "code",
   "execution_count": 4,
   "id": "d5834467-a2d9-4bd4-a6c2-27412ace73e6",
   "metadata": {},
   "outputs": [],
   "source": [
    "int x = 2;"
   ]
  },
  {
   "cell_type": "markdown",
   "id": "47eeddd6-be03-4703-bd19-503e5c735049",
   "metadata": {},
   "source": [
    "<body style=\"font-family: Sans-serif;\">\n",
    "    <div style=\"color: black; font-size: 18px; font-style: oblique; text-shadow: 0 0 3px white, 0 0 1px black; padding: 20px;\">\n",
    "        <h3>Function Types</h3>\n",
    "        <ul>\n",
    "            <li>Function types wo types hain jo functions ko define karte hain. Yeh batate hain ke function ka return type kya hoga aur woh kis qisam ke arguments accept karega.</li><br>\n",
    "</ul></div></body>\n",
    "\n"
   ]
  },
  {
   "cell_type": "code",
   "execution_count": 3,
   "id": "72c608f6-58d1-4fbd-ad00-dad0704bf309",
   "metadata": {},
   "outputs": [],
   "source": [
    "int myFunction(int a, float b);"
   ]
  },
  {
   "cell_type": "markdown",
   "id": "80501e60-d765-497c-a6fa-4b13e0b32980",
   "metadata": {},
   "source": [
    "<h1 style=\"text-align:center; color:#005bbd; font-size:30px; font-family:Sans-serif; font-style: oblique; text-shadow: 0 0 3px white, 0 0 1px Black;\">\n",
    "   Complete vs Incomplete Types\n",
    "</h1>"
   ]
  },
  {
   "cell_type": "markdown",
   "id": "7b9c4196-f0c7-4571-bc4e-c56e8b50f2d5",
   "metadata": {},
   "source": [
    "<body style=\"font-family: Sans-serif;\">\n",
    "    <div style=\"color: black; font-size: 18px; font-style: oblique; text-shadow: 0 0 3px white, 0 0 1px black; padding: 20px;\">\n",
    "        <ul>\n",
    "            <li>Yeh baat types ki completeness se related hai, jo batati hai ke type ke paas sufficient information hai ya nahi us object ka size determine karne ke liye:</li><br>\n",
    "</ul><h3>Complete Type</h3>\n",
    "    <ul><li>Agar ek type ke paas wo saari information hai jo us object ka size batane ke liye chahiye, to usay complete type kehte hain. Matlab, aapko pura pata hai ke yeh object memory mein kitni jagah lega.</li>\n",
    "    </ul>\n",
    "    </div></body>\n",
    "\n"
   ]
  },
  {
   "cell_type": "code",
   "execution_count": 6,
   "id": "acdf0de4-88d2-4e6c-9206-8a441b936f1e",
   "metadata": {},
   "outputs": [],
   "source": [
    "int arr[10];  // array ka size pata hai, 10 elements\n",
    "\n",
    "struct Person {\n",
    "\n",
    "    char name[50];\n",
    "    int age;\n",
    "\n",
    "};  // structure ka size pata hai kyunki members defined hain\n"
   ]
  },
  {
   "cell_type": "markdown",
   "id": "6537767e-4664-4b4a-a768-692ea790ad6b",
   "metadata": {},
   "source": [
    "<body style=\"font-family: Sans-serif;\">\n",
    "    <div style=\"color: black; font-size: 18px; font-style: oblique; text-shadow: 0 0 3px white, 0 0 1px black; padding: 20px;\">\n",
    "        <h3>Incomplete Type</h3>\n",
    "        <ul>\n",
    "            <li>Agar ek type ke paas sufficient information nahi hai ke woh bata sake ke us object ka size kya hoga, to usay incomplete type kehte hain. Matlab, abhi us object ke baare mein poori detail nahi di gayi.</li><br>\n",
    "</ul></div></body>\n",
    "\n"
   ]
  },
  {
   "cell_type": "code",
   "execution_count": 9,
   "id": "7517bcd3-6d15-44e0-8748-dec1019426aa",
   "metadata": {},
   "outputs": [],
   "source": [
    "int arr[];  // array ka size abhi specify nahi kiya\n",
    "struct Person;  // members specify nahi kiye"
   ]
  },
  {
   "cell_type": "markdown",
   "id": "1088fe6d-7ccb-479f-aa01-80b926668068",
   "metadata": {},
   "source": [
    "<h1 style=\"text-align:center; color:#005bbd; font-size:30px; font-family:Sans-serif; font-style: oblique; text-shadow: 0 0 3px white, 0 0 1px Black;\">\n",
    "   Basic Types (Primitive Data Types)\n",
    "</h1>"
   ]
  },
  {
   "cell_type": "markdown",
   "id": "2cd59b45-a16d-4d0e-b7fc-d81e5fcbe612",
   "metadata": {},
   "source": [
    "<body style=\"font-family: Sans-serif;\">\n",
    "    <div style=\"color: black; font-size: 18px; font-style: oblique; text-shadow: 0 0 3px white, 0 0 1px black; padding: 20px;\">\n",
    "        <ul>\n",
    "            <li>Basic types wo primitive data types hain jo C language ke foundation hain. Inke bina kisi bhi complex data type ko define karna mushkil hota hai. </li><br>\n",
    "            <li>Ye types directly hardware ke sath compatible hoti hain aur memory mein specific size occupy karti hain. Basic types mein commonly used types char, int, float, aur bool hain.</li>\n",
    "</ul></div></body>\n",
    "\n"
   ]
  },
  {
   "cell_type": "markdown",
   "id": "c551fc3b-1130-4aab-a832-0f117460f7aa",
   "metadata": {},
   "source": [
    "<img style=\"display: block;margin-left: auto;margin-right: auto;width: 80%;\" src=\"./images/primitive.jpg\">"
   ]
  },
  {
   "cell_type": "markdown",
   "id": "ffe6c116-5841-446c-b67d-5264bb954ad0",
   "metadata": {},
   "source": [
    "<h1 style=\"text-align:center; color:#005bbd; font-size:30px; font-family:Sans-serif; font-style: oblique; text-shadow: 0 0 3px white, 0 0 1px Black;\">\n",
    "   Drived Types\n",
    "</h1>"
   ]
  },
  {
   "cell_type": "markdown",
   "id": "3a40ef05-a035-4aa9-b17d-6dcf60d9f335",
   "metadata": {},
   "source": [
    "<body style=\"font-family: Sans-serif;\">\n",
    "    <div style=\"color: black; font-size: 18px; font-style: oblique; text-shadow: 0 0 3px white, 0 0 1px black; padding: 20px;\">\n",
    "        <ul>\n",
    "            <li>Derived Types wo types hain jo basic types (jaise int, char, float, etc.) ko use kar ke naye types banate hain. </li><br>\n",
    "            <li>Derived types program ko data ko structure aur organization ke saath handle karne mein help karte hain. Yeh types apne andar unique features aur functionalities rakhte hain. </li>\n",
    "</ul></div></body>\n",
    "\n"
   ]
  },
  {
   "cell_type": "markdown",
   "id": "ac47e153-f220-4f34-af87-11bfa41058ba",
   "metadata": {
    "tags": []
   },
   "source": [
    "<img style=\"display: block;margin-left: auto;margin-right: auto;width: 70%;\" src=\"./images/drived.jpg\">"
   ]
  }
 ],
 "metadata": {
  "kernelspec": {
   "display_name": "C++17",
   "language": "C++17",
   "name": "xcpp17"
  },
  "language_info": {
   "codemirror_mode": "text/x-c++src",
   "file_extension": ".cpp",
   "mimetype": "text/x-c++src",
   "name": "c++",
   "version": "17"
  }
 },
 "nbformat": 4,
 "nbformat_minor": 5
}
