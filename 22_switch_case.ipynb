{
 "cells": [
  {
   "cell_type": "markdown",
   "id": "e010ead9-2463-4e2f-aa57-ad4656c3075b",
   "metadata": {},
   "source": [
    "<h1 style=\"text-align:center; color:#005bbd; font-size:30px; font-family:Sans-serif; font-style: oblique; text-shadow: 0 0 3px white, 0 0 1px Black;\">\n",
    "   Switch Case \n",
    "</h1>"
   ]
  },
  {
   "cell_type": "markdown",
   "id": "c80e4112-41f2-401f-afc9-32841cb101ff",
   "metadata": {},
   "source": [
    "<body style=\"font-family: Sans-serif;\">\n",
    "    <div style=\"color: black; font-size: 18px; font-style: oblique; text-shadow: 0 0 3px white, 0 0 1px black; padding: 20px;\">\n",
    "      C mein switch case ek control statement hota hai jo aapko ek hi variable ke kai different possible values ke liye alag-alag code block execute karne ki suvidha deta hai. <br><br>Iska use aksar tab hota hai jab aapko multiple conditions ko check karna ho, jaise kisi variable ki value ke hisaab se.\n",
    "    </div>\n",
    "<body>"
   ]
  },
  {
   "cell_type": "code",
   "execution_count": null,
   "id": "808078c4-964a-439a-8730-28fdfe8cd913",
   "metadata": {},
   "outputs": [],
   "source": [
    "switch(expression) {\n",
    "    \n",
    "    case constant1:\n",
    "    \n",
    "        // Agar expression ka value constant1 ke barabar ho\n",
    "        break;\n",
    "    \n",
    "    case constant2:\n",
    "    \n",
    "        // Agar expression ka value constant2 ke barabar ho\n",
    "        break;\n",
    "    \n",
    "    case constant3:\n",
    "        // Agar expression ka value constant3 ke barabar ho\n",
    "        break;\n",
    "    \n",
    "    default:\n",
    "        // Agar koi bhi case match nahi hota\n",
    "    \n",
    "        break;\n",
    "}\n"
   ]
  },
  {
   "cell_type": "markdown",
   "id": "c57de34b-28b0-40c2-96e3-00fcefee07e9",
   "metadata": {},
   "source": [
    "<body style=\"font-family: Sans-serif;\">\n",
    "    <div style=\"color: black; font-size: 18px; font-style: oblique; text-shadow: 0 0 3px white, 0 0 1px black; padding: 20px;\">\n",
    "        <ul>\n",
    "            <li>expression:\n",
    "                <ul><li>Ye ek value hai jo evaluate hoti hai. Switch statement is value ko har case se compare karta hai.</li><br></ul>\n",
    "            </li>\n",
    "            <li>case constant:\n",
    "                <ul><li>Har case ko ek specific value ke liye check kiya jata hai.</li>\n",
    "                    <li>Agar expression kisi case ke constant ke barabar hota hai, to us case ka code execute hota hai.</li>\n",
    "                </ul><br>\n",
    "            </li>\n",
    "            <li>break:\n",
    "                <ul><li>Agar break statement diya jata hai, to switch block ke baad ka code execute nahi hota.</li>\n",
    "                    <li>Agar break nahi hota to code next case block ko execute karta hai (isse \"fall-through\" kahte hain).</li>\n",
    "                </ul><br>\n",
    "            </li>       \n",
    "            <li>default:\n",
    "                <ul><li>Agar break statement diya jata hai, to switch block ke baad ka code execute nahi hota.</li>\n",
    "                    <li>Agar break nahi hota to code next case block ko execute karta hai (isse \"fall-through\" kahte hain).</li>\n",
    "                </ul><br>\n",
    "            </li>    \n",
    "        </ul>\n",
    "    </div>\n",
    "<body>"
   ]
  },
  {
   "cell_type": "code",
   "execution_count": 5,
   "id": "523dd8c2-da73-498a-bb5c-ad65a5d8e064",
   "metadata": {
    "tags": []
   },
   "outputs": [
    {
     "name": "stdout",
     "output_type": "stream",
     "text": [
      "Wednesday\n"
     ]
    }
   ],
   "source": [
    "#include <stdio.h>\n",
    "\n",
    "int main() {\n",
    "    \n",
    "    int day = 3;\n",
    "\n",
    "    switch(day) {\n",
    "            \n",
    "        case 1:\n",
    "            printf(\"Monday\\n\");\n",
    "            break;\n",
    "        case 2:\n",
    "            printf(\"Tuesday\\n\");\n",
    "            break;\n",
    "        case 3:\n",
    "            printf(\"Wednesday\\n\");\n",
    "            break;\n",
    "        case 4:\n",
    "            printf(\"Thursday\\n\");\n",
    "            break;\n",
    "        case 5:\n",
    "            printf(\"Friday\\n\");\n",
    "            break;\n",
    "        case 6:\n",
    "            printf(\"Saturday\\n\");\n",
    "            break;\n",
    "        case 7:\n",
    "            printf(\"Sunday\\n\");\n",
    "            break;\n",
    "        default:\n",
    "            printf(\"Invalid day\\n\");\n",
    "    }\n",
    "\n",
    "    return 0;\n",
    "}"
   ]
  },
  {
   "cell_type": "markdown",
   "id": "35a85f56-2557-4f7d-8609-febf26eda3bc",
   "metadata": {},
   "source": [
    "<body style=\"font-family: Sans-serif;\">\n",
    "    <div style=\"color: black; font-size: 18px; font-style: oblique; text-shadow: 0 0 3px white, 0 0 1px black; padding: 20px;\">\n",
    "      Yahan kuch important rules hain jo switch statement ke sath follow karte hain:\n",
    "        <ul><li>Expression Evaluation:</li>\n",
    "            <ul><li>switch statement ka expression koi bhi aisa value hona chahiye jo integer, character, ya enumeration type ka ho. Matlab yeh float ya string type nahi ho sakte.</li></ul>\n",
    "        </ul>\n",
    "        <ul><li>Case Labels:</li>\n",
    "            <ul>\n",
    "                <li>Har case label ko ek specific constant ya literal value ke saath compare kiya jata hai.</li>\n",
    "                <li>case values constants ya literal values honi chahiye, jaise 1, 'A', 100 etc.</li>\n",
    "                <li>Aur yeh values har case ke liye unique honi chahiye.</li>\n",
    "            </ul>\n",
    "        </ul>\n",
    "         <ul><li>Fall-through Behavior:</li>\n",
    "            <ul>\n",
    "                <li>Agar kisi case ke end par break statement nahi diya gaya hai, to control next case ki taraf chala jata hai.</li>\n",
    "                <li>Yeh \"fall-through\" ka behavior kehlata hai. Agar yeh behavior chahiye to break ko avoid karte hain.</li>\n",
    "                <li>break ko har case ke end mein dena chahiye, taake control next case mein na jaye.</li>\n",
    "            </ul>\n",
    "        </ul>\n",
    "         <ul><li>Default Case:</li>\n",
    "            <ul>\n",
    "                <li>default case optional hota hai. Agar koi matching case nahi milta to default case execute hota hai.</li>\n",
    "                <li>Agar default case diya gaya ho to jab koi case match nahi kare, to default block execute hota hai.</li>\n",
    "            </ul>\n",
    "        </ul>\n",
    "        <ul><li>Break Statement:</li>\n",
    "            <ul>\n",
    "                <li>break statement switch block ke andar se bahar nikalne ke liye use hota hai.</li>\n",
    "                <li>Agar break nahi diya gaya to control next case block mein chala jata hai, jo kabhi-kabhi unwanted hota hai.</li>\n",
    "            </ul>\n",
    "        </ul>\n",
    "    <ul><li>Multiple case Labels</li>\n",
    "            <ul>\n",
    "                <li>Aap ek hi block mein multiple case labels bhi de sakte ho jo ek hi code block ko execute karte hain. </li>\n",
    "                <li>Ismein break ke beech mein koi interruption nahi hoti.</li>\n",
    "            </ul>\n",
    "        </ul>\n",
    "    <ul><li>Control Flow:</li>\n",
    "            <ul>\n",
    "                <li>Jab ek case match ho jata hai, to uska corresponding block execute hota hai.</li>\n",
    "                <li>Agar koi match nahi hota, to default case execute hota hai, agar diya gaya ho. Agar default nahi diya, to koi bhi block execute nahi hota.</li>\n",
    "            </ul>\n",
    "        </ul>\n",
    "    </div>\n",
    "<body>"
   ]
  },
  {
   "cell_type": "code",
   "execution_count": 16,
   "id": "8801e833-ebcc-4f75-b079-eacf0d88a905",
   "metadata": {
    "tags": []
   },
   "outputs": [
    {
     "name": "stdout",
     "output_type": "stream",
     "text": [
      "Grade A"
     ]
    }
   ],
   "source": [
    "#include <stdio.h>\n",
    "int main(){\n",
    "\n",
    "    unsigned int marks = 10;\n",
    "    \n",
    "    switch(marks){\n",
    "    \n",
    "        case 10:\n",
    "            printf(\"Grade A\");\n",
    "            break;\n",
    "            \n",
    "        case 9:\n",
    "            printf(\"Grade B\");\n",
    "            break;\n",
    "        \n",
    "        case 8:\n",
    "            printf(\"Grade C\");\n",
    "            break;\n",
    "        \n",
    "        default:\n",
    "            printf(\"Failed\");\n",
    "    }\n",
    "\n",
    "}\n"
   ]
  },
  {
   "cell_type": "code",
   "execution_count": 18,
   "id": "621da368-1a43-47d0-bbbb-a19621c798f8",
   "metadata": {
    "tags": []
   },
   "outputs": [
    {
     "name": "stdout",
     "output_type": "stream",
     "text": [
      "Failed"
     ]
    }
   ],
   "source": [
    "#include <stdio.h>\n",
    "int main(){\n",
    "\n",
    "    unsigned int marks = 7;\n",
    "    \n",
    "    switch(marks){\n",
    "    \n",
    "        case 10:\n",
    "            printf(\"Grade A\");\n",
    "            break;\n",
    "            \n",
    "        case 9:\n",
    "            printf(\"Grade B\");\n",
    "            break;\n",
    "        \n",
    "        case 8:\n",
    "            printf(\"Grade C\");\n",
    "            break;\n",
    "        \n",
    "        default:\n",
    "            printf(\"Failed\");\n",
    "    }\n",
    "\n",
    "}\n"
   ]
  },
  {
   "cell_type": "markdown",
   "id": "9bff2a75-e68d-41d4-ad04-3fd656d1fe35",
   "metadata": {},
   "source": [
    "<body style=\"font-family: Sans-serif;\">\n",
    "    <div style=\"color: black; font-size: 18px; font-style: oblique; text-shadow: 0 0 3px white, 0 0 1px black; padding: 20px;\">\n",
    "        <h3>Nested Switch Example</h3>\n",
    "    </div>\n",
    "<body>"
   ]
  },
  {
   "cell_type": "code",
   "execution_count": 25,
   "id": "1f2b910f-b94f-46ab-8033-f06e965d3595",
   "metadata": {
    "tags": []
   },
   "outputs": [
    {
     "name": "stdout",
     "output_type": "stream",
     "text": [
      "Very Good"
     ]
    }
   ],
   "source": [
    "#include <stdio.h>\n",
    "\n",
    "int main(){\n",
    "\n",
    "    int day = 1;\n",
    "    int marks = 3;\n",
    "    \n",
    "    switch(day){\n",
    "        case 1:\n",
    "        \n",
    "        switch(marks){\n",
    "            case 3:\n",
    "                printf(\"Very Good\");\n",
    "                break;\n",
    "            case 2:\n",
    "                printf(\"Good\");\n",
    "                break;\n",
    "            default:\n",
    "                printf(\"Bad\");\n",
    "         \n",
    "        }\n",
    "            \n",
    "        break;\n",
    "        \n",
    "        case 2:\n",
    "            switch(marks){\n",
    "                \n",
    "                case 3:\n",
    "                    printf(\"Great\");\n",
    "                    break;\n",
    "                case 2:\n",
    "                    printf(\"Very Good\");\n",
    "                    break;\n",
    "                default:\n",
    "                    printf(\"Very Bad\");\n",
    "                    \n",
    "            }\n",
    "    }\n",
    "        \n",
    "\n",
    "}"
   ]
  },
  {
   "cell_type": "code",
   "execution_count": 28,
   "id": "e7f8b8f3-63db-40af-9f4e-b54dfe0bb8bf",
   "metadata": {
    "tags": []
   },
   "outputs": [
    {
     "name": "stdout",
     "output_type": "stream",
     "text": [
      "Bad"
     ]
    }
   ],
   "source": [
    "#include <stdio.h>\n",
    "\n",
    "int main(){\n",
    "\n",
    "    int day = 1;\n",
    "    int marks = 1;\n",
    "    \n",
    "    switch(day){\n",
    "        case 1:\n",
    "        \n",
    "        switch(marks){\n",
    "            case 3:\n",
    "                printf(\"Very Good\");\n",
    "                break;\n",
    "            case 2:\n",
    "                printf(\"Good\");\n",
    "                break;\n",
    "            default:\n",
    "                printf(\"Bad\");\n",
    "         \n",
    "        }\n",
    "            \n",
    "        break;\n",
    "        \n",
    "        case 2:\n",
    "            switch(marks){\n",
    "                \n",
    "                case 3:\n",
    "                    printf(\"Great\");\n",
    "                    break;\n",
    "                case 2:\n",
    "                    printf(\"Very Good\");\n",
    "                    break;\n",
    "                default:\n",
    "                    printf(\"Very Bad\");\n",
    "                    \n",
    "            }\n",
    "    }\n",
    "        \n",
    "\n",
    "}"
   ]
  },
  {
   "cell_type": "code",
   "execution_count": 29,
   "id": "7c70e8eb-eed0-4afa-a877-85b4406ce8f3",
   "metadata": {
    "tags": []
   },
   "outputs": [
    {
     "name": "stdout",
     "output_type": "stream",
     "text": [
      "Very Bad"
     ]
    }
   ],
   "source": [
    "#include <stdio.h>\n",
    "\n",
    "int main(){\n",
    "\n",
    "    int day = 2;\n",
    "    int marks = 1;\n",
    "    \n",
    "    switch(day){\n",
    "        case 1:\n",
    "        \n",
    "        switch(marks){\n",
    "            case 3:\n",
    "                printf(\"Very Good\");\n",
    "                break;\n",
    "            case 2:\n",
    "                printf(\"Good\");\n",
    "                break;\n",
    "            default:\n",
    "                printf(\"Bad\");\n",
    "         \n",
    "        }\n",
    "            \n",
    "        break;\n",
    "        \n",
    "        case 2:\n",
    "            switch(marks){\n",
    "                \n",
    "                case 3:\n",
    "                    printf(\"Great\");\n",
    "                    break;\n",
    "                case 2:\n",
    "                    printf(\"Very Good\");\n",
    "                    break;\n",
    "                default:\n",
    "                    printf(\"Very Bad\");\n",
    "                    \n",
    "            }\n",
    "    }\n",
    "        \n",
    "\n",
    "}"
   ]
  },
  {
   "cell_type": "code",
   "execution_count": 30,
   "id": "8550bc5b-b894-4b31-a873-3f74aea590da",
   "metadata": {
    "tags": []
   },
   "outputs": [
    {
     "name": "stdout",
     "output_type": "stream",
     "text": [
      "VIP customer:\n",
      "Friday: 50% discount\n"
     ]
    }
   ],
   "source": [
    "#include <stdio.h>\n",
    "\n",
    "int main() {\n",
    "    \n",
    "    int customerType = 2;  // 1 for Regular, 2 for VIP\n",
    "    int dayOfWeek = 5;     // 1 = Monday, 2 = Tuesday, ..., 7=Sunday\n",
    "\n",
    "    \n",
    "    switch(customerType) {\n",
    "            \n",
    "        \n",
    "        \n",
    "        case 1:  // Regular customer\n",
    "            \n",
    "            \n",
    "            printf(\"Regular customer:\\n\");\n",
    "            switch(dayOfWeek) {\n",
    "                case 1:\n",
    "                    printf(\"Monday: 10%% discount\\n\");\n",
    "                    break;\n",
    "                case 2:\n",
    "                    printf(\"Tuesday: 15%% discount\\n\");\n",
    "                    break;\n",
    "                case 3:\n",
    "                    printf(\"Wednesday: 10%% discount\\n\");\n",
    "                    break;\n",
    "                case 4:\n",
    "                    printf(\"Thursday: 5%% discount\\n\");\n",
    "                    break;\n",
    "                case 5:\n",
    "                    printf(\"Friday: 20%% discount\\n\");\n",
    "                    break;\n",
    "                default:\n",
    "                    printf(\"No discount on weekends\\n\");\n",
    "                    break;\n",
    "            }\n",
    "            \n",
    "            \n",
    "            break;\n",
    "\n",
    "        \n",
    "        \n",
    "        case 2: \n",
    "            \n",
    "            // VIP customer\n",
    "            printf(\"VIP customer:\\n\");\n",
    "            switch(dayOfWeek) {\n",
    "                    \n",
    "                case 1:\n",
    "                    printf(\"Monday: 30%% discount\\n\");\n",
    "                    break;\n",
    "                case 2:\n",
    "                    printf(\"Tuesday: 35%% discount\\n\");\n",
    "                    break;\n",
    "                case 3:\n",
    "                    printf(\"Wednesday: 30%% discount\\n\");\n",
    "                    break;\n",
    "                case 4:\n",
    "                    printf(\"Thursday: 25%% discount\\n\");\n",
    "                    break;\n",
    "                case 5:\n",
    "                    printf(\"Friday: 50%% discount\\n\");\n",
    "                    break;\n",
    "                default:\n",
    "                    printf(\"VIPs get 40%% discount on weekends\\n\");\n",
    "                    break;\n",
    "            }\n",
    "            break;\n",
    "\n",
    "        default:\n",
    "            printf(\"Invalid customer type\\n\");\n",
    "            break;\n",
    "    }\n",
    "\n",
    "    return 0;\n",
    "}"
   ]
  },
  {
   "cell_type": "markdown",
   "id": "aca6c0c0-322f-48fd-ab27-39b4360c793f",
   "metadata": {},
   "source": [
    "<h1 style=\"text-align:center; color:#005bbd; font-size:30px; font-family:Sans-serif; font-style: oblique; text-shadow: 0 0 3px white, 0 0 1px Black;\">\n",
    "   Jump goto Statement\n",
    "</h1>"
   ]
  },
  {
   "cell_type": "markdown",
   "id": "488ce09c-8580-47e7-9cb8-3805cd312883",
   "metadata": {},
   "source": [
    "<body style=\"font-family: Sans-serif;\">\n",
    "    <div style=\"color: black; font-size: 18px; font-style: oblique; text-shadow: 0 0 3px white, 0 0 1px black; padding: 20px;\">\n",
    "      C mein goto statement ka use control ko ek specific point par transfer karne ke liye kiya jata hai.<br>Iska matlab hai ke aap program ki execution ko kisi label par jump karwa sakte hain, bina normal control structures (jaise loops ya if-else) ko follow kiye.\n",
    "    </div>\n",
    "<body>"
   ]
  },
  {
   "cell_type": "code",
   "execution_count": null,
   "id": "c3b051ab-6765-4d1c-8cea-aef7896bbaac",
   "metadata": {},
   "outputs": [],
   "source": [
    "goto label;\n",
    "...\n",
    "label:\n",
    "   // yahan code execute hoga"
   ]
  },
  {
   "cell_type": "markdown",
   "id": "f9403774-c820-45ca-8f3d-56c09c8d9927",
   "metadata": {},
   "source": [
    "<body style=\"font-family: Sans-serif;\">\n",
    "    <div style=\"color: black; font-size: 18px; font-style: oblique; text-shadow: 0 0 3px white, 0 0 1px black; padding: 20px;\">\n",
    "     Jab goto statement execute hota hai, program ka control directly uss label par chala jata hai jo label aapne define kiya hai.\n",
    "Label ek naam hota hai jo colon (:) ke saath likha jata hai.\n",
    "    </div>\n",
    "<body>"
   ]
  },
  {
   "cell_type": "code",
   "execution_count": 60,
   "id": "e1bde619-5bfb-46ce-ab68-74ae42b45735",
   "metadata": {
    "tags": []
   },
   "outputs": [
    {
     "name": "stdout",
     "output_type": "stream",
     "text": [
      "Good"
     ]
    }
   ],
   "source": [
    "#include <stdio.h>\n",
    "\n",
    "int main() {\n",
    "    \n",
    "    int marks = 10;\n",
    "\n",
    "    if (marks == 10) {\n",
    "        goto skip;  \n",
    "    }\n",
    "    \n",
    "\n",
    "    skip:  \n",
    "    printf(\"Good\");\n",
    "    \n",
    "    \n",
    "    return 0;\n",
    "}\n"
   ]
  },
  {
   "cell_type": "code",
   "execution_count": 82,
   "id": "cb8cedcc-ff7f-4464-b624-da25ff1c6a43",
   "metadata": {
    "tags": []
   },
   "outputs": [
    {
     "name": "stdout",
     "output_type": "stream",
     "text": [
      "Error: Division by zero!\n",
      "Exiting program due to error.\n"
     ]
    }
   ],
   "source": [
    "#include <stdio.h>\n",
    "\n",
    "int main() {\n",
    "    \n",
    "    int num1 = 10, num2 = 0;\n",
    "    int result;\n",
    "\n",
    "    if (num2 == 0) {\n",
    "        printf(\"Error: Division by zero!\\n\");\n",
    "        goto error;\n",
    "    }\n",
    "\n",
    "    result = num1 / num2;\n",
    "    printf(\"Result: %d\\n\", result);\n",
    "\n",
    "    return 0;\n",
    "\n",
    "error:\n",
    "    printf(\"Exiting program due to error.\\n\");\n",
    "}"
   ]
  },
  {
   "cell_type": "code",
   "execution_count": 93,
   "id": "8da529ab-16c0-47e1-bc89-014d32ff2096",
   "metadata": {
    "tags": []
   },
   "outputs": [
    {
     "name": "stdout",
     "output_type": "stream",
     "text": [
      "Program are Terminated"
     ]
    }
   ],
   "source": [
    "#include <stdio.h>\n",
    "\n",
    "int main() {\n",
    "    \n",
    "    int flag = 1;\n",
    "    \n",
    "    if (flag == 1){\n",
    "        goto close;\n",
    "    }\n",
    "    \n",
    "    printf(\"Program are Run\\n\");\n",
    "    \n",
    "    close:\n",
    "    printf(\"Program are Terminated\");\n",
    "    return 0;\n",
    "}"
   ]
  },
  {
   "cell_type": "code",
   "execution_count": 94,
   "id": "4207f444-d87d-422f-a73a-36b54860e0ee",
   "metadata": {
    "tags": []
   },
   "outputs": [
    {
     "name": "stdout",
     "output_type": "stream",
     "text": [
      "Program are Run\n",
      "Program are Terminated"
     ]
    }
   ],
   "source": [
    "#include <stdio.h>\n",
    "\n",
    "int main() {\n",
    "    \n",
    "    int flag = 0;\n",
    "    \n",
    "    if (flag == 1){\n",
    "        goto close;\n",
    "    }\n",
    "    \n",
    "    printf(\"Program are Run\\n\");\n",
    "    \n",
    "    close:\n",
    "    printf(\"Program are Terminated\");\n",
    "    return 0;\n",
    "}"
   ]
  },
  {
   "cell_type": "markdown",
   "id": "45f3b3cb-42aa-4038-82f0-ec34ea7577bb",
   "metadata": {},
   "source": [
    "<body style=\"font-family: Sans-serif;\">\n",
    "    <div style=\"color: black; font-size: 18px; font-style: oblique; text-shadow: 0 0 3px white, 0 0 1px black; padding: 20px;\">\n",
    "C programming mein goto statement aik aisa tareeqa hai jo program ke control flow ko ek specific label par \"jump\" karwata hai.<br><br>Ye asaan lag sakta hai lekin generally goto ka use avoid karna chahiye kyunki ye code ko mushkil aur mushkil to samajhne wala bana sakta hai, jise hum \"spaghetti code\" kehte hain.\n",
    "    </div>\n",
    "<body>"
   ]
  }
 ],
 "metadata": {
  "kernelspec": {
   "display_name": "C++17",
   "language": "C++17",
   "name": "xcpp17"
  },
  "language_info": {
   "codemirror_mode": "text/x-c++src",
   "file_extension": ".cpp",
   "mimetype": "text/x-c++src",
   "name": "c++",
   "version": "17"
  }
 },
 "nbformat": 4,
 "nbformat_minor": 5
}
