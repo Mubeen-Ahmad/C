{
 "cells": [
  {
   "cell_type": "markdown",
   "id": "32daf781-bad0-40b4-80c2-d49a684bfd0e",
   "metadata": {},
   "source": [
    "<h1 style=\"text-align:center; color:#005bbd; font-size:30px; font-family:Sans-serif; font-style: oblique; text-shadow: 0 0 3px white, 0 0 1px Black;\">\n",
    "Basic of C Program</h1>"
   ]
  },
  {
   "cell_type": "markdown",
   "id": "bcffd942-fa69-4020-b2a3-3d3b0361c767",
   "metadata": {},
   "source": [
    "<body style=\"font-family: Sans-serif;\">\n",
    "    <div style=\"color: black; font-size: 18px; font-style: oblique; text-shadow: 0 0 3px white, 0 0 1px black; padding: 20px;\">\n",
    "        <ul><li><p>C program ka structure kuch standard components par base hota hai. Har C program mein typically ye elements hote hain:\n",
    "</p></li></ul>\n",
    "</div>\n",
    "</body>"
   ]
  },
  {
   "cell_type": "markdown",
   "id": "23e661d8-cd18-4dad-804d-aff88ee93236",
   "metadata": {},
   "source": [
    "<body style=\"font-family: Sans-serif;\">\n",
    "    <div style=\"color: black; font-size: 18px; font-style: oblique; text-shadow: 0 0 3px white, 0 0 1px black; padding: 20px;\">\n",
    "        <h3>Preprocessor Directives</h3>\n",
    "        <ul><li><p>Yeh program ke shuru mein likhe jate hain aur # se start hote hain. Yeh compiler ko batate hain ke kaunse files ya libraries include karni hain.\n",
    "</p></li></ul>\n",
    "</div>\n",
    "</body>"
   ]
  },
  {
   "cell_type": "code",
   "execution_count": 20,
   "id": "3773fc08-dd78-4a61-9cd9-cf26f64d8169",
   "metadata": {},
   "outputs": [],
   "source": [
    "#include <stdio.h>"
   ]
  },
  {
   "cell_type": "markdown",
   "id": "5858b462-e0e2-42f0-bce2-93c5e6a5bd2c",
   "metadata": {},
   "source": [
    "<body style=\"font-family: Sans-serif;\">\n",
    "    <div style=\"color: black; font-size: 18px; font-style: oblique; text-shadow: 0 0 3px white, 0 0 1px black; padding: 20px;\">\n",
    "        <h3>Main Function</h3>\n",
    "        <ul><li><p>Har C program mein ek main() function hota hai jo execution ka starting point hota hai.\n",
    "</p></li></ul>\n",
    "</div>\n",
    "</body>"
   ]
  },
  {
   "cell_type": "code",
   "execution_count": 21,
   "id": "6d1a6329-779b-488b-b020-51c12d5c9b36",
   "metadata": {},
   "outputs": [],
   "source": [
    "int main(){\n",
    "    return 0;\n",
    "}"
   ]
  },
  {
   "cell_type": "markdown",
   "id": "b90d781e-7330-4703-b98a-21b177908318",
   "metadata": {},
   "source": [
    "<body style=\"font-family: Sans-serif;\">\n",
    "    <div style=\"color: black; font-size: 18px; font-style: oblique; text-shadow: 0 0 3px white, 0 0 1px black; padding: 20px;\">\n",
    "        <h3>Note: </h3>\n",
    "        <ul><li><p>Main Jupyter Notebook mein code likh raha hoon, toh asal mein main() function automatic call hota hai. Aapko gcc se code compile karna chahiye aur run karna chahiye.\"\n",
    "</p></li></ul>\n",
    "</div>\n",
    "</body>"
   ]
  },
  {
   "cell_type": "code",
   "execution_count": 22,
   "id": "cc7fe51b-1ea8-43d1-9438-02b11067326e",
   "metadata": {},
   "outputs": [],
   "source": [
    "#include <stdio.h>\n",
    "int main(){\n",
    "    printf(\"Hello World\");\n",
    "    return 0;\n",
    "}"
   ]
  },
  {
   "cell_type": "markdown",
   "id": "c3e9f85c-1eba-4a80-a1c7-bd7369c14969",
   "metadata": {},
   "source": [
    "<h1 style=\"text-align:center; color:#005bbd; font-size:30px; font-family:Sans-serif; font-style: oblique; text-shadow: 0 0 3px white, 0 0 1px Black;\">\n",
    "Compile C Code</h1>"
   ]
  },
  {
   "cell_type": "markdown",
   "id": "f1c9a779-5c30-487d-a754-72adad6b8d1f",
   "metadata": {},
   "source": [
    "<body style=\"font-family: Sans-serif;\">\n",
    "    <div style=\"color: black; font-size: 18px; font-style: oblique; text-shadow: 0 0 3px white, 0 0 1px black; padding: 20px;\">\n",
    "        <ul><li><p>C programming language ke files ki extension .c hoti hai. Jab aap C language mein code likhte hain, toh aap apne source code file ko .c extension ke saath save karte hain, jaise program.c.\n",
    "</p></li></ul>\n",
    "</div>\n",
    "</body>\n"
   ]
  },
  {
   "cell_type": "code",
   "execution_count": 23,
   "id": "d9a05b1c-62a0-40e7-9e0b-4ce8684b1853",
   "metadata": {},
   "outputs": [],
   "source": [
    "!echo '#include <stdio.h> \\nint main(){\\n\\tprintf(\"Hello World\");\\n\\treturn 0;\\n}' >  program.c"
   ]
  },
  {
   "cell_type": "markdown",
   "id": "1b3b291d-db6b-41c4-b089-037a726ae332",
   "metadata": {},
   "source": [
    "<body style=\"font-family: Sans-serif;\">\n",
    "    <div style=\"color: black; font-size: 18px; font-style: oblique; text-shadow: 0 0 3px white, 0 0 1px black; padding: 20px;\">\n",
    "        <ul><li><p>Yahaan aap confuse na ho jaana, yeh bas maine ek file create ki hai program.c naam se aur isme yeh code likh kar save kiya hai, \n",
    "            <pre>\n",
    "            #include <stdio.h>\n",
    "            int main(){\n",
    "                printf(\"Hello World\");\n",
    "                return 0;\n",
    "            }\n",
    "            </pre>kyun ke main Linux use kar raha hoon, to CLI (Command Line Interface) se maine yeh kaam kiya hai. <br>Aap Windows mein Notepad mein yehi upar wala code likh kar file ko program.c naam se save karein\n",
    "</p></li></ul>\n",
    "</div>\n",
    "</body>\n"
   ]
  },
  {
   "cell_type": "code",
   "execution_count": 24,
   "id": "f84cd007-950b-43ac-bce4-6e36dbd42ac8",
   "metadata": {},
   "outputs": [
    {
     "name": "stdout",
     "output_type": "stream",
     "text": [
      "#include <stdio.h> \n",
      "int main(){\n",
      "\tprintf(\"Hello World\");\n",
      "\treturn 0;\n",
      "}\n"
     ]
    }
   ],
   "source": [
    "!cat program.c "
   ]
  },
  {
   "cell_type": "markdown",
   "id": "2f7935e1-8a9e-4955-be6e-58dc7b150e8a",
   "metadata": {},
   "source": [
    "<body style=\"font-family: Sans-serif;\">\n",
    "    <div style=\"color: black; font-size: 18px; font-style: oblique; text-shadow: 0 0 3px white, 0 0 1px black; padding: 20px;\">\n",
    "        <ul><li><p>Linux me cat command ka use file ka content dekhne ke liye kiya jata hai</p></li></ul>\n",
    "</div>\n",
    "</body>\n"
   ]
  },
  {
   "cell_type": "markdown",
   "id": "edaaa92f-8c6a-48ab-8abb-c099f0398472",
   "metadata": {},
   "source": [
    "<body style=\"font-family: Sans-serif;\">\n",
    "    <div style=\"color: black; font-size: 18px; font-style: oblique; text-shadow: 0 0 3px white, 0 0 1px black; padding: 20px;\">\n",
    "        <h3>Compile with gcc</h3>\n",
    "        <ul><li><p>gcc codefile.c -o output_name \n",
    "</p></li></ul>\n",
    "</div>\n",
    "</body>\n"
   ]
  },
  {
   "cell_type": "code",
   "execution_count": 25,
   "id": "bd07daaf-1a92-4ecf-a407-497826cefdcb",
   "metadata": {},
   "outputs": [],
   "source": [
    "!gcc program.c -o output"
   ]
  },
  {
   "cell_type": "markdown",
   "id": "1a6731e7-9bfe-4838-adec-e87d0808e478",
   "metadata": {},
   "source": [
    "<h1 style=\"text-align:center; color:#005bbd; font-size:30px; font-family:Sans-serif; font-style: oblique; text-shadow: 0 0 3px white, 0 0 1px Black;\">\n",
    "GCC</h1>"
   ]
  },
  {
   "cell_type": "markdown",
   "id": "906ae867-9c08-42c0-b50b-2c300a06b50a",
   "metadata": {},
   "source": [
    "<body style=\"font-family: Sans-serif;\">\n",
    "    <div style=\"color: black; font-size: 18px; font-style: oblique; text-shadow: 0 0 3px white, 0 0 1px black; padding: 20px;\">\n",
    "        <ul><li><p>GCC ka full form hai GNU Compiler Collection. Ye ek compiler hai jo kai programming languages ko support karta hai, jismein C, C++, Objective-C, Fortran, Ada, aur Go shamil hain.\n",
    "</p></li></ul>\n",
    "        <ul><li><p>GCC ka sabse zyada use C aur C++ programs ko compile karne ke liye hota hai. Jab aap GCC ka use karte hain, toh ye aapke source code ko machine code mein convert karta hai taake aapka program run ho sake. Isko Linux, macOS, aur Windows jaise operating systems par use kiya ja sakta hai (Windows mein, aapko mingw-w64 ya Cygwin ka use karna padta hai).\n",
    "</p></li></ul>\n",
    "        \n",
    "</div>\n",
    "</body>\n"
   ]
  },
  {
   "cell_type": "markdown",
   "id": "7a4a875f-359f-4674-8ca6-9c586270c98b",
   "metadata": {},
   "source": [
    "<body style=\"font-family: Sans-serif;\">\n",
    "    <div style=\"color: black; font-size: 18px; font-style: oblique; text-shadow: 0 0 3px white, 0 0 1px black; padding: 20px;\">\n",
    "        <ul><li><p>Run a Program\n",
    "</p></li></ul>\n",
    "</div>\n",
    "</body>\n"
   ]
  },
  {
   "cell_type": "code",
   "execution_count": 26,
   "id": "e502fb95-6b98-4a43-b9e2-38ed5410ab57",
   "metadata": {},
   "outputs": [
    {
     "name": "stdout",
     "output_type": "stream",
     "text": [
      "Hello World"
     ]
    }
   ],
   "source": [
    "!./output"
   ]
  },
  {
   "cell_type": "markdown",
   "id": "05ba1ec6-f529-4457-96a3-c81fa4b9b3d2",
   "metadata": {},
   "source": [
    "<body style=\"font-family: Sans-serif;\">\n",
    "    <div style=\"color: black; font-size: 18px; font-style: oblique; text-shadow: 0 0 3px white, 0 0 1px black; padding: 20px;\">\n",
    "        <ul><li><p>Jab aap gcc program.c -o output command run karte hain, to GCC (GNU Compiler Collection) aapke C code ko compile karta hai. Ye process kuch steps me hota hai:</p></li>\n",
    "        <ul><li>Preprocessing: Pehle aapka C code preprocess hota hai jisme macros expand hote hain, aur comments remove kiye jate hain.\n",
    "</li><br>\n",
    "            <li>Compilation: Uske baad, C code ko assembly code me convert kiya jata hai. Assembly code ek low-level code ky close hota hai jo machine ke architecture ke zada kareeb hota hai.</li><br>\n",
    "            <li>Assembly: Phir assembly code ko machine code me translate kiya jata hai (machine code wo hota hai jo CPU directly samajhta hai).\n",
    "</li><br>\n",
    "            <li>    Linking: Last step linking ka hota hai, jisme aapke code ke external dependencies (jaise libraries) ko binary ke sath link kiya jata hai, takay executable file ban sake.\n",
    "\n",
    "</li>\n",
    "        </ul>\n",
    "        </ul>\n",
    "\n",
    "        \n",
    "</div>\n",
    "</body>\n"
   ]
  },
  {
   "cell_type": "markdown",
   "id": "8c27da71-d1f0-4931-86be-b5116ee2bf59",
   "metadata": {},
   "source": [
    "<h1 style=\"text-align:center; color:#005bbd; font-size:30px; font-family:Sans-serif; font-style: oblique; text-shadow: 0 0 3px white, 0 0 1px Black;\">\n",
    "Complete Structure With Sequence</h1>"
   ]
  },
  {
   "cell_type": "markdown",
   "id": "9aa4ef9a-32bd-4379-9138-4c0bf6abbe06",
   "metadata": {},
   "source": [
    "<body style=\"font-family: Sans-serif;\">\n",
    "    <div style=\"color: black; font-size: 18px; font-style: oblique; text-shadow: 0 0 3px white, 0 0 1px black; padding: 20px;\">\n",
    "        <ul><li><p>C programming me jo various stages hoti hain, jaise Preprocessor, Compiler, Assembler, etc., <br>har stage ek particular kaam karti hai jo source code ko executable code me convert karne ke liye zaroori hai\n",
    "</p></li></ul>\n",
    "</div>\n",
    "</body>\n"
   ]
  },
  {
   "cell_type": "markdown",
   "id": "30ebdd12-77cc-499b-aa78-539e4494f4e6",
   "metadata": {},
   "source": [
    "<h1 style=\"text-align:left; color:blue; font-size:25px; font-family:Sans-serif; font-style: oblique; text-shadow: 0 0 3px white, 0 0 1px Black;\">\n",
    "1 - C Program (Source Code)</h1>"
   ]
  },
  {
   "cell_type": "code",
   "execution_count": 48,
   "id": "a7ab2224-db5e-4097-a063-469b40962f4a",
   "metadata": {},
   "outputs": [],
   "source": [
    "#include <stdio.h>\n",
    "#define PI 3.14\n",
    "\n",
    "int main() {\n",
    "    printf(\"Pi value: %f\\n\", PI);\n",
    "    return 0;\n",
    "}\n"
   ]
  },
  {
   "cell_type": "markdown",
   "id": "18b567f7-5ddf-4880-b0d3-7664dece4c5a",
   "metadata": {},
   "source": [
    "<h1 style=\"text-align:left; color:blue; font-size:25px; font-family:Sans-serif; font-style: oblique; text-shadow: 0 0 3px white, 0 0 1px Black;\">\n",
    "2 - Translation Phases</h1>\n",
    "\n",
    "<body style=\"font-family: Sans-serif;\">\n",
    "    <div style=\"color: black; font-size: 18px; font-style: oblique; text-shadow: 0 0 3px white, 0 0 1px black; padding: 20px;\">\n",
    "C code ko compile karne ke liye translation phases ka aik process hota hai jisme C code ko executable banaya jata hai.<br>Ab hum ye phases aur unki corresponding GCC commands ko dekhte hain.\n",
    "</div>\n",
    "</body>\n",
    "\n",
    "\n",
    "\n"
   ]
  },
  {
   "cell_type": "markdown",
   "id": "07ba72ed-2f0c-4f27-9965-2b906f30b7d8",
   "metadata": {},
   "source": [
    "<body style=\"font-family: Sans-serif;\">\n",
    "    <div style=\"color: black; font-size: 18px; font-style: oblique; text-shadow: 0 0 3px white, 0 0 1px black; padding: 20px;\">\n",
    "        <h4>1 Character Mapping</h4>\n",
    "        <ul><li>Is phase mein, source file ke characters ko internal representation mein map kiya jata hai. Yeh platform ke hisaab se hota hai (jaise ASCII ya UTF-8).\n",
    "</li><br>\n",
    "    <li>Agar source code UTF-8 hai, to compiler usay ASCII mein convert kar sakta hai.</li><br><li>Agar source code mein koi trigraphs hain (jaise ??=), to inhain replace kar diya jata hai</li><br>\n",
    "    <li>Command : No specific command for this phase. Yeh compiler ke andar ka process hota hai.</li><br>\n",
    "    <li>Example : Is step ka code output same rehta hai kyunki yeh sirf encoding mapping hota hai.</li>\n",
    "</ul>\n",
    "</div>\n",
    "</body>\n"
   ]
  },
  {
   "cell_type": "markdown",
   "id": "daa2890d-d774-4bb2-ac16-0b818455dbfa",
   "metadata": {},
   "source": [
    "<body style=\"font-family: Sans-serif;\">\n",
    "    <div style=\"color: black; font-size: 18px; font-style: oblique; text-shadow: 0 0 3px white, 0 0 1px black; padding: 20px;\">\n",
    "Before\n",
    "</div>\n",
    "</body>\n"
   ]
  },
  {
   "cell_type": "code",
   "execution_count": 29,
   "id": "538b4258-f44d-463c-9b22-fc3b4f323293",
   "metadata": {},
   "outputs": [],
   "source": [
    "#include <stdio.h>\n",
    "#define PI 3.14\n",
    "int main()??< // trigraphs ko replace karna\n",
    "    printf(\"Pi value: %f\\n\", PI);\n",
    "    return 0;\n",
    "??>"
   ]
  },
  {
   "cell_type": "markdown",
   "id": "dcece86e-81cd-41ad-88a3-652372c990d0",
   "metadata": {},
   "source": [
    "<body style=\"font-family: Sans-serif;\">\n",
    "    <div style=\"color: black; font-size: 18px; font-style: oblique; text-shadow: 0 0 3px white, 0 0 1px black; padding: 20px;\">\n",
    "After\n",
    "</div>\n",
    "</body>\n"
   ]
  },
  {
   "cell_type": "code",
   "execution_count": 30,
   "id": "d02f7faa-4b37-4369-bb0f-c3ddb45b743f",
   "metadata": {},
   "outputs": [],
   "source": [
    "#include <stdio.h>\n",
    "#define PI 3.14\n",
    "int main() {\n",
    "    printf(\"Pi value: %f\\n\", PI);\n",
    "    return 0;\n",
    "}"
   ]
  },
  {
   "cell_type": "markdown",
   "id": "7fc5e43f-6b09-4650-aec1-959a2e44da11",
   "metadata": {},
   "source": [
    "<body style=\"font-family: Sans-serif;\">\n",
    "    <div style=\"color: black; font-size: 18px; font-style: oblique; text-shadow: 0 0 3px white, 0 0 1px black; padding: 20px;\">\n",
    "        <h4>2 Line Space</h4>\n",
    "        <ul><li>Is step mein agar code mein kisi line ke aakhir mein \\ ho, to wo next line ke saath merge ho jata hai.\n",
    "</li><br>\n",
    "    <li>Command: No specific command.</li>\n",
    "</ul>\n",
    "</div>\n",
    "</body>\n"
   ]
  },
  {
   "cell_type": "markdown",
   "id": "cc0a9f5f-b6cf-4ff8-99ca-728684a25643",
   "metadata": {},
   "source": [
    "<body style=\"font-family: Sans-serif;\">\n",
    "    <div style=\"color: black; font-size: 18px; font-style: oblique; text-shadow: 0 0 3px white, 0 0 1px black; padding: 20px;\">\n",
    "Before\n",
    "</div>\n",
    "</body>\n"
   ]
  },
  {
   "cell_type": "code",
   "execution_count": 32,
   "id": "a1cc8ecf-d400-4ad1-a102-60f7ff1c0506",
   "metadata": {},
   "outputs": [],
   "source": [
    "int a = 5 + \\\n",
    "6;"
   ]
  },
  {
   "cell_type": "markdown",
   "id": "069cd62b-00d7-4b54-a6d5-3f3d2e1407d6",
   "metadata": {},
   "source": [
    "<body style=\"font-family: Sans-serif;\">\n",
    "    <div style=\"color: black; font-size: 18px; font-style: oblique; text-shadow: 0 0 3px white, 0 0 1px black; padding: 20px;\">\n",
    "After\n",
    "</div>\n",
    "</body>\n"
   ]
  },
  {
   "cell_type": "code",
   "execution_count": 33,
   "id": "526d1e04-dbee-423c-a48c-e242c7a4a755",
   "metadata": {},
   "outputs": [],
   "source": [
    "int a = 5 + 6;"
   ]
  },
  {
   "cell_type": "markdown",
   "id": "189ee405-4c26-4445-90a4-843369de0644",
   "metadata": {},
   "source": [
    "<body style=\"font-family: Sans-serif;\">\n",
    "    <div style=\"color: black; font-size: 18px; font-style: oblique; text-shadow: 0 0 3px white, 0 0 1px black; padding: 20px;\">\n",
    "        <h4>3 Tokenization</h4>\n",
    "        <ul><li>Yeh phase C code ko alag alag tokens mein convert karta hai. Har keyword, variable, operator, aur constant ko tokenize kiya jata hai.\n",
    "</li><br>\n",
    "</ul>\n",
    "</div>\n",
    "</body>\n"
   ]
  },
  {
   "cell_type": "code",
   "execution_count": 34,
   "id": "8ee90bf0-bb66-4145-a39a-303922ca1ed1",
   "metadata": {},
   "outputs": [],
   "source": [
    "int a = 5;"
   ]
  },
  {
   "cell_type": "markdown",
   "id": "c861e807-23d3-447f-be9c-f56a74bc71c4",
   "metadata": {},
   "source": [
    "<body style=\"font-family: Sans-serif;\">\n",
    "    <div style=\"color: black; font-size: 18px; font-style: oblique; text-shadow: 0 0 3px white, 0 0 1px black; padding: 20px;\">\n",
    "        <ul>Is code mein tokens yeh honge:<br>\n",
    "        <ul>\n",
    "            <li>int (keyword)</li>\n",
    "            <li>a (variable)</li>\n",
    "            <li>= (operator)</li>\n",
    "            <li>5 (constant)</li><br>\n",
    "        </ul>\n",
    "            <li>Command: Tokenization internally hoti hai.</li><br>\n",
    "            <li> Yeh internal process hota hai, koi external output nahi hota.</li>\n",
    "        </ul>\n",
    "</div>\n",
    "</body>\n"
   ]
  },
  {
   "cell_type": "markdown",
   "id": "212e58a8-bc82-4ead-bca0-9426364ab621",
   "metadata": {},
   "source": [
    "<body style=\"font-family: Sans-serif;\">\n",
    "    <div style=\"color: black; font-size: 18px; font-style: oblique; text-shadow: 0 0 3px white, 0 0 1px black; padding: 20px;\">\n",
    "        <h4>4 Preprocessing</h4>\n",
    "        <ul><li>Is stage par preprocessing directives ko execute kiya jata hai. Ismein macro expansion, file inclusion, aur conditional compilation shamil hota hai.\n",
    "</li><br>\n",
    "    <li>Command : gcc -E ka use kia jata hn is phase ke liye.</li>\n",
    "</ul>\n",
    "</div>\n",
    "</body>\n"
   ]
  },
  {
   "cell_type": "markdown",
   "id": "6e832860-89b8-4fac-9e78-a76739910101",
   "metadata": {},
   "source": [
    "<body style=\"font-family: Sans-serif;\">\n",
    "    <div style=\"color: black; font-size: 18px; font-style: oblique; text-shadow: 0 0 3px white, 0 0 1px black; padding: 20px;\">\n",
    "        <ul>\n",
    "            <ul><li>Macro Expansion</li><br>\n",
    "                <ul>Yeh <b>#define</b> directive ke zariye define kiye gaye macros ko unke respective values se replace karta hai.</ul>\n",
    "            </ul>\n",
    "        </ul>\n",
    "</div>\n",
    "</body>\n"
   ]
  },
  {
   "cell_type": "markdown",
   "id": "fc57c752-00eb-45d5-a7fe-7d23a84571cd",
   "metadata": {},
   "source": [
    "<body style=\"font-family: Sans-serif;\">\n",
    "    <div style=\"color: black; font-size: 18px; font-style: oblique; text-shadow: 0 0 3px white, 0 0 1px black; padding: 20px;\">\n",
    "Before\n",
    "</div>\n",
    "</body>\n"
   ]
  },
  {
   "cell_type": "code",
   "execution_count": 36,
   "id": "f6c83815-7ce7-44c3-a404-d61ac8c6662a",
   "metadata": {},
   "outputs": [],
   "source": [
    "#define PI 3.14\n",
    "float area = PI * r * r; // PI ko 3.14 se replace karega"
   ]
  },
  {
   "cell_type": "markdown",
   "id": "1136a074-8d2f-4b4a-99e9-60ab0fa906bf",
   "metadata": {},
   "source": [
    "<body style=\"font-family: Sans-serif;\">\n",
    "    <div style=\"color: black; font-size: 18px; font-style: oblique; text-shadow: 0 0 3px white, 0 0 1px black; padding: 20px;\">\n",
    "After\n",
    "</div>\n",
    "</body>\n"
   ]
  },
  {
   "cell_type": "code",
   "execution_count": 38,
   "id": "c2fa986a-c707-44b9-8578-f48fd97dcf28",
   "metadata": {},
   "outputs": [],
   "source": [
    "float area = 3.14 * r * r;"
   ]
  },
  {
   "cell_type": "markdown",
   "id": "74564f24-7dce-45fe-bae6-5c44edf77767",
   "metadata": {},
   "source": [
    "<body style=\"font-family: Sans-serif;\">\n",
    "    <div style=\"color: black; font-size: 18px; font-style: oblique; text-shadow: 0 0 3px white, 0 0 1px black; padding: 20px;\">\n",
    "        <ul>\n",
    "            <ul><li>File Inclusion</li><br>\n",
    "                <ul>Yeh standard library ko include karta hai. means Expand ho jai ga code\n",
    "                </ul>\n",
    "            </ul>\n",
    "        </ul>\n",
    "</div>\n",
    "</body>\n"
   ]
  },
  {
   "cell_type": "code",
   "execution_count": 39,
   "id": "299df075-6ee8-4c79-beab-edd9b80fb1ad",
   "metadata": {},
   "outputs": [],
   "source": [
    "#include <stdio.h>\n",
    "...\n",
    "// Expand code here"
   ]
  },
  {
   "cell_type": "markdown",
   "id": "0d44af41-0266-411f-ba98-01ba37f16349",
   "metadata": {},
   "source": [
    "<body style=\"font-family: Sans-serif;\">\n",
    "    <div style=\"color: black; font-size: 18px; font-style: oblique; text-shadow: 0 0 3px white, 0 0 1px black; padding: 20px;\">\n",
    "        <ul>\n",
    "            <ul><li>Conditional Compilation:</li><br>\n",
    "                <ul>e.g Agar DEBUG define hai, to yeh print karega. Agar nahi hai, to ignore karega.\n",
    "                </ul>\n",
    "            </ul>\n",
    "        </ul>\n",
    "</div>\n",
    "</body>\n"
   ]
  },
  {
   "cell_type": "code",
   "execution_count": 55,
   "id": "d558dbc5-e4c2-48fd-910c-0a5d3e7266d7",
   "metadata": {},
   "outputs": [
    {
     "name": "stdout",
     "output_type": "stream",
     "text": [
      "Debugging off"
     ]
    }
   ],
   "source": [
    "#ifdef DEBUG\n",
    "    printf(\"Debugging on.\\n\");\n",
    "#else\n",
    "    printf(\"Debugging off\");\n",
    "#endif"
   ]
  },
  {
   "cell_type": "markdown",
   "id": "9e96532a-ab8e-43d3-92a4-5cd625864f37",
   "metadata": {},
   "source": [
    "<body style=\"font-family: Sans-serif;\">\n",
    "    <div style=\"color: black; font-size: 18px; font-style: oblique; text-shadow: 0 0 3px white, 0 0 1px black; padding: 20px;\">\n",
    "        <h4>5 Character-set Mapping</h4>\n",
    "        <ul><li>Yeh character literals aur string literals ko execution character set members mein convert karta hai\n",
    "</li><br>\n",
    "            <li>Is phase mein character set ko execution environment ke hisaab se convert kiya jata hai.</li><br>\n",
    "            <li>Command: No specific command.</li>\n",
    "</ul>\n",
    "</div>\n",
    "</body>\n"
   ]
  },
  {
   "cell_type": "code",
   "execution_count": 41,
   "id": "16ba7d54-2b30-47ca-a3e8-dbf438cb7fd6",
   "metadata": {},
   "outputs": [],
   "source": [
    "char ch = '\\n'; // yeh new line character mein convert hota hai"
   ]
  },
  {
   "cell_type": "markdown",
   "id": "de985f0b-9263-4b5a-923d-f285b9e2a5b3",
   "metadata": {},
   "source": [
    "<body style=\"font-family: Sans-serif;\">\n",
    "    <div style=\"color: black; font-size: 18px; font-style: oblique; text-shadow: 0 0 3px white, 0 0 1px black; padding: 20px;\">\n",
    "        <h4>6 String Concatenation</h4>\n",
    "        <ul><li>Is phase mein adjacent string literals ko concatenate kiya jata hai</li>\n",
    "</ul>\n",
    "</div>\n",
    "</body>\n"
   ]
  },
  {
   "cell_type": "code",
   "execution_count": 51,
   "id": "73309866-7488-4730-856a-0f792f47ce2c",
   "metadata": {},
   "outputs": [
    {
     "name": "stdout",
     "output_type": "stream",
     "text": [
      "Hello, World!"
     ]
    }
   ],
   "source": [
    "printf(\"Hello, \" \"World!\");\n",
    "// yeh ban jata hai: \"Hello, World!\""
   ]
  },
  {
   "cell_type": "markdown",
   "id": "0f5125ee-a8ae-460c-a186-b852885010cd",
   "metadata": {},
   "source": [
    "<body style=\"font-family: Sans-serif;\">\n",
    "    <div style=\"color: black; font-size: 18px; font-style: oblique; text-shadow: 0 0 3px white, 0 0 1px black; padding: 20px;\">\n",
    "        <h4>7 Translation</h4>\n",
    "            <li>Yeh phase code ko assembly language mein translate karta hai. gcc -S command ka use hota hai.</li>\n",
    "</ul>\n",
    "</div>\n",
    "</body>\n"
   ]
  },
  {
   "cell_type": "code",
   "execution_count": null,
   "id": "f5117bf7-3e3f-43b5-9f25-0e6bceb85898",
   "metadata": {},
   "outputs": [],
   "source": [
    "gcc -S program.i -o program.s"
   ]
  },
  {
   "cell_type": "code",
   "execution_count": null,
   "id": "082e48e9-7868-477a-8ea9-4769face81dc",
   "metadata": {},
   "outputs": [],
   "source": [
    ".file\t\"program.c\"\n",
    ".text\n",
    ".globl\tmain\n",
    ".type\tmain, @function"
   ]
  },
  {
   "cell_type": "markdown",
   "id": "ec430b3d-c8c6-4470-9700-ea36f5bf5e84",
   "metadata": {},
   "source": [
    "<body style=\"font-family: Sans-serif;\">\n",
    "    <div style=\"color: black; font-size: 18px; font-style: oblique; text-shadow: 0 0 3px white, 0 0 1px black; padding: 20px;\">\n",
    "        <h4>8 Linkage</h4>\n",
    "        <ul><li>Linkage phase mein, external libraries jaise printf ko resolve kiya jata hai.\n",
    "</li><br>\n",
    "</ul>\n",
    "</div>\n",
    "</body>\n"
   ]
  },
  {
   "cell_type": "code",
   "execution_count": null,
   "id": "fba1a1f3-0cdc-4c56-881f-3614cf31b1b2",
   "metadata": {},
   "outputs": [],
   "source": [
    "gcc program.s -o program"
   ]
  },
  {
   "cell_type": "markdown",
   "id": "48a3d3d9-4fb7-4702-bfa7-6d10d05edd02",
   "metadata": {},
   "source": [
    "<h1 style=\"text-align:left; color:blue; font-size:25px; font-family:Sans-serif; font-style: oblique; text-shadow: 0 0 3px white, 0 0 1px Black;\">\n",
    "3. Post-Translation Steps</h1>"
   ]
  },
  {
   "cell_type": "markdown",
   "id": "f77fc5e4-2d66-4f8f-a8ad-ae2d6046f038",
   "metadata": {},
   "source": [
    "<body style=\"font-family: Sans-serif;\">\n",
    "    <div style=\"color: black; font-size: 18px; font-style: oblique; text-shadow: 0 0 3px white, 0 0 1px black; padding: 20px;\">\n",
    "        <h4>1 Assembler</h4>\n",
    "        <ul><li>Yeh assembly code ko object code mein convert karta hai.\n",
    "</li><br>\n",
    "<li>Agar assembly code mein mov eax, 5 hai, to yeh object code mein binary form mein convert hota hai.</li>\n",
    "</ul>\n",
    "</div>\n",
    "</body>\n"
   ]
  },
  {
   "cell_type": "markdown",
   "id": "0b3ceb38-ed0d-410d-8f08-0251f2f2ef28",
   "metadata": {},
   "source": [
    "<body style=\"font-family: Sans-serif;\">\n",
    "    <div style=\"color: black; font-size: 18px; font-style: oblique; text-shadow: 0 0 3px white, 0 0 1px black; padding: 20px;\">\n",
    "        <h4>2 Linker</h4>\n",
    "        <ul><li>Yeh object code ko libraries ke sath link karta hai aur external references ko resolve karta hai taake ek executable file ban sake.\n",
    "</li><br>\n",
    "<li>Example: Agar aapka program printf ka istemal karta hai, to linker standard library ko include karta hai.</li>\n",
    "</ul>\n",
    "</div>\n",
    "</body>\n"
   ]
  },
  {
   "cell_type": "markdown",
   "id": "d297b72e-dc58-4175-9e8d-f8ea34db8aa9",
   "metadata": {},
   "source": [
    "<body style=\"font-family: Sans-serif;\">\n",
    "    <div style=\"color: black; font-size: 18px; font-style: oblique; text-shadow: 0 0 3px white, 0 0 1px black; padding: 20px;\">\n",
    "        <h4>3 Loader</h4>\n",
    "        <ul><li>Yeh executable binary code ko memory mein load karta hai taake wo execute ho sake.\n",
    "</li><br>\n",
    "<li>Jab Aapka program run hota hai, to loader isay RAM mein load karta hai, aur program execute hota hai.</li>\n",
    "</ul>\n",
    "</div>\n",
    "</body>\n"
   ]
  },
  {
   "cell_type": "markdown",
   "id": "dc016e10-8bf4-42d3-9648-c9f66af9ea51",
   "metadata": {},
   "source": [
    "<h1 style=\"text-align:center; color:#005bbd; font-size:30px; font-family:Sans-serif; font-style: oblique; text-shadow: 0 0 3px white, 0 0 1px Black;\">\n",
    "Structure Diagram</h1>"
   ]
  },
  {
   "cell_type": "markdown",
   "id": "2a63c956-35a2-4769-9752-843050644be4",
   "metadata": {},
   "source": [
    "<img style=\"display: block;margin-left: auto;margin-right: auto;width: 100%;\" src=\"./images/structure_c.jpg\">"
   ]
  },
  {
   "cell_type": "markdown",
   "id": "a5c70db6-904a-456c-b7a3-30432a1f9bdf",
   "metadata": {},
   "source": [
    "<body style=\"font-family: Sans-serif;\">\n",
    "    <div style=\"color: black; font-size: 18px; font-style: oblique; text-shadow: 0 0 3px white, 0 0 1px black; padding: 20px;\">\n",
    "        <ul><li><p>So aap gcc program.c -o output likhte ho, toh compiler automatically yeh sab steps ek ke baad ek execute karta hai aur directly executable file bana deta hai.\n",
    "</p></li></ul>\n",
    "</div>\n",
    "</body>\n"
   ]
  }
 ],
 "metadata": {
  "kernelspec": {
   "display_name": "C++17",
   "language": "C++17",
   "name": "xcpp17"
  },
  "language_info": {
   "codemirror_mode": "text/x-c++src",
   "file_extension": ".cpp",
   "mimetype": "text/x-c++src",
   "name": "c++",
   "version": "17"
  }
 },
 "nbformat": 4,
 "nbformat_minor": 5
}
