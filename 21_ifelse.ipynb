{
 "cells": [
  {
   "cell_type": "markdown",
   "id": "9a1ede94-936f-4857-bbe6-ee1f1611fd6f",
   "metadata": {},
   "source": [
    "<h1 style=\"text-align:center; color:#005bbd; font-size:30px; font-family:Sans-serif; font-style: oblique; text-shadow: 0 0 3px white, 0 0 1px Black;\">\n",
    "   Conditional Statments\n",
    "</h1>"
   ]
  },
  {
   "cell_type": "markdown",
   "id": "c42c330e-b003-4170-8155-e0e44bcf8c20",
   "metadata": {},
   "source": [
    "<body style=\"font-family: Sans-serif;\">\n",
    "    <div style=\"color: black; font-size: 18px; font-style: oblique; text-shadow: 0 0 3px white, 0 0 1px black; padding: 20px;\">\n",
    "Conditional statements programming mein woh instructions hain jo code ke flow ko decide karte hain, <br>yani kis tarah se aur kab kaunsa block run hoga.<br>Inka use us waqt hota hai jab humein kisi condition ya expression ko check karna hota hai aur uske basis par code ke mukhtalif parts ko execute karna hota hai. Yeh program ko decision-making ki capability dete hain.</li>\n",
    "</ul></div></body>\n",
    "\n"
   ]
  },
  {
   "cell_type": "markdown",
   "id": "bef8d429-b82e-47ab-8da0-393b7da19858",
   "metadata": {},
   "source": [
    "<body style=\"font-family: Sans-serif;\">\n",
    "    <div style=\"color: black; font-size: 18px; font-style: oblique; text-shadow: 0 0 3px white, 0 0 1px black; padding: 20px;\">\n",
    "        <ul><h1>if Statement</h1>\n",
    "            <li>if statement aik conditional statement hai jo programming mein kisi bhi condition ko evaluate karke code ke specific block ko execute karne ka faisla karti hai.</li><br>\n",
    "            <li>Yeh tabhi execute hota hai jab condition true ho;</li><br>\n",
    "            <li>Agar condition false hai, toh if statement ka code block skip ho jata hai aur program agle statement par chala jata hai.</li>\n",
    "        </ul>\n",
    "\n",
    "</ul></div></body>\n",
    "\n"
   ]
  },
  {
   "cell_type": "code",
   "execution_count": 2,
   "id": "3bbcc1ce-c860-4471-8097-0440712bbe97",
   "metadata": {
    "tags": []
   },
   "outputs": [
    {
     "name": "stdout",
     "output_type": "stream",
     "text": [
      "Number is greater than 3.\n"
     ]
    }
   ],
   "source": [
    "#include <stdio.h>\n",
    "int main(){\n",
    "\n",
    "    int number = 5;\n",
    "    \n",
    "    if (number > 3) {\n",
    "        printf(\"Number is greater than 3.\\n\");\n",
    "    }\n",
    "\n",
    "    \n",
    "    return 0;\n",
    "}"
   ]
  },
  {
   "cell_type": "markdown",
   "id": "b303cd7b-0d93-4403-8902-8ce536584b3d",
   "metadata": {},
   "source": [
    "<img style=\"display: block;margin-left: auto;margin-right: auto;width: 30%;\" src=\"./images/if.jpg\">"
   ]
  },
  {
   "cell_type": "markdown",
   "id": "5022d2d0-b54a-4b33-a513-d9f542f51a56",
   "metadata": {},
   "source": [
    "<body style=\"font-family: Sans-serif;\">\n",
    "    <div style=\"color: black; font-size: 18px; font-style: oblique; text-shadow: 0 0 3px white, 0 0 1px black; padding: 20px;\">\n",
    "        Is example mein if statement check karta hai ke kya number 3 se bada hai.<br>Agar number ka value 3 se zyada hai, toh printf wala code block run hoga.\n",
    "\n",
    "</ul></div></body>\n",
    "\n"
   ]
  },
  {
   "cell_type": "code",
   "execution_count": 7,
   "id": "8aaf99cb-182d-4eba-896e-219c25adbd4d",
   "metadata": {
    "tags": []
   },
   "outputs": [
    {
     "name": "stdout",
     "output_type": "stream",
     "text": [
      "Outside if Block"
     ]
    }
   ],
   "source": [
    "#include <stdio.h>\n",
    "int main(){\n",
    "\n",
    "    int number = 5;\n",
    "    \n",
    "    if (number > 6) {\n",
    "        printf(\"Number is greater than 5.\\n\");\n",
    "    }\n",
    "    \n",
    "    printf(\"Outside if Block\");\n",
    "    \n",
    "    return 0;\n",
    "}"
   ]
  },
  {
   "cell_type": "markdown",
   "id": "a9617d38-e26a-4a58-a2f5-e63ab68f2401",
   "metadata": {},
   "source": [
    "<body style=\"font-family: Sans-serif;\">\n",
    "    <div style=\"color: black; font-size: 18px; font-style: oblique; text-shadow: 0 0 3px white, 0 0 1px black; padding: 20px;\">\n",
    "Is example mein agar number 6 se bara nahi hai, toh if condition false ho jayegi. <br>Is wajah se if ke andar ka code block execute nahi hoga aur program if block ke baad wale code par chala jayega.\n",
    "</ul></div></body>\n",
    "\n"
   ]
  },
  {
   "cell_type": "markdown",
   "id": "8ec7d880-2766-4212-8a94-51cd07f09eea",
   "metadata": {},
   "source": [
    "<body style=\"font-family: Sans-serif;\">\n",
    "    <div style=\"color: black; font-size: 18px; font-style: oblique; text-shadow: 0 0 3px white, 0 0 1px black; padding: 20px;\">\n",
    "        <ul><h1>else Statement</h1>\n",
    "            <li>else statement programming mein ek conditional statement ka hissa hai jo tab execute hota hai jab if condition false ho jati hai.</li><br>\n",
    "            <li>Jab bhi koi if statement condition check karti hai aur wo condition false hoti hai, toh else block ka code run hota hai.</li><br>\n",
    "        </ul>\n",
    "\n",
    "</ul></div></body>\n",
    "\n"
   ]
  },
  {
   "cell_type": "code",
   "execution_count": 9,
   "id": "cf21c65e-b693-48bc-ad51-cbe518fa446d",
   "metadata": {
    "tags": []
   },
   "outputs": [
    {
     "name": "stdout",
     "output_type": "stream",
     "text": [
      "Number is not greater than 5.\n",
      "Outside if Block"
     ]
    }
   ],
   "source": [
    "#include <stdio.h>\n",
    "\n",
    "int main(){\n",
    "\n",
    "    int number = 5;\n",
    "    \n",
    "    if (number > 6) {\n",
    "        printf(\"Number is greater than 5.\\n\");\n",
    "    }\n",
    "    \n",
    "    else {\n",
    "        printf(\"Number is not greater than 5.\\n\");\n",
    "    } \n",
    "        \n",
    "    printf(\"Outside if Block\");\n",
    "    \n",
    "    return 0;\n",
    "}"
   ]
  },
  {
   "cell_type": "markdown",
   "id": "f18a50ed-8b8b-460b-a64d-ec3fd0b125d9",
   "metadata": {},
   "source": [
    "<img style=\"display: block;margin-left: auto;margin-right: auto;width: 30%;\" src=\"./images/else.jpg\">"
   ]
  },
  {
   "cell_type": "markdown",
   "id": "b08e7513-ebad-42eb-a0f2-b01a7019f3e9",
   "metadata": {},
   "source": [
    "<body style=\"font-family: Sans-serif;\">\n",
    "    <div style=\"color: black; font-size: 18px; font-style: oblique; text-shadow: 0 0 3px white, 0 0 1px black; padding: 20px;\">\n",
    "\n",
    "Is example mein, agar if condition false ho jati hai, toh code ka flow else condition mein chala jata hai aur else block ka code run hota hai.<br>else ka use sirf if condition ke saath hi hota hai; agar if nahi likha gaya ho, toh else condition directly use nahi kiya ja sakta.<br><br>\n",
    "Agar if condition ek baar true ho jaye, toh if block ka code execute hone ke baad program else block mein nahi jayega<br>Lekin agar if condition false ho jati hai, toh code ka flow else condition ke pass chala jata hai.</div></body>\n",
    "\n"
   ]
  },
  {
   "cell_type": "code",
   "execution_count": 22,
   "id": "bd163453-feb7-44bf-ad1e-9fca99ec2a03",
   "metadata": {
    "tags": []
   },
   "outputs": [
    {
     "name": "stdout",
     "output_type": "stream",
     "text": [
      "i am the else block of number > 6\n",
      "Number is not greater than 5.\n",
      "Outside if Block"
     ]
    }
   ],
   "source": [
    "#include <stdio.h>\n",
    "\n",
    "int main(){\n",
    "\n",
    "    int number = 5;\n",
    "    \n",
    "    if (number > 6) {\n",
    "        printf(\"Number is greater than 5.\\n\");\n",
    "    }\n",
    "    \n",
    "    else {\n",
    "        printf(\"i am the else block of number > 6\\n\");\n",
    "    }\n",
    "    \n",
    "    \n",
    "    if ( !(number > 5) ){\n",
    "        printf(\"Number is not greater than 5.\\n\");\n",
    "    } \n",
    "    \n",
    "        \n",
    "    printf(\"Outside if Block\");\n",
    "    \n",
    "    return 0;\n",
    "}"
   ]
  },
  {
   "cell_type": "markdown",
   "id": "fa3d0cdd-496c-4222-969b-5f5662a7bb7e",
   "metadata": {},
   "source": [
    "<body style=\"font-family: Sans-serif;\">\n",
    "    <div style=\"color: black; font-size: 18px; font-style: oblique; text-shadow: 0 0 3px white, 0 0 1px black; padding: 20px;\">\n",
    "Is example mein 2 if statements use kiye gaye hain. Pehla if statement ke saath ek else hai, jo ke pehle if condition ke false hone par execute hoga.<br><br>\n",
    "Agar pehla if condition false ho jati hai, toh else block run karega jo ke pehle if ke saath linked hai.<br>\n",
    "Uske baad, ek aur if block likha gaya hai jisme condition !(number > 5) hai. Yeh condition satisfy ho rahi hai, isliye control ab is doosre if block mein chala jayega aur is block ka code run hoga.<br><br>\n",
    "\n",
    "Yeh samajhna zaroori hai ke else ka relation sirf uske upar wale if ke saath hota hai aur woh isi if ki condition ke base par execute hota hai.\n",
    "        \n",
    "</div></body>\n",
    "\n"
   ]
  },
  {
   "cell_type": "code",
   "execution_count": 2,
   "id": "7ab6fb5b-9c4b-4a9c-b17a-fa28bd0720c3",
   "metadata": {
    "tags": []
   },
   "outputs": [
    {
     "name": "stdout",
     "output_type": "stream",
     "text": [
      "Number is not a 1,2 and 3\n",
      "Outside if Block"
     ]
    }
   ],
   "source": [
    "#include <stdio.h>\n",
    "\n",
    "int main(){\n",
    "\n",
    "    int number = 4;\n",
    "    \n",
    "    if (number == 1) {\n",
    "        printf(\"Number is 1.\\n\");\n",
    "    }\n",
    "    \n",
    "    if (number == 2) {\n",
    "        printf(\"Number is 2\\n\");\n",
    "    } \n",
    "    \n",
    "    if (number == 3) {\n",
    "        printf(\"Number is 4\\n\");\n",
    "    } \n",
    "    \n",
    "    else {\n",
    "        printf(\"Number is not a 1,2 and 3\\n\"); \n",
    "    }\n",
    "\n",
    "    printf(\"Outside if Block\");\n",
    "    \n",
    "    return 0;\n",
    "}\n"
   ]
  },
  {
   "cell_type": "markdown",
   "id": "e82b5ece-5103-4fba-8961-2612c1f1adb9",
   "metadata": {},
   "source": [
    "<img style=\"display: block;margin-left: auto;margin-right: auto;width: 60%;\" src=\"./images/ifelse.jpg\">"
   ]
  },
  {
   "cell_type": "markdown",
   "id": "3be143c0-572a-4c37-93f9-cc10d891c21e",
   "metadata": {},
   "source": [
    "<body style=\"font-family: Sans-serif;\">\n",
    "    <div style=\"color: black; font-size: 18px; font-style: oblique; text-shadow: 0 0 3px white, 0 0 1px black; padding: 20px;\">\n",
    "        <ul>Yahan ek example mein teen if statements use kiye gaye hain: \n",
    "            <li>1st if block sirf tab execute hoga agar number 1 ho.</li>\n",
    "            <li>2nd if block sirf tab execute hoga agar number 2 ho.</li>\n",
    "            <li>3rd if block sirf tab execute hoga agar number 3 ho. Agar teesre if mein number 3 na ho, toh control agle else block mein chala jayega.\n",
    "</li><br>\n",
    "        Is example mein, 3rd if ke else block ka pehle ya doosre if ke saath koi taluq nahi hai.\n",
    "        </ul>\n",
    "</div></body>\n",
    "\n"
   ]
  },
  {
   "cell_type": "markdown",
   "id": "1f6e0c36-f7ca-4bff-950a-fa61aeb41e0c",
   "metadata": {},
   "source": [
    "<body style=\"font-family: Sans-serif;\">\n",
    "    <div style=\"color: black; font-size: 18px; font-style: oblique; text-shadow: 0 0 3px white, 0 0 1px black; padding: 20px;\">\n",
    "        <ul><h1>else-if Statement</h1>\n",
    "            <li>else if statement ka use tab kiya jata hai jab humein multiple conditions ko check karna ho aur ek ke baad ek condition fail hone par agle else if ko check karna ho</li><br>\n",
    "            <li>Yeh statements ek chain ki tarah kaam karti hain, aur agar kisi if ya else if condition mein code true mil jaye, toh wahi block execute hota hai, aur baqi conditions ko check nahi kiya jata.</li><br>\n",
    "        </ul>\n",
    "\n",
    "</ul></div></body>\n",
    "\n"
   ]
  },
  {
   "cell_type": "code",
   "execution_count": 3,
   "id": "3a01c108-0065-42af-8a5f-445400f1b8c7",
   "metadata": {
    "tags": []
   },
   "outputs": [
    {
     "name": "stdout",
     "output_type": "stream",
     "text": [
      "Number is not a 1,2 and 3\n",
      "Outside if Block"
     ]
    }
   ],
   "source": [
    "#include <stdio.h>\n",
    "\n",
    "int main(){\n",
    "\n",
    "    int number = 4;\n",
    "    \n",
    "    if (number == 1) {\n",
    "        printf(\"Number is 1.\\n\");\n",
    "    }\n",
    "    \n",
    "    else if (number == 2) {\n",
    "        printf(\"Number is 2\\n\");\n",
    "    } \n",
    "    \n",
    "    else if (number == 3) {\n",
    "        printf(\"Number is 4\\n\");\n",
    "    } \n",
    "    \n",
    "    else {\n",
    "        printf(\"Number is not a 1,2 and 3\\n\"); \n",
    "    }\n",
    "\n",
    "    printf(\"Outside if Block\");\n",
    "    \n",
    "    return 0;\n",
    "}"
   ]
  },
  {
   "cell_type": "markdown",
   "id": "cc73fd21-49a5-4304-8c55-10c52c6f0ec2",
   "metadata": {},
   "source": [
    "<img style=\"display: block;margin-left: auto;margin-right: auto;width: 50%;\" src=\"./images/elseif.jpg\">"
   ]
  },
  {
   "cell_type": "markdown",
   "id": "d4c95ed0-ca4b-4b2d-9abb-a1892e79403a",
   "metadata": {},
   "source": [
    "<body style=\"font-family: Sans-serif;\">\n",
    "    <div style=\"color: black; font-size: 18px; font-style: oblique; text-shadow: 0 0 3px white, 0 0 1px black; padding: 20px;\">\n",
    "else if ka use, if ke baad aur else se pehle kiya jata hai. <br>Matlab, agar aap ne if ka use kiya hai toh uske baad hi aap else if ka use kar sakte hain. <br>Aur phir aap else if ke baad else bhi laga sakte hain lekin else-if ka use if ke baad hi kiya ja sakta hai.\n",
    "</div></body>\n",
    "\n"
   ]
  },
  {
   "cell_type": "markdown",
   "id": "950889a8-0f31-4cc6-acbc-e1274ca3cba2",
   "metadata": {
    "tags": []
   },
   "source": [
    "<h1 style=\"text-align:center; color:#005bbd; font-size:30px; font-family:Sans-serif; font-style: oblique; text-shadow: 0 0 3px white, 0 0 1px Black;\">\n",
    "   Understand Checking Condition\n",
    "</h1>"
   ]
  },
  {
   "cell_type": "code",
   "execution_count": 11,
   "id": "dcba179a-b4b0-474f-baf2-f765571fb998",
   "metadata": {
    "tags": []
   },
   "outputs": [
    {
     "name": "stdout",
     "output_type": "stream",
     "text": [
      "Execute 1st if\n",
      "Execute 2nd if\n",
      "Execute 3rd if\n"
     ]
    }
   ],
   "source": [
    "#include <stdio.h>\n",
    "\n",
    "int main(){\n",
    "\n",
    "    unsigned int number = 2;\n",
    "    \n",
    "    if (number == 2){ printf(\"Execute 1st if\\n\"); }\n",
    "    if (number == 2){ printf(\"Execute 2nd if\\n\"); }\n",
    "    if (number == 2){ printf(\"Execute 3rd if\\n\"); }\n",
    "    \n",
    "    return 0;\n",
    "}"
   ]
  },
  {
   "cell_type": "markdown",
   "id": "64a4361c-3f68-45ff-af05-e75b07325c65",
   "metadata": {},
   "source": [
    "\n",
    "<body style=\"font-family: Sans-serif;\">\n",
    "    <div style=\"color: black; font-size: 18px; font-style: oblique; text-shadow: 0 0 3px white, 0 0 1px black; padding: 20px;\">\n",
    "Yahan maine 3 if conditions use ki hain, aur dono conditions same hain.<br>Is wajah se 3 if conditions execute ho jayengi.\n",
    "</div></body>\n",
    "\n"
   ]
  },
  {
   "cell_type": "code",
   "execution_count": 12,
   "id": "d8ed9f2f-54ee-4e61-a701-d915c79d9c6d",
   "metadata": {
    "tags": []
   },
   "outputs": [
    {
     "name": "stdout",
     "output_type": "stream",
     "text": [
      "Execute 1st if\n"
     ]
    }
   ],
   "source": [
    "#include <stdio.h>\n",
    "\n",
    "int main(){\n",
    "\n",
    "    unsigned int number = 2;\n",
    "    \n",
    "    if (number == 2){ printf(\"Execute 1st if\\n\"); }\n",
    "    else if (number == 2){ printf(\"Execute 2nd if\\n\"); }\n",
    "    else if (number == 2){ printf(\"Execute 3rd if\\n\"); }\n",
    "    \n",
    "    return 0;\n",
    "}"
   ]
  },
  {
   "cell_type": "markdown",
   "id": "140f2f3f-fe59-4263-bc9e-b423f420ba2e",
   "metadata": {},
   "source": [
    "\n",
    "<body style=\"font-family: Sans-serif;\">\n",
    "    <div style=\"color: black; font-size: 18px; font-style: oblique; text-shadow: 0 0 3px white, 0 0 1px black; padding: 20px;\">\n",
    "\n",
    "Yahan if ke baad 2 else-if ka use kiya gaya hai, is liye agar in mein se koi ek condition true ho jaye, to baqi conditions execute nahi hongi. Yeh if aur else-if mein farq hai.<br><br>\n",
    "Matlab agar if condition true ho to woh zaroor execute hogi. Lekin agar else-if use kiya gaya hai, to agar upper wali condition true ho jaye to neeche sab else-if aur else conditions ko skip kar diya jayega.\n",
    "        \n",
    "</div></body>\n",
    "\n"
   ]
  },
  {
   "cell_type": "markdown",
   "id": "776ddba5-8520-4877-9e61-6b6b412bff06",
   "metadata": {},
   "source": [
    "<img style=\"display: block;margin-left: auto;margin-right: auto;width: 50%;\" src=\"./images/ififelse.jpg\">"
   ]
  },
  {
   "cell_type": "markdown",
   "id": "97faad04-c12f-4d17-a3e2-bb76cc876596",
   "metadata": {},
   "source": [
    "\n",
    "<body style=\"font-family: Sans-serif;\">\n",
    "    <div style=\"color: black; font-size: 18px; font-style: oblique; text-shadow: 0 0 3px white, 0 0 1px black; padding: 20px;\">\n",
    "\n",
    "<h4>Write a program that takes user input for marks and gives a grade based on the following conditions:</h4>\n",
    "    <ul>\n",
    "        <li>If marks >= 90, the grade is A.</li>\n",
    "        <li>If marks >= 80, the grade is B.</li>\n",
    "        <li>If marks >= 70, the grade is C.</li>\n",
    "        <li>If marks >= 60, the grade is D.\n",
    "        <li>If the marks are less than 60, display the message \"You have failed.\"</li>\n",
    "        </ul>\n",
    "</div></body>\n",
    "\n"
   ]
  },
  {
   "cell_type": "code",
   "execution_count": 9,
   "id": "1e0b73d2-fa74-4fb1-8c21-17c503a8d9af",
   "metadata": {
    "tags": []
   },
   "outputs": [
    {
     "name": "stdin",
     "output_type": "stream",
     "text": [
      "Enter Your Marks :-  90\n"
     ]
    },
    {
     "name": "stdout",
     "output_type": "stream",
     "text": [
      "Grade is A\n"
     ]
    }
   ],
   "source": [
    "#include <stdio.h>\n",
    "\n",
    "int main(){\n",
    "\n",
    "    unsigned int marks;\n",
    "    \n",
    "    printf(\"Enter Your Marks :- \");\n",
    "    scanf(\"%d\",&marks);\n",
    "    \n",
    "    if (marks >= 90){\n",
    "        printf(\"Grade is A\");\n",
    "    }\n",
    "    \n",
    "    else if (marks >= 80){\n",
    "        printf(\"Grade is B\");\n",
    "    }\n",
    "\n",
    "    else if (marks >= 70){\n",
    "        printf(\"Grade is C\");\n",
    "    }\n",
    "    \n",
    "    else if (marks >= 60){\n",
    "        printf(\"Grade is D\");\n",
    "    }\n",
    "    \n",
    "    else {\n",
    "        printf(\"You have failed.\");\n",
    "    }\n",
    "\n",
    "    return 0;\n",
    "}"
   ]
  },
  {
   "cell_type": "code",
   "execution_count": 10,
   "id": "3ecaa430-e27a-4ec1-8036-ff6f2bf78713",
   "metadata": {
    "tags": []
   },
   "outputs": [
    {
     "name": "stdin",
     "output_type": "stream",
     "text": [
      "Enter Your Marks :-  80\n"
     ]
    },
    {
     "name": "stdout",
     "output_type": "stream",
     "text": [
      "Grade is B\n"
     ]
    }
   ],
   "source": [
    "#include <stdio.h>\n",
    "\n",
    "int main(){\n",
    "\n",
    "    unsigned int marks;\n",
    "    \n",
    "    printf(\"Enter Your Marks :- \");\n",
    "    scanf(\"%d\",&marks);\n",
    "    \n",
    "    if (marks >= 90){\n",
    "        printf(\"Grade is A\");\n",
    "    }\n",
    "    \n",
    "    else if (marks >= 80){\n",
    "        printf(\"Grade is B\");\n",
    "    }\n",
    "\n",
    "    else if (marks >= 70){\n",
    "        printf(\"Grade is C\");\n",
    "    }\n",
    "    \n",
    "    else if (marks >= 60){\n",
    "        printf(\"Grade is D\");\n",
    "    }\n",
    "    \n",
    "    else {\n",
    "        printf(\"You have failed.\");\n",
    "    }\n",
    "\n",
    "    return 0;\n",
    "}"
   ]
  },
  {
   "cell_type": "code",
   "execution_count": 11,
   "id": "9ab9bfc0-b267-4636-8769-ecbb4b1e67a1",
   "metadata": {
    "tags": []
   },
   "outputs": [
    {
     "name": "stdin",
     "output_type": "stream",
     "text": [
      "Enter Your Marks :-  50\n"
     ]
    },
    {
     "name": "stdout",
     "output_type": "stream",
     "text": [
      "You have failed.\n"
     ]
    }
   ],
   "source": [
    "#include <stdio.h>\n",
    "\n",
    "int main(){\n",
    "\n",
    "    unsigned int marks;\n",
    "    \n",
    "    printf(\"Enter Your Marks :- \");\n",
    "    scanf(\"%d\",&marks);\n",
    "    \n",
    "    if (marks >= 90){\n",
    "        printf(\"Grade is A\");\n",
    "    }\n",
    "    \n",
    "    else if (marks >= 80){\n",
    "        printf(\"Grade is B\");\n",
    "    }\n",
    "\n",
    "    else if (marks >= 70){\n",
    "        printf(\"Grade is C\");\n",
    "    }\n",
    "    \n",
    "    else if (marks >= 60){\n",
    "        printf(\"Grade is D\");\n",
    "    }\n",
    "    \n",
    "    else {\n",
    "        printf(\"You have failed.\");\n",
    "    }\n",
    "\n",
    "    return 0;\n",
    "}"
   ]
  },
  {
   "cell_type": "markdown",
   "id": "4d96ed9a-dca8-411b-874e-521dcfae8e8e",
   "metadata": {},
   "source": [
    "<h1 style=\"text-align:center; color:#005bbd; font-size:30px; font-family:Sans-serif; font-style: oblique; text-shadow: 0 0 3px white, 0 0 1px Black;\">\n",
    "   Nested if else-if , else\n",
    "</h1>"
   ]
  },
  {
   "cell_type": "markdown",
   "id": "9e1d6f91-109d-4e0c-a72c-302464408c83",
   "metadata": {
    "tags": []
   },
   "source": [
    "<body style=\"font-family: Sans-serif;\">\n",
    "    <div style=\"color: black; font-size: 18px; font-style: oblique; text-shadow: 0 0 3px white, 0 0 1px black; padding: 20px;\">    <ul>\n",
    "        <li>Nested if-else-if conditions mein ek condition ke andar aur if, else if, aur else statements use kiye jaate hain. .</li>\n",
    "        <li>Yeh approach tab useful hota hai jab ek main condition ke base par multiple conditions check karni hoti hain\n",
    "        </ul>\n",
    "</div></body>\n",
    "\n"
   ]
  },
  {
   "cell_type": "code",
   "execution_count": null,
   "id": "2c973a11-a386-485b-bcb8-6d1909c51c05",
   "metadata": {},
   "outputs": [],
   "source": [
    "if (condition1) {\n",
    "    \n",
    "    // Agar condition1 true hai toh yeh block chalega\n",
    "    \n",
    "    if (condition2) {\n",
    "        // Yeh block tab chalega jab condition1 aur condition2 dono true ho\n",
    "    }\n",
    "    \n",
    "    else if (condition3) {\n",
    "        // Yeh block tab chalega jab condition1 true aur condition2 false ho lekin condition3 true ho\n",
    "    } \n",
    "    else {\n",
    "        // Agar upar wale sab conditions false hain toh yeh block chalega\n",
    "    }\n",
    "} \n",
    "\n",
    "\n",
    "else {\n",
    "    // Agar condition1 false hai toh yeh block chalega\n",
    "}\n"
   ]
  },
  {
   "cell_type": "code",
   "execution_count": 3,
   "id": "51be0ef5-812b-4474-933f-6791b975fab3",
   "metadata": {
    "tags": []
   },
   "outputs": [
    {
     "name": "stdout",
     "output_type": "stream",
     "text": [
      "Grade B\n"
     ]
    }
   ],
   "source": [
    "#include <stdio.h>\n",
    "\n",
    "int main(){\n",
    "\n",
    "    int marks = 85;\n",
    "\n",
    "    if (marks >= 60) {\n",
    "        \n",
    "        if (marks >= 90) {\n",
    "            printf(\"Grade A\\n\");\n",
    "        } \n",
    "        \n",
    "        else if (marks >= 75) {\n",
    "            printf(\"Grade B\\n\");\n",
    "        } \n",
    "        \n",
    "        else {\n",
    "            printf(\"Grade C\\n\");\n",
    "        }\n",
    "    } \n",
    "    \n",
    "    else {\n",
    "        \n",
    "        if (marks >= 50) {\n",
    "            printf(\"Grade D\\n\");\n",
    "        } \n",
    "        else {\n",
    "            printf(\"Grade F\\n\");\n",
    "        }\n",
    "    }\n",
    "    \n",
    "    return 0;\n",
    "}\n"
   ]
  },
  {
   "cell_type": "markdown",
   "id": "27dce86e-30d4-4d10-a2fd-4fabe31a1b65",
   "metadata": {},
   "source": [
    "<body style=\"font-family: Sans-serif;\">\n",
    "    <div style=\"color: black; font-size: 18px; font-style: oblique; text-shadow: 0 0 3px white, 0 0 1px black; padding: 20px;\"><ul>\n",
    "    <li>Pehle check hoga agar marks >= 60 hai, agar yeh true hai toh nested if statements ke andar check hoga:\n",
    "    <ul>\n",
    "        <li>Agar marks >= 90 hai toh \"Grade A\" print hoga.</li>\n",
    "        <li>Agar yeh condition false hai lekin marks >= 75 hai, toh \"Grade B\" print hoga.</li>\n",
    "        <li>Agar dono conditions false hain toh \"Grade C\" print hoga.</li><br>\n",
    "    </ul>\n",
    "    </li>\n",
    "        <li>Agar pehla if (marks >= 60) false hai, toh control outer else mein chala jayega aur waha pe grades \"D\" aur \"F\" check aur print honge.</li>\n",
    "    </ul>\n",
    "</div></body>\n",
    "\n"
   ]
  },
  {
   "cell_type": "markdown",
   "id": "958f69de-56ef-44b5-acd1-734ca2508d9e",
   "metadata": {},
   "source": [
    "<img style=\"display: block;margin-left: auto;margin-right: auto;width: 40%;\" src=\"./images/nestedifelse.jpg\">"
   ]
  },
  {
   "cell_type": "markdown",
   "id": "0e9c7d92-9ae6-4978-9491-6e44d75a36ee",
   "metadata": {},
   "source": [
    "<body style=\"font-family: Sans-serif;\">\n",
    "    <div style=\"color: black; font-size: 18px; font-style: oblique; text-shadow: 0 0 3px white, 0 0 1px black; padding: 20px;\">    <ul><h3>Simulate a login system with nested conditions:\n",
    "</h3>\n",
    "        <li>if the username is correct, check the password.:\n",
    "            <ul>\n",
    "                <li>if the password is correct, check if the user is an (a or r).</li>\n",
    "                <li>if the user is a, print \"Welcome Admin\".</li>\n",
    "                <li>if the user is not a, print \"Welcome User\".</li>\n",
    "            </ul>\n",
    "        </li>\n",
    "        <li>If the username or password is incorrect, print an error message.</li>\n",
    "        </ul>\n",
    "</div></body>\n",
    "\n"
   ]
  },
  {
   "cell_type": "code",
   "execution_count": 1,
   "id": "43153111-cdf0-4c08-95ee-99033e60cfb5",
   "metadata": {
    "tags": []
   },
   "outputs": [],
   "source": [
    "#include <stdio.h>\n",
    "\n",
    "int main(){\n",
    "    \n",
    "    // user input info stored\n",
    "    char username;\n",
    "    unsigned int password;\n",
    "    \n",
    "    \n",
    "    // admin user\n",
    "    char admin_user = 'a';\n",
    "    unsigned int admin_password = 123;\n",
    "        \n",
    "    // regular user\n",
    "    char normal_user = 'r';\n",
    "    unsigned int normal_user_password = 321;\n",
    "    \n",
    "    \n",
    "    printf(\"Enter Username (single character) :- \");\n",
    "    scanf(\"%c\",&username);\n",
    "    \n",
    "    printf(\"Enter Password :- \");\n",
    "    scanf(\"%d\",&password);\n",
    "    \n",
    "    if (username == admin_user){\n",
    "        if(password == admin_password){\n",
    "        printf(\"Welcome Admin\");\n",
    "        }\n",
    "        \n",
    "        else{\n",
    "            printf(\"Incorect Password\");\n",
    "        }\n",
    "        \n",
    "    }\n",
    "    \n",
    "    else if (username == normal_user){\n",
    "        if(password == normal_user_password){\n",
    "        printf(\"Welcome User\");\n",
    "        }\n",
    "        \n",
    "        else{\n",
    "            printf(\"Incorect Password\");\n",
    "        }\n",
    "    }\n",
    "    \n",
    "    else{\n",
    "        printf(\"Error Username or Password\");\n",
    "    }\n",
    "    \n",
    "    return 0;\n",
    "}"
   ]
  },
  {
   "cell_type": "code",
   "execution_count": 2,
   "id": "4cf64b97-232a-4f13-b75f-9de0e392d388",
   "metadata": {
    "tags": []
   },
   "outputs": [],
   "source": [
    "!gcc code.c -o code"
   ]
  },
  {
   "cell_type": "code",
   "execution_count": 1,
   "id": "5f1cb135-b4f8-426c-ade8-05b78552eec1",
   "metadata": {
    "tags": []
   },
   "outputs": [
    {
     "name": "stdin",
     "output_type": "stream",
     "text": [
      "Enter Username (single character) :-  a\n",
      "Enter Password :-  123\n"
     ]
    },
    {
     "name": "stdout",
     "output_type": "stream",
     "text": [
      "Welcome Admin\n"
     ]
    }
   ],
   "source": [
    "!./code"
   ]
  },
  {
   "cell_type": "code",
   "execution_count": 2,
   "id": "433841aa-2125-473c-8024-fa8ee380d7be",
   "metadata": {
    "tags": []
   },
   "outputs": [
    {
     "name": "stdin",
     "output_type": "stream",
     "text": [
      "Enter Username (single character) :-  a\n",
      "Enter Password :-  111\n"
     ]
    },
    {
     "name": "stdout",
     "output_type": "stream",
     "text": [
      "Incorect Password\n"
     ]
    }
   ],
   "source": [
    "!./code"
   ]
  },
  {
   "cell_type": "code",
   "execution_count": 3,
   "id": "8d07dd3e-3b86-4d8e-94de-470c178b82b0",
   "metadata": {
    "tags": []
   },
   "outputs": [
    {
     "name": "stdin",
     "output_type": "stream",
     "text": [
      "Enter Username (single character) :-  r\n",
      "Enter Password :-  321\n"
     ]
    },
    {
     "name": "stdout",
     "output_type": "stream",
     "text": [
      "Welcome User\n"
     ]
    }
   ],
   "source": [
    "!./code"
   ]
  },
  {
   "cell_type": "code",
   "execution_count": 4,
   "id": "c9888789-0ba5-4553-a11b-6ee06b3976d4",
   "metadata": {
    "tags": []
   },
   "outputs": [
    {
     "name": "stdin",
     "output_type": "stream",
     "text": [
      "Enter Username (single character) :-  r\n",
      "Enter Password :-  2222\n"
     ]
    },
    {
     "name": "stdout",
     "output_type": "stream",
     "text": [
      "Incorect Password\n"
     ]
    }
   ],
   "source": [
    "!./code"
   ]
  },
  {
   "cell_type": "code",
   "execution_count": 6,
   "id": "ede60b73-5dd4-48ce-a728-28a1330b11b7",
   "metadata": {
    "tags": []
   },
   "outputs": [
    {
     "name": "stdout",
     "output_type": "stream",
     "text": [
      "Enter Username (single character) :-  www\n",
      "Enter Password :-  321\n"
     ]
    },
    {
     "name": "stdout",
     "output_type": "stream",
     "text": [
      "Error Username or Password\n"
     ]
    }
   ],
   "source": [
    "!./code"
   ]
  }
 ],
 "metadata": {
  "kernelspec": {
   "display_name": "C++17",
   "language": "C++17",
   "name": "xcpp17"
  },
  "language_info": {
   "codemirror_mode": "text/x-c++src",
   "file_extension": ".cpp",
   "mimetype": "text/x-c++src",
   "name": "c++",
   "version": "17"
  }
 },
 "nbformat": 4,
 "nbformat_minor": 5
}
