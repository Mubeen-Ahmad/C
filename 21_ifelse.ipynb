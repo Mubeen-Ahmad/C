{
 "cells": [
  {
   "cell_type": "markdown",
   "id": "9a1ede94-936f-4857-bbe6-ee1f1611fd6f",
   "metadata": {},
   "source": [
    "<h1 style=\"text-align:center; color:#005bbd; font-size:30px; font-family:Sans-serif; font-style: oblique; text-shadow: 0 0 3px white, 0 0 1px Black;\">\n",
    "   Conditional Statments\n",
    "</h1>"
   ]
  },
  {
   "cell_type": "markdown",
   "id": "c42c330e-b003-4170-8155-e0e44bcf8c20",
   "metadata": {},
   "source": [
    "<body style=\"font-family: Sans-serif;\">\n",
    "    <div style=\"color: black; font-size: 18px; font-style: oblique; text-shadow: 0 0 3px white, 0 0 1px black; padding: 20px;\">\n",
    "Conditional statements programming mein woh instructions hain jo code ke flow ko decide karte hain, <br>yani kis tarah se aur kab kaunsa block run hoga.<br>Inka use us waqt hota hai jab humein kisi condition ya expression ko check karna hota hai aur uske basis par code ke mukhtalif parts ko execute karna hota hai. Yeh program ko decision-making ki capability dete hain.</li>\n",
    "</ul></div></body>\n",
    "\n"
   ]
  },
  {
   "cell_type": "markdown",
   "id": "bef8d429-b82e-47ab-8da0-393b7da19858",
   "metadata": {},
   "source": [
    "<body style=\"font-family: Sans-serif;\">\n",
    "    <div style=\"color: black; font-size: 18px; font-style: oblique; text-shadow: 0 0 3px white, 0 0 1px black; padding: 20px;\">\n",
    "        <ul><h1>if Statement</h1>\n",
    "            <li>if statement aik conditional statement hai jo programming mein kisi bhi condition ko evaluate karke code ke specific block ko execute karne ka faisla karti hai.</li><br>\n",
    "            <li>Yeh tabhi execute hota hai jab condition true ho;</li><br>\n",
    "            <li>Agar condition false hai, toh if statement ka code block skip ho jata hai aur program agle statement par chala jata hai.</li>\n",
    "        </ul>\n",
    "\n",
    "</ul></div></body>\n",
    "\n"
   ]
  },
  {
   "cell_type": "code",
   "execution_count": 2,
   "id": "3bbcc1ce-c860-4471-8097-0440712bbe97",
   "metadata": {
    "tags": []
   },
   "outputs": [
    {
     "name": "stdout",
     "output_type": "stream",
     "text": [
      "Number is greater than 3.\n"
     ]
    }
   ],
   "source": [
    "#include <stdio.h>\n",
    "int main(){\n",
    "\n",
    "    int number = 5;\n",
    "    \n",
    "    if (number > 3) {\n",
    "        printf(\"Number is greater than 3.\\n\");\n",
    "    }\n",
    "\n",
    "    \n",
    "    return 0;\n",
    "}"
   ]
  },
  {
   "cell_type": "markdown",
   "id": "b303cd7b-0d93-4403-8902-8ce536584b3d",
   "metadata": {},
   "source": [
    "<img style=\"display: block;margin-left: auto;margin-right: auto;width: 30%;\" src=\"./images/if.jpg\">"
   ]
  },
  {
   "cell_type": "markdown",
   "id": "5022d2d0-b54a-4b33-a513-d9f542f51a56",
   "metadata": {},
   "source": [
    "<body style=\"font-family: Sans-serif;\">\n",
    "    <div style=\"color: black; font-size: 18px; font-style: oblique; text-shadow: 0 0 3px white, 0 0 1px black; padding: 20px;\">\n",
    "        Is example mein if statement check karta hai ke kya number 3 se bada hai.<br>Agar number ka value 3 se zyada hai, toh printf wala code block run hoga.\n",
    "\n",
    "</ul></div></body>\n",
    "\n"
   ]
  },
  {
   "cell_type": "code",
   "execution_count": 7,
   "id": "8aaf99cb-182d-4eba-896e-219c25adbd4d",
   "metadata": {
    "tags": []
   },
   "outputs": [
    {
     "name": "stdout",
     "output_type": "stream",
     "text": [
      "Outside if Block"
     ]
    }
   ],
   "source": [
    "#include <stdio.h>\n",
    "int main(){\n",
    "\n",
    "    int number = 5;\n",
    "    \n",
    "    if (number > 6) {\n",
    "        printf(\"Number is greater than 5.\\n\");\n",
    "    }\n",
    "    \n",
    "    printf(\"Outside if Block\");\n",
    "    \n",
    "    return 0;\n",
    "}"
   ]
  },
  {
   "cell_type": "markdown",
   "id": "a9617d38-e26a-4a58-a2f5-e63ab68f2401",
   "metadata": {},
   "source": [
    "<body style=\"font-family: Sans-serif;\">\n",
    "    <div style=\"color: black; font-size: 18px; font-style: oblique; text-shadow: 0 0 3px white, 0 0 1px black; padding: 20px;\">\n",
    "Is example mein agar number 6 se bara nahi hai, toh if condition false ho jayegi. <br>Is wajah se if ke andar ka code block execute nahi hoga aur program if block ke baad wale code par chala jayega.\n",
    "</ul></div></body>\n",
    "\n"
   ]
  },
  {
   "cell_type": "markdown",
   "id": "8ec7d880-2766-4212-8a94-51cd07f09eea",
   "metadata": {},
   "source": [
    "<body style=\"font-family: Sans-serif;\">\n",
    "    <div style=\"color: black; font-size: 18px; font-style: oblique; text-shadow: 0 0 3px white, 0 0 1px black; padding: 20px;\">\n",
    "        <ul><h1>else Statement</h1>\n",
    "            <li>else statement programming mein ek conditional statement ka hissa hai jo tab execute hota hai jab if condition false ho jati hai.</li><br>\n",
    "            <li>Jab bhi koi if statement condition check karti hai aur wo condition false hoti hai, toh else block ka code run hota hai.</li><br>\n",
    "        </ul>\n",
    "\n",
    "</ul></div></body>\n",
    "\n"
   ]
  },
  {
   "cell_type": "code",
   "execution_count": 9,
   "id": "cf21c65e-b693-48bc-ad51-cbe518fa446d",
   "metadata": {
    "tags": []
   },
   "outputs": [
    {
     "name": "stdout",
     "output_type": "stream",
     "text": [
      "Number is not greater than 5.\n",
      "Outside if Block"
     ]
    }
   ],
   "source": [
    "#include <stdio.h>\n",
    "\n",
    "int main(){\n",
    "\n",
    "    int number = 5;\n",
    "    \n",
    "    if (number > 6) {\n",
    "        printf(\"Number is greater than 5.\\n\");\n",
    "    }\n",
    "    \n",
    "    else {\n",
    "        printf(\"Number is not greater than 5.\\n\");\n",
    "    } \n",
    "        \n",
    "    printf(\"Outside if Block\");\n",
    "    \n",
    "    return 0;\n",
    "}"
   ]
  },
  {
   "cell_type": "markdown",
   "id": "f18a50ed-8b8b-460b-a64d-ec3fd0b125d9",
   "metadata": {},
   "source": [
    "<img style=\"display: block;margin-left: auto;margin-right: auto;width: 30%;\" src=\"./images/else.jpg\">"
   ]
  },
  {
   "cell_type": "markdown",
   "id": "b08e7513-ebad-42eb-a0f2-b01a7019f3e9",
   "metadata": {},
   "source": [
    "<body style=\"font-family: Sans-serif;\">\n",
    "    <div style=\"color: black; font-size: 18px; font-style: oblique; text-shadow: 0 0 3px white, 0 0 1px black; padding: 20px;\">\n",
    "\n",
    "Is example mein, agar if condition false ho jati hai, toh code ka flow else condition mein chala jata hai aur else block ka code run hota hai.<br>else ka use sirf if condition ke saath hi hota hai; agar if nahi likha gaya ho, toh else condition directly use nahi kiya ja sakta.<br><br>\n",
    "Agar if condition ek baar true ho jaye, toh if block ka code execute hone ke baad program else block mein nahi jayega<br>Lekin agar if condition false ho jati hai, toh code ka flow else condition ke pass chala jata hai.</div></body>\n",
    "\n"
   ]
  },
  {
   "cell_type": "code",
   "execution_count": 22,
   "id": "bd163453-feb7-44bf-ad1e-9fca99ec2a03",
   "metadata": {
    "tags": []
   },
   "outputs": [
    {
     "name": "stdout",
     "output_type": "stream",
     "text": [
      "i am the else block of number > 6\n",
      "Number is not greater than 5.\n",
      "Outside if Block"
     ]
    }
   ],
   "source": [
    "#include <stdio.h>\n",
    "\n",
    "int main(){\n",
    "\n",
    "    int number = 5;\n",
    "    \n",
    "    if (number > 6) {\n",
    "        printf(\"Number is greater than 5.\\n\");\n",
    "    }\n",
    "    \n",
    "    else {\n",
    "        printf(\"i am the else block of number > 6\\n\");\n",
    "    }\n",
    "    \n",
    "    \n",
    "    if ( !(number > 5) ){\n",
    "        printf(\"Number is not greater than 5.\\n\");\n",
    "    } \n",
    "    \n",
    "        \n",
    "    printf(\"Outside if Block\");\n",
    "    \n",
    "    return 0;\n",
    "}"
   ]
  },
  {
   "cell_type": "markdown",
   "id": "fa3d0cdd-496c-4222-969b-5f5662a7bb7e",
   "metadata": {},
   "source": [
    "<body style=\"font-family: Sans-serif;\">\n",
    "    <div style=\"color: black; font-size: 18px; font-style: oblique; text-shadow: 0 0 3px white, 0 0 1px black; padding: 20px;\">\n",
    "Is example mein 2 if statements use kiye gaye hain. Pehla if statement ke saath ek else hai, jo ke pehle if condition ke false hone par execute hoga.<br><br>\n",
    "Agar pehla if condition false ho jati hai, toh else block run karega jo ke pehle if ke saath linked hai.<br>\n",
    "Uske baad, ek aur if block likha gaya hai jisme condition !(number > 5) hai. Yeh condition satisfy ho rahi hai, isliye control ab is doosre if block mein chala jayega aur is block ka code run hoga.<br><br>\n",
    "\n",
    "Yeh samajhna zaroori hai ke else ka relation sirf uske upar wale if ke saath hota hai aur woh isi if ki condition ke base par execute hota hai.\n",
    "        \n",
    "</div></body>\n",
    "\n"
   ]
  },
  {
   "cell_type": "code",
   "execution_count": 2,
   "id": "7ab6fb5b-9c4b-4a9c-b17a-fa28bd0720c3",
   "metadata": {
    "tags": []
   },
   "outputs": [
    {
     "name": "stdout",
     "output_type": "stream",
     "text": [
      "Number is not a 1,2 and 3\n",
      "Outside if Block"
     ]
    }
   ],
   "source": [
    "#include <stdio.h>\n",
    "\n",
    "int main(){\n",
    "\n",
    "    int number = 4;\n",
    "    \n",
    "    if (number == 1) {\n",
    "        printf(\"Number is 1.\\n\");\n",
    "    }\n",
    "    \n",
    "    if (number == 2) {\n",
    "        printf(\"Number is 2\\n\");\n",
    "    } \n",
    "    \n",
    "    if (number == 3) {\n",
    "        printf(\"Number is 4\\n\");\n",
    "    } \n",
    "    \n",
    "    else {\n",
    "        printf(\"Number is not a 1,2 and 3\\n\"); \n",
    "    }\n",
    "\n",
    "    printf(\"Outside if Block\");\n",
    "    \n",
    "    return 0;\n",
    "}\n"
   ]
  },
  {
   "cell_type": "markdown",
   "id": "e82b5ece-5103-4fba-8961-2612c1f1adb9",
   "metadata": {},
   "source": [
    "<img style=\"display: block;margin-left: auto;margin-right: auto;width: 60%;\" src=\"./images/ifelse.jpg\">"
   ]
  },
  {
   "cell_type": "markdown",
   "id": "3be143c0-572a-4c37-93f9-cc10d891c21e",
   "metadata": {},
   "source": [
    "<body style=\"font-family: Sans-serif;\">\n",
    "    <div style=\"color: black; font-size: 18px; font-style: oblique; text-shadow: 0 0 3px white, 0 0 1px black; padding: 20px;\">\n",
    "        <ul>Yahan ek example mein teen if statements use kiye gaye hain: \n",
    "            <li>1st if block sirf tab execute hoga agar number 1 ho.</li>\n",
    "            <li>2nd if block sirf tab execute hoga agar number 2 ho.</li>\n",
    "            <li>3rd if block sirf tab execute hoga agar number 3 ho. Agar teesre if mein number 3 na ho, toh control agle else block mein chala jayega.\n",
    "</li><br>\n",
    "        Is example mein, 3rd if ke else block ka pehle ya doosre if ke saath koi taluq nahi hai.\n",
    "        </ul>\n",
    "</div></body>\n",
    "\n"
   ]
  },
  {
   "cell_type": "markdown",
   "id": "1e13b9fa-4a7f-4ca8-832d-f8ed8d4c63e3",
   "metadata": {},
   "source": [
    "<h1 style=\"text-align:center; color:#005bbd; font-size:30px; font-family:Sans-serif; font-style: oblique; text-shadow: 0 0 3px white, 0 0 1px Black;\">\n",
    "   else if\n",
    "</h1>"
   ]
  },
  {
   "cell_type": "markdown",
   "id": "950889a8-0f31-4cc6-acbc-e1274ca3cba2",
   "metadata": {
    "tags": []
   },
   "source": [
    "<h1 style=\"text-align:center; color:#005bbd; font-size:30px; font-family:Sans-serif; font-style: oblique; text-shadow: 0 0 3px white, 0 0 1px Black;\">\n",
    "   flow of if else if , else\n",
    "</h1>"
   ]
  },
  {
   "cell_type": "markdown",
   "id": "9a9b03e1-998e-4c8c-a831-ff21f552881e",
   "metadata": {},
   "source": [
    "<h1 style=\"text-align:center; color:#005bbd; font-size:30px; font-family:Sans-serif; font-style: oblique; text-shadow: 0 0 3px white, 0 0 1px Black;\">\n",
    "   Multiple if vs else if\n",
    "</h1>"
   ]
  },
  {
   "cell_type": "markdown",
   "id": "4d96ed9a-dca8-411b-874e-521dcfae8e8e",
   "metadata": {},
   "source": [
    "<h1 style=\"text-align:center; color:#005bbd; font-size:30px; font-family:Sans-serif; font-style: oblique; text-shadow: 0 0 3px white, 0 0 1px Black;\">\n",
    "   Nested if else\n",
    "</h1>"
   ]
  },
  {
   "cell_type": "markdown",
   "id": "701cfc8c-9c50-417f-ab64-db13740056ae",
   "metadata": {},
   "source": [
    "<h1 style=\"text-align:center; color:#005bbd; font-size:30px; font-family:Sans-serif; font-style: oblique; text-shadow: 0 0 3px white, 0 0 1px Black;\">\n",
    "   Nested if ,else-if, else\n",
    "</h1>"
   ]
  }
 ],
 "metadata": {
  "kernelspec": {
   "display_name": "C++17",
   "language": "C++17",
   "name": "xcpp17"
  },
  "language_info": {
   "codemirror_mode": "text/x-c++src",
   "file_extension": ".cpp",
   "mimetype": "text/x-c++src",
   "name": "c++",
   "version": "17"
  }
 },
 "nbformat": 4,
 "nbformat_minor": 5
}
