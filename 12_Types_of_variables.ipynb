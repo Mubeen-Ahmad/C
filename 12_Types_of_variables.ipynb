{
 "cells": [
  {
   "cell_type": "markdown",
   "id": "95c38283-2abf-4c25-9d4e-769a11197737",
   "metadata": {},
   "source": [
    "<h1 style=\"text-align:center; color:#005bbd; font-size:30px; font-family:Sans-serif; font-style: oblique; text-shadow: 0 0 3px white, 0 0 1px Black;\">\n",
    "   Types of Variables\n",
    "</h1>"
   ]
  },
  {
   "cell_type": "markdown",
   "id": "2e01cecd-6b63-4434-8f31-fe34d3b9c205",
   "metadata": {},
   "source": [
    "<body style=\"font-family: Sans-serif;\">\n",
    "    <div style=\"color: black; font-size: 18px; font-style: oblique; text-shadow: 0 0 3px white, 0 0 1px black; padding: 20px;\">\n",
    "        Local Variable\n",
    "        <ul>\n",
    "        <li>Local variables wo hote hain jo kisi function ya block ke andar declare kiye jaate hain.</li><br>\n",
    "        <li>Scope: Inki scope sirf us block ya function tak hoti hai jahan yeh declare hue hain.</li><br>\n",
    "        <li>Storage Duration: Inka data tab tak store hota hai jab tak wo block ya function chal raha hota hai. Jaise hi function ya block khatam hota hai, yeh variables bhi delete ho jaate hain.</li>\n",
    "        </ul>\n",
    "    </div></body>\n"
   ]
  },
  {
   "cell_type": "code",
   "execution_count": 6,
   "id": "73d691a8-7c36-42d4-b200-99fddc28ecc2",
   "metadata": {},
   "outputs": [
    {
     "name": "stdout",
     "output_type": "stream",
     "text": [
      "\n",
      "inside myfunc 3"
     ]
    },
    {
     "name": "stdout",
     "output_type": "stream",
     "text": [
      "\n",
      "inside main 2"
     ]
    }
   ],
   "source": [
    "#include <stdio.h>\n",
    "\n",
    "int myfunc(){\n",
    "    int x = 3;\n",
    "    printf(\"inside myfunc %d\",x);\n",
    "    return 0;\n",
    "}\n",
    "\n",
    "int main(){\n",
    "    myfunc(); // call myfunc function\n",
    "    int x = 2;\n",
    "    printf(\"\\ninside main %d\",x);\n",
    "    return 0;\n",
    "}"
   ]
  },
  {
   "cell_type": "markdown",
   "id": "de166f2c-f52c-4e26-8871-1235b10f0e79",
   "metadata": {},
   "source": [
    "<body style=\"font-family: Sans-serif;\">\n",
    "    <div style=\"color: black; font-size: 18px; font-style: oblique; text-shadow: 0 0 3px white, 0 0 1px black; padding: 20px;\">\n",
    "        <ul>\n",
    "        <li>Is code mein dono functions mein x naam ka variable hai, lekin dono ka scope alag alag hai.</li><br>\n",
    "        <li>Matlab, myfunc() function ka x variable main() function mein direct access nahi kiya ja sakta, aur isi tarah main() function ka x variable myfunc() mein direct access nahi hota.</li><br>\n",
    "        <li>Yeh is liye hota hai kyun ke local variables ka scope sirf us function tak hota hai jismein wo declare kiye gaye hote hain.</li><br>\n",
    "        <li>Har function ka apna block {} hota hai, aur uske andar jo variables declare kiye jaate hain, wo sirf usi block ke andar accessible hote hain. Uske bahar unka koi wujood nahi hota.</li>\n",
    "        </ul>\n",
    "    </div></body>\n"
   ]
  },
  {
   "cell_type": "markdown",
   "id": "c2b43291-d6a8-473b-a7fa-7e039fb74c27",
   "metadata": {},
   "source": [
    "<body style=\"font-family: Sans-serif;\">\n",
    "    <div style=\"color: black; font-size: 18px; font-style: oblique; text-shadow: 0 0 3px white, 0 0 1px black; padding: 20px;\">\n",
    "        Global Variable\n",
    "        <ul>\n",
    "        <li>Global variables wo hote hain jo function ke bahar, kisi bhi file ke top pe declare kiye jaate hain.</li><br>\n",
    "        <li>Scope: Inki scope puri file ya program mein hoti hai, aur yeh kisi bhi function se access kiye ja sakte hain.</li><br>\n",
    "        <li>Storage Duration: Yeh program ke start se le kar program ke end tak exist karte hain.</li>\n",
    "        </ul>\n",
    "    </div></body>\n"
   ]
  },
  {
   "cell_type": "code",
   "execution_count": 8,
   "id": "62a2712a-70b0-4ab8-8c7a-d1145e0d06d1",
   "metadata": {},
   "outputs": [
    {
     "name": "stdout",
     "output_type": "stream",
     "text": [
      "inside myfunc 3\n",
      "inside main 3"
     ]
    },
    {
     "ename": "",
     "evalue": "",
     "output_type": "",
     "traceback": [
      ""
     ]
    }
   ],
   "source": [
    "#include <stdio.h>\n",
    "\n",
    "int x = 3;\n",
    "\n",
    "int myfunc(){\n",
    "    printf(\"inside myfunc %d\",x);\n",
    "    return 0;\n",
    "}\n",
    "\n",
    "int main(){\n",
    "    myfunc();\n",
    "    printf(\"\\ninside main %d\",x);\n",
    "    return 0;\n",
    "}\n"
   ]
  },
  {
   "cell_type": "markdown",
   "id": "5c82fcdb-5504-4ba3-97ed-9ffba0c22111",
   "metadata": {},
   "source": [
    "<body style=\"font-family: Sans-serif;\">\n",
    "    <div style=\"color: black; font-size: 18px; font-style: oblique; text-shadow: 0 0 3px white, 0 0 1px black; padding: 20px;\">\n",
    "        Static Variable\n",
    "        <ul>\n",
    "        <li>Static variables wo hote hain jo function ke andar ya bahar declare kiye ja sakte hain, lekin unka lifetime pura program chalne tak hota hai.</li><br>\n",
    "        <li>Scope: Agar static variable kisi function ke andar hai, to uski scope sirf us function tak hoti hai, lekin jab function dobara call hota hai to wo apni purani value ko yaad rakhta hai.</li><br>\n",
    "        <li>Storage Duration: Yeh program ke dauran persist karte hain.</li>\n",
    "        </ul>\n",
    "    </div></body>\n"
   ]
  },
  {
   "cell_type": "code",
   "execution_count": 12,
   "id": "dbc24d7e-3bc9-4ccb-982b-e0d947c68d99",
   "metadata": {},
   "outputs": [
    {
     "name": "stdout",
     "output_type": "stream",
     "text": [
      "Calling function 1 Time\n",
      "2\n",
      "Calling function 2nd Time\n",
      "2"
     ]
    }
   ],
   "source": [
    "#include <stdio.h>\n",
    "\n",
    "int myfunc(){\n",
    "    \n",
    "    int x = 1;\n",
    "    x++;\n",
    "    printf(\"%d\",x);\n",
    "}\n",
    "\n",
    "\n",
    "int main(){\n",
    "    \n",
    "    printf(\"Calling function 1 Time\\n\");\n",
    "    myfunc();\n",
    "    printf(\"\\nCalling function 2nd Time\\n\");\n",
    "    myfunc();\n",
    "    \n",
    "\n",
    "    return 0;\n",
    "}"
   ]
  },
  {
   "cell_type": "markdown",
   "id": "cafe8eb4-6ab9-4f7a-837c-e2ccd716e269",
   "metadata": {},
   "source": [
    "<body style=\"font-family: Sans-serif;\">\n",
    "    <div style=\"color: black; font-size: 18px; font-style: oblique; text-shadow: 0 0 3px white, 0 0 1px black; padding: 20px;\">\n",
    "        <ul>\n",
    "        <li>code mein x ko jab bhi myfunc() call hota hai, to har baar x ki value 1 se shuru hoti hai kyun ke x ek local variable hai. </li><br>\n",
    "        <li>Jab bhi function call hota hai, x wapas initialize ho kar 1 ban jata hai, phir x++ usko increment kar ke 2 bana deta hai.</li><br>\n",
    "        <li>Is liye dono dafa function call karne par output 2 hi aa raha hai.</li>\n",
    "        </ul><br>\n",
    "Agar Hum chahte ho ke x ki value retain rahe function ke baar-baar call hone par, to static keyword ka use karna padega.\n",
    "    </div></body>\n"
   ]
  },
  {
   "cell_type": "code",
   "execution_count": 15,
   "id": "24ddea02-80d1-4dae-a3cf-998a4b6b1ea1",
   "metadata": {},
   "outputs": [
    {
     "name": "stdout",
     "output_type": "stream",
     "text": [
      "Calling function 1 Time\n",
      "2\n",
      "Calling function 2nd Time\n",
      "3"
     ]
    },
    {
     "ename": "Interpreter Error",
     "evalue": "",
     "output_type": "",
     "traceback": [
      " "
     ]
    }
   ],
   "source": [
    "#include <stdio.h>\n",
    "\n",
    "int myfunc(){\n",
    "    \n",
    "    static int x = 1; // static variable\n",
    "    x++;\n",
    "    printf(\"%d\",x);\n",
    "}\n",
    "\n",
    "\n",
    "int main(){\n",
    "    \n",
    "    printf(\"Calling function 1 Time\\n\");\n",
    "    myfunc();\n",
    "    printf(\"\\nCalling function 2nd Time\\n\");\n",
    "    myfunc();\n",
    "    \n",
    "\n",
    "    return 0;\n",
    "}"
   ]
  },
  {
   "cell_type": "markdown",
   "id": "cc856074-3205-44b1-9a8b-002e6568bc6f",
   "metadata": {},
   "source": [
    "<body style=\"font-family: Sans-serif;\">\n",
    "    <div style=\"color: black; font-size: 18px; font-style: oblique; text-shadow: 0 0 3px white, 0 0 1px black; padding: 20px;\">\n",
    "Is case mein pehla output 2 hoga, aur doosri dafa jab function call hoga to output 3 hoga, kyun ke static variable apni value ko retain karta hai even after the function ends. \n",
    "    </div></body>\n"
   ]
  }
 ],
 "metadata": {
  "kernelspec": {
   "display_name": "C++17",
   "language": "C++17",
   "name": "xcpp17"
  },
  "language_info": {
   "codemirror_mode": "text/x-c++src",
   "file_extension": ".cpp",
   "mimetype": "text/x-c++src",
   "name": "c++",
   "version": "17"
  }
 },
 "nbformat": 4,
 "nbformat_minor": 5
}
