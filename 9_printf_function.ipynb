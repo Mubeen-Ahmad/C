{
 "cells": [
  {
   "cell_type": "markdown",
   "id": "8534fb8e-b78b-439e-a2f6-f878ff721725",
   "metadata": {},
   "source": [
    "<h1 style=\"text-align:center; color:#005bbd; font-size:30px; font-family:Sans-serif; font-style: oblique; text-shadow: 0 0 3px white, 0 0 1px Black;\">\n",
    "   printf Function \n",
    "</h1>"
   ]
  },
  {
   "cell_type": "markdown",
   "id": "ec6915f9-620e-41ac-b8a3-fb9a9249eeb1",
   "metadata": {},
   "source": [
    "<body style=\"font-family: Sans-serif;\">\n",
    "    <div style=\"color: black; font-size: 18px; font-style: oblique; text-shadow: 0 0 3px white, 0 0 1px black; padding: 20px;\">\n",
    "        <ul>\n",
    "            <li>printf ek built-in function hai jo C language mein use hota hai output display karne ke liye. Iska kaam yeh hota hai ke user ya system ko koi text ya values screen par dikhaye.</li><br>\n",
    "            <li> Syntax : printf(format_string, value1, value2, ...);</li><br>\n",
    "            <li>format_string: Yeh wo string hai jismein ordinary characters aur conversion specifications hote hain.</li><br>\n",
    "            <li>value1, value2, ...: Yeh wo values hain jo output mein display honge.</li>\n",
    "</ul>\n"
   ]
  },
  {
   "cell_type": "code",
   "execution_count": 1,
   "id": "83ba59ee-5623-4bfc-9c96-423264d4d5c4",
   "metadata": {},
   "outputs": [
    {
     "name": "stdout",
     "output_type": "stream",
     "text": [
      "Hello World"
     ]
    },
    {
     "data": {
      "text/plain": [
       "0"
      ]
     },
     "execution_count": 1,
     "metadata": {},
     "output_type": "execute_result"
    }
   ],
   "source": [
    "#include <stdio.h>\n",
    "int main(){\n",
    "    printf(\"Hello World\");\n",
    "    return 0;\n",
    "}"
   ]
  },
  {
   "cell_type": "markdown",
   "id": "4c8ed8e7-6d1d-4d38-9ffc-279764ebf79b",
   "metadata": {},
   "source": [
    "<body style=\"font-family: Sans-serif;\">\n",
    "    <div style=\"color: black; font-size: 18px; font-style: oblique; text-shadow: 0 0 3px white, 0 0 1px black; padding: 20px;\">\n",
    "        <ul>Note: <br>\n",
    "            Mein yaha Jupyter Notebook mein C language ka use kar raha hoon, is liye jo output aapko mil raha hai wo compile hone ke baad hi show ho raha hai.<br><br> Agar aap koi aur environment use kar rahe hain, toh aapko gcc program.c -o output ka use karna hoga taake aap apne C program ko compile karke run kar saken.<br><hr>\n",
    "</ul>\n"
   ]
  },
  {
   "cell_type": "markdown",
   "id": "f69767cb-a3ab-4a3a-83a5-877c2cfcc0b3",
   "metadata": {},
   "source": [
    "<body style=\"font-family: Sans-serif;\">\n",
    "    <div style=\"color: black; font-size: 18px; font-style: oblique; text-shadow: 0 0 3px white, 0 0 1px black; padding: 20px;\">\n",
    "        <ul>\n",
    "            <li>#include <stdio.h>: <br>Yeh line ek header file include karti hai jisme printf() function defined hota hai. Yeh standard input/output operations ke liye use hoti hai.\n",
    "</li><br>\n",
    "<li>int main():<br>Yeh function program ka entry point hota hai. Jab program run hota hai, sabse pehle main() function execute hota hai.\n",
    "</li>\n",
    "<br>\n",
    "<li>printf(\"Hello World\");<br>Yeh function \"Hello World\" ko screen par print karta hai.\n",
    "</li>\n",
    "<br>\n",
    "<li>return 0;<br> Yeh optional hai aur is ka matlab hota hai ke program successfully execute ho gaya.\n",
    "</li>\n",
    "</ul><br>\n",
    "Note ! statment ky last pr semi-colon ; lazmi hona chiye\n"
   ]
  },
  {
   "cell_type": "markdown",
   "id": "2e094a91-29b9-486c-a2fe-aa0b2c35112c",
   "metadata": {},
   "source": [
    "<body style=\"font-family: Sans-serif;\">\n",
    "    <div style=\"color: black; font-size: 18px; font-style: oblique; text-shadow: 0 0 3px white, 0 0 1px black; padding: 20px;\">\n",
    "        <ul>\n",
    "            <p>printf() C language ka ek predefined (built-in) function hai jo standard input/output library se aata hai. <br>Yeh function stdio.h (Standard Input Output) header file mein defined hota hai.<br><br>Jab aap #include <stdio.h> likhte ho, to aap is header file ko apne program mein include karte ho, jisme printf() aur input/output se related aur bhi functions (jaise scanf(), getchar(), etc.) maujood hote hain.\n",
    "</ul>\n"
   ]
  },
  {
   "cell_type": "markdown",
   "id": "fa6c1224-aa18-4c40-a52a-2ec858d47aa1",
   "metadata": {},
   "source": [
    "<body style=\"font-family: Sans-serif;\">\n",
    "    <div style=\"color: black; font-size: 18px; font-style: oblique; text-shadow: 0 0 3px white, 0 0 1px black; padding: 20px;\">\n",
    "        <ul>Example 2</ul></div></body>\n"
   ]
  },
  {
   "cell_type": "code",
   "execution_count": 37,
   "id": "1a705ae8-9fe2-46b1-bc5c-050cb21cf831",
   "metadata": {},
   "outputs": [],
   "source": [
    "#include <stdio.h>\n",
    "int main(){\n",
    "    printf(\"Welcome %s\",\"Mubeen\");\n",
    "    return 0;\n",
    "}"
   ]
  },
  {
   "cell_type": "markdown",
   "id": "f8af8b4b-1554-42dc-a1cc-52027b976428",
   "metadata": {},
   "source": [
    "<h1 style=\"text-align:center; color:#005bbd; font-size:30px; font-family:Sans-serif; font-style: oblique; text-shadow: 0 0 3px white, 0 0 1px Black;\">\n",
    "   Format String\n",
    "</h1>"
   ]
  },
  {
   "cell_type": "markdown",
   "id": "0f6c56a9-af6c-4f28-aeef-73a5d2cbfa61",
   "metadata": {},
   "source": [
    "<body style=\"font-family: Sans-serif;\">\n",
    "    <div style=\"color: black; font-size: 18px; font-style: oblique; text-shadow: 0 0 3px white, 0 0 1px black; padding: 20px;\">\n",
    "        <ul>\n",
    "            <li>Format string wo string hai jo printf function ko dikhata hai ki output ka format kaisa hoga. Ismein ordinary text, conversion specifications, aur special characters ho sakte hain.</li><br>\n",
    "            <ul>\n",
    "            <li>\n",
    "                <h4>Ordinary Characters</h4>\n",
    "                <ul><li>Ye wo characters hain jo waise hi output mein dikhai dete hain. Inka koi special meaning nahi hota.</li><br>\n",
    "                </ul>\n",
    "            </li></ul>\n",
    "</ul>\n"
   ]
  },
  {
   "cell_type": "code",
   "execution_count": 38,
   "id": "97a2728a-3aaf-4a4d-9381-f6e4a2f50b17",
   "metadata": {},
   "outputs": [
    {
     "name": "stdout",
     "output_type": "stream",
     "text": [
      "Hello, World!"
     ]
    },
    {
     "data": {
      "text/plain": [
       "0"
      ]
     },
     "execution_count": 38,
     "metadata": {},
     "output_type": "execute_result"
    }
   ],
   "source": [
    "#include <stdio.h>\n",
    "int main(){\n",
    "    printf(\"Hello, World!\");\n",
    "    return 0;\n",
    "}"
   ]
  },
  {
   "cell_type": "markdown",
   "id": "eafaa40a-2479-4069-b79b-4b7872833b07",
   "metadata": {},
   "source": [
    "<body style=\"font-family: Sans-serif;\">\n",
    "    <div style=\"color: black; font-size: 18px; font-style: oblique; text-shadow: 0 0 3px white, 0 0 1px black; padding: 20px;\">\n",
    "        <ul>\n",
    "            <ul>\n",
    "            <li>\n",
    "                <h4>Conversion Specifications</h4>\n",
    "                <ul><li>Ye wo placeholders hote hain jo % se shuru hote hain. Ye specify karte hain ki kis type ki value ko kaise print kiya jayega.</li><br>\n",
    "                <li>Har conversion specification ka apna format hota hai</li><br>\n",
    "                    <ul>\n",
    "                        <li>%d: Integer value ko decimal format mein print karta hai.</li>\n",
    "                        <li>%f: Float value ko print karta hai.</li>\n",
    "                        <li>%c: Single character ko print karta hai.</li>\n",
    "                        <li>%s: String ko print karta hai.</li>\n",
    "                        <li>%x: Integer value ko hexadecimal format mein print karta hai.</li>\n",
    "                    </ul>\n",
    "                </ul>\n",
    "            </li></ul>\n",
    "</ul>\n"
   ]
  },
  {
   "cell_type": "code",
   "execution_count": 44,
   "id": "242cab80-de1b-4f15-b4b8-4f0a339c8836",
   "metadata": {},
   "outputs": [
    {
     "name": "stdout",
     "output_type": "stream",
     "text": [
      "This is integer 1\n",
      "This is float 1.100000"
     ]
    },
    {
     "data": {
      "text/plain": [
       "0"
      ]
     },
     "execution_count": 44,
     "metadata": {},
     "output_type": "execute_result"
    }
   ],
   "source": [
    "#include <stdio.h>\n",
    "int main(){\n",
    "    printf(\"This is integer %d\\n\",1);\n",
    "    printf(\"This is float %f\",1.1);\n",
    "    return 0;\n",
    "}"
   ]
  },
  {
   "cell_type": "code",
   "execution_count": null,
   "id": "8826ea9a-aaec-4cb5-8ed1-312978b40bf1",
   "metadata": {},
   "outputs": [],
   "source": []
  },
  {
   "cell_type": "markdown",
   "id": "0e24a008-1830-49ea-9a3d-92f370fa56f7",
   "metadata": {},
   "source": [
    "<h1 style=\"text-align:center; color:#005bbd; font-size:30px; font-family:Sans-serif; font-style: oblique; text-shadow: 0 0 3px white, 0 0 1px Black;\">\n",
    "   Continue Here some more concepts\n",
    "</h1>"
   ]
  },
  {
   "cell_type": "code",
   "execution_count": null,
   "id": "7d63d03f-6f99-4e97-b55b-dc79242e9327",
   "metadata": {},
   "outputs": [],
   "source": []
  },
  {
   "cell_type": "markdown",
   "id": "c3ea864b-702f-438b-b0cc-a5bf3040cb93",
   "metadata": {},
   "source": [
    "<h1 style=\"text-align:center; color:#005bbd; font-size:30px; font-family:Sans-serif; font-style: oblique; text-shadow: 0 0 3px white, 0 0 1px Black;\">\n",
    "   Double Qoutes or Single Qoutes ?\n",
    "</h1>"
   ]
  },
  {
   "cell_type": "markdown",
   "id": "36b52f08-a6ee-4bd9-84bb-8aab42eb26c4",
   "metadata": {},
   "source": [
    "<body style=\"font-family: Sans-serif;\">\n",
    "    <div style=\"color: black; font-size: 18px; font-style: oblique; text-shadow: 0 0 3px white, 0 0 1px black; padding: 20px;\">\n",
    "        <ul>\n",
    "            <li>function mein string ko double quotes mein likhte hain. Double quotes (\") use karna zaroori hai kyunki C mein strings ko define karne ka yahi tarika hai</li><br>\n",
    "            <li>Single quotes (') ka use sirf character literals ke liye hota hai, jaise char c = 'A';<br>Toh, agar aap printf('Hello World') likhenge, toh ye error dega kyunki ye character literal nahi hai, balki ek string hai.</li>\n",
    "</ul>\n"
   ]
  },
  {
   "cell_type": "code",
   "execution_count": 2,
   "id": "ac5468e3-b55d-4aec-b9b0-7536f7a2ba47",
   "metadata": {},
   "outputs": [
    {
     "name": "stderr",
     "output_type": "stream",
     "text": [
      "\u001b[1minput_line_13:2:12: \u001b[0m\u001b[0;1;35mwarning: \u001b[0m\u001b[1mmulti-character character constant [-Wmultichar]\u001b[0m\n",
      "    printf('Hello World');\n",
      "\u001b[0;1;32m           ^\n",
      "\u001b[0m\u001b[1minput_line_13:2:12: \u001b[0m\u001b[0;1;35mwarning: \u001b[0m\u001b[1mcharacter constant too long for its type\u001b[0m\n",
      "\u001b[1minput_line_13:2:5: \u001b[0m\u001b[0;1;31merror: \u001b[0m\u001b[1mno matching function for call to 'printf'\u001b[0m\n",
      "    printf('Hello World');\n",
      "\u001b[0;1;32m    ^~~~~~\n",
      "\u001b[0m\u001b[1m/media/mubeen/Programming Data { Disk 0 }/C/cenv/x86_64-conda-linux-gnu/sysroot/usr/include/stdio.h:362:12: \u001b[0m\u001b[0;1;30mnote: \u001b[0mcandidate function not viable: no known conversion from 'int' to 'const char *__restrict' for 1st argument\u001b[0m\n",
      "extern int printf (const char *__restrict __format, ...);\n",
      "\u001b[0;1;32m           ^\n",
      "\u001b[0m"
     ]
    },
    {
     "ename": "Interpreter Error",
     "evalue": "",
     "output_type": "error",
     "traceback": [
      "Interpreter Error: "
     ]
    }
   ],
   "source": [
    "#include <stdio.h>\n",
    "int main(){\n",
    "    printf('Hello World');\n",
    "    return 0;\n",
    "}"
   ]
  },
  {
   "cell_type": "markdown",
   "id": "aeda5d29-2e3c-43a0-aa20-ac3257700405",
   "metadata": {},
   "source": [
    "<h1 style=\"text-align:center; color:#005bbd; font-size:30px; font-family:Sans-serif; font-style: oblique; text-shadow: 0 0 3px white, 0 0 1px Black;\">\n",
    "   Characters and String are not same ?\n",
    "</h1>"
   ]
  },
  {
   "cell_type": "markdown",
   "id": "5dac930c-13e7-495e-a33f-77a35d451f02",
   "metadata": {},
   "source": [
    "<body style=\"font-family: Sans-serif;\">\n",
    "    <div style=\"color: black; font-size: 18px; font-style: oblique; text-shadow: 0 0 3px white, 0 0 1px black; padding: 20px;\">\n",
    "        <ul><h3>Characters</h3>\n",
    "            <li>Character ek single character ya symbol hota hai, jaise <pre>a, 1, #, etc.</pre> C mein, characters ko single quotes (') mein likha jata hai.</li><br>\n",
    "            <li>C mein character ka data type char hota hai.</li>\n",
    "</ul>\n"
   ]
  },
  {
   "cell_type": "code",
   "execution_count": 20,
   "id": "34e6f392-e590-48c8-a0f3-3d1357aeec48",
   "metadata": {},
   "outputs": [
    {
     "name": "stdout",
     "output_type": "stream",
     "text": [
      "M"
     ]
    },
    {
     "data": {
      "text/plain": [
       "0"
      ]
     },
     "execution_count": 20,
     "metadata": {},
     "output_type": "execute_result"
    }
   ],
   "source": [
    "#include <stdio.h>\n",
    "int main(){\n",
    "    printf(\"%c\",'M');\n",
    "    return 0;\n",
    "}\n",
    "main();//"
   ]
  },
  {
   "cell_type": "markdown",
   "id": "e7b431d5-2aca-4d0f-bcfd-8903eab9a468",
   "metadata": {},
   "source": [
    "<body style=\"font-family: Sans-serif;\">\n",
    "    <div style=\"color: black; font-size: 18px; font-style: oblique; text-shadow: 0 0 3px white, 0 0 1px black; padding: 20px;\">\n",
    "        <ul><h3>Field Specifier %c ka Use</h3>\n",
    "            <li>%c ek field specifier hai jo printf function mein character ko print karne ke liye istemal hota hai.</li><br>\n",
    "            <li>C mein character ka data type char hota hai.</li>\n",
    "</ul>\n"
   ]
  },
  {
   "cell_type": "markdown",
   "id": "79c52437-cdd0-4622-90ef-afeec4cc328d",
   "metadata": {},
   "source": [
    "<body style=\"font-family: Sans-serif;\">\n",
    "    <div style=\"color: black; font-size: 18px; font-style: oblique; text-shadow: 0 0 3px white, 0 0 1px black; padding: 20px;\">\n",
    "        <ul><h3>Character aur String</h3>\n",
    "            <li>Jab aap %c ka use karte hain, aapko character ko single quotes (') mein dena hota hai. Yeh sirf ek character ko represent karta hai.</li><br>\n",
    "            <li>Strings ko double quotes (\") mein likha jata hai, jo multiple characters ka collection hota hai. aur %s ka use string me as a specifers k lye use kia jata hn</li>\n",
    "</ul>\n"
   ]
  },
  {
   "cell_type": "markdown",
   "id": "210d243b-418f-4fbf-a71b-170ff986e49e",
   "metadata": {},
   "source": [
    "<body style=\"font-family: Sans-serif;\">\n",
    "    <div style=\"color: black; font-size: 18px; font-style: oblique; text-shadow: 0 0 3px white, 0 0 1px black; padding: 20px;\">\n",
    "        <ul>\n",
    "            <li>printf function mein, aap double quotes mein format specifiers likhte hain, aur phir un specifiers ke liye corresponding data ko comma ke baad dete hain.</li><br>\n",
    "</ul>\n"
   ]
  },
  {
   "cell_type": "code",
   "execution_count": 32,
   "id": "cdff6678-d907-4d64-b664-3dcde2e40c00",
   "metadata": {},
   "outputs": [
    {
     "name": "stdout",
     "output_type": "stream",
     "text": [
      "Character: M"
     ]
    },
    {
     "data": {
      "text/plain": [
       "0"
      ]
     },
     "execution_count": 32,
     "metadata": {},
     "output_type": "execute_result"
    }
   ],
   "source": [
    "# include <stdio.h>\n",
    "int main(){\n",
    "    printf(\"Character: %c\", 'M');\n",
    "    return 0;\n",
    "}"
   ]
  },
  {
   "cell_type": "code",
   "execution_count": 33,
   "id": "a879dd90-e8d2-4c0f-8eee-e934524bce03",
   "metadata": {},
   "outputs": [
    {
     "name": "stdout",
     "output_type": "stream",
     "text": [
      "String: Mubeen Ahmad"
     ]
    },
    {
     "data": {
      "text/plain": [
       "0"
      ]
     },
     "execution_count": 33,
     "metadata": {},
     "output_type": "execute_result"
    }
   ],
   "source": [
    "# include <stdio.h>\n",
    "int main(){\n",
    "    printf(\"String: %s\", \"Mubeen Ahmad\");\n",
    "    return 0;\n",
    "}"
   ]
  }
 ],
 "metadata": {
  "kernelspec": {
   "display_name": "C++17",
   "language": "C++17",
   "name": "xcpp17"
  },
  "language_info": {
   "codemirror_mode": "text/x-c++src",
   "file_extension": ".cpp",
   "mimetype": "text/x-c++src",
   "name": "c++",
   "version": "17"
  }
 },
 "nbformat": 4,
 "nbformat_minor": 5
}
