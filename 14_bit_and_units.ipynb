{
 "cells": [
  {
   "cell_type": "markdown",
   "id": "ca1d2892-83dc-4d94-a360-ceaac4b8a433",
   "metadata": {},
   "source": [
    "<h1 style=\"text-align:center; color:#005bbd; font-size:30px; font-family:Sans-serif; font-style: oblique; text-shadow: 0 0 3px white, 0 0 1px Black;\">\n",
    "  Story of Bit\n",
    "</h1>"
   ]
  },
  {
   "cell_type": "markdown",
   "id": "dca04d51-426e-406a-b387-896626de478e",
   "metadata": {},
   "source": [
    "<body style=\"font-family: Sans-serif;\">\n",
    "    <div style=\"color: black; font-size: 18px; font-style: oblique; text-shadow: 0 0 3px white, 0 0 1px black; padding: 20px;\">\n",
    "        <ul><p>Bit ka agaz 1940s me huwa jab digital computing ke theoretical concepts aur practical applications ko develop kiya ja raha tha.<br><br>Sab se pehle Claude Shannon, jo aik mathematician aur electrical engineer the, ne 1948 me \"A Mathematical Theory of Communication\" paper publish kiya. <br><br>Is paper me Shannon ne information theory ka concept introduce kiya aur ye bataya ke information ko efficiently represent aur transmit karne ke liye binary system (0 aur 1) ko use kiya ja sakta hai</p>\n",
    "        </ul><br>\n",
    "<h4><i>Claude Shannon Research (1948)</i>:</h4>\n",
    "        <ul>\n",
    "            <li>Shannon ne binary (0 aur 1) ko information store aur transmit karne ke liye use karne ka concept diya. Unhone dikhaya ke binary digits, jo \"bits\" kehlati hain, <b>minimum unit of information</b> represent kar sakti hain.</li>\n",
    "        </ul><br>\n",
    "<h4><i>Use of Binary System</i>:</h4>\n",
    "        <ul>\n",
    "            <li>Binary system ka use logic gates aur circuits me kiya gaya. Yeh circuits \"on\" aur \"off\" states (1 aur 0) ko represent karte hain. Yeh concept digital computers ka foundation bana.</li>\n",
    "        </ul><br>\n",
    "<h4><i>The Term of Bit</i>:</h4>\n",
    "        <ul>\n",
    "            <li>Bit ka term John Tukey ne coin kiya tha, aur yeh \"binary digit\" ka short form hai. Tukey ne pehli baar bit ko information ki smallest unit ke tor pe define kiya.</li>\n",
    "        </ul>\n",
    "</div></body>\n",
    "\n"
   ]
  },
  {
   "cell_type": "markdown",
   "id": "7a5e3b30-656c-4564-af1b-b5a2af5490f9",
   "metadata": {},
   "source": [
    "<h1 style=\"text-align:center; color:#005bbd; font-size:30px; font-family:Sans-serif; font-style: oblique; text-shadow: 0 0 3px white, 0 0 1px Black;\">\n",
    "  Bit with Physical Relations\n",
    "</h1>"
   ]
  },
  {
   "cell_type": "markdown",
   "id": "26fbb61e-0fd4-4f3f-86d7-97b894291786",
   "metadata": {},
   "source": [
    "<body style=\"font-family: Sans-serif;\">\n",
    "    <div style=\"color: black; font-size: 18px; font-style: oblique; text-shadow: 0 0 3px white, 0 0 1px black; padding: 20px;\">\n",
    "        <ul>Computers digital devices hain jo binary system pe kaam kartay hain. Binary system mein sirf 2 states hoti hain:<br><br>\n",
    "    <li>0 (off) ka matlab hai ke current flow nahi ho raha ya voltage level low hai.</li>\n",
    "    <li>1 (on) ka matlab hai ke current flow ho raha ya voltage level high hai.</li><br>\n",
    "    <li>Ye 0 aur 1 hi computers ke har action ke base hain.</li></ul><br>\n",
    "<h4><i>Electronic Hardware aur Physical Representation:</i></h4>\n",
    "        <ul>Processor ke andar transistors ke bohat zyada chhote circuits hotay hain jinhay logic gates aur flip-flops mein organize kiya jata hai. Yeh components mil ke data ko process aur temporarily store karte hain.</ul>\n",
    "        <ul>jese ke transistors, in bits ko process karne ke liye use hota hai.<br><br>Transistors chhote electrical switches hain jo current ko control karte hain\n",
    "        <ul><img style=\"display: block;margin-left: 70%;margin-right: auto;width: 20%;\" src=\"./images/Transistors.png\"></ul><br>\n",
    "<li>1 ka matlab: Jab transistor ON hota hai to ye current ko pass karta hai (high voltage state).</li><br>\n",
    "<li>0 ka matlab: Jab transistor OFF hota hai to ye current ko block karta hai (low voltage state).</li><br>\n",
    "<li>Transistors ko milake logic gates banaye jate hain (jese ke AND, OR, NOT gates). Yeh gates bits ko process karte hain aur binary operations karte hain:</li><br>\n",
    "    <ul>\n",
    "    <li>AND Gate: Sirf tab “1” return karta hai jab dono input “1” hon.</li>\n",
    "    <li>OR Gate: Sirf tab “1” return karta hai jab kam az kam ek input “1” ho.</li>\n",
    "    <li>NOT Gate: Ek input ko opposite state mein badal deta hai (1 ko 0 aur 0 ko 1).</li><br>\n",
    "    </ul>\n",
    "</ul>\n",
    "<ul>\n",
    "    Logic gates hi mil ke processor mein Arithmetic Logic Unit (ALU) aur doosri core functionalities ko form karte hain. <br>ALU hi addition, subtraction, multiplication, aur logical comparison jaise operations ko perform karta hai.\n",
    "</ul>\n",
    "</div></body>\n",
    "\n"
   ]
  },
  {
   "cell_type": "markdown",
   "id": "e0ea0fa6-9dff-4248-bb8e-14c02a9b3a66",
   "metadata": {},
   "source": [
    "<body style=\"font-family: Sans-serif;\">\n",
    "    <div style=\"color: black; font-size: 18px; font-style: oblique; text-shadow: 0 0 3px white, 0 0 1px black; padding: 20px;\">\n",
    "        <h4>Data Storage (Flip-Flops aur Registers)</h4><br>\n",
    "        <ul>Flip-flops aur registers ko processor mein use kiya jata hai taake data temporarily store kiya ja sake:<br><br>\n",
    "            <li>Flip-flops: Yeh ek circuit hota hai jo ek bit (0 ya 1) ko yaad rakhta hai jab tak usay update na kiya jaye.</li><br>\n",
    "    <li>Registers: Yeh ek sequence hota hai flip-flops ka, jo ek time mein ek byte (8 bits) ya zyada data ko store karta hai. Yeh data ko temporary storage ke liye use karta hai jab tak ALU usay process kar raha hota hai.</li>\n",
    "        </ul><br>\n",
    "        <h4>Binary Representation aur On-Off States:</h4>\n",
    "<ul>Jab hum kisi bhi number ko binary mein represent karte hain, toh wo number sirf 0 aur 1 ki form mein hota hai. Computer ke liye, 1 ka matlab hai current flow (on state), aur 0 ka matlab hai current stop (off state).</ul>\n",
    "<ul>\n",
    "    <b>Example</b>\n",
    "    <li>2 ka binary representation 00000010 hota hai. Yeh 8-bit format mein hai jahan pe left side ke zeros sirf place holder hain aur asli value right side mein 10 hai.</li><br>\n",
    "<li>Ab 2 + 2 ko binary addition mein karte hain:\n",
    "<ul><br><pre>\n",
    "                            0 0 0 0 0 0 1 0\n",
    "                          + 0 0 0 0 0 0 1 0\n",
    "                           ------------------\n",
    "                            0 0 0 0 0 1 0 0\n",
    "                           ------------------\n",
    "</pre><br>00000100 ka decimal form 4 hota hai. Yani, 2 + 2 ka result binary mein 00000100 hota hai, jo decimal mein 4 hai.</ul>\n",
    "</li>\n",
    "</ul>\n",
    "</div></body>\n",
    "\n"
   ]
  },
  {
   "cell_type": "markdown",
   "id": "3494a256-43cf-4dd5-a5ee-bc4d4aa88c03",
   "metadata": {},
   "source": [
    "<body style=\"font-family: Sans-serif;\">\n",
    "    <div style=\"color: black; font-size: 18px; font-style: oblique; text-shadow: 0 0 3px white, 0 0 1px black; padding: 20px;\">\n",
    "        <h4>Processor ke ALU mein Addition (Transistor States ke through)</h4><br>\n",
    "        <ul>ALU ye addition perform karne ke liye logic gates ka use karta hai jo bits ko handle karte hain:<br><br>\n",
    "        <li>Step 1: Processor pehle binary form 00000010 aur 00000010 ko ALU mein bhejta hai.</li><br>\n",
    "        <li>Step 2: ALU ke andar transistors on-off states mein is addition ko process karte hain. Har bit ke addition ke liye transistor on-off states ke combination ka use kiya jata hai:<br><br>\n",
    "        <ul>\n",
    "            <li>Agar dono bits 0 hain, toh output bhi 0 hota hai (no current).</li>\n",
    "            <li>Agar ek bit 1 hai aur dusri 0 hai, toh output 1 hota hai (current flow).</li>\n",
    "            <li>Agar dono bits 1 hain, toh output 0 hota hai aur carry bit 1 hoti hai jo agle higher bit mein add hoti hai.</li>\n",
    "        </ul>\n",
    "        </li><br>\n",
    "In logic gates ke combinations ke zariye addition hota hai aur ALU ye addition perform karke register mein result (jo 4 hai) temporarily store karta hai.\n",
    "        </ul>\n",
    "        </div></body>\n",
    "\n"
   ]
  },
  {
   "cell_type": "markdown",
   "id": "b598104c-6e34-49cf-b125-9c84dc11b35d",
   "metadata": {},
   "source": [
    "<h1 style=\"text-align:center; color:#005bbd; font-size:30px; font-family:Sans-serif; font-style: oblique; text-shadow: 0 0 3px white, 0 0 1px Black;\">\n",
    "  1 Byte = 8 Bit Standard\n",
    "</h1>"
   ]
  },
  {
   "cell_type": "markdown",
   "id": "019dd401-0a09-41f4-8fdb-10569cfa6f9e",
   "metadata": {},
   "source": [
    "<body style=\"font-family: Sans-serif;\">\n",
    "    <div style=\"color: black; font-size: 18px; font-style: oblique; text-shadow: 0 0 3px white, 0 0 1px black; padding: 20px;\">\n",
    "        Byte ko binary data ke processing unit ke tor par design kiya gaya tha. Computer hardware aur software mein bytes ko standard data unit banaya gaya hai kyunki:\n",
    "        <ul><li>Ek byte mein 8 bits hote hain, aur 8 bits ek samajhdaar minimum unit hai jo ASCII characters ko represent kar sakta hai. Har ASCII character (jaise A, B, 1, 2 etc.) ko ek byte yaani 8 bits ki zaroorat hoti hai.</li><br>\n",
    "            <li>8 bits mein total 256 unique combinations banaye ja sakte hain (2^8 = 256), jo English characters aur special symbols ko encode karne ke liye kaafi hain.</li><br>\n",
    "</ul>\n",
    "1 byte ke standard hone ka doosra reason data ko efficiently process aur store karna tha:\n",
    "        <ul>\n",
    "            <li>8 bits ek ideal size hai jo data ko jaldi process aur store karne mein madadgar hota hai.</li><br>\n",
    "            <li>Data transmission mein bhi 1 byte ko ek standard ke tor par use karna asaan hai kyunki yeh data block ko consistent aur reliable banata hai.</li>\n",
    "        </ul>\n",
    "    </div></body>\n",
    "\n"
   ]
  },
  {
   "cell_type": "markdown",
   "id": "302e6a4b-9906-497c-87a8-2bad27c757ba",
   "metadata": {},
   "source": [
    "<h1 style=\"text-align:center; color:#005bbd; font-size:30px; font-family:Sans-serif; font-style: oblique; text-shadow: 0 0 3px white, 0 0 1px Black;\">\n",
    "  Units Ranges\n",
    "</h1>"
   ]
  },
  {
   "cell_type": "markdown",
   "id": "6ec3867f-5701-486e-bcef-8c1f29e9b30b",
   "metadata": {},
   "source": [
    "<body style=\"font-family: Sans-serif;\">\n",
    "    <div style=\"color: black; font-size: 18px; font-style: oblique; text-shadow: 0 0 3px white, 0 0 1px black; padding: 20px;\">\n",
    "        <h3>Bit (0,1) 2</h3>\n",
    "        <ul>\n",
    "            <li>Jaise ke humne discuss kiya, Bit ka matlab hai \"Binary Digit.\" Yeh computer ka sabse chhota unit hai aur ye sirf 2 states (0 aur 1) mein hi hota hai.</li><br>\n",
    "            <li>1 bit sirf on ya off ki state ko represent kar sakta hai.</li><br>\n",
    "            <li>Computers binary system pe kaam karte hain, isliye bit computer ki base data unit hai.</li>\n",
    "</ul><hr></div></body>\n",
    "\n"
   ]
  },
  {
   "cell_type": "markdown",
   "id": "6ccb1e4c-dc95-4252-a574-59e50f7a604f",
   "metadata": {},
   "source": [
    "<body style=\"font-family: Sans-serif;\">\n",
    "    <div style=\"color: black; font-size: 18px; font-style: oblique; text-shadow: 0 0 3px white, 0 0 1px black; padding: 20px;\">\n",
    "        <h3>Byte: (8 Bits)</h3>\n",
    "        <ul>\n",
    "            <li>Kyunki 1 bit sirf 0 aur 1 ko hold kar sakta hai, iska storage ya processing mein effective use nahi tha.</li><br>\n",
    "            <li>8 bits ka group ko ek unit banaya gaya jise 1 byte kehte hain.</li><br>\n",
    "            <li>1 byte ek character ko store kar sakta hai, jaise A, B, 1, ya #. Yeh isliye hua kyunki ek byte (8 bits) mein total 256 combinations (2^8) banaye ja sakte hain.</li><br>\n",
    "            <li>Isliye computer mein data ko 8-bits ke groups mein organize karna asaan ho gaya, aur is group ko byte kaha gaya.</li>\n",
    "</ul><hr></div></body>\n",
    "\n"
   ]
  },
  {
   "cell_type": "markdown",
   "id": "9e833ac2-f387-4c4f-b845-2d1ed94e6dbe",
   "metadata": {},
   "source": [
    "<body style=\"font-family: Sans-serif;\">\n",
    "    <div style=\"color: black; font-size: 18px; font-style: oblique; text-shadow: 0 0 3px white, 0 0 1px black; padding: 20px;\">\n",
    "        <h3>Kilobyte (KB) 2^10:</h3>\n",
    "        <ul>\n",
    "            <li>Jab computers develop huye aur zyada data ko process karna pada, toh bytes ko bhi large units mein organize karna zaroori ho gaya.</li><br>\n",
    "            <li>1 Kilobyte (KB) ko 1024 bytes (2^10 bytes) se define kiya gaya.</li><br>\n",
    "            <li>Yeh size ka calculation binary system par based hai, aur binary calculation ke hisaab se 1024 ko hi nearest value mana gaya 1000 ke aas-paas.</li><br>\n",
    "</ul><hr></div></body>\n",
    "\n"
   ]
  },
  {
   "cell_type": "markdown",
   "id": "0397ceab-9394-475d-b4f8-597ebb361539",
   "metadata": {},
   "source": [
    "<body style=\"font-family: Sans-serif;\">\n",
    "    <div style=\"color: black; font-size: 18px; font-style: oblique; text-shadow: 0 0 3px white, 0 0 1px black; padding: 20px;\">\n",
    "        <h3>Megabyte (MB), Gigabyte (GB), etc.</h3>\n",
    "        <ul>\n",
    "            <li>Jese jese data badhta gaya, aur storage aur processing mein improvements aayi, aur bade units ki zaroorat mehsoos hone lagi.</li><br>\n",
    "            <li>Isliye yeh larger units define kiye gaye:\n",
    "            <ul>\n",
    "                <li>1 Megabyte (MB) = 2^20 = 1048576 KB</li>\n",
    "                <li>1 Gigabyte (GB) = 2^30 MB 1073741824 MB</li>\n",
    "            </ul>\n",
    "            </li><br>\n",
    "    <li>Har unit pehle wale se 1024 times bada hota hai kyunki computers binary system use karte hain jo power-of-2 par based hai.</li>\n",
    "</ul><hr></div></body>\n",
    "\n"
   ]
  },
  {
   "cell_type": "markdown",
   "id": "d23c8a21-4f70-4530-83ac-3e31e498bd3c",
   "metadata": {},
   "source": [
    "<h1 style=\"text-align:center; color:#005bbd; font-size:30px; font-family:Sans-serif; font-style: oblique; text-shadow: 0 0 3px white, 0 0 1px Black;\">\n",
    "  Odd Numbers Architectures\n",
    "</h1>"
   ]
  },
  {
   "cell_type": "markdown",
   "id": "773a3df6-d657-459e-9a94-c960a4bb5503",
   "metadata": {},
   "source": [
    "<body style=\"font-family: Sans-serif;\">\n",
    "    <div style=\"color: black; font-size: 18px; font-style: oblique; text-shadow: 0 0 3px white, 0 0 1px black; padding: 20px;\">\n",
    "        <ul>\n",
    "            <li>Computer architecture mein hum aksar 8-bit, 16-bit, 32-bit, aur 64-bit jaise even bit-widths ka istemal karte hain. Iska mukhya sabab compatibility, standardization, aur efficiency hai.</li><br>\n",
    "            <ul><hr>\n",
    "                <b>Standardization aur Compatibility:</b><br>\n",
    "                <ul>\n",
    "            <li>8-bit ka 1 byte standard unit hai jo data ko represent karta hai. Is standardization ki wajah se hardware aur software components ke darmiyan compatibility asaan ho jati hai.</li><br>\n",
    "                <li>Agar hum odd bit-widths (jaise 9-bit) ka istemal karein, to data ko process karne aur store karne mein complexities barh jati hain, kyunke zyada tar systems 8-bit ke multiples ko handle karne ke liye design kiye gaye hain</li>\n",
    "                </ul></ul><hr>\n",
    "<ul>\n",
    "                <b>Memory Alignment aur Efficiency:</b><br>\n",
    "                <ul>\n",
    "            <li>Even bit-widths ka istemal memory alignment ko behtar banata hai, jo data access ko efficient banata hai.</li><br>\n",
    "                <li>Odd bit-widths ka istemal memory alignment issues paida kar sakta hai, jis se performance mein kami aur power consumption mein izafa ho sakta hai.</li>\n",
    "                </ul></ul>\n",
    "<hr>\n",
    "<ul>\n",
    "                <b>Historical aur Practical Reasons</b><br>\n",
    "                <ul>\n",
    "            <li>Pehle ke computers mein bhi 8-bit, 16-bit, 32-bit, aur 64-bit architectures ka istemal hota tha, jo aaj tak chala aa raha hai. </li><br>\n",
    "                <li>Is continuity ki wajah se hardware aur software development mein asaani hoti hai.</li>\n",
    "                </ul></ul>\n",
    "</ul><hr>\n",
    "<ul><br>\n",
    "computer hardware components, jaise RAM, USB drives, aur storage drives, zyada tar even numbers (8-bit, 16-bit, 32-bit, etc.) mein design kiye gaye hain:<br><br>\n",
    "    <li>RAM modules, jaise DDR3 aur DDR4, zyada tar 8-bit ya 64-bit architecture par based hote hain, jo data ko efficiently read aur write karne mein madadgar hote hain.</li><br>\n",
    "<li>USB drives ki capacities (16 GB, 32 GB, 64 GB) even numbers mein hoti hain, jo data transfer aur storage ko asaan aur efficient banati hain.</li><br>\n",
    "<li>Hard drives aur SSDs standard file systems (NTFS, FAT32) ko use karte hain, jo even bit widths ke liye design kiye gaye hain, taake read/write operations fast aur efficient hon.</li><br>\n",
    "<li>Even bit widths ko design karne se memory access time reduce hota hai, kyunke processors ko data access karna asan hota hai, jo odd sizes mein nahi hota.</li>\n",
    "</ul><br>\n",
    "<i>In sab wajah se, computer hardware components zyada tar even bit-widths mein design kiye jate hain, taake efficiency, performance, aur compatibility barh sake.\n",
    "</i>\n",
    "    </div>\n",
    "</body>"
   ]
  }
 ],
 "metadata": {
  "kernelspec": {
   "display_name": "C++17",
   "language": "C++17",
   "name": "xcpp17"
  },
  "language_info": {
   "codemirror_mode": "text/x-c++src",
   "file_extension": ".cpp",
   "mimetype": "text/x-c++src",
   "name": "c++",
   "version": "17"
  }
 },
 "nbformat": 4,
 "nbformat_minor": 5
}
