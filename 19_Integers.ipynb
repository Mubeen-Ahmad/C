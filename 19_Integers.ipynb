{
 "cells": [
  {
   "cell_type": "markdown",
   "id": "1088fe6d-7ccb-479f-aa01-80b926668068",
   "metadata": {},
   "source": [
    "<h1 style=\"text-align:center; color:#005bbd; font-size:30px; font-family:Sans-serif; font-style: oblique; text-shadow: 0 0 3px white, 0 0 1px Black;\">\n",
    "   Basic Types (Primitive Data Types)\n",
    "</h1>"
   ]
  },
  {
   "cell_type": "markdown",
   "id": "2cd59b45-a16d-4d0e-b7fc-d81e5fcbe612",
   "metadata": {},
   "source": [
    "<body style=\"font-family: Sans-serif;\">\n",
    "    <div style=\"color: black; font-size: 18px; font-style: oblique; text-shadow: 0 0 3px white, 0 0 1px black; padding: 20px;\">\n",
    "        <ul>\n",
    "            <li>Basic types wo primitive data types hain jo C language ke foundation hain. Inke bina kisi bhi complex data type ko define karna mushkil hota hai. </li><br>\n",
    "            <li>Ye types directly hardware ke sath compatible hoti hain aur memory mein specific size occupy karti hain. Basic types mein commonly used types char, int, float, aur bool hain.</li>\n",
    "</ul></div></body>\n",
    "\n"
   ]
  },
  {
   "cell_type": "markdown",
   "id": "c8596972-4319-4fee-b79e-e7911a4b49a7",
   "metadata": {},
   "source": [
    "<img style=\"display: block;margin-left: auto;margin-right: auto;width: 80%;\" src=\"./images/primitive.jpg\">"
   ]
  },
  {
   "cell_type": "markdown",
   "id": "215bcfed-59b2-4d08-8e6d-e46babacf7da",
   "metadata": {},
   "source": [
    "<body style=\"font-family: Sans-serif;\">\n",
    "    <div style=\"color: black; font-size: 18px; font-style: oblique; text-shadow: 0 0 3px white, 0 0 1px black; padding: 20px;\">\n",
    "        <ul> <h3>Integer</h3>\n",
    "            <li>Integer data type whole numbers ko store karte hain.</li><br>\n",
    "            <li>C programming mein integer data types ko memory ke size aur range ke hisaab se define kiya jata hai, aur yeh sign aur unsigned form mein hote hain</li>\n",
    "</ul></div></body>\n",
    "\n"
   ]
  },
  {
   "cell_type": "markdown",
   "id": "d03ef896-8270-461a-8b7d-f45d05012bce",
   "metadata": {},
   "source": [
    "<h1 style=\"text-align:center; color:#005bbd; font-size:30px; font-family:Sans-serif; font-style: oblique; text-shadow: 0 0 3px white, 0 0 1px Black;\">\n",
    "   Signed Integers\n",
    "</h1>"
   ]
  },
  {
   "cell_type": "markdown",
   "id": "a5333ca2-58cd-42dd-af76-14421c3c75de",
   "metadata": {},
   "source": [
    "<body style=\"font-family: Sans-serif;\">\n",
    "    <div style=\"color: black; font-size: 18px; font-style: oblique; text-shadow: 0 0 3px white, 0 0 1px black; padding: 20px;\">\n",
    "        <ul> <h3>Signed Integers (+/- values) :</h3>\n",
    "            <li>Inka range negative aur positive dono numbers tak hota hai.</li>\n",
    "            <li>Example: -10, 0, 25</li>\n",
    "            <li>Data types: int, short int, long int, long long int</li>\n",
    "</ul></div></body>\n",
    "\n"
   ]
  },
  {
   "cell_type": "markdown",
   "id": "2874fea4-36de-4fe1-8be3-67f85c6f01fb",
   "metadata": {},
   "source": [
    "<body style=\"font-family: Sans-serif;\">\n",
    "    <div style=\"color: black; font-size: 18px; font-style: oblique; text-shadow: 0 0 3px white, 0 0 1px black; padding: 20px;\">\n",
    "        <ul> <h3>short int</h3>\n",
    "            <li>short int ko is tarah design kiya gaya hai ke yeh memory kam use kare aur sirf chhoti values ko store kare.</li><br>\n",
    "            <li> Yeh usually 2 bytes (16 bits) ka memory space leta hai, lekin kuch systems par yeh 4 bytes bhi ho sakta hai (platform-specific differences hain). Iski range uske sign pe depend karti hai:</li><br>\n",
    "            <li>Format Specifier: %hd</li>\n",
    "</ul></div></body>\n",
    "\n"
   ]
  },
  {
   "cell_type": "markdown",
   "id": "15128d55-dea6-4d80-911e-f069c4557e50",
   "metadata": {},
   "source": [
    "<body style=\"font-family: Sans-serif;\">\n",
    "    <div style=\"color: black; font-size: 18px; font-style: oblique; text-shadow: 0 0 3px white, 0 0 1px black; padding: 20px;\">\n",
    "        <ul>\n",
    "Check karte hain ke mera system ki short int ki range kya hai\n",
    "</ul></div></body>\n",
    "\n"
   ]
  },
  {
   "cell_type": "code",
   "execution_count": 24,
   "id": "712d0052-8a16-4d88-98de-e3c7365a5f26",
   "metadata": {},
   "outputs": [
    {
     "name": "stdout",
     "output_type": "stream",
     "text": [
      "Minimum value: -32768\n",
      "Maximum value: 32767\n",
      "Size of short int: 2 bytes"
     ]
    }
   ],
   "source": [
    "#include <stdio.h>\n",
    "#include <limits.h>\n",
    "\n",
    "int main() {\n",
    "    printf(\"Minimum value: %d\\n\", SHRT_MIN);\n",
    "    printf(\"Maximum value: %d\\n\", SHRT_MAX);\n",
    "    printf(\"Size of short int: %zu bytes\", sizeof(short int));\n",
    "    return 0;\n",
    "}"
   ]
  },
  {
   "cell_type": "markdown",
   "id": "5eac63a1-7c62-4cfc-b53b-29f98d62065a",
   "metadata": {},
   "source": [
    "<body style=\"font-family: Sans-serif;\">\n",
    "    <div style=\"color: black; font-size: 18px; font-style: oblique; text-shadow: 0 0 3px white, 0 0 1px black; padding: 20px;\">\n",
    "        <ul>\n",
    "            <li>SHRT_MIN aur SHRT_MAX ko hum limits.h se access karte hain, jo short int ki range define karte hain.</li>\n",
    "        <li>sizeof(short int) se short int ka size bytes mein milta hai.</li>\n",
    "            <li>%zu format specifier sizeof ke output ko sahi tarah se display karta hai.</li>\n",
    "</ul></div></body>\n",
    "\n"
   ]
  },
  {
   "cell_type": "markdown",
   "id": "f1b31927-a9b1-4baa-85b3-136a06e0e2d3",
   "metadata": {},
   "source": [
    "<img style=\"display: block;margin-left: auto;margin-right: auto;width: 60%;\" src=\"./images/signint.jpg\">"
   ]
  },
  {
   "cell_type": "markdown",
   "id": "2d5b8b51-587c-42c9-905f-1a94fffe357e",
   "metadata": {},
   "source": [
    "<body style=\"font-family: Sans-serif;\">\n",
    "    <div style=\"color: black; font-size: 18px; font-style: oblique; text-shadow: 0 0 3px white, 0 0 1px black; padding: 20px;\">\n",
    "        <ul>\n",
    "            Values store karne ke liye short int keyword ka use kiya jata hai.\n",
    "</ul></div></body>\n",
    "\n"
   ]
  },
  {
   "cell_type": "code",
   "execution_count": 26,
   "id": "47fe00bd-a201-4c3b-a0b7-13d03635da60",
   "metadata": {},
   "outputs": [
    {
     "name": "stdout",
     "output_type": "stream",
     "text": [
      "x = 32767\n",
      "y = -32768"
     ]
    }
   ],
   "source": [
    "#include <stdio.h>\n",
    "int main() {\n",
    "    short int x = 32767;\n",
    "    short int y = -32768;\n",
    "    printf(\"x = %hd\\ny = %hd\",x,y);\n",
    "    return 0;\n",
    "}"
   ]
  },
  {
   "cell_type": "markdown",
   "id": "10b2d012-415c-4554-9782-8d5226d6c82a",
   "metadata": {},
   "source": [
    "<body style=\"font-family: Sans-serif;\">\n",
    "    <div style=\"color: black; font-size: 18px; font-style: oblique; text-shadow: 0 0 3px white, 0 0 1px black; padding: 20px;\">\n",
    "        <ul>\n",
    "Yahan hum zyada range ki value store karke dekhte hain ke kya value 16-bit se badi range ki value store hoti hai ya nahi.</ul></div></body>\n",
    "\n"
   ]
  },
  {
   "cell_type": "code",
   "execution_count": 16,
   "id": "324a2409-5f28-49cf-9999-0a7fbffdbf99",
   "metadata": {},
   "outputs": [
    {
     "name": "stderr",
     "output_type": "stream",
     "text": [
      "\u001bwarning: overflow in conversion from ‘int’ to ‘short int’ changes value from ‘-32769’ to ‘32767’ [-Woverflow],"
     ]
    }
   ],
   "source": [
    "#include <stdio.h>\n",
    "int main() {\n",
    "    short int x = -32769;\n",
    "    printf(\"x = %hd\",x);\n",
    "    return 0;\n",
    "}"
   ]
  },
  {
   "cell_type": "markdown",
   "id": "41fb0428-51a3-4f9c-9c9f-967a02363457",
   "metadata": {},
   "source": [
    "<body style=\"font-family: Sans-serif;\">\n",
    "    <div style=\"color: black; font-size: 18px; font-style: oblique; text-shadow: 0 0 3px white, 0 0 1px black; padding: 20px;\">\n",
    "        value overflow ho gayi hai, iska matlab hai ke bit ki range 16 thi, lekin humne yahan 16-bit range se zyada data diya, jiski wajah se overflow yaani buffer overflow ho gaya.</div></body>\n",
    "\n"
   ]
  },
  {
   "cell_type": "markdown",
   "id": "153325da-5fe4-490d-a6a6-1efe248de458",
   "metadata": {},
   "source": [
    "<body style=\"font-family: Sans-serif;\">\n",
    "    <div style=\"color: black; font-size: 18px; font-style: oblique; text-shadow: 0 0 3px white, 0 0 1px black; padding: 20px;\">\n",
    "        <ul> <h3>int</h3>\n",
    "            <li>int zyada commonly use hota hai, kyun ke iski range wide hoti hai aur yeh larger values handle kar sakta hai. </li><br>\n",
    "            <li> int 4 bytes (32 bits) hota hai, yani ke short int se zyada range hoti hai.But Range mein (platform-specific differences hain)</li><br>\n",
    "                        <li>Format Specifier: %d</li>\n",
    "\n",
    "</ul></div></body>\n",
    "\n"
   ]
  },
  {
   "cell_type": "code",
   "execution_count": 29,
   "id": "cf35cef5-18ad-4422-9fa8-37ecff744ac7",
   "metadata": {},
   "outputs": [
    {
     "name": "stdout",
     "output_type": "stream",
     "text": [
      "Minimum value: -2147483648\n",
      "Maximum value: 2147483647\n",
      "Size of short int: 4 bytes"
     ]
    }
   ],
   "source": [
    "#include <stdio.h>\n",
    "#include <limits.h>\n",
    "\n",
    "int main() {\n",
    "    printf(\"Minimum value: %d\\n\", INT_MIN);\n",
    "    printf(\"Maximum value: %d\\n\", INT_MAX);\n",
    "    printf(\"Size of short int: %zu bytes\", sizeof(int));\n",
    "    return 0;\n",
    "}"
   ]
  },
  {
   "cell_type": "code",
   "execution_count": 7,
   "id": "92c97359-b8d2-44af-bee4-5b19cbd24745",
   "metadata": {},
   "outputs": [
    {
     "name": "stdout",
     "output_type": "stream",
     "text": [
      "x = 2147483647\n",
      "y = -2147483648"
     ]
    }
   ],
   "source": [
    "#include <stdio.h>\n",
    "int main() {\n",
    "    int x = 2147483647;\n",
    "    int y = -2147483648;\n",
    "    printf(\"x = %d\\ny = %d\",x,y);\n",
    "    return 0;\n",
    "}"
   ]
  },
  {
   "cell_type": "markdown",
   "id": "110d247c-cbe7-4038-a965-246f35844386",
   "metadata": {},
   "source": [
    "<body style=\"font-family: Sans-serif;\">\n",
    "    <div style=\"color: black; font-size: 18px; font-style: oblique; text-shadow: 0 0 3px white, 0 0 1px black; padding: 20px;\">\n",
    "        <ul> <h3>long int</h3>\n",
    "            <li>long int data type ko design kiya gaya hai taake yeh aur bhi larger values ko store kar sake jo ke int se bhi zyada ho sakti hain.  </li><br>\n",
    "            <li> Yeh 4 bytes ya 8 bytes ka memory space le sakta hai, jo platform-specific hota hai.</li><br>\n",
    "                        <li>Format Specifier: %ld</li>\n",
    "\n",
    "</ul></div></body>\n",
    "\n"
   ]
  },
  {
   "cell_type": "code",
   "execution_count": 51,
   "id": "7bc295aa-bc69-4aa0-a526-ca7f58927496",
   "metadata": {},
   "outputs": [
    {
     "name": "stdout",
     "output_type": "stream",
     "text": [
      "Minimum value of signed long int: -9223372036854775808\n",
      "Maximum value of signed long int: 9223372036854775807\n",
      "Size of signed long int: 8 bytes\n"
     ]
    }
   ],
   "source": [
    "#include <stdio.h>\n",
    "#include <limits.h>\n",
    "\n",
    "int main() {\n",
    "    printf(\"Minimum value of signed long int: %ld\\n\", LONG_MIN);\n",
    "    printf(\"Maximum value of signed long int: %ld\\n\", LONG_MAX);\n",
    "    printf(\"Size of signed long int: %zu bytes\\n\", sizeof(long int));\n",
    "\n",
    "    return 0;\n",
    "}"
   ]
  },
  {
   "cell_type": "code",
   "execution_count": 5,
   "id": "45d25972-d566-4315-958f-f6f9b14d8f6c",
   "metadata": {},
   "outputs": [
    {
     "name": "stdout",
     "output_type": "stream",
     "text": [
      "x =  9223372036854775807\n",
      "y = -9223372036854775808\n"
     ]
    }
   ],
   "source": [
    "#include <stdio.h>\n",
    "\n",
    "int main() {\n",
    "    long int x = 9223372036854775807L;   // Max value for signed long int\n",
    "    long int y = -9223372036854775807L - 1L; // Min value using subtraction\n",
    "    \n",
    "    printf(\"x =  %ld\\n\", x);\n",
    "    printf(\"y = %ld\\n\", y);\n",
    "\n",
    "    return 0;\n",
    "}"
   ]
  },
  {
   "cell_type": "markdown",
   "id": "007b1838-e464-45c6-a3b8-07e508d52ed1",
   "metadata": {},
   "source": [
    "<body style=\"font-family: Sans-serif;\">\n",
    "    <div style=\"color: black; font-size: 18px; font-style: oblique; text-shadow: 0 0 3px white, 0 0 1px black; padding: 20px;\">\n",
    "        C language me -9223372036854775808 ko directly likhne par kuch compilers error throw karte hain ya incorrect value interpret karte hain. <br>Yeh is liye hota hai kyunki C compiler pehle 9223372036854775808 ko positive value ki tarah parse karta hai, jo signed long int ke maximum range se zyada hai, aur uske baad - sign apply karta hai.<br><br>\n",
    "Is problem ko solve karne ke liye hum -9223372036854775807L - 1L ka trick use karte hain, jo safe aur consistent tariqa hai minimum value define karne ka.<ul>\n",
    "        <li>L ek suffix hai jo integer literals ko long ya long long type specify karne ke liye use hota hai.</li></ul>\n",
    "\n",
    "</div></body>\n",
    "\n"
   ]
  },
  {
   "cell_type": "markdown",
   "id": "4d999b43-c392-4312-8916-eddc08b2f254",
   "metadata": {},
   "source": [
    "<body style=\"font-family: Sans-serif;\">\n",
    "    <div style=\"color: black; font-size: 18px; font-style: oblique; text-shadow: 0 0 3px white, 0 0 1px black; padding: 20px;\">\n",
    "        <ul> <h3>long long int</h3>\n",
    "            <li>long long int data type ko C language mein aur bhi badi values ko store karne ke liye design kiya gaya hai, jo long int se bhi zyada ho sakti hain.</li><br>\n",
    "            <li>Ye type 64-bit systems par mostly 8 bytes (64 bits) space leta hai aur ye large range of integers ko hold kar sakta hai. But actual value platform-specific hoti hai </li><br>\n",
    "                        <li>Format Specifier: %lld</li>\n",
    "\n",
    "</ul></div></body>\n",
    "\n"
   ]
  },
  {
   "cell_type": "code",
   "execution_count": 25,
   "id": "b3e4c9a4-d69c-4d22-9863-da96d31e281e",
   "metadata": {},
   "outputs": [
    {
     "name": "stdout",
     "output_type": "stream",
     "text": [
      "Minimum value of signed long long int: -9223372036854775808\n",
      "Maximum value of signed long long int:  9223372036854775807\n",
      "Size of signed long long int: 8 bytes\n"
     ]
    }
   ],
   "source": [
    "#include <stdio.h>\n",
    "#include <limits.h>\n",
    "\n",
    "int main() {\n",
    "    printf(\"Minimum value of signed long long int: %lld\\n\",(long long) LLONG_MIN);\n",
    "    printf(\"Maximum value of signed long long int:  %lld\\n\", LLONG_MAX);\n",
    "    printf(\"Size of signed long long int: %zu bytes\\n\", sizeof(long long int));\n",
    "\n",
    "    return 0;\n",
    "}"
   ]
  },
  {
   "cell_type": "markdown",
   "id": "f043118d-36fe-49e4-a604-afa9809c06e7",
   "metadata": {},
   "source": [
    "<body style=\"font-family: Sans-serif;\">\n",
    "    <div style=\"color: black; font-size: 18px; font-style: oblique; text-shadow: 0 0 3px white, 0 0 1px black; padding: 20px;\">\n",
    "        <p>C language mein data type sizes aur ranges platform dependent hain, yaani 32-bit aur 64-bit architectures pe data type ki sizes aur limits different ho sakti hain. <br>64-bit systems mein long int aur long long int dono 8 bytes ke hote hain, aur isi liye unki values same aati hain.</p><br>\n",
    "Agar aap yehi code ek 32-bit system par run karenge, toh:<br>long int ka size 4 bytes hoga, aur maximum value 2147483647 hogi.<br>long long int ka size 8 bytes hoga, aur maximum value 9223372036854775807 hogi.<br><br>\n",
    "\n",
    "Yani 32-bit systems pe long int aur long long int mein clear difference hoga.\n",
    "\n",
    "</div></body>\n",
    "\n"
   ]
  },
  {
   "cell_type": "code",
   "execution_count": 28,
   "id": "ae3f0db2-9efb-4924-b004-6135f46a6e2a",
   "metadata": {
    "tags": []
   },
   "outputs": [
    {
     "name": "stdout",
     "output_type": "stream",
     "text": [
      "Maximum value of signed long int:      9223372036854775807\n",
      "Maximum value of signed long long int: 9223372036854775807\n"
     ]
    }
   ],
   "source": [
    "#include <stdio.h>\n",
    "#include <limits.h>\n",
    "\n",
    "int main() {\n",
    "    printf(\"Maximum value of signed long int:      %ld\\n\", LONG_MAX);\n",
    "    printf(\"Maximum value of signed long long int: %lld\\n\", LLONG_MAX);\n",
    "\n",
    "    return 0;\n",
    "}\n"
   ]
  },
  {
   "cell_type": "code",
   "execution_count": 29,
   "id": "adb14f7e-b56b-4f87-af9e-2624bc9a3600",
   "metadata": {
    "tags": []
   },
   "outputs": [
    {
     "name": "stdout",
     "output_type": "stream",
     "text": [
      "x =   9223372036854775807\n",
      "y =  -9223372036854775808\n"
     ]
    }
   ],
   "source": [
    "#include <stdio.h>\n",
    "\n",
    "int main() {\n",
    "    long long int x = 9223372036854775807L;   // Max value for signed long int\n",
    "    long long int y = -9223372036854775807L - 1L; // Min value using subtraction\n",
    "    \n",
    "    printf(\"x =   %lld\\n\", x);\n",
    "    printf(\"y =  %lld\\n\", y);\n",
    "\n",
    "    return 0;\n",
    "}"
   ]
  },
  {
   "cell_type": "markdown",
   "id": "489cc9c7-159a-4094-bda9-fda8ec1b813c",
   "metadata": {},
   "source": [
    "<h1 style=\"text-align:center; color:#005bbd; font-size:30px; font-family:Sans-serif; font-style: oblique; text-shadow: 0 0 3px white, 0 0 1px Black;\">\n",
    "   UnSigned Integers\n",
    "</h1>"
   ]
  },
  {
   "cell_type": "markdown",
   "id": "dcfca394-a5e0-478a-babc-98da802b5d7a",
   "metadata": {},
   "source": [
    "<body style=\"font-family: Sans-serif;\">\n",
    "    <div style=\"color: black; font-size: 18px; font-style: oblique; text-shadow: 0 0 3px white, 0 0 1px black; padding: 20px;\">\n",
    "        <ul> <h3>Unsigned Integers (Only + values):</h3>\n",
    "            <li>Inka range sirf positive numbers aur zero tak hota hai, negative values ko ye store nahi kar sakte.</li>\n",
    "            <li>Example: 0, 25, 50</li>\n",
    "            <li>Data types: unsigned int, unsigned short int, unsigned long int, unsigned long long int</li>\n",
    "</ul></div></body>\n",
    "\n"
   ]
  },
  {
   "cell_type": "markdown",
   "id": "0e8055f6-75b9-42d8-9628-49e076a4270c",
   "metadata": {},
   "source": [
    "<body style=\"font-family: Sans-serif;\">\n",
    "    <div style=\"color: black; font-size: 18px; font-style: oblique; text-shadow: 0 0 3px white, 0 0 1px black; padding: 20px;\">\n",
    "        <ul> <h3>unsigned short int</h3>\n",
    "            <li>unsigned short int ko is tarah design kiya gaya hai ke yeh memory kam use kare aur sirf chhoti values ko store kare.</li><br>\n",
    "            <li> Yeh usually 2 bytes (16 bits) ka memory space leta hai, lekin kuch systems par yeh 4 bytes bhi ho sakta hai (platform-specific differences hain). Iski range uske sign pe depend karti hai:</li><br>\n",
    "            <li>Format Specifier: %hd</li>\n",
    "</ul></div></body>\n",
    "\n"
   ]
  },
  {
   "cell_type": "code",
   "execution_count": 34,
   "id": "884e2a9b-d80f-41a0-a968-77c118be2b0f",
   "metadata": {
    "tags": []
   },
   "outputs": [
    {
     "name": "stdout",
     "output_type": "stream",
     "text": [
      "Minimum value of unsigned short int: 0\n",
      "Maximum value of unsigned short int: 65535\n",
      "Size of unsigned short int: 2 bytes\n"
     ]
    }
   ],
   "source": [
    "#include <stdio.h>\n",
    "#include <limits.h>\n",
    "\n",
    "int main() {\n",
    "    printf(\"Minimum value of unsigned short int: %u\\n\", 0); // Always 0 for unsigned types\n",
    "    printf(\"Maximum value of unsigned short int: %u\\n\", USHRT_MAX);\n",
    "    printf(\"Size of unsigned short int: %zu bytes\\n\", sizeof(unsigned short int));\n",
    "\n",
    "    return 0;\n",
    "}"
   ]
  },
  {
   "cell_type": "code",
   "execution_count": 40,
   "id": "340bf783-5f9c-4a07-b10b-a4092a614637",
   "metadata": {
    "tags": []
   },
   "outputs": [
    {
     "name": "stdout",
     "output_type": "stream",
     "text": [
      "x = 65535\n",
      "y = 0\n"
     ]
    }
   ],
   "source": [
    "#include <stdio.h>\n",
    "\n",
    "int main() {\n",
    "    unsigned short int x = 65535;\n",
    "    unsigned short int y = 0;     \n",
    "    \n",
    "    printf(\"x = %hu\\n\", x); \n",
    "    printf(\"y = %hu\\n\", y);\n",
    "\n",
    "    return 0;\n",
    "}\n"
   ]
  },
  {
   "cell_type": "markdown",
   "id": "004611cf-dacb-498e-8040-d53df3bfa934",
   "metadata": {},
   "source": [
    "<body style=\"font-family: Sans-serif;\">\n",
    "    <div style=\"color: black; font-size: 18px; font-style: oblique; text-shadow: 0 0 3px white, 0 0 1px black; padding: 20px;\">\n",
    "        <ul> <h3>unsigned int</h3>\n",
    "            <li>unsigned int data type negative values ko store nahi karta.  </li><br>\n",
    "            <li> Yeh sirf non-negative integers ko store karne ke liye design kiya gaya hai, jiski wajah se iska maximum value signed int se zyada hota hai.</li><br>\n",
    "            <li>Memory Size: unsigned int ka size bhi 4 bytes (32 bits) hota hai, jo ke platform-specific hai, lekin yeh hamesha non-negative values ko store karta hai.</li><br>\n",
    "                        <li>Format Specifier: %u</li>\n",
    "\n",
    "</ul></div></body>\n",
    "\n"
   ]
  },
  {
   "cell_type": "code",
   "execution_count": 41,
   "id": "0194181b-74d4-4d44-a5aa-1dfdad1d0ddc",
   "metadata": {
    "tags": []
   },
   "outputs": [
    {
     "name": "stdout",
     "output_type": "stream",
     "text": [
      "Minimum value of unsigned int: 0\n",
      "Maximum value of unsigned int: 4294967295\n",
      "Size of unsigned int: 4 bytes\n"
     ]
    }
   ],
   "source": [
    "#include <stdio.h>\n",
    "#include <limits.h>\n",
    "\n",
    "int main() {\n",
    "    printf(\"Minimum value of unsigned int: %u\\n\", 0); \n",
    "    printf(\"Maximum value of unsigned int: %u\\n\", UINT_MAX);\n",
    "    printf(\"Size of unsigned int: %zu bytes\\n\", sizeof(unsigned int));\n",
    "    return 0;\n",
    "}\n"
   ]
  },
  {
   "cell_type": "code",
   "execution_count": 46,
   "id": "88cb72ff-4d00-46b1-af66-60bb784014fb",
   "metadata": {
    "tags": []
   },
   "outputs": [
    {
     "name": "stdout",
     "output_type": "stream",
     "text": [
      "x = 4294967295\n",
      "y = 0\n"
     ]
    }
   ],
   "source": [
    "#include <stdio.h>\n",
    "\n",
    "int main() {\n",
    "    unsigned int x = 4294967295;\n",
    "    unsigned int y = 0;     \n",
    "    \n",
    "    printf(\"x = %u\\n\", x); \n",
    "    printf(\"y = %u\\n\", y);\n",
    "\n",
    "    return 0;\n",
    "}"
   ]
  },
  {
   "cell_type": "markdown",
   "id": "af0d5af6-78e7-45e8-b93b-e4db6f00259e",
   "metadata": {},
   "source": [
    "<body style=\"font-family: Sans-serif;\">\n",
    "    <div style=\"color: black; font-size: 18px; font-style: oblique; text-shadow: 0 0 3px white, 0 0 1px black; padding: 20px;\">\n",
    "        <ul> <h3>unsigned long int</h3>\n",
    "            <li>unsigned long int data type negative values ko store nahi karta. Yeh sirf non-negative integers ko store karne ke liye design kiya gaya hai, jiski wajah se iska maximum value signed long int se zyada hota hai.</li><br>\n",
    "            <li> Memory Size: unsigned long int ka size platform-specific hota hai. Yeh 4 bytes ya 8 bytes le sakta hai. Typically, modern platforms par yeh 8 bytes hota hai.</li><br>\n",
    "                        <li>Format Specifier: %lu</li>\n",
    "\n",
    "</ul></div></body>\n",
    "\n"
   ]
  },
  {
   "cell_type": "code",
   "execution_count": 50,
   "id": "0940aad2-891e-46fc-91ba-856587f62228",
   "metadata": {
    "tags": []
   },
   "outputs": [
    {
     "name": "stdout",
     "output_type": "stream",
     "text": [
      "Minimum value of unsigned long int: 0\n",
      "Maximum value of unsigned long int: 18446744073709551615\n",
      "Size of unsigned long int: 8 bytes\n"
     ]
    }
   ],
   "source": [
    "#include <stdio.h>\n",
    "#include <limits.h>\n",
    "\n",
    "int main() {\n",
    "    printf(\"Minimum value of unsigned long int: %d\\n\", 0);\n",
    "    printf(\"Maximum value of unsigned long int: %lu\\n\", ULONG_MAX); \n",
    "    printf(\"Size of unsigned long int: %zu bytes\\n\", sizeof(unsigned long int));\n",
    "    return 0;\n",
    "}\n"
   ]
  },
  {
   "cell_type": "code",
   "execution_count": 55,
   "id": "4cf8f7e7-eef7-4642-9e60-13638843d0e6",
   "metadata": {
    "tags": []
   },
   "outputs": [
    {
     "name": "stdout",
     "output_type": "stream",
     "text": [
      "x = 18446744073709551615\n",
      "y = 0\n"
     ]
    }
   ],
   "source": [
    "#include <stdio.h>\n",
    "\n",
    "int main() {\n",
    "    unsigned long int x = 18446744073709551615UL;\n",
    "    unsigned long int y = 0;     \n",
    "    \n",
    "    printf(\"x = %lu\\n\", x); \n",
    "    printf(\"y = %lu\\n\", y);\n",
    "\n",
    "    return 0;\n",
    "}\n"
   ]
  },
  {
   "cell_type": "markdown",
   "id": "ff50ec42-868c-4b19-9716-70daddb0d3ea",
   "metadata": {},
   "source": [
    "<body style=\"font-family: Sans-serif;\">\n",
    "    <div style=\"color: black; font-size: 18px; font-style: oblique; text-shadow: 0 0 3px white, 0 0 1px black; padding: 20px;\">\n",
    "       UL ek suffix hai jo integer literals ko unsigned long ya unsigned long long type specify karne ke liye use hota hai.\n",
    "</div></body>\n",
    "\n"
   ]
  },
  {
   "cell_type": "markdown",
   "id": "9c0997b5-d923-4d3c-9f60-3f5f10da6328",
   "metadata": {
    "tags": []
   },
   "source": [
    "<body style=\"font-family: Sans-serif;\">\n",
    "    <div style=\"color: black; font-size: 18px; font-style: oblique; text-shadow: 0 0 3px white, 0 0 1px black; padding: 20px;\">\n",
    "        <ul> <h3>unsigned long int</h3>\n",
    "            <li>unsigned long long int data type bhi negative values ko store nahi karta. Yeh sirf non-negative integers ko store karne ke liye design kiya gaya hai, jiski wajah se iska maximum value signed long long int se bhi zyada hota hai.</li><br>\n",
    "            <li> Memory Size: unsigned long long int ka size hamesha 8 bytes hota hai, jo 64 bits ke liye sufficient hai.</li><br>\n",
    "                        <li>Format Specifier: %llu</li>\n",
    "\n",
    "</ul></div></body>\n",
    "\n"
   ]
  },
  {
   "cell_type": "code",
   "execution_count": 58,
   "id": "17489db4-a13a-415b-9c79-f1b2ed80aaf8",
   "metadata": {
    "tags": []
   },
   "outputs": [
    {
     "name": "stdout",
     "output_type": "stream",
     "text": [
      "Minimum value of unsigned long long int: 0\n",
      "Maximum value of unsigned long long int: 18446744073709551615\n",
      "Size of unsigned long long int: 8 bytes\n"
     ]
    }
   ],
   "source": [
    "#include <stdio.h>\n",
    "#include <limits.h>\n",
    "\n",
    "int main() {\n",
    "    printf(\"Minimum value of unsigned long long int: %d\\n\", 0); \n",
    "    printf(\"Maximum value of unsigned long long int: %llu\\n\", ULLONG_MAX); \n",
    "    printf(\"Size of unsigned long long int: %zu bytes\\n\", sizeof(unsigned long long int)); \n",
    "    return 0;\n",
    "}"
   ]
  },
  {
   "cell_type": "code",
   "execution_count": 61,
   "id": "d08a9fe4-cd64-4ac4-95a7-f2b4df4906e6",
   "metadata": {
    "tags": []
   },
   "outputs": [
    {
     "name": "stdout",
     "output_type": "stream",
     "text": [
      "x = 18446744073709551615\n",
      "y = 0\n"
     ]
    }
   ],
   "source": [
    "#include <stdio.h>\n",
    "\n",
    "int main() {\n",
    "    unsigned long long int x = 18446744073709551615UL;\n",
    "    unsigned long long int y = 0;     \n",
    "    \n",
    "    printf(\"x = %llu\\n\", x); \n",
    "    printf(\"y = %llu\\n\", y);\n",
    "\n",
    "    return 0;\n",
    "}"
   ]
  },
  {
   "cell_type": "markdown",
   "id": "7320a0d3-12b5-44ce-b309-896ce0c1b4d8",
   "metadata": {},
   "source": [
    "<div style=\"color: black; font-size: 10x; font-style: oblique; text-shadow: 0 0 3px white, 0 0 1px black; padding: 20px;\">\n",
    "    <h3 style=\"text-align:center;\">Integers in C Ranges</h3>\n",
    "</div>\n",
    "<table style=\"width: 100%; border-collapse: collapse; margin: 20px 0; color: black; font-size: 10x; font-style: oblique; text-shadow: 0 0 3px white, 0 0 1px black; padding: 20px; table-layout: auto;\">\n",
    "    <thead>\n",
    "        <tr style=\"background-color: #f2f2f2;\">\n",
    "            <th style=\"border: 1px solid black; padding: 8px; text-align: center;\">Data Type</th>\n",
    "            <th style=\"border: 1px solid black; padding: 8px; text-align: center;\">Range</th>\n",
    "            <th style=\"border: 1px solid black; padding: 8px; text-align: center;\">Minimum Value</th>\n",
    "            <th style=\"border: 1px solid black; padding: 8px; text-align: center;\">Maximum Value</th>\n",
    "            <th style=\"border: 1px solid black; padding: 8px; text-align: center;\">Size (bytes)</th>\n",
    "            <th style=\"border: 1px solid black; padding: 8px; text-align: center;\">Format Specifier</th>\n",
    "            <th style=\"border: 1px solid black; padding: 8px; text-align: center;\">Suffix</th>\n",
    "        </tr>\n",
    "    </thead>\n",
    "    <tbody>\n",
    "        <tr>\n",
    "            <td style=\"border: 1px solid black; padding: 8px; text-align: center; max-width: 150px; word-wrap: break-word;\">short int</td>\n",
    "            <td style=\"border: 1px solid black; padding: 8px; text-align: center; max-width: 150px; word-wrap: break-word;\">-32,768 to 32,767</td>\n",
    "            <td style=\"border: 1px solid black; padding: 8px; text-align: center;\">-32,768</td>\n",
    "            <td style=\"border: 1px solid black; padding: 8px; text-align: center;\">32,767</td>\n",
    "            <td style=\"border: 1px solid black; padding: 8px; text-align: center;\">2</td>\n",
    "            <td style=\"border: 1px solid black; padding: 8px; text-align: center;\">%hd</td>\n",
    "            <td style=\"border: 1px solid black; padding: 8px; text-align: center;\">N/A</td>\n",
    "        </tr>\n",
    "        <tr>\n",
    "            <td style=\"border: 1px solid black; padding: 8px; text-align: center;\">unsigned short int</td>\n",
    "            <td style=\"border: 1px solid black; padding: 8px; text-align: center;\">0 to 65,535</td>\n",
    "            <td style=\"border: 1px solid black; padding: 8px; text-align: center;\">0</td>\n",
    "            <td style=\"border: 1px solid black; padding: 8px; text-align: center;\">65,535</td>\n",
    "            <td style=\"border: 1px solid black; padding: 8px; text-align: center;\">2</td>\n",
    "            <td style=\"border: 1px solid black; padding: 8px; text-align: center;\">%hu</td>\n",
    "            <td style=\"border: 1px solid black; padding: 8px; text-align: center;\">N/A</td>\n",
    "        </tr>\n",
    "        <tr>\n",
    "            <td style=\"border: 1px solid black; padding: 8px; text-align: center;\">int</td>\n",
    "            <td style=\"border: 1px solid black; padding: 8px; text-align: center;\">-2,147,483,648 to 2,147,483,647</td>\n",
    "            <td style=\"border: 1px solid black; padding: 8px; text-align: center;\">-2,147,483,648</td>\n",
    "            <td style=\"border: 1px solid black; padding: 8px; text-align: center;\">2,147,483,647</td>\n",
    "            <td style=\"border: 1px solid black; padding: 8px; text-align: center;\">4</td>\n",
    "            <td style=\"border: 1px solid black; padding: 8px; text-align: center;\">%d</td>\n",
    "            <td style=\"border: 1px solid black; padding: 8px; text-align: center;\">N/A</td>\n",
    "        </tr>\n",
    "        <tr>\n",
    "            <td style=\"border: 1px solid black; padding: 8px; text-align: center;\">unsigned int</td>\n",
    "            <td style=\"border: 1px solid black; padding: 8px; text-align: center;\">0 to 4,294,967,295</td>\n",
    "            <td style=\"border: 1px solid black; padding: 8px; text-align: center;\">0</td>\n",
    "            <td style=\"border: 1px solid black; padding: 8px; text-align: center;\">4,294,967,295</td>\n",
    "            <td style=\"border: 1px solid black; padding: 8px; text-align: center;\">4</td>\n",
    "            <td style=\"border: 1px solid black; padding: 8px; text-align: center;\">%u</td>\n",
    "            <td style=\"border: 1px solid black; padding: 8px; text-align: center;\">N/A</td>\n",
    "        </tr>\n",
    "        <tr>\n",
    "            <td style=\"border: 1px solid black; padding: 8px; text-align: center;\">long int</td>\n",
    "            <td style=\"border: 1px solid black; padding: 8px; text-align: center;\">-2,147,483,648 to 2,147,483,647 (32-bit),<br> -9,223,372,036,854,775,808 to 9,223,372,036,854,775,807 (64-bit)</td>\n",
    "            <td style=\"border: 1px solid black; padding: 8px; text-align: center;\">-2,147,483,648</td>\n",
    "            <td style=\"border: 1px solid black; padding: 8px; text-align: center;\">2,147,483,647 (32-bit)</td>\n",
    "            <td style=\"border: 1px solid black; padding: 8px; text-align: center;\">4 or 8</td>\n",
    "            <td style=\"border: 1px solid black; padding: 8px; text-align: center;\">%ld</td>\n",
    "            <td style=\"border: 1px solid black; padding: 8px; text-align: center;\">N/A</td>\n",
    "        </tr>\n",
    "        <tr>\n",
    "            <td style=\"border: 1px solid black; padding: 8px; text-align: center;\">unsigned long int</td>\n",
    "            <td style=\"border: 1px solid black; padding: 8px; text-align: center;\">0 to 4,294,967,295 (32-bit),<br> 0 to 18,446,744,073,709,551,615 (64-bit)</td>\n",
    "            <td style=\"border: 1px solid black; padding: 8px; text-align: center;\">0</td>\n",
    "            <td style=\"border: 1px solid black; padding: 8px; text-align: center;\">4,294,967,295 (32-bit)</td>\n",
    "            <td style=\"border: 1px solid black; padding: 8px; text-align: center;\">4 or 8</td>\n",
    "            <td style=\"border: 1px solid black; padding: 8px; text-align: center;\">%lu</td>\n",
    "            <td style=\"border: 1px solid black; padding: 8px; text-align: center;\">N/A</td>\n",
    "        </tr>\n",
    "        <tr>\n",
    "            <td style=\"border: 1px solid black; padding: 8px; text-align: center;\">long long int</td>\n",
    "            <td style=\"border: 1px solid black; padding: 8px; text-align: center;\">-9,223,372,036,854,775,808 to 9,223,372,036,854,775,807</td>\n",
    "            <td style=\"border: 1px solid black; padding: 8px; text-align: center;\">-9,223,372,036,854,775,808</td>\n",
    "            <td style=\"border: 1px solid black; padding: 8px; text-align: center;\">9,223,372,036,854,775,807</td>\n",
    "            <td style=\"border: 1px solid black; padding: 8px; text-align: center;\">8</td>\n",
    "            <td style=\"border: 1px solid black; padding: 8px; text-align: center;\">%lld</td>\n",
    "            <td style=\"border: 1px solid black; padding: 8px; text-align: center;\">LL</td>\n",
    "        </tr>\n",
    "        <tr>\n",
    "            <td style=\"border: 1px solid black; padding: 8px; text-align: center;\">unsigned long long int</td>\n",
    "            <td style=\"border: 1px solid black; padding: 8px; text-align: center;\">0 to 18,446,744,073,709,551,615</td>\n",
    "            <td style=\"border: 1px solid black; padding: 8px; text-align: center;\">0</td>\n",
    "            <td style=\"border: 1px solid black; padding: 8px; text-align: center;\">18,446,744,073,709,551,615</td>\n",
    "            <td style=\"border: 1px solid black; padding: 8px; text-align: center;\">8</td>\n",
    "            <td style=\"border: 1px solid black; padding: 8px; text-align: center;\">%llu</td>\n",
    "            <td style=\"border: 1px solid black; padding: 8px; text-align: center;\">ULL</td>\n",
    "        </tr>\n",
    "    </tbody>\n",
    "</table>\n"
   ]
  },
  {
   "cell_type": "code",
   "execution_count": 130,
   "id": "fd51a0d8-f9eb-4df7-92d3-12b16a27670a",
   "metadata": {
    "tags": []
   },
   "outputs": [
    {
     "name": "stdout",
     "output_type": "stream",
     "text": [
      "===============================================================\n",
      "\tsigned   short int Max            32767\n",
      "\tsigned   short int Min           -32768\n",
      "\tunsigned short int Max            65535\n",
      "\tunsigned short int Min            0\n",
      "\tSize of signed short int          2\n",
      "\tSize of unsigned short int        2\n",
      "===============================================================\n",
      "\tsigned        int Max             2147483647\n",
      "\tsigned        int Min            -2147483648\n",
      "\tunsigned      int Max             4294967295\n",
      "\tunsigned      int Min             0\n",
      "\tSize of signed int                4\n",
      "\tSize of unsigned int              4\n",
      "===============================================================\n",
      "\tsigned   long int Max             9223372036854775807\n",
      "\tsigned   long int Min            -9223372036854775808\n",
      "\tunsigned long int Max             18446744073709551615\n",
      "\tunsigned long int Min             0\n",
      "\tSize of signed long int           8\n",
      "\tSize of unsigned long int         8\n",
      "===============================================================\n",
      "\tsigned   long long int Max             9223372036854775807\n",
      "\tsigned   long long int Min            -9223372036854775808\n",
      "\tunsigned long long int Max             18446744073709551615\n",
      "\tunsigned long long int Min             0\n",
      "\tSize of signed long long int           8\n",
      "\tSize of unsigned long long int         8\n",
      "==============================================================="
     ]
    }
   ],
   "source": [
    "#include <stdio.h>\n",
    "#include <limits.h>\n",
    "int main(){\n",
    "    printf(\"===============================================================\\n\");\n",
    "    printf(\"\\tsigned   short int Max            %d\\n\",SHRT_MAX);\n",
    "    printf(\"\\tsigned   short int Min           %d\\n\",SHRT_MIN);\n",
    "    \n",
    "    printf(\"\\tunsigned short int Max            %d\\n\",USHRT_MAX);\n",
    "    printf(\"\\tunsigned short int Min            %d\\n\",0);\n",
    "    \n",
    "    printf(\"\\tSize of signed short int          %zu\\n\",sizeof(short int));\n",
    "    printf(\"\\tSize of unsigned short int        %zu\\n\",sizeof(unsigned short int));\n",
    "    printf(\"===============================================================\\n\");\n",
    "    \n",
    "    printf(\"\\tsigned        int Max             %d\\n\",INT_MAX);\n",
    "    printf(\"\\tsigned        int Min            %d\\n\",INT_MIN);\n",
    "    \n",
    "    printf(\"\\tunsigned      int Max             %u\\n\",UINT_MAX);\n",
    "    printf(\"\\tunsigned      int Min             %d\\n\",0);\n",
    "\n",
    "    printf(\"\\tSize of signed int                %zu\\n\",sizeof(int));\n",
    "    printf(\"\\tSize of unsigned int              %zu\\n\",sizeof(unsigned int));\n",
    "    printf(\"===============================================================\\n\");\n",
    "    \n",
    "    printf(\"\\tsigned   long int Max             %ld\\n\",LONG_MAX);\n",
    "    printf(\"\\tsigned   long int Min            %ld\\n\",LONG_MIN);\n",
    "    \n",
    "    printf(\"\\tunsigned long int Max             %lu\\n\",ULONG_MAX);\n",
    "    printf(\"\\tunsigned long int Min             %d\\n\",0);\n",
    "\n",
    "    printf(\"\\tSize of signed long int           %zu\\n\",sizeof(long int));\n",
    "    printf(\"\\tSize of unsigned long int         %zu\\n\",sizeof(unsigned long int));\n",
    "    printf(\"===============================================================\\n\");\n",
    "    \n",
    "    printf(\"\\tsigned   long long int Max             %lld\\n\",LLONG_MAX);\n",
    "    printf(\"\\tsigned   long long int Min            %lld\\n\",LLONG_MIN);\n",
    "    \n",
    "    printf(\"\\tunsigned long long int Max             %llu\\n\",ULLONG_MAX);\n",
    "    printf(\"\\tunsigned long long int Min             %d\\n\",0);\n",
    "\n",
    "    printf(\"\\tSize of signed long long int           %zu\\n\",sizeof(long long int));\n",
    "    printf(\"\\tSize of unsigned long long int         %zu\\n\",sizeof(unsigned long long int));\n",
    "    printf(\"===============================================================\");\n",
    "    \n",
    "        \n",
    "    \n",
    "}"
   ]
  }
 ],
 "metadata": {
  "kernelspec": {
   "display_name": "C++17",
   "language": "C++17",
   "name": "xcpp17"
  },
  "language_info": {
   "codemirror_mode": "text/x-c++src",
   "file_extension": ".cpp",
   "mimetype": "text/x-c++src",
   "name": "c++",
   "version": "17"
  }
 },
 "nbformat": 4,
 "nbformat_minor": 5
}
