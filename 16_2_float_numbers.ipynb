{
 "cells": [
  {
   "cell_type": "markdown",
   "id": "179f4560-c08d-408d-97cf-fdbde150906e",
   "metadata": {},
   "source": [
    "<h1 style=\"text-align:center; color:#005bbd; font-size:30px; font-family:Sans-serif; font-style: oblique; text-shadow: 0 0 3px white, 0 0 1px Black;\">\n",
    "   Floating-Point Numbers\n",
    "</h1>"
   ]
  },
  {
   "cell_type": "markdown",
   "id": "24b178ce-ac31-4e54-8709-a4420d62d2b7",
   "metadata": {},
   "source": [
    "<body style=\"font-family: Sans-serif;\">\n",
    "    <div style=\"color: black; font-size: 18px; font-style: oblique; text-shadow: 0 0 3px white, 0 0 1px black; padding: 20px;\">\n",
    "        Jab computers ka aaghaz hua, tab sab kuch binary mein tha. Binary sirf do digits, 0 aur 1, ka istemal karta hai. Lekin, sirf integers ko represent karna (jaise 1, 2, 3) asaan tha. Lekin, humari zindagi mein floating-point numbers (jaise 3.14, -5.75) bhi hoti hain jo decimal points ke sath hote hain.\n",
    "        <ul>\n",
    "            <li>Jab log scientific calculations, graphics, aur financial applications mein kaam karne lage, toh unhein zaroorat padi floating-point numbers ki</li><br>\n",
    "            <li>Sirf integers se kaam nahi chalta tha, unhein precise calculations ki zaroorat thi. Isliye, ek structured way develop kiya gaya taake hum floating-point numbers ko accurately represent kar sakein.</li>\n",
    "        </ul>\n",
    "</ul></div></body>\n",
    "\n"
   ]
  },
  {
   "cell_type": "markdown",
   "id": "51878540-89e9-41ac-ba13-e35325515e8f",
   "metadata": {},
   "source": [
    "<body style=\"font-family: Sans-serif;\">\n",
    "    <div style=\"color: black; font-size: 18px; font-style: oblique; text-shadow: 0 0 3px white, 0 0 1px black; padding: 20px;\">\n",
    "        <ul>\n",
    "            <li>Rule 1: Whole aur Fractional Parts Ko Separate Karna \n",
    "            <ul>\n",
    "                <li>Decimal number ko whole aur fractional parts mein alag karo.</li>\n",
    "                <li>Jaise, 5.75 mein:\n",
    "                    <ul><li>Whole part: 5</li>\n",
    "                        <li>Fractional part: 0.75</li>\n",
    "                    </ul>\n",
    "                </li>\n",
    "                </ul>\n",
    "            </li>\n",
    "        </ul>\n",
    "</ul></div></body>\n",
    "\n"
   ]
  },
  {
   "cell_type": "markdown",
   "id": "4fc9cbc3-57da-4a1b-841e-8ebef6b2b0ce",
   "metadata": {},
   "source": [
    "<img style=\"display: block;margin-left: auto;margin-right: auto;width: 50%;\" src=\"./images/rule1.jpg\">"
   ]
  },
  {
   "cell_type": "markdown",
   "id": "be92423d-ac94-4a82-9c3c-531c0c4bd2ed",
   "metadata": {},
   "source": [
    "<body style=\"font-family: Sans-serif;\">\n",
    "    <div style=\"color: black; font-size: 18px; font-style: oblique; text-shadow: 0 0 3px white, 0 0 1px black; padding: 20px;\">\n",
    "        <ul>\n",
    "            <li>Rule 2: Fractional Part Ko Multiply Karna\n",
    "            <ul>\n",
    "                <li>Fractional part (jaise 0.75) ko 2 se bar bar multiply karo jab tak fractional part 0 na ho jaye, ya required precision na mil jaye.</li>\n",
    "                <li>Har step mein:\n",
    "                    <ul><li>Result ka integer part (decimal point se pehle wala hissa) le lo.</li>\n",
    "                        <li>Phir bacha hua fractional part nayi calculation ke liye use karo.</li><br>\n",
    "                        <li>0.75 × 2 = 1.5 → Yahan 1 (decimal point se pehle wala hissa) le lo.</li>\n",
    "                        <li>Fraction 0.5 reh gaya, isko dobara use karo.</li>\n",
    "                        <li>0.5 × 2 = 1.0 → Yahan 1 le lo.</li>\n",
    "                        <li>Ab fractional part 0 hai, toh yahan stop karte hain.</li><br>\n",
    "                    </ul>\n",
    "                <li>Fraction 0.75 ka binary result 0.11 hai.</li>\n",
    "                </li>\n",
    "                </ul>\n",
    "            </li>\n",
    "        </ul>\n",
    "</ul></div></body>\n",
    "\n"
   ]
  },
  {
   "cell_type": "markdown",
   "id": "e4561c87-257e-4cae-9358-9543ebcdd93b",
   "metadata": {},
   "source": [
    "<img style=\"display: block;margin-left: auto;margin-right: auto;width: 75%;\" src=\"./images/rule2.jpg\">"
   ]
  },
  {
   "cell_type": "markdown",
   "id": "ebb5da79-3ae9-49df-82c6-e181d1470e71",
   "metadata": {},
   "source": [
    "<body style=\"font-family: Sans-serif;\">\n",
    "    <div style=\"color: black; font-size: 18px; font-style: oblique; text-shadow: 0 0 3px white, 0 0 1px black; padding: 20px;\">\n",
    "        <ul>\n",
    "            <li>Rule 3 Whole Part Ko Convert Aur Combine Karna\n",
    "            <ul>\n",
    "                <li>Whole part ko binary mein convert karo standard division method ke zariye, jo 2 se repeatedly divide karke result dekhta hai.</li>\n",
    "                <li>Whole part ka binary aur fractional part ka binary combine kar do.</li>\n",
    "                <li>Example\n",
    "                    <ul><li>5 ka binary 101 hai.</li>\n",
    "                        <li>Fraction 0.75 ka binary (Rule 2 se) 0.11 hai.</li><br>\n",
    "                        <li>0.75 × 2 = 1.5 → Yahan 1 (decimal point se pehle wala hissa) le lo.</li>\n",
    "                        <li>Dono ko combine kar ke final binary milta hai: 101.11.</li>\n",
    "                    </ul>\n",
    "                </li>\n",
    "                </ul>\n",
    "            </li>\n",
    "        </ul>\n",
    "</ul></div></body>\n",
    "\n"
   ]
  },
  {
   "cell_type": "markdown",
   "id": "3ce6601b-a535-48ca-b483-7d3f2c09b6fd",
   "metadata": {},
   "source": [
    "<img style=\"display: block;margin-left: auto;margin-right: auto;width: 75%;\" src=\"./images/rule3.jpg\">"
   ]
  },
  {
   "cell_type": "markdown",
   "id": "311fd967-5754-47b4-90b2-d94ec875f293",
   "metadata": {},
   "source": [
    "<body style=\"font-family: Sans-serif;\">\n",
    "    <div style=\"color: black; font-size: 18px; font-style: oblique; text-shadow: 0 0 3px white, 0 0 1px black; padding: 20px;\">\n",
    "        <ul>\n",
    "            <li>Rule 4: Normalize Binary Number by Shifting the Point\n",
    "            <ul>\n",
    "                <li>Binary point ko shift karo aise ke pehla digit 1 ban jaye. Isay \"normalization\" kehte hain.</li>\n",
    "                <li>Example\n",
    "                    <ul><li>Agar binary number 101.11 hai, toh point ko aise shift karo ke 1 pehle position pe ho:</li>\n",
    "                     <li>101.11 ko 1.0111 banane ke liye binary point ko 2 positions left shift karenge.</li><br>\n",
    "                        </li>\n",
    "                    <li>Exponent calculate karo:</li>\n",
    "                <li>Jitni positions mein shift kiya gaya hai, usay exponent mein likha jata hai.</li>\n",
    "                <li>Agar point left shift hua hai toh exponent positive hoga, aur agar right shift hua hai toh exponent negative hoga.</li>\n",
    "                <li>Jaise, 101.11 se 1.0111 banane ke liye 2 positions left shift kiya, toh exponent +2 ban gaya.</li>\n",
    "                <li>Final result ye hoga: 1.0111 × 2^2.</li>\n",
    "                </ul>\n",
    "            </li><br>\n",
    "            <ul>\n",
    "                Understand\n",
    "                <li>Agar point left shift hua hai toh exponent positive hoga, aur agar right shift hua hai toh exponent negative hoga.</li>\n",
    "                <li>Agar humare paas koi chhota decimal number hai, jaise 0.011 (binary mein), aur humein isko normalize karna hai, toh humein binary point ko right shift karna padega taake decimal ke baad pehla digit 1 ho.</li>\n",
    "                <li>0.011 ko 1.1 banane ke liye, humein binary point ko 2 positions right shift karna padega.</li>\n",
    "                <li>Ab kyunke point right shift hua hai, exponent negative ho jata hai. Yani exponent -2 ho jayega.</li>\n",
    "                <li>Result ko hum likhenge: 1.1 × 2^(-2)</li>\n",
    "            </ul>\n",
    "        </ul>\n",
    "</ul></div></body>\n",
    "\n"
   ]
  },
  {
   "cell_type": "markdown",
   "id": "93474ec4-9e45-4868-8689-0e0a9ba14288",
   "metadata": {
    "tags": []
   },
   "source": [
    "<img style=\"display: block;margin-left: auto;margin-right: auto;width: 75%;\" src=\"./images/rule5.jpg\">"
   ]
  },
  {
   "cell_type": "markdown",
   "id": "021ba939-2b98-453c-a132-e925e322d178",
   "metadata": {},
   "source": [
    "<h1 style=\"text-align:center; color:#005bbd; font-size:30px; font-family:Sans-serif; font-style: oblique; text-shadow: 0 0 3px white, 0 0 1px Black;\">\n",
    "IEEE 754 Floating-Point Standard</h1>"
   ]
  },
  {
   "cell_type": "markdown",
   "id": "60c7d1b0-0ccc-4f0b-b682-cc957e73db6c",
   "metadata": {},
   "source": [
    "<body style=\"font-family: Sans-serif;\">\n",
    "    <div style=\"color: black; font-size: 18px; font-style: oblique; text-shadow: 0 0 3px white, 0 0 1px black; padding: 20px;\">\n",
    "        <ul>\n",
    "            <li>IEEE 754 standard mein binary floating-point numbers ko specific structure ke saath store kiya jata hai.</li>\n",
    "            <li>Yeh format 32-bit aur 64-bit mein thoda different hota hai, lekin basic principles same hain.</li>\n",
    "            <li>Isko positive aur negative numbers ke liye bhi alag tareeqe se handle kiya jata hai.</li><br>\n",
    "            <li>IEEE 754 format mein bias exponent calculate karne ka formula hota hai:\n",
    "                <ul>\n",
    "                    <li>Bias = 2(n−1)−1 </li>\n",
    "                    <li>n is a bits</li>\n",
    "                </ul>\n",
    "            <li>exponent calculate karne ka formula\n",
    "            <ul>\n",
    "                <li>E + Bias</li>\n",
    "                <li>E is Length of shifting bits point</li>\n",
    "                </ul>\n",
    "            </li>\n",
    "            </li><br>\n",
    "        <li>32 Bit ky lye n = 8 aur Mantissa 23 Bits</li>\n",
    "        <li>64 Bit ky lye n = 11 aur Matissa 52 Bits</li>\n",
    "</ul></div></body>\n",
    "\n"
   ]
  },
  {
   "cell_type": "markdown",
   "id": "29f16066-68a7-4ff8-b6c0-db41070ab1fc",
   "metadata": {},
   "source": [
    "<img style=\"display: block;margin-left: auto;margin-right: auto;width: 75%;\" src=\"./images/rule6.jpg\">"
   ]
  },
  {
   "cell_type": "markdown",
   "id": "a5c0b5cf-2863-46b8-bec1-ff92f5cac146",
   "metadata": {},
   "source": [
    "<body style=\"font-family: Sans-serif;\">\n",
    "    <div style=\"color: black; font-size: 18px; font-style: oblique; text-shadow: 0 0 3px white, 0 0 1px black; padding: 20px;\">\n",
    "        <ul>\n",
    "            <li>IEEE 754 format mein floating-point number ko store karne ke liye 3 main parts hote hain:</li><br>\n",
    "            <li>Signed Bit: Positive ke liye 0 aur negative ke liye 1.</li>\n",
    "            <li>Biased Exponent: Exponent ko bias kiya jaata hai.</li>\n",
    "            <li>Mantissa: Fractional part ko bits tak pad karte hain.</li>\n",
    "</ul></div></body>\n",
    "\n"
   ]
  },
  {
   "cell_type": "markdown",
   "id": "f14d9f41-188b-443e-8f36-62814ea730f6",
   "metadata": {
    "tags": []
   },
   "source": [
    "<img style=\"display: block;margin-left: auto;margin-right: auto;width: 75%;\" src=\"./images/rule7.jpg\">"
   ]
  }
 ],
 "metadata": {
  "kernelspec": {
   "display_name": "C++17",
   "language": "C++17",
   "name": "xcpp17"
  },
  "language_info": {
   "codemirror_mode": "text/x-c++src",
   "file_extension": ".cpp",
   "mimetype": "text/x-c++src",
   "name": "c++",
   "version": "17"
  }
 },
 "nbformat": 4,
 "nbformat_minor": 5
}
