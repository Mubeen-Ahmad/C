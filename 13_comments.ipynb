{
 "cells": [
  {
   "cell_type": "markdown",
   "id": "c24cddb6-6fc9-48fd-97a8-33285f3f2497",
   "metadata": {},
   "source": [
    "<h1 style=\"text-align:center; color:#005bbd; font-size:30px; font-family:Sans-serif; font-style: oblique; text-shadow: 0 0 3px white, 0 0 1px Black;\">\n",
    "   Comments\n",
    "</h1>"
   ]
  },
  {
   "cell_type": "markdown",
   "id": "4d858694-a44a-4506-9c6f-809b433a1ab8",
   "metadata": {},
   "source": [
    "\n",
    "<body style=\"font-family: Sans-serif;\">\n",
    "    <div style=\"color: black; font-size: 18px; font-style: oblique; text-shadow: 0 0 3px white, 0 0 1px black; padding: 20px;\">\n",
    "        <ul>\n",
    "        <li>Comments C language mein program ke code ko explain karne ke liye use hote hain. Ye sirf programmer ke liye hotay hain aur compiler inhe ignore karta hai, yani execution ke dauran inka koi role nahi hota.\n",
    "</li><br>\n",
    "    <ul>\n",
    "        <li>Comments 2 types ke hotay hain:</li><br><br>\n",
    "        <ul><li>Single-line comments</li><br>\n",
    "            <ul>\n",
    "                <li>Yeh comments sirf ek line par likhe jaate hain.</li><br>\n",
    "                <li>C99 se pehle sirf multi-line comments allowed the, lekin C99 se single-line comments bhi shamil ki gayi hain.</li><br>\n",
    "                <li>Syntax: // ke baad likha jata hai.</li>\n",
    "            </ul>\n",
    "        </ul>\n",
    "    </ul>\n",
    "        </ul>\n",
    "    </div></body>\n"
   ]
  },
  {
   "cell_type": "code",
   "execution_count": 2,
   "id": "f4a8b443-3f03-43fd-8963-8558e3373cab",
   "metadata": {},
   "outputs": [
    {
     "name": "stdout",
     "output_type": "stream",
     "text": [
      "2 3"
     ]
    }
   ],
   "source": [
    "#include <stdio.h>\n",
    "int main(){\n",
    "    int x; // Variable Declaration\n",
    "    x = 2; // Variable Initialization\n",
    "\n",
    "    int y = 3; // Variable Declaration and Initialization\n",
    "\n",
    "    printf(\"%d %d\",x,y); // Print x and y\n",
    "    return 0;  // main function return 0\n",
    "}"
   ]
  },
  {
   "cell_type": "markdown",
   "id": "d9a069ef-1806-49cf-9de2-4aff89c36281",
   "metadata": {},
   "source": [
    "\n",
    "<body style=\"font-family: Sans-serif;\">\n",
    "    <div style=\"color: black; font-size: 18px; font-style: oblique; text-shadow: 0 0 3px white, 0 0 1px black; padding: 20px;\">\n",
    "        <ul>\n",
    "    <ul>\n",
    "        <ul><li>Multi-line comments</li><br>\n",
    "            <ul>\n",
    "                <li>Yeh comments multiple lines cover kar sakte hain</li><br>\n",
    "                <li>Syntax: /* comments yaha likha jata hai */.</li>\n",
    "            </ul>\n",
    "        </ul>\n",
    "    </ul>\n",
    "        </ul>\n",
    "    </div></body>\n"
   ]
  },
  {
   "cell_type": "code",
   "execution_count": 8,
   "id": "79a57510-cadc-4b6f-8c89-2b1755fe88ca",
   "metadata": {},
   "outputs": [
    {
     "name": "stdout",
     "output_type": "stream",
     "text": [
      "Multi-Line Comments"
     ]
    }
   ],
   "source": [
    "#include <stdio.h>\n",
    "int main(){\n",
    "    /*    \n",
    "        This is the\n",
    "        Example of\n",
    "        Multi-Line Comments\n",
    "    */\n",
    "    printf(\"Multi-Line Comments\");\n",
    "}"
   ]
  },
  {
   "cell_type": "markdown",
   "id": "9277de7d-5047-46f9-8109-a01edd326486",
   "metadata": {},
   "source": [
    "<h1 style=\"text-align:center; color:#005bbd; font-size:30px; font-family:Sans-serif; font-style: oblique; text-shadow: 0 0 3px white, 0 0 1px Black;\">\n",
    "   Storage Durations\n",
    "</h1>"
   ]
  },
  {
   "cell_type": "markdown",
   "id": "1308df2b-e258-42b7-adc1-c8d58739f9e3",
   "metadata": {},
   "source": [
    "\n",
    "<body style=\"font-family: Sans-serif;\">\n",
    "    <div style=\"color: black; font-size: 18px; font-style: oblique; text-shadow: 0 0 3px white, 0 0 1px black; padding: 20px;\">\n",
    "        <ul>\n",
    "        <li>Storage durations ka matlab hai ke C programming mein variables ke memory mein store hone ka period ya duration kya hoga. Yeh determine karta hai ke variable kab tak memory mein rahega aur kab uski memory free hogi.\n",
    "</li><br>\n",
    "    <ul>\n",
    "        <li> C mein 4 main types hain:</li>\n",
    "        </ul>\n",
    "    </div></body>\n"
   ]
  },
  {
   "cell_type": "markdown",
   "id": "4c3b5d7a-0af1-41a3-bdaf-120a603e803d",
   "metadata": {},
   "source": [
    "<body style=\"font-family: Sans-serif;\">\n",
    "    <div style=\"color: black; font-size: 18px; font-style: oblique; text-shadow: 0 0 3px white, 0 0 1px black; padding: 20px;\">\n",
    "        <h3>Automatic Storage Duration</h3>\n",
    "        <ul>\n",
    "        <li>Yeh default storage duration hai jab aap function ke andar variables declare karte hain.</li>\n",
    "         <li>Automatic variables function call hone par create hote hain aur function return hone par destroy ho jaate hain.</li>\n",
    "    </ul>\n",
    "    </div></body>\n"
   ]
  },
  {
   "cell_type": "code",
   "execution_count": 4,
   "id": "4734f212-722d-45b6-a3b0-25d1c133ca5a",
   "metadata": {},
   "outputs": [
    {
     "name": "stdout",
     "output_type": "stream",
     "text": [
      "Value of x: 10\n"
     ]
    }
   ],
   "source": [
    "#include <stdio.h>\n",
    "\n",
    "void function() {\n",
    "    int x = 10; // Automatic variable\n",
    "    printf(\"Value of x: %d\\n\", x);\n",
    "}\n",
    "\n",
    "int main() {\n",
    "    function(); // Output: Value of x: 10\n",
    "\n",
    "    // x yahan accessible nahi hai\n",
    "    \n",
    "    return 0;\n",
    "}"
   ]
  },
  {
   "cell_type": "markdown",
   "id": "c8b978e9-6ff7-4f5c-826f-152bf899c0bf",
   "metadata": {},
   "source": [
    "<body style=\"font-family: Sans-serif;\">\n",
    "    <div style=\"color: black; font-size: 18px; font-style: oblique; text-shadow: 0 0 3px white, 0 0 1px black; padding: 20px;\">\n",
    "        <h3>Static Storage Duration</h3>\n",
    "        <ul>\n",
    "        <li>Yeh variables program ke poore duration ke liye memory mein rehte hain.</li>\n",
    "         <li>Yeh global variables ya static local variables ke liye use hota hai.</li>\n",
    "         <li>Inki memory program ke start hone par allocate hoti hai aur program ke end tak rehti hai.</li>\n",
    "    </ul>\n",
    "    </div></body>\n"
   ]
  },
  {
   "cell_type": "code",
   "execution_count": 10,
   "id": "f1f1668d-a7f5-4732-8057-ec52038dfd98",
   "metadata": {},
   "outputs": [
    {
     "name": "stdout",
     "output_type": "stream",
     "text": [
      "Count: 1\n",
      "Count: 2"
     ]
    }
   ],
   "source": [
    "#include <stdio.h>\n",
    "\n",
    "void function() {\n",
    "    static int count = 0; // Static variable\n",
    "    count++;\n",
    "    printf(\"Count: %d\\n\", count);\n",
    "}\n",
    "\n",
    "int main() {\n",
    "    function(); // Output: Count: 1\n",
    "    function(); // Output: Count: 2\n",
    "    return 0;\n",
    "}\n"
   ]
  },
  {
   "cell_type": "markdown",
   "id": "22c00f3a-0942-4d4f-b56d-1d17fe1998bb",
   "metadata": {},
   "source": [
    "<body style=\"font-family: Sans-serif;\">\n",
    "    <div style=\"color: black; font-size: 18px; font-style: oblique; text-shadow: 0 0 3px white, 0 0 1px black; padding: 20px;\">\n",
    "        <h3>Allocated Storage Duration</h3>\n",
    "        <ul>\n",
    "        <li>Yeh variables dynamic memory allocation ke through create hote hain (e.g., malloc() function se).</li>\n",
    "         <li>Inki memory heap par allocate hoti hai aur aapko manually free karni padti hai (e.g., free() function se).</li>\n",
    "    </ul>\n",
    "<br>\n",
    "<b>Note: Yahan ye target kiya gaya hai ke sirf concepts samjhe jayein. Code ki samajh agar nahi aa rahi to iski tension nahi leni, kyunki ye topics baad mein cover kiye jayenge. Abhi sirf ye samjhein ke Allocated Storage Duration ka concept kya hai.</b></div>\n",
    "    </div></body>\n"
   ]
  },
  {
   "cell_type": "code",
   "execution_count": 12,
   "id": "790046cb-9403-4863-8a78-84685efb5b11",
   "metadata": {},
   "outputs": [
    {
     "name": "stdout",
     "output_type": "stream",
     "text": [
      "1 2 3 4 5 "
     ]
    }
   ],
   "source": [
    "#include <stdio.h>\n",
    "#include <stdlib.h>\n",
    "\n",
    "int main() {\n",
    "    int *arr = (int *)malloc(5 * sizeof(int)); // Dynamic allocation\n",
    "    for (int i = 0; i < 5; i++) {\n",
    "        arr[i] = i + 1;\n",
    "        printf(\"%d \", arr[i]);\n",
    "    }\n",
    "    free(arr); // Memory free\n",
    "    return 0;\n",
    "}\n"
   ]
  },
  {
   "cell_type": "markdown",
   "id": "77a4a5d1-7df0-49e0-9a9b-8fe65756ac9b",
   "metadata": {},
   "source": [
    "<body style=\"font-family: Sans-serif;\">\n",
    "    <div style=\"color: black; font-size: 18px; font-style: oblique; text-shadow: 0 0 3px white, 0 0 1px black; padding: 20px;\">\n",
    "        <h3>Thread Storage Duration</h3>\n",
    "        <ul>\n",
    "        <li>Yeh variables multi-threaded programming mein use hote hain.</li>\n",
    "         <li>Har thread apni version ko maintain karta hai. Iska matlab hai ke jab ek thread variable ko change karta hai, to doosra thread usko nahi dekh sakta.</li>\n",
    "    </ul>\n",
    "<br>\n",
    "<b>Note: Yahan ye target kiya gaya hai ke sirf concepts samjhe jayein. Code ki samajh agar nahi aa rahi to iski tension nahi leni, kyunki ye topics baad mein cover kiye jayenge. Abhi sirf ye samjhein ke Thread Storage Duration ka concept kya hai.</b></div>\n",
    "    </div></body>\n"
   ]
  },
  {
   "cell_type": "code",
   "execution_count": 15,
   "id": "4b5998c7-ce62-46de-9c17-d2f5f2faeb0b",
   "metadata": {},
   "outputs": [
    {
     "name": "stdout",
     "output_type": "stream",
     "text": [
      "Thread-local variable: 1\n",
      "Thread-local variable: 1"
     ]
    }
   ],
   "source": [
    "#include <stdio.h>\n",
    "#include <pthread.h>\n",
    "\n",
    "__thread int thread_var = 0; // Thread-local storage\n",
    "\n",
    "void* thread_function(void* arg) {\n",
    "    thread_var += 1; // Each thread has its own copy\n",
    "    printf(\"Thread-local variable: %d\\n\", thread_var);\n",
    "    return NULL;\n",
    "}\n",
    "\n",
    "int main() {\n",
    "    pthread_t t1, t2;\n",
    "    pthread_create(&t1, NULL, thread_function, NULL);\n",
    "    pthread_create(&t2, NULL, thread_function, NULL);\n",
    "    pthread_join(t1, NULL);\n",
    "    pthread_join(t2, NULL);\n",
    "    return 0;\n",
    "}\n"
   ]
  }
 ],
 "metadata": {
  "kernelspec": {
   "display_name": "C++17",
   "language": "C++17",
   "name": "xcpp17"
  },
  "language_info": {
   "codemirror_mode": "text/x-c++src",
   "file_extension": ".cpp",
   "mimetype": "text/x-c++src",
   "name": "c++",
   "version": "17"
  }
 },
 "nbformat": 4,
 "nbformat_minor": 5
}
