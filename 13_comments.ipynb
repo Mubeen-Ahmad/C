{
 "cells": [
  {
   "cell_type": "markdown",
   "id": "c24cddb6-6fc9-48fd-97a8-33285f3f2497",
   "metadata": {},
   "source": [
    "<h1 style=\"text-align:center; color:#005bbd; font-size:30px; font-family:Sans-serif; font-style: oblique; text-shadow: 0 0 3px white, 0 0 1px Black;\">\n",
    "   Comments\n",
    "</h1>"
   ]
  },
  {
   "cell_type": "markdown",
   "id": "4d858694-a44a-4506-9c6f-809b433a1ab8",
   "metadata": {},
   "source": [
    "\n",
    "<body style=\"font-family: Sans-serif;\">\n",
    "    <div style=\"color: black; font-size: 18px; font-style: oblique; text-shadow: 0 0 3px white, 0 0 1px black; padding: 20px;\">\n",
    "        <ul>\n",
    "        <li>Comments C language mein program ke code ko explain karne ke liye use hote hain. Ye sirf programmer ke liye hotay hain aur compiler inhe ignore karta hai, yani execution ke dauran inka koi role nahi hota.\n",
    "</li><br>\n",
    "    <ul>\n",
    "        <li>Comments 2 types ke hotay hain:</li><br><br>\n",
    "        <ul><li>Single-line comments</li><br>\n",
    "            <ul>\n",
    "                <li>Yeh comments sirf ek line par likhe jaate hain.</li><br>\n",
    "                <li>C99 se pehle sirf multi-line comments allowed the, lekin C99 se single-line comments bhi shamil ki gayi hain.</li><br>\n",
    "                <li>Syntax: // ke baad likha jata hai.</li>\n",
    "            </ul>\n",
    "        </ul>\n",
    "    </ul>\n",
    "        </ul>\n",
    "    </div></body>\n"
   ]
  },
  {
   "cell_type": "code",
   "execution_count": 2,
   "id": "f4a8b443-3f03-43fd-8963-8558e3373cab",
   "metadata": {},
   "outputs": [
    {
     "name": "stdout",
     "output_type": "stream",
     "text": [
      "2 3"
     ]
    }
   ],
   "source": [
    "#include <stdio.h>\n",
    "int main(){\n",
    "    int x; // Variable Declaration\n",
    "    x = 2; // Variable Initialization\n",
    "\n",
    "    int y = 3; // Variable Declaration and Initialization\n",
    "\n",
    "    printf(\"%d %d\",x,y); // Print x and y\n",
    "    return 0;  // main function return 0\n",
    "}"
   ]
  },
  {
   "cell_type": "markdown",
   "id": "d9a069ef-1806-49cf-9de2-4aff89c36281",
   "metadata": {},
   "source": [
    "\n",
    "<body style=\"font-family: Sans-serif;\">\n",
    "    <div style=\"color: black; font-size: 18px; font-style: oblique; text-shadow: 0 0 3px white, 0 0 1px black; padding: 20px;\">\n",
    "        <ul>\n",
    "    <ul>\n",
    "        <ul><li>Multi-line comments</li><br>\n",
    "            <ul>\n",
    "                <li>Yeh comments multiple lines cover kar sakte hain</li><br>\n",
    "                <li>Syntax: /* comments yaha likha jata hai */.</li>\n",
    "            </ul>\n",
    "        </ul>\n",
    "    </ul>\n",
    "        </ul>\n",
    "    </div></body>\n"
   ]
  },
  {
   "cell_type": "code",
   "execution_count": 8,
   "id": "79a57510-cadc-4b6f-8c89-2b1755fe88ca",
   "metadata": {},
   "outputs": [
    {
     "name": "stdout",
     "output_type": "stream",
     "text": [
      "Multi-Line Comments"
     ]
    }
   ],
   "source": [
    "#include <stdio.h>\n",
    "int main(){\n",
    "    /*    \n",
    "        This is the\n",
    "        Example of\n",
    "        Multi-Line Comments\n",
    "    */\n",
    "    printf(\"Multi-Line Comments\");\n",
    "}"
   ]
  }
 ],
 "metadata": {
  "kernelspec": {
   "display_name": "C++17",
   "language": "C++17",
   "name": "xcpp17"
  },
  "language_info": {
   "codemirror_mode": "text/x-c++src",
   "file_extension": ".cpp",
   "mimetype": "text/x-c++src",
   "name": "c++",
   "version": "17"
  }
 },
 "nbformat": 4,
 "nbformat_minor": 5
}
